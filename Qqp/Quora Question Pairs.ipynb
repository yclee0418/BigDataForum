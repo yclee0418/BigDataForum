{
 "cells": [
  {
   "cell_type": "code",
   "execution_count": 1,
   "metadata": {
    "collapsed": true
   },
   "outputs": [],
   "source": [
    "import numpy as np\n",
    "import pandas as pd\n",
    "import matplotlib.pyplot as plt\n",
    "from pyspark.sql import Row\n",
    "from pyspark.sql.functions import col, udf\n",
    "#Mac: Path = \"file:/Users/yungchuanlee/Documents/learn/kaggle\"\n",
    "#PC: Path = \"file:///E:/R/kaggle\""
   ]
  },
  {
   "cell_type": "code",
   "execution_count": 2,
   "metadata": {
    "collapsed": true
   },
   "outputs": [],
   "source": [
    "global Path\n",
    "if sc.master[0:5]==\"local\":\n",
    "    Path = \"file:/Users/yungchuanlee/Documents/learn/kaggle\"\n",
    "else:\n",
    "    Path = \"hdfs://master:9000/user/hduser\""
   ]
  },
  {
   "cell_type": "markdown",
   "metadata": {},
   "source": [
    "# befor read data, remember to replace:\n",
    "    * '\\n\",' with '\",'\n",
    "    * '\\n[a-zA-Z0-9]' with ''(手動)\n",
    "    * '\"\",\"\"' with '',''\n",
    "    * '\"\";\"\"' with '';''\n"
   ]
  },
  {
   "cell_type": "code",
   "execution_count": 3,
   "metadata": {
    "collapsed": false
   },
   "outputs": [
    {
     "name": "stdout",
     "output_type": "stream",
     "text": [
      "starting import training data...\n"
     ]
    },
    {
     "data": {
      "text/plain": [
       "'\\n#for checking training data\\nfieldCntRdd=rawDataRdd.map(lambda fields: Row(\\n    id=fields[0].replace(\"\"\",\"\"),\\n    fieldCnt=len(fields)\\n    ))\\nfieldCnt=spark.createDataFrame(fieldCntRdd)\\nfieldCnt.filter(\"fieldCnt != 6\").show(30)\\n'"
      ]
     },
     "execution_count": 3,
     "metadata": {},
     "output_type": "execute_result"
    }
   ],
   "source": [
    "print(\"starting import training data...\")\n",
    "rawDataWithHd=sc.textFile(Path + \"/QuoraQuestion/train.csv\")\n",
    "rawDataWithHd.take(2)\n",
    "header = rawDataWithHd.first()\n",
    "rawData=rawDataWithHd.filter(lambda line: line != header) #remove first line\n",
    "rawDataRdd=rawData.map(lambda line: line.split(\"\\\",\\\"\"))\n",
    "\"\"\"\n",
    "#for checking training data\n",
    "fieldCntRdd=rawDataRdd.map(lambda fields: Row(\n",
    "    id=fields[0].replace(\"\\\"\",\"\"),\n",
    "    fieldCnt=len(fields)\n",
    "    ))\n",
    "fieldCnt=spark.createDataFrame(fieldCntRdd)\n",
    "fieldCnt.filter(\"fieldCnt != 6\").show(30)\n",
    "\"\"\""
   ]
  },
  {
   "cell_type": "code",
   "execution_count": 4,
   "metadata": {
    "collapsed": false
   },
   "outputs": [
    {
     "name": "stdout",
     "output_type": "stream",
     "text": [
      "root\n",
      " |-- id: string (nullable = true)\n",
      " |-- is_duplicate: string (nullable = true)\n",
      " |-- qid1: string (nullable = true)\n",
      " |-- qid2: string (nullable = true)\n",
      " |-- question1: string (nullable = true)\n",
      " |-- question2: string (nullable = true)\n",
      "\n",
      "Total train data count: 404290\n"
     ]
    }
   ],
   "source": [
    "rowRdd=rawDataRdd.map(lambda fields: Row(\n",
    "    id=fields[0].replace(\"\\\"\",\"\"),\n",
    "    qid1=fields[1],\n",
    "    qid2=fields[2],\n",
    "    question1=fields[3],\n",
    "    question2=fields[4],\n",
    "    is_duplicate=fields[5].replace(\"\\\"\",\"\")\n",
    "))\n",
    "#trainRawData=spark.read.csv(Path + \"/QuoraQuestion/train.csv\", header=True, sep=\"\\\",\\\"\")\n",
    "trainRawData=spark.createDataFrame(rowRdd)\n",
    "trainRawData.printSchema()\n",
    "#trainRawData.show(5)\n",
    "#print(trainRawData.columns)\n",
    "print(\"Total train data count: \" + str(trainRawData.count()))"
   ]
  },
  {
   "cell_type": "markdown",
   "metadata": {},
   "source": [
    "# befor read data, remember to replace:\n",
    "    * '\\n\",' with '\",'\n",
    "    * '\\n\"' with '\"'\n",
    "    * ' \\n[a-zA-Z0-9]' with ''(手動)\n",
    "    * '\"\",\"\"' with '',''\n",
    "    * '\"\";\"\"' with '';''"
   ]
  },
  {
   "cell_type": "code",
   "execution_count": 5,
   "metadata": {
    "collapsed": false
   },
   "outputs": [
    {
     "name": "stdout",
     "output_type": "stream",
     "text": [
      "starting import testing data...\n"
     ]
    }
   ],
   "source": [
    "###### reading testing Data #######\n",
    "print(\"starting import testing data...\")\n",
    "rawDataWithHd=sc.textFile(Path + \"/QuoraQuestion/test.csv\")\n",
    "rawDataWithHd.take(2)\n",
    "header = rawDataWithHd.first()\n",
    "rawData=rawDataWithHd.filter(lambda line: line != header) #remove first line"
   ]
  },
  {
   "cell_type": "code",
   "execution_count": 6,
   "metadata": {
    "collapsed": false
   },
   "outputs": [
    {
     "data": {
      "text/plain": [
       "'\\n#For checking testing data\\nfieldCntRdd=rawDataRdd.map(lambda fields: Row(\\n    id=fields[0],\\n    fieldCnt=len(fields)\\n    ))\\nfieldCnt=spark.createDataFrame(fieldCntRdd)\\nfieldCnt.filter(\"fieldCnt != 2\").count()\\nfieldCnt.filter(\"fieldCnt != 2\").show(6)\\n'"
      ]
     },
     "execution_count": 6,
     "metadata": {},
     "output_type": "execute_result"
    }
   ],
   "source": [
    "###### reading testing Data #######\n",
    "rawDataRdd=rawData.map(lambda line: line.split(\"\\\",\\\"\"))\n",
    "\"\"\"\n",
    "#For checking testing data\n",
    "fieldCntRdd=rawDataRdd.map(lambda fields: Row(\n",
    "    id=fields[0],\n",
    "    fieldCnt=len(fields)\n",
    "    ))\n",
    "fieldCnt=spark.createDataFrame(fieldCntRdd)\n",
    "fieldCnt.filter(\"fieldCnt != 2\").count()\n",
    "fieldCnt.filter(\"fieldCnt != 2\").show(6)\n",
    "\"\"\""
   ]
  },
  {
   "cell_type": "code",
   "execution_count": 7,
   "metadata": {
    "collapsed": false
   },
   "outputs": [
    {
     "name": "stdout",
     "output_type": "stream",
     "text": [
      "root\n",
      " |-- question1: string (nullable = true)\n",
      " |-- question2: string (nullable = true)\n",
      " |-- test_id: string (nullable = true)\n",
      "\n"
     ]
    }
   ],
   "source": [
    "###### reading testing Data #######\n",
    "rowRdd=rawDataRdd.map(lambda fields: \n",
    "    Row(\n",
    "    test_id=fields[0].split(\",\\\"\")[0],\n",
    "    question1=fields[0],\n",
    "    question2=fields[1]\n",
    "))\n",
    "\n",
    "testRawData=spark.createDataFrame(rowRdd)\n",
    "testRawData.printSchema()\n",
    "#testRawData.show(5)"
   ]
  },
  {
   "cell_type": "code",
   "execution_count": 8,
   "metadata": {
    "collapsed": false
   },
   "outputs": [
    {
     "name": "stdout",
     "output_type": "stream",
     "text": [
      "+-------+--------------------+--------------------+\n",
      "|test_id|           question1|           question2|\n",
      "+-------+--------------------+--------------------+\n",
      "|      0|How does the Surf...|Why did Microsoft...|\n",
      "|      1|Should I have a h...|How much cost doe...|\n",
      "|      2|What but is the b...|What you send mon...|\n",
      "|      3|Which food not em...|  What foods fibre?\"|\n",
      "|      4|How \"\"aberystwyth...|How their can I s...|\n",
      "+-------+--------------------+--------------------+\n",
      "only showing top 5 rows\n",
      "\n",
      "Total test data count: 2345796\n"
     ]
    }
   ],
   "source": [
    "###### reading testing Data #######\n",
    "from pyspark.sql.functions import col\n",
    "#udf\n",
    "from pyspark.sql.functions import udf\n",
    "def extractQuestion1(testId, question1):\n",
    "    return question1.replace(testId+\",\\\"\", \"\")\n",
    "extractQuestion1=udf(extractQuestion1)\n",
    "testRawData=testRawData.select(\"test_id\", extractQuestion1(col(\"test_id\"),col(\"question1\")).alias(\"question1\"),\"question2\")\n",
    "testRawData.show(5)\n",
    "print(\"Total test data count: \" + str(testRawData.count()))"
   ]
  },
  {
   "cell_type": "code",
   "execution_count": 9,
   "metadata": {
    "collapsed": false
   },
   "outputs": [
    {
     "data": {
      "text/plain": [
       "'\\n#udf for checking error data in trainRawData\\nidDt1=trainRawData.select([toNumString(col(\"id\")).alias(\"id2\")])#.filter(\"id2!=\\'NaN\\'\").select(\"id2\")\\nidDt2=spark.range(0,404289)\\nidDt=idDt1.join(idDt2, idDt2.id==idDt1.id2, \\'left_outer\\')\\nidDt.filter(idDt.id!=idDt.id2).show()#check if any error data\\n'"
      ]
     },
     "execution_count": 9,
     "metadata": {},
     "output_type": "execute_result"
    }
   ],
   "source": [
    "\n",
    "from pyspark.sql.functions import udf\n",
    "def toNumString(x):\n",
    "    return (x if x.isnumeric() else \"NaN\")\n",
    "toNumString=udf(toNumString)\n",
    "\"\"\"\n",
    "#udf for checking error data in trainRawData\n",
    "idDt1=trainRawData.select([toNumString(col(\"id\")).alias(\"id2\")])#.filter(\"id2!='NaN'\").select(\"id2\")\n",
    "idDt2=spark.range(0,404289)\n",
    "idDt=idDt1.join(idDt2, idDt2.id==idDt1.id2, 'left_outer')\n",
    "idDt.filter(idDt.id!=idDt.id2).show()#check if any error data\n",
    "\"\"\""
   ]
  },
  {
   "cell_type": "code",
   "execution_count": 10,
   "metadata": {
    "collapsed": false
   },
   "outputs": [
    {
     "name": "stdout",
     "output_type": "stream",
     "text": [
      "root\n",
      " |-- id: string (nullable = true)\n",
      " |-- question1: string (nullable = true)\n",
      " |-- question2: string (nullable = true)\n",
      " |-- qid1: double (nullable = true)\n",
      " |-- qid2: double (nullable = true)\n",
      " |-- is_duplicate: double (nullable = true)\n",
      "\n",
      "Total train data count: 404290\n"
     ]
    }
   ],
   "source": [
    "numericCols=[\"qid1\",\"qid2\"]\n",
    "labelCol=\"is_duplicate\"\n",
    "stringCols=[colName for colName in trainRawData.columns if colName not in numericCols+[labelCol]]\n",
    "trainData=trainRawData.select(stringCols+[col(colName).cast(\"double\").alias(colName) for colName in numericCols+[labelCol]]).filter(toNumString(col(\"id\"))!=\"NaN\")\n",
    "trainData.printSchema()\n",
    "print(\"Total train data count: \" + str(trainData.count()))\n",
    "# trainData.describe('is_duplicate').show()\n",
    "# trainData.filter((trainData.is_duplicate>1) | (trainData.is_duplicate<0)).show()"
   ]
  },
  {
   "cell_type": "code",
   "execution_count": 13,
   "metadata": {
    "collapsed": false
   },
   "outputs": [
    {
     "name": "stdout",
     "output_type": "stream",
     "text": [
      "Total number of questions in the training data: 537933\n",
      "Number of questions that appear multiple times: 111780\n",
      "+-------+-----+\n",
      "|    qid|count|\n",
      "+-------+-----+\n",
      "| 2559.0|  157|\n",
      "|30782.0|  120|\n",
      "| 4044.0|  111|\n",
      "| 2561.0|   88|\n",
      "|14376.0|   79|\n",
      "+-------+-----+\n",
      "only showing top 5 rows\n",
      "\n"
     ]
    }
   ],
   "source": [
    "###### EDA for Training Data #######\n",
    "qidsDf=(trainData.select(col(\"qid1\").alias(\"qid\"))).union(trainData.select(col(\"qid2\").alias(\"qid\")))\n",
    "print('Total number of questions in the training data: {}'.format(qidsDf.select(\"qid\").distinct().count()))\n",
    "qidCntDf=qidsDf.groupBy(\"qid\").count()\n",
    "print('Number of questions that appear multiple times: {}'.format(qidCntDf.filter(\"count > 1\").count()))\n",
    "qidCntDf.orderBy(\"count\", ascending=[0]).show(5)"
   ]
  },
  {
   "cell_type": "code",
   "execution_count": 14,
   "metadata": {
    "collapsed": false
   },
   "outputs": [],
   "source": [
    "###### EDA for Training Data #######\n",
    "qidCntPd=qidCntDf.toPandas().set_index(\"qid\")"
   ]
  },
  {
   "cell_type": "code",
   "execution_count": 15,
   "metadata": {
    "collapsed": false
   },
   "outputs": [
    {
     "data": {
      "image/png": "[encoded data removed]",
      "text/plain": [
       "<matplotlib.figure.Figure at 0x118fd7990>"
      ]
     },
     "metadata": {},
     "output_type": "display_data"
    }
   ],
   "source": [
    "###### EDA for Training Data #######\n",
    "plt.figure(figsize=(12, 5))\n",
    "plt.hist(qidCntPd[\"count\"], bins=50)\n",
    "plt.yscale('log', nonposy='clip')\n",
    "plt.title('Log-Histogram of question appearance counts')\n",
    "plt.xlabel('Number of occurences of question')\n",
    "plt.ylabel('Number of questions')\n",
    "plt.show()"
   ]
  },
  {
   "cell_type": "code",
   "execution_count": 11,
   "metadata": {
    "collapsed": false
   },
   "outputs": [
    {
     "name": "stdout",
     "output_type": "stream",
     "text": [
      "root\n",
      " |-- test_id: string (nullable = true)\n",
      " |-- question1: string (nullable = true)\n",
      " |-- question2: string (nullable = true)\n",
      "\n",
      "Total test data count: 2345796\n"
     ]
    }
   ],
   "source": [
    "###### reading Testing Data #######\n",
    "testData=testRawData.select(\"test_id\",\"question1\",\"question2\")\n",
    "testData.printSchema()\n",
    "print(\"Total test data count: \" + str(testData.count()))"
   ]
  },
  {
   "cell_type": "code",
   "execution_count": 12,
   "metadata": {
    "collapsed": false
   },
   "outputs": [],
   "source": [
    "def getLength(x):\n",
    "    return len(x)\n",
    "getLength=udf(getLength)\n",
    "def getLengthSplit(x):\n",
    "    return len(x.split(' '))\n",
    "getLengthSplit=udf(getLengthSplit)\n"
   ]
  },
  {
   "cell_type": "code",
   "execution_count": 17,
   "metadata": {
    "collapsed": false
   },
   "outputs": [],
   "source": [
    "###### EDA for Training & Testing Data #######\n",
    "#analysis by length\n",
    "trainQsDf=(trainData.select(col(\"question1\").alias(\"question\"))).union(trainData.select(col(\"question2\").alias(\"question\")))\n",
    "trainQsLen1Pd=trainQsDf.select(getLength(col(\"question\")).cast(\"integer\").alias(\"qsLen\")).toPandas()\n",
    "\n",
    "testQsDf=(testData.select(col(\"question1\").alias(\"question\"))).union(testData.select(col(\"question2\").alias(\"question\")))\n",
    "testQsLen1Pd=testQsDf.select(getLength(col(\"question\")).cast(\"integer\").alias(\"qsLen\")).toPandas()\n",
    "\n"
   ]
  },
  {
   "cell_type": "code",
   "execution_count": 19,
   "metadata": {
    "collapsed": false
   },
   "outputs": [
    {
     "name": "stdout",
     "output_type": "stream",
     "text": [
      "mean-train: 59.87, mean-test: 60.63\n",
      "std-train: 31.99, std-test: 31.66\n",
      "max-train: 1173.00, max-test: 1181.00\n"
     ]
    },
    {
     "data": {
      "image/png": "[encoded data removed]",
      "text/plain": [
       "<matplotlib.figure.Figure at 0x119234250>"
      ]
     },
     "metadata": {},
     "output_type": "display_data"
    }
   ],
   "source": [
    "###### EDA for Training & Testing Data #######\n",
    "#print hist of length analysis\n",
    "import seaborn as sns\n",
    "pal = sns.color_palette()\n",
    "%matplotlib inline\n",
    "plt.figure(figsize=(15, 10))\n",
    "plt.hist(trainQsLen1Pd[\"qsLen\"], bins=200, range=[0, 200], color=pal[2], normed=True, label='train')\n",
    "plt.hist(testQsLen1Pd[\"qsLen\"], bins=200, range=[0, 200], color=pal[1], normed=True, alpha=0.5, label='test')\n",
    "plt.title('Normalised histogram of character count in questions', fontsize=15)\n",
    "plt.legend()\n",
    "plt.xlabel('Number of characters', fontsize=15)\n",
    "plt.ylabel('Probability', fontsize=15)\n",
    "\n",
    "print(\"mean-train: {:.2f}, mean-test: {:.2f}\".format(trainQsLen1Pd[\"qsLen\"].mean(), testQsLen1Pd[\"qsLen\"].mean()))\n",
    "print(\"std-train: {:.2f}, std-test: {:.2f}\".format(trainQsLen1Pd[\"qsLen\"].std(), testQsLen1Pd[\"qsLen\"].std()))\n",
    "print(\"max-train: {:.2f}, max-test: {:.2f}\".format(trainQsLen1Pd[\"qsLen\"].max(), testQsLen1Pd[\"qsLen\"].max()))"
   ]
  },
  {
   "cell_type": "code",
   "execution_count": 20,
   "metadata": {
    "collapsed": true
   },
   "outputs": [],
   "source": [
    "###### EDA for Training & Testing Data #######\n",
    "trainQsLen2Pd=trainQsDf.select(getLengthSplit(col(\"question\")).cast(\"integer\").alias(\"qsLen\")).toPandas()\n",
    "testQsLen2Pd=testQsDf.select(getLengthSplit(col(\"question\")).cast(\"integer\").alias(\"qsLen\")).toPandas()"
   ]
  },
  {
   "cell_type": "code",
   "execution_count": 21,
   "metadata": {
    "collapsed": false,
    "scrolled": false
   },
   "outputs": [
    {
     "name": "stdout",
     "output_type": "stream",
     "text": [
      "mean-train: 11.06, mean-test: 11.02\n",
      "std-train: 5.89, std-test: 5.84\n",
      "max-train: 237.00, max-test: 238.00\n"
     ]
    },
    {
     "data": {
      "image/png": "[encoded data removed]",
      "text/plain": [
       "<matplotlib.figure.Figure at 0x11d494150>"
      ]
     },
     "metadata": {},
     "output_type": "display_data"
    }
   ],
   "source": [
    "###### EDA for Training & Testing Data #######\n",
    "plt.figure(figsize=(15, 10))\n",
    "plt.hist(trainQsLen2Pd[\"qsLen\"], bins=50, range=[0, 50], color=pal[2], normed=True, label='train')\n",
    "plt.hist(testQsLen2Pd[\"qsLen\"], bins=50, range=[0, 50], color=pal[1], normed=True, alpha=0.5, label='test')\n",
    "plt.title('Normalised histogram of word count in questions', fontsize=15)\n",
    "plt.legend()\n",
    "plt.xlabel('Number of words', fontsize=15)\n",
    "plt.ylabel('Probability', fontsize=15)\n",
    "\n",
    "print(\"mean-train: {:.2f}, mean-test: {:.2f}\".format(trainQsLen2Pd[\"qsLen\"].mean(), testQsLen2Pd[\"qsLen\"].mean()))\n",
    "print(\"std-train: {:.2f}, std-test: {:.2f}\".format(trainQsLen2Pd[\"qsLen\"].std(), testQsLen2Pd[\"qsLen\"].std()))\n",
    "print(\"max-train: {:.2f}, max-test: {:.2f}\".format(trainQsLen2Pd[\"qsLen\"].max(), testQsLen2Pd[\"qsLen\"].max()))"
   ]
  },
  {
   "cell_type": "code",
   "execution_count": 50,
   "metadata": {
    "collapsed": true
   },
   "outputs": [],
   "source": [
    "from pyspark.sql.functions import lower, explode, split"
   ]
  },
  {
   "cell_type": "code",
   "execution_count": 22,
   "metadata": {
    "collapsed": false,
    "scrolled": false
   },
   "outputs": [
    {
     "name": "stdout",
     "output_type": "stream",
     "text": [
      "+-----+------+\n",
      "|words| count|\n",
      "+-----+------+\n",
      "|  the|376234|\n",
      "| what|310963|\n",
      "|   is|268849|\n",
      "|  how|219019|\n",
      "|    i|213184|\n",
      "|    a|210233|\n",
      "|   to|204067|\n",
      "|   in|194724|\n",
      "|   of|158912|\n",
      "|   do|154720|\n",
      "+-----+------+\n",
      "only showing top 10 rows\n",
      "\n"
     ]
    }
   ],
   "source": [
    "########### EDA: Word count for trainData ##################\n",
    "trainExplodeDf=trainData.select(explode(split(lower(col(\"question1\")), ' ')).alias(\"words\")). \\\n",
    "                union(trainData.select(explode(split(lower(col(\"question2\")), ' ')).alias(\"words\")))\n",
    "trainExplodeDf.groupBy(\"words\").count().orderBy(\"count\", ascending=[0]).show(10)"
   ]
  },
  {
   "cell_type": "code",
   "execution_count": 14,
   "metadata": {
    "collapsed": true
   },
   "outputs": [],
   "source": [
    "import nltk\n",
    "#nltk.download()\n",
    "from nltk.corpus import stopwords\n",
    "from pyspark.ml.feature import Tokenizer, RegexTokenizer, StopWordsRemover"
   ]
  },
  {
   "cell_type": "code",
   "execution_count": 24,
   "metadata": {
    "collapsed": false
   },
   "outputs": [
    {
     "name": "stdout",
     "output_type": "stream",
     "text": [
      "+----------+-----+\n",
      "|     words|count|\n",
      "+----------+-----+\n",
      "|      best|69692|\n",
      "|       get|38736|\n",
      "|      good|23640|\n",
      "|    people|23608|\n",
      "|     would|23503|\n",
      "|      like|22387|\n",
      "|       one|17891|\n",
      "|      make|17724|\n",
      "|       way|17134|\n",
      "|    india?|16164|\n",
      "|difference|13243|\n",
      "|      know|12726|\n",
      "|    what's|12334|\n",
      "|       new|12290|\n",
      "|     learn|12216|\n",
      "|      much|11460|\n",
      "|      many|11373|\n",
      "|       use|11321|\n",
      "|     think|11105|\n",
      "|     india|10887|\n",
      "|     money|10719|\n",
      "|      find|10488|\n",
      "|    indian|10344|\n",
      "|    become| 9896|\n",
      "|   without| 9883|\n",
      "|      ever| 9667|\n",
      "|   someone| 9548|\n",
      "|      want| 9094|\n",
      "|     start| 8987|\n",
      "|      time| 8975|\n",
      "|     quora| 8897|\n",
      "|     first| 8677|\n",
      "|    quora?| 8478|\n",
      "|      why?| 7943|\n",
      "|     trump| 7880|\n",
      "|     could| 7807|\n",
      "|     life?| 7795|\n",
      "|      feel| 7776|\n",
      "|     don't| 7773|\n",
      "|      take| 7481|\n",
      "|    better| 7465|\n",
      "|       job| 6922|\n",
      "|    really| 6836|\n",
      "|      ways| 6829|\n",
      "|    things| 6795|\n",
      "|      life| 6786|\n",
      "|       it?| 6778|\n",
      "|    donald| 6694|\n",
      "|  possible| 6536|\n",
      "|      work| 6371|\n",
      "|      year| 6371|\n",
      "|       500| 6365|\n",
      "|       buy| 6311|\n",
      "| questions| 6290|\n",
      "|        go| 6266|\n",
      "|      1000| 6158|\n",
      "|   improve| 6143|\n",
      "|       i'm| 6099|\n",
      "|      used| 6089|\n",
      "|      long| 6087|\n",
      "|     using| 6081|\n",
      "|      love| 5903|\n",
      "|     world| 5843|\n",
      "|       do?| 5820|\n",
      "|      need| 5790|\n",
      "|        us| 5786|\n",
      "|      lose| 5773|\n",
      "|      stop| 5649|\n",
      "|   english| 5634|\n",
      "|    online| 5600|\n",
      "| different| 5338|\n",
      "|   compare| 5286|\n",
      "|     black| 5282|\n",
      "|     going| 5269|\n",
      "|     still| 5249|\n",
      "|       see| 5176|\n",
      "|      mean| 5096|\n",
      "|     thing| 5043|\n",
      "|       day| 5016|\n",
      "|    person| 4935|\n",
      "|     phone| 4819|\n",
      "|     books| 4795|\n",
      "|       old| 4774|\n",
      "|    google| 4738|\n",
      "|      girl| 4731|\n",
      "|   prepare| 4729|\n",
      "|      book| 4624|\n",
      "|     time?| 4609|\n",
      "|     notes| 4504|\n",
      "|      help| 4467|\n",
      "|    change| 4448|\n",
      "|       ask| 4375|\n",
      "|    happen| 4361|\n",
      "|  business| 4269|\n",
      "|  question| 4239|\n",
      "|       war| 4186|\n",
      "|  increase| 4163|\n",
      "|   hillary| 4146|\n",
      "|  facebook| 4127|\n",
      "|       top| 4061|\n",
      "+----------+-----+\n",
      "only showing top 100 rows\n",
      "\n"
     ]
    }
   ],
   "source": [
    "########### EDA: Word count for trainData ##################\n",
    "stops = set(stopwords.words(\"english\"))\n",
    "trainExplodeDf.filter(~ (col(\"words\").isin (stops))).groupBy(\"words\").count().orderBy(\"count\", ascending=[0]).show(10)"
   ]
  },
  {
   "cell_type": "code",
   "execution_count": 25,
   "metadata": {
    "collapsed": false
   },
   "outputs": [
    {
     "name": "stdout",
     "output_type": "stream",
     "text": [
      "+-----------+-----+\n",
      "|      words|count|\n",
      "+-----------+-----+\n",
      "|       best|70602|\n",
      "|        get|39545|\n",
      "|      india|29564|\n",
      "|     people|26414|\n",
      "|       like|25648|\n",
      "|       good|24871|\n",
      "|      would|23648|\n",
      "|        one|20052|\n",
      "|      quora|18233|\n",
      "|       make|18207|\n",
      "|        way|18118|\n",
      "|       life|16498|\n",
      "|       time|15089|\n",
      "|      money|14588|\n",
      "|       know|13778|\n",
      "| difference|13388|\n",
      "|      learn|13088|\n",
      "|        new|12444|\n",
      "|        use|12378|\n",
      "|       much|12370|\n",
      "|    someone|12027|\n",
      "|      think|11505|\n",
      "|       many|11461|\n",
      "|       work|11261|\n",
      "|     indian|10798|\n",
      "|      trump|10774|\n",
      "|       ever|10577|\n",
      "|       find|10572|\n",
      "|    without|10024|\n",
      "|      world| 9941|\n",
      "|     become| 9915|\n",
      "|      start| 9886|\n",
      "|     online| 9767|\n",
      "|     better| 9698|\n",
      "|      first| 9698|\n",
      "|       year| 9458|\n",
      "|       want| 9370|\n",
      "|       mean| 8755|\n",
      "|          2| 8732|\n",
      "|        job| 8698|\n",
      "|    english| 8553|\n",
      "|         us| 8457|\n",
      "|          1| 8012|\n",
      "|       feel| 8010|\n",
      "|       love| 7969|\n",
      "|      could| 7916|\n",
      "|       2016| 7915|\n",
      "|       take| 7816|\n",
      "|   possible| 7727|\n",
      "|        day| 7698|\n",
      "|        500| 7325|\n",
      "|     things| 7293|\n",
      "|  questions| 7277|\n",
      "|         go| 7236|\n",
      "|      notes| 7157|\n",
      "|      phone| 7092|\n",
      "|       1000| 7083|\n",
      "|        buy| 6922|\n",
      "|     really| 6921|\n",
      "|       ways| 6915|\n",
      "|     person| 6905|\n",
      "|engineering| 6904|\n",
      "|    account| 6859|\n",
      "|     weight| 6850|\n",
      "|          3| 6814|\n",
      "|       used| 6794|\n",
      "|     donald| 6743|\n",
      "|       long| 6596|\n",
      "|     google| 6561|\n",
      "|       girl| 6515|\n",
      "|        old| 6503|\n",
      "|     number| 6348|\n",
      "|    improve| 6230|\n",
      "|      using| 6160|\n",
      "|       need| 6018|\n",
      "|   business| 5997|\n",
      "|   facebook| 5992|\n",
      "|      books| 5976|\n",
      "|          5| 5973|\n",
      "|   language| 5888|\n",
      "|       stop| 5869|\n",
      "|       lose| 5855|\n",
      "|        sex| 5851|\n",
      "|      movie| 5796|\n",
      "|  different| 5753|\n",
      "|      thing| 5734|\n",
      "|      black| 5723|\n",
      "|       book| 5580|\n",
      "|       free| 5560|\n",
      "|        see| 5486|\n",
      "|        war| 5468|\n",
      "|      years| 5437|\n",
      "|    compare| 5421|\n",
      "|   question| 5410|\n",
      "|      going| 5359|\n",
      "|programming| 5298|\n",
      "|      still| 5292|\n",
      "|  instagram| 5113|\n",
      "|  president| 5100|\n",
      "|       help| 5092|\n",
      "+-----------+-----+\n",
      "only showing top 100 rows\n",
      "\n"
     ]
    }
   ],
   "source": [
    "########### EDA: Word count for trainData ##################\n",
    "# word count by using ml lib\n",
    "trainSentanceDf=trainData.select(col(\"question1\").alias(\"question\")).union(trainData.select(col(\"question2\").alias(\"question\")))\n",
    "# tokenizer = Tokenizer(inputCol=\"question\", outputCol=\"questionWords\")\n",
    "tokenizer = RegexTokenizer(inputCol=\"question\", outputCol=\"questionWords\", pattern=\"\\\\W\")\n",
    "trainWordsDf=tokenizer.transform(trainSentanceDf)\n",
    "# trainWordsDf.show(5)\n",
    "remover = StopWordsRemover(inputCol=\"questionWords\", outputCol=\"filteredWords\")\n",
    "trainWordsDf=remover.transform(trainWordsDf)\n",
    "# trainWordsDf.show(5)\n",
    "trainExplodeDf=trainWordsDf.select(explode(col(\"filteredWords\")).alias(\"words\"))\n",
    "trainExplodeDf.groupBy(\"words\").count().orderBy(\"count\", ascending=[0]).show(10)"
   ]
  },
  {
   "cell_type": "code",
   "execution_count": 26,
   "metadata": {
    "collapsed": false
   },
   "outputs": [
    {
     "name": "stdout",
     "output_type": "stream",
     "text": [
      "+--------------------+--------------------+--------------------+\n",
      "|            question|       questionWords|       filteredWords|\n",
      "+--------------------+--------------------+--------------------+\n",
      "|What is the step ...|[what, is, the, s...|[step, step, guid...|\n",
      "|What is the story...|[what, is, the, s...|[story, kohinoor,...|\n",
      "|How can I increas...|[how, can, i, inc...|[increase, speed,...|\n",
      "|Why am I mentally...|[why, am, i, ment...|[mentally, lonely...|\n",
      "|Which one dissolv...|[which, one, diss...|[one, dissolve, w...|\n",
      "|Astrology: I am a...|[astrology, i, am...|[astrology, capri...|\n",
      "| Should I buy tiago?|[should, i, buy, ...|        [buy, tiago]|\n",
      "|How can I be a go...|[how, can, i, be,...|   [good, geologist]|\n",
      "|When do you use シ...|[when, do, you, u...|      [use, instead]|\n",
      "|Motorola (company...|[motorola, compan...|[motorola, compan...|\n",
      "+--------------------+--------------------+--------------------+\n",
      "only showing top 10 rows\n",
      "\n"
     ]
    }
   ],
   "source": [
    "\"\"\"\n",
    "#Testing tokenizer & remover by pipeline\n",
    "from pyspark.ml import Pipeline\n",
    "testPipe=Pipeline(stages=[tokenizer, remover])\n",
    "testModel=testPipe.fit(trainSentanceDf)\n",
    "testModel.transform(trainSentanceDf).show(10)\n",
    "\"\"\""
   ]
  },
  {
   "cell_type": "code",
   "execution_count": 27,
   "metadata": {
    "collapsed": false,
    "scrolled": true
   },
   "outputs": [
    {
     "name": "stdout",
     "output_type": "stream",
     "text": [
      "+--------------------+--------------------+--------------------+--------------------+------------+\n",
      "|      questionWords1|      questionWords2|              words1|              words2|is_duplicate|\n",
      "+--------------------+--------------------+--------------------+--------------------+------------+\n",
      "|[what, is, the, s...|[what, is, the, s...|[step, step, guid...|[step, step, guid...|         0.0|\n",
      "|[what, is, the, s...|[what, would, hap...|[story, kohinoor,...|[would, happen, i...|         0.0|\n",
      "|[how, can, i, inc...|[how, can, intern...|[increase, speed,...|[internet, speed,...|         0.0|\n",
      "|[why, am, i, ment...|[find, the, remai...|[mentally, lonely...|[find, remainder,...|         0.0|\n",
      "|[which, one, diss...|[which, fish, wou...|[one, dissolve, w...|[fish, would, sur...|         0.0|\n",
      "|[astrology, i, am...|[i, m, a, triple,...|[astrology, capri...|[triple, capricor...|         1.0|\n",
      "|[should, i, buy, ...|[what, keeps, chi...|        [buy, tiago]|[keeps, childern,...|         0.0|\n",
      "|[how, can, i, be,...|[what, should, i,...|   [good, geologist]|  [great, geologist]|         1.0|\n",
      "|[when, do, you, u...|[when, do, you, u...|      [use, instead]|      [use, instead]|         0.0|\n",
      "|[motorola, compan...|[how, do, i, hack...|[motorola, compan...|[hack, motorola, ...|         0.0|\n",
      "+--------------------+--------------------+--------------------+--------------------+------------+\n",
      "only showing top 10 rows\n",
      "\n"
     ]
    }
   ],
   "source": [
    "#build pipeline to generate dataframe with id|question1|question2|qid1|qid2|is_duplicate|words1|words2\n",
    "\"\"\" Using RegexTokenizer (not use becaue of removing non-english words like japannise)\n",
    "tokenizer1 = RegexTokenizer(inputCol=\"question1\", outputCol=\"questionWords1\", pattern=\"\\\\W\")\n",
    "tokenizer2 = RegexTokenizer(inputCol=\"question2\", outputCol=\"questionWords2\", pattern=\"\\\\W\")\n",
    "remover1 = StopWordsRemover(inputCol=\"questionWords1\", outputCol=\"words1\")\n",
    "remover2 = StopWordsRemover(inputCol=\"questionWords2\", outputCol=\"words2\")\n",
    "tokenRemovePipe = Pipeline(stages=[tokenizer1, tokenizer2, remover1, remover2])\n",
    "tokenRemovePipeModel = tokenRemovePipe.fit(trainData)\n",
    "trainDataWithWords=tokenRemovePipeModel.transform(trainData)\n",
    "trainDataWithWords.select([\"questionWords1\", \"questionWords2\", \"words1\", \"words2\", \"is_duplicate\"]).show(10)\n",
    "\"\"\""
   ]
  },
  {
   "cell_type": "code",
   "execution_count": 15,
   "metadata": {
    "collapsed": true
   },
   "outputs": [],
   "source": [
    "from pyspark.ml import Pipeline"
   ]
  },
  {
   "cell_type": "code",
   "execution_count": 16,
   "metadata": {
    "collapsed": false
   },
   "outputs": [],
   "source": [
    "# import re, string\n",
    "# def replacePunct(question):\n",
    "#     for c in string.punctuation:  \n",
    "#         question = question.replace(c,\"\")\n",
    "#     return question                                \n",
    "# replacePunct=udf(replacePunct)\n",
    "# trainData2=trainData.select([\"id\", \"qid1\", replacePunct(col(\"question1\")).alias(\"question1\"), \"qid2\", replacePunct(col(\"question2\")).alias(\"question2\"), \"is_duplicate\"])\n",
    "#trainData2.show(5)\n",
    "tokenizer1 = Tokenizer(inputCol=\"question1\", outputCol=\"questionWords1\")\n",
    "tokenizer2 = Tokenizer(inputCol=\"question2\", outputCol=\"questionWords2\")\n",
    "remover1 = StopWordsRemover(inputCol=\"questionWords1\", outputCol=\"words1\")\n",
    "remover2 = StopWordsRemover(inputCol=\"questionWords2\", outputCol=\"words2\")\n",
    "tokenRemovePipe = Pipeline(stages=[tokenizer1, tokenizer2, remover1, remover2])\n",
    "tokenRemovePipeModel = tokenRemovePipe.fit(trainData)\n",
    "trainDataWithWords=tokenRemovePipeModel.transform(trainData)\n",
    "#trainDataWithWords.select([\"questionWords1\", \"questionWords2\", \"words1\", \"words2\", \"is_duplicate\"]).filter(\"id='8'\").collect()"
   ]
  },
  {
   "cell_type": "code",
   "execution_count": 17,
   "metadata": {
    "collapsed": false
   },
   "outputs": [],
   "source": [
    "from __future__ import division\n",
    "def getWeight(words1, words2):\n",
    "    if len(words1) == 0 or len(words2) == 0:\n",
    "        return 0\n",
    "    shared_word_1 = [word for word in words1 if word in words2]\n",
    "    shared_word_2 = [word for word in words2 if word in words1]\n",
    "    R = (len(shared_word_1) + len(shared_word_2))/(len(words1) + len(words2))\n",
    "    return R\n",
    "getWeight=udf(getWeight)\n",
    "trainWeightData=trainDataWithWords.select([\"words1\", \"words2\",getWeight(col(\"words1\"),col(\"words2\")).alias(\"weight\"), \"is_duplicate\"])\n",
    "#trainWeightData.show(10)"
   ]
  },
  {
   "cell_type": "code",
   "execution_count": 30,
   "metadata": {
    "collapsed": false
   },
   "outputs": [],
   "source": [
    "############### EDA for training data with shared word ####################\n",
    "trainWeightPd0=trainWeightData.select(col(\"weight\").cast(\"double\")).filter(\"is_duplicate=0\").toPandas()\n",
    "trainWeightPd1=trainWeightData.select(col(\"weight\").cast(\"double\")).filter(\"is_duplicate=1\").toPandas()\n"
   ]
  },
  {
   "cell_type": "code",
   "execution_count": 31,
   "metadata": {
    "collapsed": false,
    "scrolled": true
   },
   "outputs": [
    {
     "data": {
      "image/png": "[encoded data removed]",
      "text/plain": [
       "<matplotlib.figure.Figure at 0x121c29fd0>"
      ]
     },
     "metadata": {},
     "output_type": "display_data"
    }
   ],
   "source": [
    "############### EDA for training data with shared word ####################\n",
    "# trainWeightPd0[\"weight\"]\n",
    "plt.figure(figsize=(15, 5))\n",
    "plt.hist(trainWeightPd0[\"weight\"], bins=20, normed=True, label='Not Duplicate')\n",
    "plt.hist(trainWeightPd1[\"weight\"], bins=20, normed=True, alpha=0.7, label='Duplicate')\n",
    "plt.legend()\n",
    "plt.title('Label distribution over word_match_share', fontsize=15)\n",
    "plt.xlabel('word_match_share', fontsize=15)\n",
    "plt.show()"
   ]
  },
  {
   "cell_type": "code",
   "execution_count": 18,
   "metadata": {
    "collapsed": false
   },
   "outputs": [
    {
     "name": "stdout",
     "output_type": "stream",
     "text": [
      "root\n",
      " |-- test_id: string (nullable = true)\n",
      " |-- question1: string (nullable = true)\n",
      " |-- question2: string (nullable = true)\n",
      " |-- questionWords1: array (nullable = true)\n",
      " |    |-- element: string (containsNull = true)\n",
      " |-- questionWords2: array (nullable = true)\n",
      " |    |-- element: string (containsNull = true)\n",
      " |-- words1: array (nullable = true)\n",
      " |    |-- element: string (containsNull = true)\n",
      " |-- words2: array (nullable = true)\n",
      " |    |-- element: string (containsNull = true)\n",
      "\n"
     ]
    }
   ],
   "source": [
    "#################### prepare testing Data for Predict with share word weight ################\n",
    "#predict with word match\n",
    "testPipeModel = tokenRemovePipe.fit(testData)\n",
    "testDataWithWords=testPipeModel.transform(testData)\n",
    "testDataWithWords.printSchema()\n",
    "#testDataWithWords.select([\"questionWords1\", \"questionWords2\", \"words1\", \"words2\"]).filter(\"test_id='8'\").collect()"
   ]
  },
  {
   "cell_type": "code",
   "execution_count": 19,
   "metadata": {
    "collapsed": false
   },
   "outputs": [
    {
     "name": "stdout",
     "output_type": "stream",
     "text": [
      "+-------+--------------------+--------------------+-------------------+\n",
      "|test_id|              words1|              words2|             weight|\n",
      "+-------+--------------------+--------------------+-------------------+\n",
      "|      0|[surface, pro, 4,...|[microsoft, choos...|               0.25|\n",
      "|      1|[hair, transplant...|[much, cost, hair...|                0.5|\n",
      "|      2|[best, way, send,...|[send, money, chi...| 0.4444444444444444|\n",
      "|      3|[food, emulsifiers?]|    [foods, fibre?\"]|                0.0|\n",
      "|      4|[\"\"aberystwyth\"\",...|  [start, reading?\"]|                0.4|\n",
      "|      5|[two, wheeler, in...|[admire, consider...|0.18181818181818182|\n",
      "|      6|[reduce, belly, f...|[reduce, lower, b...|                0.6|\n",
      "|      7|[scrapping, 500, ...|[recent, move, de...| 0.2727272727272727|\n",
      "|      8|[best, books, time?]|[military, histor...| 0.2857142857142857|\n",
      "|      9|[12th, years, old...|[14, old, guy, da...|                0.3|\n",
      "+-------+--------------------+--------------------+-------------------+\n",
      "only showing top 10 rows\n",
      "\n"
     ]
    }
   ],
   "source": [
    "#################### Predict with share word weight ################\n",
    "testWeightData=testDataWithWords.select([\"test_id\", \"words1\", \"words2\",getWeight(col(\"words1\"),col(\"words2\")).alias(\"weight\")])\n",
    "testWeightData.show(10)"
   ]
  },
  {
   "cell_type": "code",
   "execution_count": 34,
   "metadata": {
    "collapsed": false
   },
   "outputs": [
    {
     "ename": "NameError",
     "evalue": "name 'submitPd' is not defined",
     "output_type": "error",
     "traceback": [
      "\u001b[0;31m---------------------------------------------------------------------------\u001b[0m",
      "\u001b[0;31mNameError\u001b[0m                                 Traceback (most recent call last)",
      "\u001b[0;32m<ipython-input-34-42f333b74e86>\u001b[0m in \u001b[0;36m<module>\u001b[0;34m()\u001b[0m\n\u001b[1;32m      1\u001b[0m \u001b[0;31m#output weight as predict result\u001b[0m\u001b[0;34m\u001b[0m\u001b[0;34m\u001b[0m\u001b[0m\n\u001b[1;32m      2\u001b[0m \u001b[0;31m#submitPd=testWeightData.select(col(\"test_id\"), col(\"weight\").alias(\"is_duplicate\")).toPandas()\u001b[0m\u001b[0;34m\u001b[0m\u001b[0;34m\u001b[0m\u001b[0m\n\u001b[0;32m----> 3\u001b[0;31m \u001b[0msubmitPd\u001b[0m\u001b[0;34m.\u001b[0m\u001b[0mto_csv\u001b[0m\u001b[0;34m(\u001b[0m\u001b[0mPath\u001b[0m\u001b[0;34m.\u001b[0m\u001b[0mreplace\u001b[0m\u001b[0;34m(\u001b[0m\u001b[0;34m\"file:\"\u001b[0m\u001b[0;34m,\u001b[0m\u001b[0;34m\"\"\u001b[0m\u001b[0;34m)\u001b[0m \u001b[0;34m+\u001b[0m \u001b[0;34m\"/QuoraQuestion/submit1.csv\"\u001b[0m\u001b[0;34m,\u001b[0m\u001b[0mindex\u001b[0m\u001b[0;34m=\u001b[0m\u001b[0mFalse\u001b[0m\u001b[0;34m)\u001b[0m\u001b[0;34m\u001b[0m\u001b[0m\n\u001b[0m",
      "\u001b[0;31mNameError\u001b[0m: name 'submitPd' is not defined"
     ]
    }
   ],
   "source": [
    "#################### Predict with share word weight (output)################\n",
    "#output weight as predict result\n",
    "#submitPd=testWeightData.select(col(\"test_id\"), col(\"weight\").alias(\"is_duplicate\")).toPandas()\n",
    "#submitPd.to_csv(Path.replace(\"file:\",\"\") + \"/QuoraQuestion/submit1.csv\",index=False)"
   ]
  },
  {
   "cell_type": "code",
   "execution_count": 20,
   "metadata": {
    "collapsed": true
   },
   "outputs": [],
   "source": [
    "from nltk.stem.snowball import EnglishStemmer"
   ]
  },
  {
   "cell_type": "code",
   "execution_count": 21,
   "metadata": {
    "collapsed": false
   },
   "outputs": [
    {
     "name": "stdout",
     "output_type": "stream",
     "text": [
      "+---+----+--------------------+----+--------------------+------------+\n",
      "| id|qid1|              words1|qid2|              words2|is_duplicate|\n",
      "+---+----+--------------------+----+--------------------+------------+\n",
      "|  0| 1.0|[step, step, guid...| 2.0|[step, step, guid...|         0.0|\n",
      "|  1| 3.0|[stori, kohinoor,...| 4.0|[would, happen, i...|         0.0|\n",
      "|  2| 5.0|[increas, speed, ...| 6.0|[internet, speed,...|         0.0|\n",
      "|  3| 7.0|[mental, lonely?,...| 8.0|[find, remaind, [...|         0.0|\n",
      "|  4| 9.0|[one, dissolv, wa...|10.0|[fish, would, sur...|         0.0|\n",
      "+---+----+--------------------+----+--------------------+------------+\n",
      "only showing top 5 rows\n",
      "\n"
     ]
    }
   ],
   "source": [
    "#stemming \n",
    "\n",
    "st=EnglishStemmer()\n",
    "#print st.stem(\"fly\")\n",
    "def doStem(words):\n",
    "    return \",\".join([st.stem(word) for word in words])\n",
    "doStem=udf(doStem)\n",
    "#doStem([\"What\", \"foods\", \"fibre\"])\n",
    "trainData2=trainDataWithWords.select([\"id\", \"qid1\", \\\n",
    "                                                     split(doStem(col(\"words1\")), \",\").alias(\"words1\"), \\\n",
    "                                                     \"qid2\", \\\n",
    "                                                     split(doStem(col(\"words2\")),\",\").alias(\"words2\"), \"is_duplicate\"])\n",
    "trainData2.show(5)"
   ]
  },
  {
   "cell_type": "code",
   "execution_count": 55,
   "metadata": {
    "collapsed": false
   },
   "outputs": [
    {
     "data": {
      "text/plain": [
       "[Row(id=u'8', qid1=17.0, words1=u'use-\\u30b7-instead-\\u3057', qid2=18.0, words2=u'use--instead-and', is_duplicate=0.0, weight=u'0.5'),\n",
       " Row(id=u'16', qid1=33.0, words1=u'manipul-mean', qid2=34.0, words2=u'manipul-mean', is_duplicate=1.0, weight=u'1.0')]"
      ]
     },
     "execution_count": 55,
     "metadata": {},
     "output_type": "execute_result"
    }
   ],
   "source": [
    "######## serialize out trainDataWithWords with stem for scala with xgboost#########\n",
    "import re, string\n",
    "regexPunc = re.compile('[%s]' % re.escape(string.punctuation))\n",
    "\n",
    "def doStem2(words):\n",
    "    return \"-\".join([st.stem(regexPunc.sub('', word)) for word in words])\n",
    "doStem2=udf(doStem2)\n",
    "\n",
    "def getWeight2(words1Str, words2Str):\n",
    "    words1=words1Str.split(\"-\")\n",
    "    words2=words2Str.split(\"-\")\n",
    "    if len(words1) == 0 or len(words2) == 0:\n",
    "        return 0\n",
    "    shared_word_1 = [word for word in words1 if word in words2]\n",
    "    shared_word_2 = [word for word in words2 if word in words1]\n",
    "    R = (len(shared_word_1) + len(shared_word_2))/(len(words1) + len(words2))\n",
    "    return R\n",
    "getWeight2=udf(getWeight2)\n",
    "\n",
    "trainOut=trainDataWithWords.select([\"id\", \"qid1\",doStem2(col(\"words1\")).alias(\"words1\"), \\\n",
    "                                          \"qid2\",doStem2(col(\"words2\")).alias(\"words2\"), \"is_duplicate\"])\n",
    "trainOut=trainOut.select(\"*\", getWeight2(col(\"words1\"),col(\"words2\")).alias(\"weight\"))\n",
    "trainOut.filter(\"id in (8,16)\").take(2)"
   ]
  },
  {
   "cell_type": "code",
   "execution_count": 56,
   "metadata": {
    "collapsed": false
   },
   "outputs": [],
   "source": [
    "######## serialize out trainDataWithWords with stem for scala with xgboost#########\n",
    "trainDataStemPd=trainOut.toPandas()\n",
    "trainDataStemPd.to_csv(Path.replace(\"file:\",\"\") + \"/QuoraQuestion/trainDataStem.csv\",index=False, encoding=\"utf-8\")"
   ]
  },
  {
   "cell_type": "code",
   "execution_count": 79,
   "metadata": {
    "collapsed": false
   },
   "outputs": [],
   "source": [
    "####### Train Weight with shared word of stemming #######\n",
    "trainWeightData=trainData2.select([\"id\",\"words1\", \"words2\",getWeight(col(\"words1\"),col(\"words2\")).alias(\"weight\"), \"is_duplicate\"])"
   ]
  },
  {
   "cell_type": "code",
   "execution_count": 16,
   "metadata": {
    "collapsed": false
   },
   "outputs": [
    {
     "name": "stdout",
     "output_type": "stream",
     "text": [
      "+--------------------+--------------------+-------------------+------------+\n",
      "|              words1|              words2|             weight|is_duplicate|\n",
      "+--------------------+--------------------+-------------------+------------+\n",
      "|[step, step, guid...|[step, step, guid...| 0.7692307692307693|         0.0|\n",
      "|[story, kohinoor,...|[would, happen, i...| 0.3076923076923077|         0.0|\n",
      "|[increase, speed,...|[internet, speed,...|0.36363636363636365|         0.0|\n",
      "|[mentally, lonely...|[find, remainder,...|                0.0|         0.0|\n",
      "|[one, dissolve, w...|[fish, would, sur...|                0.0|         0.0|\n",
      "|[astrology:, capr...|[i'm, triple, cap...| 0.4444444444444444|         1.0|\n",
      "|       [buy, tiago?]|[keeps, childern,...|                0.0|         0.0|\n",
      "|  [good, geologist?]| [great, geologist?]|                0.5|         1.0|\n",
      "|[use, シ, instead,...|[use, \"\"&\"\", inst...|                0.5|         0.0|\n",
      "|[motorola, (compa...|[hack, motorola, ...|0.36363636363636365|         0.0|\n",
      "+--------------------+--------------------+-------------------+------------+\n",
      "only showing top 10 rows\n",
      "\n"
     ]
    }
   ],
   "source": [
    "trainWeightData.show(10)"
   ]
  },
  {
   "cell_type": "code",
   "execution_count": 92,
   "metadata": {
    "collapsed": true
   },
   "outputs": [],
   "source": [
    "################ EDA for share word weight with stem ##################\n",
    "trainWeightPd0=trainWeightData.select(col(\"weight\").cast(\"double\")).filter(\"is_duplicate=0\").toPandas()\n",
    "trainWeightPd1=trainWeightData.select(col(\"weight\").cast(\"double\")).filter(\"is_duplicate=1\").toPandas()"
   ]
  },
  {
   "cell_type": "code",
   "execution_count": 93,
   "metadata": {
    "collapsed": false,
    "scrolled": true
   },
   "outputs": [
    {
     "data": {
      "image/png": "[encoded data removed]",
      "text/plain": [
       "<matplotlib.figure.Figure at 0x11f9a8e10>"
      ]
     },
     "metadata": {},
     "output_type": "display_data"
    }
   ],
   "source": [
    "################ EDA for share word weight with stem ##################\n",
    "# trainWeightPd0[\"weight\"]\n",
    "plt.figure(figsize=(15, 5))\n",
    "plt.hist(trainWeightPd0[\"weight\"], bins=20, normed=True, label='Not Duplicate')\n",
    "plt.hist(trainWeightPd1[\"weight\"], bins=20, normed=True, alpha=0.7, label='Duplicate')\n",
    "plt.legend()\n",
    "plt.title('Label distribution over word_match_share_stemming', fontsize=15)\n",
    "plt.xlabel('word_match_share_stemming', fontsize=15)\n",
    "plt.show()"
   ]
  },
  {
   "cell_type": "code",
   "execution_count": 57,
   "metadata": {
    "collapsed": false
   },
   "outputs": [
    {
     "data": {
      "text/plain": [
       "[Row(test_id=u'0', words1=u'surfac-pro-4-compar-ipad-pro', words2=u'microsoft-choos-core-m3-core-i3-home-surfac-pro-4', weight=u'0.4375')]"
      ]
     },
     "execution_count": 57,
     "metadata": {},
     "output_type": "execute_result"
    }
   ],
   "source": [
    "######## serialize out testDataWithWords with stem for scala with xgboost#########\n",
    "testOut=testDataWithWords.select([\"test_id\", doStem2(col(\"words1\")).alias(\"words1\") \\\n",
    "                                           ,doStem2(col(\"words2\")).alias(\"words2\")])\n",
    "testOut=testOut.select(\"*\", getWeight2(col(\"words1\"),col(\"words2\")).alias(\"weight\"))\n",
    "testOut.take(1)"
   ]
  },
  {
   "cell_type": "code",
   "execution_count": 58,
   "metadata": {
    "collapsed": true
   },
   "outputs": [],
   "source": [
    "######## serialize out testDataWithWords with stem for scala with xgboost#########\n",
    "testDataStemPd=testOut.toPandas()\n",
    "testDataStemPd.to_csv(Path.replace(\"file:\",\"\") + \"/QuoraQuestion/testDataStem.csv\",index=False, encoding=\"utf-8\")"
   ]
  },
  {
   "cell_type": "code",
   "execution_count": 52,
   "metadata": {
    "collapsed": false
   },
   "outputs": [
    {
     "data": {
      "text/plain": [
       "'!\"#$%&\\'()*+,-./:;<=>?@[\\\\]^_`{|}~'"
      ]
     },
     "execution_count": 52,
     "metadata": {},
     "output_type": "execute_result"
    }
   ],
   "source": [
    "import re, string\n",
    "s=\"step step guid invest share market india?\"\n",
    "regex = re.compile('[%s]' % re.escape(string.punctuation))\n",
    "regex.sub('', s)\n",
    "string.punctuation"
   ]
  },
  {
   "cell_type": "code",
   "execution_count": 22,
   "metadata": {
    "collapsed": false
   },
   "outputs": [
    {
     "name": "stdout",
     "output_type": "stream",
     "text": [
      "+-------+--------------------+--------------------+\n",
      "|test_id|              words1|              words2|\n",
      "+-------+--------------------+--------------------+\n",
      "|      0|[surfac, pro, 4, ...|[microsoft, choos...|\n",
      "|      1|[hair, transplant...|[much, cost, hair...|\n",
      "|      2|[best, way, send,...|[send, money, chi...|\n",
      "|      3|[food, emulsifiers?]|     [food, fibre?\"]|\n",
      "|      4|[\"\"aberystwyth\"\",...|  [start, reading?\"]|\n",
      "+-------+--------------------+--------------------+\n",
      "only showing top 5 rows\n",
      "\n",
      "root\n",
      " |-- test_id: string (nullable = true)\n",
      " |-- words1: array (nullable = true)\n",
      " |    |-- element: string (containsNull = true)\n",
      " |-- words2: array (nullable = true)\n",
      " |    |-- element: string (containsNull = true)\n",
      "\n"
     ]
    }
   ],
   "source": [
    "############# Prepare to Predict Test Data of Shared Word weight with stem ##########\n",
    "testData2=testDataWithWords.select([\"test_id\",  \\\n",
    "                                                     split(doStem(col(\"words1\")), \",\").alias(\"words1\"), \\\n",
    "                                                     split(doStem(col(\"words2\")),\",\").alias(\"words2\")])\n",
    "testData2.show(5)\n",
    "testData2.printSchema()"
   ]
  },
  {
   "cell_type": "code",
   "execution_count": 101,
   "metadata": {
    "collapsed": true
   },
   "outputs": [],
   "source": [
    "############# get weight to Predict Test Data of Shared Word weight with stem ##########\n",
    "testWeightData2=testData2.select([\"test_id\",\"words1\", \"words2\",getWeight(col(\"words1\"),col(\"words2\")).alias(\"weight\")])"
   ]
  },
  {
   "cell_type": "code",
   "execution_count": 102,
   "metadata": {
    "collapsed": false
   },
   "outputs": [],
   "source": [
    "############# Output for Predict Test Data of Shared Word weight with stem ##########\n",
    "# submitPd2=testWeightData2.select(col(\"test_id\"), col(\"weight\").alias(\"is_duplicate\")).toPandas()\n",
    "# submitPd2.to_csv(Path.replace(\"file:\",\"\") + \"/QuoraQuestion/submit2.csv\",index=False)"
   ]
  },
  {
   "cell_type": "code",
   "execution_count": 23,
   "metadata": {
    "collapsed": true
   },
   "outputs": [],
   "source": [
    "from pyspark.sql.functions import when, log, col\n",
    "epsilon = 1e-16\n",
    "\n",
    "def compute_log_loss(trainData):\n",
    "    \"\"\"Computes and adds a 'log_loss' column to a DataFrame using 'p' and 'label' columns.\n",
    "\n",
    "    Note:\n",
    "        log(0) is undefined, so when p is 0 we add a small value (epsilon) to it and when\n",
    "        p is 1 we subtract a small value (epsilon) from it.\n",
    "\n",
    "    Args:\n",
    "        df (DataFrame with 'p' and 'label' columns): A DataFrame with a probability column\n",
    "            'p' and a 'label' column that corresponds to y in the log loss formula.\n",
    "\n",
    "    Returns:\n",
    "        DataFrame: A new DataFrame with an additional column called 'log_loss' where 'log_loss' column contains the loss value as explained above.\n",
    "    \"\"\"\n",
    "    newDF = trainData.select(\"*\", when(trainData.is_duplicate == 1, 0. - log(trainData.weight + epsilon)).\\\n",
    "                           otherwise(0. - log(1. - trainData.weight + epsilon)).alias('log_loss'))\n",
    "  \n",
    "    retObj = newDF  \n",
    "      \n",
    "    return retObj"
   ]
  },
  {
   "cell_type": "code",
   "execution_count": 24,
   "metadata": {
    "collapsed": true
   },
   "outputs": [],
   "source": [
    "#TF-IDF features\n",
    "from pyspark.ml.feature import HashingTF, IDF\n",
    "# trainDataWithWords.printSchema()\n",
    "# wordsDf1=trainDataWithWords.select(\"id\", \"qid1\", col(\"words1\").alias(\"words\"), \"is_duplicate\")\n",
    "# wordsDf2=trainDataWithWords.select(\"id\", \"qid2\", col(\"words2\").alias(\"words\"))\n",
    "wordsDf1=trainData2.select(\"id\", \"qid1\", col(\"words1\").alias(\"words\"), getWeight(col(\"words1\"), col(\"words2\")).alias(\"weight\"),\"is_duplicate\")\n",
    "wordsDf2=trainData2.select(\"id\", \"qid2\", col(\"words2\").alias(\"words\"))\n",
    "hashingTF = HashingTF(inputCol=\"words\", outputCol=\"rawFeatures\", numFeatures=64)\n",
    "featurizedData = hashingTF.transform(wordsDf1.select(\"id\",\"words\").union(wordsDf2.select(\"id\",\"words\")))\n",
    "idf = IDF(inputCol=\"rawFeatures\", outputCol=\"features\")\n",
    "idfModel = idf.fit(featurizedData)\n",
    "wordsDf1 = idfModel.transform(hashingTF.transform(wordsDf1))\n",
    "wordsDf2 = idfModel.transform(hashingTF.transform(wordsDf2))"
   ]
  },
  {
   "cell_type": "code",
   "execution_count": 25,
   "metadata": {
    "collapsed": false
   },
   "outputs": [
    {
     "name": "stdout",
     "output_type": "stream",
     "text": [
      "root\n",
      " |-- id: string (nullable = true)\n",
      " |-- qid1: double (nullable = true)\n",
      " |-- words1: array (nullable = true)\n",
      " |    |-- element: string (containsNull = true)\n",
      " |-- qid2: double (nullable = true)\n",
      " |-- words2: array (nullable = true)\n",
      " |    |-- element: string (containsNull = true)\n",
      " |-- is_duplicate: double (nullable = true)\n",
      "\n"
     ]
    }
   ],
   "source": [
    "trainData2.printSchema()"
   ]
  },
  {
   "cell_type": "code",
   "execution_count": 26,
   "metadata": {
    "collapsed": false
   },
   "outputs": [
    {
     "name": "stdout",
     "output_type": "stream",
     "text": [
      "root\n",
      " |-- id: string (nullable = true)\n",
      " |-- qid1: double (nullable = true)\n",
      " |-- features1: vector (nullable = true)\n",
      " |-- weight: double (nullable = true)\n",
      " |-- is_duplicate: double (nullable = true)\n",
      " |-- id: string (nullable = true)\n",
      " |-- qid2: double (nullable = true)\n",
      " |-- features2: vector (nullable = true)\n",
      "\n",
      "+------+--------+--------------------+------+------------+------+--------+--------------------+\n",
      "|    id|    qid1|           features1|weight|is_duplicate|    id|    qid2|           features2|\n",
      "+------+--------+--------------------+------+------------+------+--------+--------------------+\n",
      "|100010|165949.0|(64,[24,27],[2.27...|   0.8|         0.0|100010|165950.0|(64,[24,27],[2.27...|\n",
      "+------+--------+--------------------+------+------------+------+--------+--------------------+\n",
      "only showing top 1 row\n",
      "\n"
     ]
    }
   ],
   "source": [
    "trainTfidfData=wordsDf1.select(\"id\", \"qid1\", col(\"features\").alias(\"features1\"), col(\"weight\").cast(\"double\"), \"is_duplicate\") \\\n",
    "        .join(wordsDf2.select(\"id\", \"qid2\", col(\"features\").alias(\"features2\")), wordsDf1.id==wordsDf2.id)\n",
    "trainTfidfData.printSchema()\n",
    "trainTfidfData.show(1)"
   ]
  },
  {
   "cell_type": "code",
   "execution_count": 27,
   "metadata": {
    "collapsed": false
   },
   "outputs": [
    {
     "name": "stdout",
     "output_type": "stream",
     "text": [
      "['weight', 'features1', 'features2']\n"
     ]
    }
   ],
   "source": [
    "#vector assembler\n",
    "from pyspark.ml.feature import VectorAssembler\n",
    "assemblerInputs=[\"weight\",\"features1\", \"features2\"]\n",
    "print assemblerInputs\n",
    "assembler=VectorAssembler(inputCols=assemblerInputs, outputCol=\"features\")\n",
    "#random forest\n",
    "from pyspark.ml.classification import RandomForestClassifier, LogisticRegression\n",
    "rf=RandomForestClassifier(labelCol=\"is_duplicate\", featuresCol=\"features\" \\\n",
    "                          , numTrees=5, impurity=\"entropy\", maxDepth=20, maxBins=10)\n",
    "#lr = LogisticRegression(maxIter=20, regParam=0.3, elasticNetParam=0.8, labelCol=\"is_duplicate\", featuresCol=\"features\")\n",
    "#random split\n",
    "trainTfidfData0=trainTfidfData.filter(\"is_duplicate=0\")\n",
    "trainTfidfData1=trainTfidfData.filter(\"is_duplicate=1\")\n",
    "splitPop = [0.9,0.1]\n",
    "(trainDataS0, trainDataV0)=trainTfidfData0.randomSplit(splitPop)\n",
    "(trainDataS1, trainDataV1)=trainTfidfData1.randomSplit(splitPop)\n",
    "trainDataS = trainDataS0.union(trainDataS1)\n",
    "trainDataV = trainDataV0.union(trainDataV1)\n",
    "#using pipleline\n",
    "from pyspark.ml import Pipeline\n",
    "pipelineTfidf=Pipeline(stages=[assembler, rf])\n",
    "tfIdfModel=pipelineTfidf.fit(trainDataS)"
   ]
  },
  {
   "cell_type": "code",
   "execution_count": 28,
   "metadata": {
    "collapsed": false
   },
   "outputs": [
    {
     "name": "stdout",
     "output_type": "stream",
     "text": [
      "root\n",
      " |-- id: string (nullable = true)\n",
      " |-- qid1: double (nullable = true)\n",
      " |-- features1: vector (nullable = true)\n",
      " |-- weight: double (nullable = true)\n",
      " |-- is_duplicate: double (nullable = true)\n",
      " |-- id: string (nullable = true)\n",
      " |-- qid2: double (nullable = true)\n",
      " |-- features2: vector (nullable = true)\n",
      " |-- features: vector (nullable = true)\n",
      " |-- rawPrediction: vector (nullable = true)\n",
      " |-- probability: vector (nullable = true)\n",
      " |-- prediction: double (nullable = true)\n",
      "\n"
     ]
    }
   ],
   "source": [
    "prdictionTrainV=tfIdfModel.transform(trainDataV)\n",
    "prdictionTrainV.printSchema()\n",
    "def getFirstElement(vec):\n",
    "    return float(vec[1])\n",
    "getFirstElement=udf(getFirstElement)\n",
    "computeDf = prdictionTrainV.select([getFirstElement(col(\"probability\")).alias(\"weight\"), \"is_duplicate\"])"
   ]
  },
  {
   "cell_type": "code",
   "execution_count": 29,
   "metadata": {
    "collapsed": false
   },
   "outputs": [
    {
     "name": "stdout",
     "output_type": "stream",
     "text": [
      "+-------+-------------------+\n",
      "|summary|           log_loss|\n",
      "+-------+-------------------+\n",
      "|  count|              40206|\n",
      "|   mean|0.49290633868590306|\n",
      "| stddev| 0.5048350773071514|\n",
      "|    min|                0.0|\n",
      "|    max| 36.841361487904734|\n",
      "+-------+-------------------+\n",
      "\n"
     ]
    },
    {
     "data": {
      "text/plain": [
       "'\\n+-------+------------------+\\n|summary|          log_loss|\\n+-------+------------------+\\n|  count|             81133|\\n|   mean|0.6168502140578057|\\n| stddev|0.2902043101008879|\\n|    min|               0.0|\\n|    max| 4.223177434065062|\\n+-------+------------------+\\n'"
      ]
     },
     "execution_count": 29,
     "metadata": {},
     "output_type": "execute_result"
    }
   ],
   "source": [
    "#computeDf.take(1)\n",
    "compute_log_loss(computeDf).describe('log_loss').show()\n",
    "#logloss of no stemming with feature 32+32\n",
    "\"\"\"\n",
    "+-------+------------------+\n",
    "|summary|          log_loss|\n",
    "+-------+------------------+\n",
    "|  count|             81133|\n",
    "|   mean|0.6168502140578057|\n",
    "| stddev|0.2902043101008879|\n",
    "|    min|               0.0|\n",
    "|    max| 4.223177434065062|\n",
    "+-------+------------------+\n",
    "\"\"\""
   ]
  },
  {
   "cell_type": "code",
   "execution_count": 30,
   "metadata": {
    "collapsed": false
   },
   "outputs": [],
   "source": [
    "#prdictionTrainV.take(1)"
   ]
  },
  {
   "cell_type": "code",
   "execution_count": 31,
   "metadata": {
    "collapsed": true
   },
   "outputs": [],
   "source": [
    "#evaluate with evaluator\n",
    "from pyspark.ml.evaluation import BinaryClassificationEvaluator"
   ]
  },
  {
   "cell_type": "code",
   "execution_count": 32,
   "metadata": {
    "collapsed": false
   },
   "outputs": [
    {
     "data": {
      "text/plain": [
       "0.8184033440193541"
      ]
     },
     "execution_count": 32,
     "metadata": {},
     "output_type": "execute_result"
    }
   ],
   "source": [
    "evaluator=BinaryClassificationEvaluator(rawPredictionCol=\"probability\", labelCol=\"is_duplicate\", metricName=\"areaUnderROC\")\n",
    "auc=evaluator.evaluate(prdictionTrainV)\n",
    "auc"
   ]
  },
  {
   "cell_type": "code",
   "execution_count": 33,
   "metadata": {
    "collapsed": false
   },
   "outputs": [],
   "source": [
    "############# Predict Testing Data by TF-IDF #############\n",
    "testWordsDf1=testData2.select(\"test_id\", col(\"words1\").alias(\"words\"), getWeight(col(\"words1\"), col(\"words2\")).alias(\"weight\"))\n",
    "testWordsDf2=testData2.select(\"test_id\", col(\"words2\").alias(\"words\"))\n",
    "hashingTF = HashingTF(inputCol=\"words\", outputCol=\"rawFeatures\", numFeatures=64)\n",
    "featurizedData = hashingTF.transform(testWordsDf1.select(\"test_id\",\"words\").union(testWordsDf2.select(\"test_id\",\"words\")))\n",
    "idf = IDF(inputCol=\"rawFeatures\", outputCol=\"features\")\n",
    "idfModel = idf.fit(featurizedData)\n",
    "testWordsDf1 = idfModel.transform(hashingTF.transform(testWordsDf1))\n",
    "testWordsDf2 = idfModel.transform(hashingTF.transform(testWordsDf2))\n"
   ]
  },
  {
   "cell_type": "code",
   "execution_count": 34,
   "metadata": {
    "collapsed": false,
    "scrolled": true
   },
   "outputs": [
    {
     "name": "stdout",
     "output_type": "stream",
     "text": [
      "root\n",
      " |-- features1: vector (nullable = true)\n",
      " |-- weight: double (nullable = true)\n",
      " |-- test_id: string (nullable = true)\n",
      " |-- features2: vector (nullable = true)\n",
      " |-- features: vector (nullable = true)\n",
      "\n"
     ]
    }
   ],
   "source": [
    "############# Predict Testing Data by TF-IDF #############\n",
    "testTfidfData=testWordsDf1.select(\"test_id\", col(\"features\").alias(\"features1\"), col(\"weight\").cast(\"double\")) \\\n",
    "        .join(testWordsDf2.select(\"test_id\", col(\"features\").alias(\"features2\")), testWordsDf1.test_id==testWordsDf2.test_id) \\\n",
    "        .drop(testWordsDf2.test_id)\n",
    "#testTfidfData.printSchema()\n",
    "testTfidfData2=assembler.transform(testTfidfData)\n",
    "testTfidfData2.printSchema()"
   ]
  },
  {
   "cell_type": "code",
   "execution_count": 35,
   "metadata": {
    "collapsed": false
   },
   "outputs": [
    {
     "data": {
      "text/plain": [
       "RandomForestClassificationModel (uid=rfc_041bea905fad) with 5 trees"
      ]
     },
     "execution_count": 35,
     "metadata": {},
     "output_type": "execute_result"
    }
   ],
   "source": [
    "tfIdfModel.stages[1]"
   ]
  },
  {
   "cell_type": "code",
   "execution_count": 36,
   "metadata": {
    "collapsed": false
   },
   "outputs": [
    {
     "name": "stdout",
     "output_type": "stream",
     "text": [
      "root\n",
      " |-- features1: vector (nullable = true)\n",
      " |-- weight: double (nullable = true)\n",
      " |-- test_id: string (nullable = true)\n",
      " |-- features2: vector (nullable = true)\n",
      " |-- features: vector (nullable = true)\n",
      " |-- rawPrediction: vector (nullable = true)\n",
      " |-- probability: vector (nullable = true)\n",
      " |-- prediction: double (nullable = true)\n",
      "\n"
     ]
    }
   ],
   "source": [
    "############# Predict Testing Data by TF-IDF #############\n",
    "prdictionTest=tfIdfModel.stages[1].transform(testTfidfData2)\n",
    "prdictionTest.printSchema()"
   ]
  },
  {
   "cell_type": "code",
   "execution_count": 37,
   "metadata": {
    "collapsed": false
   },
   "outputs": [
    {
     "name": "stdout",
     "output_type": "stream",
     "text": [
      "root\n",
      " |-- test_id: integer (nullable = true)\n",
      " |-- is_duplicate: string (nullable = true)\n",
      "\n"
     ]
    }
   ],
   "source": [
    "############# Generate Predict Result by using TF-IDF #############\n",
    "predictionDf = prdictionTest.select([col(\"test_id\").cast(\"integer\"), getFirstElement(col(\"probability\")).alias(\"is_duplicate\")]).orderBy(\"test_id\", ascending=[1])\n",
    "predictionDf.printSchema()\n",
    "#submitPd3=predictionDf.toPandas()\n",
    "#submitPd3.to_csv(Path.replace(\"file:\",\"\") + \"/QuoraQuestion/submit3.csv\",index=False)"
   ]
  },
  {
   "cell_type": "code",
   "execution_count": 38,
   "metadata": {
    "collapsed": false
   },
   "outputs": [
    {
     "name": "stdout",
     "output_type": "stream",
     "text": [
      "root\n",
      " |-- id: string (nullable = true)\n",
      " |-- qid1: double (nullable = true)\n",
      " |-- words: array (nullable = true)\n",
      " |    |-- element: string (containsNull = true)\n",
      " |-- weight: string (nullable = true)\n",
      " |-- is_duplicate: double (nullable = true)\n",
      " |-- rawFeatures: vector (nullable = true)\n",
      " |-- features: vector (nullable = true)\n",
      "\n"
     ]
    }
   ],
   "source": [
    "wordsDf1=wordsDf1.drop(\"featuresW2V\")\n",
    "wordsDf2=wordsDf2.drop(\"featuresW2V\")\n",
    "wordsDf1.printSchema()"
   ]
  },
  {
   "cell_type": "code",
   "execution_count": 39,
   "metadata": {
    "collapsed": false,
    "scrolled": true
   },
   "outputs": [
    {
     "name": "stdout",
     "output_type": "stream",
     "text": [
      "root\n",
      " |-- qid1: double (nullable = true)\n",
      " |-- features1: vector (nullable = true)\n",
      " |-- featuresW2V1: vector (nullable = true)\n",
      " |-- weight: double (nullable = true)\n",
      " |-- is_duplicate: double (nullable = true)\n",
      " |-- id: string (nullable = true)\n",
      " |-- qid2: double (nullable = true)\n",
      " |-- features2: vector (nullable = true)\n",
      " |-- featuresW2V2: vector (nullable = true)\n",
      "\n"
     ]
    }
   ],
   "source": [
    "#Using Word2Vec\n",
    "from pyspark.ml.feature import Word2Vec\n",
    "word2Vec = Word2Vec(vectorSize=15, minCount=2, inputCol=\"words\", outputCol=\"featuresW2V\")\n",
    "wordsDf=wordsDf1.select(\"id\",\"words\").union(wordsDf2.select(\"id\",\"words\"))\n",
    "w2vModel=word2Vec.fit(wordsDf)\n",
    "\n",
    "wordsDf1 = w2vModel.transform(wordsDf1)\n",
    "wordsDf2 = w2vModel.transform(wordsDf2)\n",
    "\n",
    "trainW2VData=wordsDf1.select(\"id\", \"qid1\", col(\"features\").alias(\"features1\"), col(\"featuresW2V\").alias(\"featuresW2V1\"), col(\"weight\").cast(\"double\"), \"is_duplicate\") \\\n",
    "        .join(wordsDf2.select(\"id\", \"qid2\", col(\"features\").alias(\"features2\"), col(\"featuresW2V\").alias(\"featuresW2V2\")), wordsDf1.id==wordsDf2.id).drop(wordsDf2.id)\n",
    "trainW2VData.printSchema()\n",
    "# trainW2VData.show(1)"
   ]
  },
  {
   "cell_type": "code",
   "execution_count": 40,
   "metadata": {
    "collapsed": false
   },
   "outputs": [],
   "source": [
    "#trainW2VData.show(1)"
   ]
  },
  {
   "cell_type": "code",
   "execution_count": 41,
   "metadata": {
    "collapsed": false
   },
   "outputs": [
    {
     "name": "stdout",
     "output_type": "stream",
     "text": [
      "['weight', 'features1', 'features2', 'featuresW2V1', 'featuresW2V2']\n"
     ]
    }
   ],
   "source": [
    "## Word2Vec for training Data\n",
    "from pyspark.ml.feature import VectorAssembler\n",
    "assemblerInputs=[\"weight\",\"features1\",\"features2\", \"featuresW2V1\", \"featuresW2V2\"]\n",
    "print assemblerInputs\n",
    "assembler=VectorAssembler(inputCols=assemblerInputs, outputCol=\"features\")\n",
    "#random forest\n",
    "from pyspark.ml.classification import RandomForestClassifier, LogisticRegression\n",
    "rf=RandomForestClassifier(labelCol=\"is_duplicate\", featuresCol=\"features\" \\\n",
    "                          , numTrees=5, impurity=\"entropy\", maxDepth=20, maxBins=10)\n",
    "#lr = LogisticRegression(maxIter=20, regParam=0.3, elasticNetParam=0.8, labelCol=\"is_duplicate\", featuresCol=\"features\")\n",
    "#random split\n",
    "trainW2VData0=trainW2VData.filter(\"is_duplicate=0\")\n",
    "trainW2VData1=trainW2VData.filter(\"is_duplicate=1\")\n",
    "splitPop = [0.9,0.1]\n",
    "(trainDataS0, trainDataV0)=trainW2VData0.randomSplit(splitPop)\n",
    "(trainDataS1, trainDataV1)=trainW2VData1.randomSplit(splitPop)\n",
    "trainDataS = trainDataS0.union(trainDataS1)\n",
    "trainDataV = trainDataV0.union(trainDataV1)\n",
    "#using pipleline\n",
    "from pyspark.ml import Pipeline\n",
    "pipelineW2V=Pipeline(stages=[assembler, rf])\n",
    "w2vModel=pipelineW2V.fit(trainDataS)"
   ]
  },
  {
   "cell_type": "code",
   "execution_count": 42,
   "metadata": {
    "collapsed": false
   },
   "outputs": [
    {
     "name": "stdout",
     "output_type": "stream",
     "text": [
      "root\n",
      " |-- qid1: double (nullable = true)\n",
      " |-- features1: vector (nullable = true)\n",
      " |-- featuresW2V1: vector (nullable = true)\n",
      " |-- weight: double (nullable = true)\n",
      " |-- is_duplicate: double (nullable = true)\n",
      " |-- id: string (nullable = true)\n",
      " |-- qid2: double (nullable = true)\n",
      " |-- features2: vector (nullable = true)\n",
      " |-- featuresW2V2: vector (nullable = true)\n",
      " |-- features: vector (nullable = true)\n",
      " |-- rawPrediction: vector (nullable = true)\n",
      " |-- probability: vector (nullable = true)\n",
      " |-- prediction: double (nullable = true)\n",
      "\n"
     ]
    }
   ],
   "source": [
    "## Word2Vec for predict training Data\n",
    "prdictionTrainV=w2vModel.transform(trainDataV)\n",
    "prdictionTrainV.printSchema()\n",
    "def getFirstElement(vec):\n",
    "    return float(vec[1])\n",
    "getFirstElement=udf(getFirstElement)\n",
    "computeDf = prdictionTrainV.select([getFirstElement(col(\"probability\")).alias(\"weight\"), \"is_duplicate\"])"
   ]
  },
  {
   "cell_type": "code",
   "execution_count": 43,
   "metadata": {
    "collapsed": false
   },
   "outputs": [
    {
     "name": "stdout",
     "output_type": "stream",
     "text": [
      "+-------+-------------------+\n",
      "|summary|           log_loss|\n",
      "+-------+-------------------+\n",
      "|  count|              40135|\n",
      "|   mean|0.44768735141243815|\n",
      "| stddev| 0.9932865959026336|\n",
      "|    min|                0.0|\n",
      "|    max| 36.841361487904734|\n",
      "+-------+-------------------+\n",
      "\n"
     ]
    }
   ],
   "source": [
    "## Word2Vec for training Data (logLoss)\n",
    "compute_log_loss(computeDf).describe('log_loss').show()"
   ]
  },
  {
   "cell_type": "code",
   "execution_count": 44,
   "metadata": {
    "collapsed": false
   },
   "outputs": [
    {
     "data": {
      "text/plain": [
       "0.8657146828582122"
      ]
     },
     "execution_count": 44,
     "metadata": {},
     "output_type": "execute_result"
    }
   ],
   "source": [
    "evaluator=BinaryClassificationEvaluator(rawPredictionCol=\"probability\", labelCol=\"is_duplicate\", metricName=\"areaUnderROC\")\n",
    "auc=evaluator.evaluate(prdictionTrainV)\n",
    "auc"
   ]
  },
  {
   "cell_type": "code",
   "execution_count": 45,
   "metadata": {
    "collapsed": false
   },
   "outputs": [
    {
     "name": "stdout",
     "output_type": "stream",
     "text": [
      "root\n",
      " |-- test_id: string (nullable = true)\n",
      " |-- words: array (nullable = true)\n",
      " |    |-- element: string (containsNull = true)\n",
      " |-- weight: string (nullable = true)\n",
      " |-- rawFeatures: vector (nullable = true)\n",
      " |-- features: vector (nullable = true)\n",
      "\n"
     ]
    }
   ],
   "source": [
    "######### prepare testing data for predict using TF-IDF + WordVec ###########\n",
    "testWordsDf1=testWordsDf1.drop(\"featuresW2V\")\n",
    "testWordsDf2=testWordsDf2.drop(\"featuresW2V\")\n",
    "testWordsDf1.printSchema()"
   ]
  },
  {
   "cell_type": "code",
   "execution_count": 46,
   "metadata": {
    "collapsed": false
   },
   "outputs": [
    {
     "name": "stdout",
     "output_type": "stream",
     "text": [
      "root\n",
      " |-- features1: vector (nullable = true)\n",
      " |-- featuresW2V1: vector (nullable = true)\n",
      " |-- weight: double (nullable = true)\n",
      " |-- test_id: string (nullable = true)\n",
      " |-- features2: vector (nullable = true)\n",
      " |-- featuresW2V2: vector (nullable = true)\n",
      "\n"
     ]
    }
   ],
   "source": [
    "######### prepare testing data for predict using TF-IDF + WordVec ###########\n",
    "testWordsDf=testWordsDf1.select(\"test_id\",\"words\").union(testWordsDf2.select(\"test_id\",\"words\"))\n",
    "w2v=word2Vec.fit(testWordsDf)\n",
    "\n",
    "testWordsDf1 = w2v.transform(testWordsDf1)\n",
    "testWordsDf2 = w2v.transform(testWordsDf2)\n",
    "\n",
    "testW2VData=testWordsDf1.select(\"test_id\", col(\"features\").alias(\"features1\"), col(\"featuresW2V\").alias(\"featuresW2V1\"), col(\"weight\").cast(\"double\")) \\\n",
    "        .join(testWordsDf2.select(\"test_id\", col(\"features\").alias(\"features2\"), col(\"featuresW2V\").alias(\"featuresW2V2\")) \\\n",
    "              , testWordsDf1.test_id==testWordsDf2.test_id).drop(testWordsDf2.test_id)\n",
    "testW2VData.printSchema()"
   ]
  },
  {
   "cell_type": "code",
   "execution_count": 47,
   "metadata": {
    "collapsed": false
   },
   "outputs": [
    {
     "name": "stdout",
     "output_type": "stream",
     "text": [
      "root\n",
      " |-- features1: vector (nullable = true)\n",
      " |-- featuresW2V1: vector (nullable = true)\n",
      " |-- weight: double (nullable = true)\n",
      " |-- test_id: string (nullable = true)\n",
      " |-- features2: vector (nullable = true)\n",
      " |-- featuresW2V2: vector (nullable = true)\n",
      " |-- features: vector (nullable = true)\n",
      "\n"
     ]
    }
   ],
   "source": [
    "######### prepare testing data for predict using TF-IDF + WordVec ###########\n",
    "testW2VData2=assembler.transform(testW2VData)\n",
    "testW2VData2.printSchema()"
   ]
  },
  {
   "cell_type": "code",
   "execution_count": 48,
   "metadata": {
    "collapsed": false
   },
   "outputs": [
    {
     "data": {
      "text/plain": [
       "VectorAssembler_48ba8099fb1d347afeaf"
      ]
     },
     "execution_count": 48,
     "metadata": {},
     "output_type": "execute_result"
    }
   ],
   "source": [
    "w2vModel.stages[0]"
   ]
  },
  {
   "cell_type": "code",
   "execution_count": 49,
   "metadata": {
    "collapsed": false
   },
   "outputs": [
    {
     "name": "stdout",
     "output_type": "stream",
     "text": [
      "root\n",
      " |-- features1: vector (nullable = true)\n",
      " |-- featuresW2V1: vector (nullable = true)\n",
      " |-- weight: double (nullable = true)\n",
      " |-- test_id: string (nullable = true)\n",
      " |-- features2: vector (nullable = true)\n",
      " |-- featuresW2V2: vector (nullable = true)\n",
      " |-- features: vector (nullable = true)\n",
      " |-- rawPrediction: vector (nullable = true)\n",
      " |-- probability: vector (nullable = true)\n",
      " |-- prediction: double (nullable = true)\n",
      "\n"
     ]
    }
   ],
   "source": [
    "############# Predict Testing Data by Word2Vec #############\n",
    "prdictionTest=w2vModel.stages[1].transform(testW2VData2)\n",
    "prdictionTest.printSchema()"
   ]
  },
  {
   "cell_type": "code",
   "execution_count": 50,
   "metadata": {
    "collapsed": false
   },
   "outputs": [
    {
     "name": "stdout",
     "output_type": "stream",
     "text": [
      "root\n",
      " |-- test_id: integer (nullable = true)\n",
      " |-- is_duplicate: string (nullable = true)\n",
      "\n"
     ]
    }
   ],
   "source": [
    "############# Generate Predict Result by using Word2Vec #############\n",
    "predictionDf = prdictionTest.select([col(\"test_id\").cast(\"integer\"), getFirstElement(col(\"probability\")).alias(\"is_duplicate\")]).orderBy(\"test_id\", ascending=[1])\n",
    "predictionDf.printSchema()\n",
    "submitPd4=predictionDf.toPandas()\n",
    "submitPd4.to_csv(Path.replace(\"file:\",\"\") + \"/QuoraQuestion/submit4.csv\",index=False)"
   ]
  }
 ],
 "metadata": {
  "kernelspec": {
   "display_name": "Python 2",
   "language": "python",
   "name": "python2"
  },
  "language_info": {
   "codemirror_mode": {
    "name": "ipython",
    "version": 2
   },
   "file_extension": ".py",
   "mimetype": "text/x-python",
   "name": "python",
   "nbconvert_exporter": "python",
   "pygments_lexer": "ipython2",
   "version": "2.7.13"
  }
 },
 "nbformat": 4,
 "nbformat_minor": 2
}
