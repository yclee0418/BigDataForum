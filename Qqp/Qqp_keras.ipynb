{
 "cells": [
  {
   "cell_type": "code",
   "execution_count": 83,
   "metadata": {
    "collapsed": true
   },
   "outputs": [],
   "source": [
    "tfIdfNum = 64#100\n",
    "featureNum = tfIdfNum*2+2-1\n",
    "base_path = '/Users/yungchuanlee/Documents/learn/kaggle/QuoraQuestion'\n",
    "trainCsvPath = base_path + '/trainTfidf_%s.csv'\n",
    "testCsvPath = base_path  + '/testTfidf_%s_%s.csv'"
   ]
  },
  {
   "cell_type": "code",
   "execution_count": 84,
   "metadata": {
    "collapsed": false
   },
   "outputs": [],
   "source": [
    "#read train csv\n",
    "import numpy as np\n",
    "np.random.seed(1337)\n",
    "\n",
    "''' Read train files '''\n",
    "train_data = np.genfromtxt(trainCsvPath % tfIdfNum, delimiter=',',skip_header=0)\n",
    "#train: 128 + 2 + label\n",
    "''' The first column to the 130th(ignore weight 1k) column is used as input features '''\n",
    "X_train = train_data[:,0:featureNum]\n",
    "X_train = X_train.astype('float32')\n",
    "\n",
    "''' The 131-th column is the answer '''\n",
    "y_train = train_data[:,len(train_data[0,:])-1]\n",
    "y_train = y_train.astype('int')\n",
    "\n",
    "''' Shuffle training data '''\n",
    "from sklearn.utils import shuffle\n",
    "X_train,Y_train = shuffle(X_train,y_train,random_state=100)"
   ]
  },
  {
   "cell_type": "code",
   "execution_count": 85,
   "metadata": {
    "collapsed": false
   },
   "outputs": [
    {
     "data": {
      "text/plain": [
       "array([0, 1, 1, ..., 0, 0, 1])"
      ]
     },
     "execution_count": 85,
     "metadata": {},
     "output_type": "execute_result"
    }
   ],
   "source": [
    "y_train"
   ]
  },
  {
   "cell_type": "code",
   "execution_count": 86,
   "metadata": {
    "collapsed": false,
    "scrolled": true
   },
   "outputs": [
    {
     "data": {
      "text/plain": [
       "131"
      ]
     },
     "execution_count": 86,
     "metadata": {},
     "output_type": "execute_result"
    }
   ],
   "source": [
    "len(train_data[0,:])\n",
    "# Y_train.shape"
   ]
  },
  {
   "cell_type": "code",
   "execution_count": 87,
   "metadata": {
    "collapsed": false
   },
   "outputs": [
    {
     "name": "stdout",
     "output_type": "stream",
     "text": [
      "Building a model whose optimizer=\"Adam\", activation function=relu\n"
     ]
    }
   ],
   "source": [
    "#deep learning - declare model\n",
    "\n",
    "''' set the size of mini-batch and number of epochs'''\n",
    "batch_size = 16\n",
    "epochs = 30\n",
    "\n",
    "''' Import keras to build a DL model '''\n",
    "from keras.models import Sequential\n",
    "from keras.layers.core import Dense, Activation\n",
    "''' Import l1,l2 (regularizer) '''\n",
    "from keras.regularizers import l1,l2\n",
    "''' EarlyStopping '''\n",
    "from keras.callbacks import EarlyStopping\n",
    "early_stopping = EarlyStopping(monitor = 'val_loss', patience = 3)\n",
    "\n",
    "print('Building a model whose optimizer=\"Adam\", activation function=relu')\n",
    "model_adam = Sequential()\n",
    "# model_adam.add(Dense(128, input_dim=featureNum, kernel_regularizer=l2(0.005) ))\n",
    "model_adam.add(Dense(128, input_dim=featureNum ))\n",
    "model_adam.add(Activation('relu'))\n",
    "# model_adam.add(Dense(256, kernel_regularizer=l2(0.005)))\n",
    "model_adam.add(Dense(256))\n",
    "model_adam.add(Activation('relu'))\n",
    "# model_adam.add(Dense(1, kernel_regularizer=l2(0.005)))\n",
    "model_adam.add(Dense(1))\n",
    "model_adam.add(Activation('sigmoid'))"
   ]
  },
  {
   "cell_type": "code",
   "execution_count": 88,
   "metadata": {
    "collapsed": false
   },
   "outputs": [],
   "source": [
    "# model fitting\n",
    "''' Setting optimizer as Adam '''\n",
    "from keras.optimizers import SGD, Adam, RMSprop, Adagrad\n",
    "model_adam.compile(loss= 'binary_crossentropy',optimizer='Adam', metrics=['accuracy'])\n",
    "\n",
    "'''Fit models and use validation_split=0.1 '''\n",
    "history_adam = model_adam.fit(X_train, Y_train, batch_size=batch_size,\n",
    "                              epochs=epochs,verbose=0,shuffle=True,validation_split=0.1)\n",
    "                             #,callbacks=[early_stopping])\n",
    "\n",
    "loss_adam= history_adam.history.get('loss')\n",
    "acc_adam = history_adam.history.get('acc')"
   ]
  },
  {
   "cell_type": "code",
   "execution_count": 89,
   "metadata": {
    "collapsed": false
   },
   "outputs": [
    {
     "name": "stdout",
     "output_type": "stream",
     "text": [
      "Result saved into 04_optimizerSelection.png\n"
     ]
    }
   ],
   "source": [
    "#plot\n",
    "''' Visualize the loss and accuracy of both models'''\n",
    "import matplotlib.pyplot as plt\n",
    "plt.figure(0)\n",
    "plt.subplot(121)\n",
    "plt.plot(range(len(loss_adam)), loss_adam,label='Adam')\n",
    "plt.title('Loss')\n",
    "plt.legend(loc='upper left')\n",
    "plt.subplot(122)\n",
    "plt.plot(range(len(acc_adam)), acc_adam,label='Adam')\n",
    "plt.title('Accuracy')\n",
    "plt.savefig(base_path  + '/04_optimizerSelection_%s.png' % tfIdfNum ,dpi=300,format='png')\n",
    "plt.close()\n",
    "print('Result saved into 04_optimizerSelection.png')"
   ]
  },
  {
   "cell_type": "code",
   "execution_count": 90,
   "metadata": {
    "collapsed": false
   },
   "outputs": [],
   "source": [
    "#save model\n",
    "from keras.models import model_from_json\n",
    "model_json = model_adam.to_json()\n",
    "with open(base_path  + \"model_%s.json\" % tfIdfNum, \"w\") as json_file:\n",
    "    json_file.write(model_json)\n"
   ]
  },
  {
   "cell_type": "code",
   "execution_count": 91,
   "metadata": {
    "collapsed": true
   },
   "outputs": [],
   "source": [
    "# #load model\n",
    "# json_file = open(base_path  + \"model_%s.json\" % tfIdfNum, 'r')\n",
    "# loaded_model_json = json_file.read()\n",
    "# json_file.close()\n",
    "# model_adam = model_from_json(loaded_model_json)"
   ]
  },
  {
   "cell_type": "code",
   "execution_count": 92,
   "metadata": {
    "collapsed": false
   },
   "outputs": [],
   "source": [
    "#read test csv & predict\n",
    "import numpy as np\n",
    "import pandas as pd\n",
    "np.random.seed(1337)\n",
    "\n",
    "pdArr = []\n",
    "\n",
    "for fragNum in range(0,10):\n",
    "#for fragNum in range(1,6):\n",
    "    test_data = np.genfromtxt(testCsvPath % (tfIdfNum, fragNum), delimiter=',',skip_header=0)\n",
    "    X_test = test_data[:,1:featureNum+1]\n",
    "    X_test = X_test.astype('float32')\n",
    "    preds = model_adam.predict(X_test)\n",
    "    test_labels = test_data[:,0]\n",
    "    test_labels = test_labels.astype('int')\n",
    "\n",
    "    out_df = pd.DataFrame({\"test_id\":test_labels,\"is_duplicate\":preds.ravel()})\n",
    "    pdArr.append(out_df)"
   ]
  },
  {
   "cell_type": "code",
   "execution_count": 93,
   "metadata": {
    "collapsed": true
   },
   "outputs": [],
   "source": [
    "res_pd = pd.concat(pdArr)"
   ]
  },
  {
   "cell_type": "code",
   "execution_count": 94,
   "metadata": {
    "collapsed": true
   },
   "outputs": [],
   "source": [
    "res_pd[['test_id','is_duplicate']].to_csv(base_path + '/DL_predictions_%s.csv' % tfIdfNum, index=False)"
   ]
  },
  {
   "cell_type": "code",
   "execution_count": 95,
   "metadata": {
    "collapsed": false
   },
   "outputs": [],
   "source": [
    "# #read test csv\n",
    "# import numpy as np\n",
    "# import pandas as pd\n",
    "# np.random.seed(1337)\n",
    "\n",
    "# fragNum = 1\n",
    "# ''' Read test files '''\n",
    "# test_data = np.genfromtxt(testCsvPath % (tfIdfNum, fragNum), delimiter=',',skip_header=0)\n",
    "# X_test = test_data[:,1:featureNum+1]\n",
    "# X_test_1 = X_test.astype('float32')\n",
    "# preds = model_adam.predict(X_test_1)\n",
    "# print(preds.shape)\n",
    "\n",
    "# test_labels_1 = test_data[:,0]\n",
    "# test_labels_1 = test_labels_1.astype('int')\n",
    "\n",
    "# out_df_1 = pd.DataFrame({\"test_id\":test_labels_1,\"is_duplicate\":preds.ravel()})"
   ]
  },
  {
   "cell_type": "code",
   "execution_count": 96,
   "metadata": {
    "collapsed": false
   },
   "outputs": [
    {
     "data": {
      "text/plain": [
       "(231520, 129)"
      ]
     },
     "execution_count": 96,
     "metadata": {},
     "output_type": "execute_result"
    }
   ],
   "source": [
    "X_test.shape"
   ]
  },
  {
   "cell_type": "code",
   "execution_count": 97,
   "metadata": {
    "collapsed": false
   },
   "outputs": [],
   "source": [
    "# fragNum = 2\n",
    "# ''' Read test files '''\n",
    "# test_data = np.genfromtxt(testCsvPath % (tfIdfNum, fragNum), delimiter=',',skip_header=0)\n",
    "# X_test = test_data[:,1:featureNum+1]\n",
    "# X_test_2 = X_test.astype('float32')\n",
    "# preds = model_adam.predict(X_test_2)\n",
    "# print(preds.shape)\n",
    "\n",
    "# test_labels_2 = test_data[:,0]\n",
    "# test_labels_2 = test_labels_2.astype('int')\n",
    "\n",
    "# out_df_2 = pd.DataFrame({\"test_id\":test_labels_2,\"is_duplicate\":preds.ravel()})"
   ]
  },
  {
   "cell_type": "code",
   "execution_count": 98,
   "metadata": {
    "collapsed": false
   },
   "outputs": [],
   "source": [
    "# fragNum = 3\n",
    "# ''' Read test files '''\n",
    "# test_data = np.genfromtxt(testCsvPath % (tfIdfNum, fragNum), delimiter=',',skip_header=0)\n",
    "# X_test = test_data[:,1:featureNum+1]\n",
    "# X_test_3 = X_test.astype('float32')\n",
    "# preds = model_adam.predict(X_test_3)\n",
    "# print(preds.shape)\n",
    "\n",
    "# test_labels_3 = test_data[:,0]\n",
    "# test_labels_3 = test_labels_3.astype('int')\n",
    "\n",
    "# out_df_3 = pd.DataFrame({\"test_id\":test_labels_3,\"is_duplicate\":preds.ravel()})"
   ]
  },
  {
   "cell_type": "code",
   "execution_count": 99,
   "metadata": {
    "collapsed": false
   },
   "outputs": [],
   "source": [
    "# fragNum = 4\n",
    "# ''' Read test files '''\n",
    "# test_data = np.genfromtxt(testCsvPath % (tfIdfNum, fragNum), delimiter=',',skip_header=0)\n",
    "# X_test = test_data[:,1:featureNum+1]\n",
    "# X_test_4 = X_test.astype('float32')\n",
    "# preds = model_adam.predict(X_test_4)\n",
    "# print(preds.shape)\n",
    "\n",
    "# test_labels_4 = test_data[:,0]\n",
    "# test_labels_4 = test_labels_4.astype('int')\n",
    "\n",
    "# out_df_4 = pd.DataFrame({\"test_id\":test_labels_4,\"is_duplicate\":preds.ravel()})"
   ]
  },
  {
   "cell_type": "code",
   "execution_count": 100,
   "metadata": {
    "collapsed": false
   },
   "outputs": [],
   "source": [
    "# fragNum = 5\n",
    "# ''' Read test files '''\n",
    "# test_data = np.genfromtxt(testCsvPath % (tfIdfNum, fragNum), delimiter=',',skip_header=0)\n",
    "# X_test = test_data[:,1:featureNum+1]\n",
    "# X_test_5 = X_test.astype('float32')\n",
    "# preds = model_adam.predict(X_test_5)\n",
    "# print(preds.shape)\n",
    "\n",
    "# test_labels_5 = test_data[:,0]\n",
    "# test_labels_5 = test_labels_5.astype('int')\n",
    "\n",
    "# out_df_5 = pd.DataFrame({\"test_id\":test_labels_5,\"is_duplicate\":preds.ravel()})"
   ]
  },
  {
   "cell_type": "code",
   "execution_count": 101,
   "metadata": {
    "collapsed": false
   },
   "outputs": [],
   "source": [
    "# res_pd = pd.concat([out_df_1, out_df_2, out_df_3, out_df_4, out_df_5])"
   ]
  },
  {
   "cell_type": "code",
   "execution_count": 102,
   "metadata": {
    "collapsed": false
   },
   "outputs": [],
   "source": [
    "# res_pd[['test_id','is_duplicate']].to_csv(base_path + '/DL_predictions_%s.csv' % tfIdfNum, index=False)"
   ]
  },
  {
   "cell_type": "code",
   "execution_count": 103,
   "metadata": {
    "collapsed": false
   },
   "outputs": [
    {
     "data": {
      "text/html": [
       "<div>\n",
       "<table border=\"1\" class=\"dataframe\">\n",
       "  <thead>\n",
       "    <tr style=\"text-align: right;\">\n",
       "      <th></th>\n",
       "      <th>is_duplicate</th>\n",
       "      <th>test_id</th>\n",
       "    </tr>\n",
       "  </thead>\n",
       "  <tbody>\n",
       "    <tr>\n",
       "      <th>0</th>\n",
       "      <td>1.432350e-01</td>\n",
       "      <td>0</td>\n",
       "    </tr>\n",
       "    <tr>\n",
       "      <th>1</th>\n",
       "      <td>3.675404e-01</td>\n",
       "      <td>1</td>\n",
       "    </tr>\n",
       "    <tr>\n",
       "      <th>2</th>\n",
       "      <td>9.247481e-01</td>\n",
       "      <td>2</td>\n",
       "    </tr>\n",
       "    <tr>\n",
       "      <th>3</th>\n",
       "      <td>4.183708e-01</td>\n",
       "      <td>3</td>\n",
       "    </tr>\n",
       "    <tr>\n",
       "      <th>4</th>\n",
       "      <td>2.857536e-01</td>\n",
       "      <td>4</td>\n",
       "    </tr>\n",
       "    <tr>\n",
       "      <th>5</th>\n",
       "      <td>6.877857e-06</td>\n",
       "      <td>5</td>\n",
       "    </tr>\n",
       "    <tr>\n",
       "      <th>6</th>\n",
       "      <td>6.637211e-01</td>\n",
       "      <td>6</td>\n",
       "    </tr>\n",
       "    <tr>\n",
       "      <th>7</th>\n",
       "      <td>9.999967e-01</td>\n",
       "      <td>7</td>\n",
       "    </tr>\n",
       "    <tr>\n",
       "      <th>8</th>\n",
       "      <td>3.748116e-01</td>\n",
       "      <td>8</td>\n",
       "    </tr>\n",
       "    <tr>\n",
       "      <th>9</th>\n",
       "      <td>2.685608e-03</td>\n",
       "      <td>9</td>\n",
       "    </tr>\n",
       "    <tr>\n",
       "      <th>10</th>\n",
       "      <td>5.881609e-01</td>\n",
       "      <td>10</td>\n",
       "    </tr>\n",
       "    <tr>\n",
       "      <th>11</th>\n",
       "      <td>2.375993e-04</td>\n",
       "      <td>11</td>\n",
       "    </tr>\n",
       "    <tr>\n",
       "      <th>12</th>\n",
       "      <td>0.000000e+00</td>\n",
       "      <td>12</td>\n",
       "    </tr>\n",
       "    <tr>\n",
       "      <th>13</th>\n",
       "      <td>1.993506e-02</td>\n",
       "      <td>13</td>\n",
       "    </tr>\n",
       "    <tr>\n",
       "      <th>14</th>\n",
       "      <td>4.884657e-03</td>\n",
       "      <td>14</td>\n",
       "    </tr>\n",
       "    <tr>\n",
       "      <th>15</th>\n",
       "      <td>9.576338e-04</td>\n",
       "      <td>15</td>\n",
       "    </tr>\n",
       "    <tr>\n",
       "      <th>16</th>\n",
       "      <td>2.183465e-10</td>\n",
       "      <td>16</td>\n",
       "    </tr>\n",
       "    <tr>\n",
       "      <th>17</th>\n",
       "      <td>7.503989e-01</td>\n",
       "      <td>17</td>\n",
       "    </tr>\n",
       "    <tr>\n",
       "      <th>18</th>\n",
       "      <td>9.659845e-01</td>\n",
       "      <td>18</td>\n",
       "    </tr>\n",
       "    <tr>\n",
       "      <th>19</th>\n",
       "      <td>1.942571e-01</td>\n",
       "      <td>19</td>\n",
       "    </tr>\n",
       "    <tr>\n",
       "      <th>20</th>\n",
       "      <td>1.153952e-04</td>\n",
       "      <td>20</td>\n",
       "    </tr>\n",
       "    <tr>\n",
       "      <th>21</th>\n",
       "      <td>2.339058e-01</td>\n",
       "      <td>21</td>\n",
       "    </tr>\n",
       "    <tr>\n",
       "      <th>22</th>\n",
       "      <td>2.952003e-01</td>\n",
       "      <td>22</td>\n",
       "    </tr>\n",
       "    <tr>\n",
       "      <th>23</th>\n",
       "      <td>6.936296e-03</td>\n",
       "      <td>23</td>\n",
       "    </tr>\n",
       "    <tr>\n",
       "      <th>24</th>\n",
       "      <td>5.623494e-08</td>\n",
       "      <td>24</td>\n",
       "    </tr>\n",
       "    <tr>\n",
       "      <th>25</th>\n",
       "      <td>1.582098e-01</td>\n",
       "      <td>25</td>\n",
       "    </tr>\n",
       "    <tr>\n",
       "      <th>26</th>\n",
       "      <td>1.169469e-06</td>\n",
       "      <td>26</td>\n",
       "    </tr>\n",
       "    <tr>\n",
       "      <th>27</th>\n",
       "      <td>1.235856e-02</td>\n",
       "      <td>27</td>\n",
       "    </tr>\n",
       "    <tr>\n",
       "      <th>28</th>\n",
       "      <td>3.028313e-02</td>\n",
       "      <td>28</td>\n",
       "    </tr>\n",
       "    <tr>\n",
       "      <th>29</th>\n",
       "      <td>3.747144e-25</td>\n",
       "      <td>29</td>\n",
       "    </tr>\n",
       "    <tr>\n",
       "      <th>...</th>\n",
       "      <td>...</td>\n",
       "      <td>...</td>\n",
       "    </tr>\n",
       "    <tr>\n",
       "      <th>231490</th>\n",
       "      <td>0.000000e+00</td>\n",
       "      <td>2345766</td>\n",
       "    </tr>\n",
       "    <tr>\n",
       "      <th>231491</th>\n",
       "      <td>5.964778e-02</td>\n",
       "      <td>2345767</td>\n",
       "    </tr>\n",
       "    <tr>\n",
       "      <th>231492</th>\n",
       "      <td>9.999996e-01</td>\n",
       "      <td>2345768</td>\n",
       "    </tr>\n",
       "    <tr>\n",
       "      <th>231493</th>\n",
       "      <td>0.000000e+00</td>\n",
       "      <td>2345769</td>\n",
       "    </tr>\n",
       "    <tr>\n",
       "      <th>231494</th>\n",
       "      <td>6.164584e-01</td>\n",
       "      <td>2345770</td>\n",
       "    </tr>\n",
       "    <tr>\n",
       "      <th>231495</th>\n",
       "      <td>2.952003e-01</td>\n",
       "      <td>2345771</td>\n",
       "    </tr>\n",
       "    <tr>\n",
       "      <th>231496</th>\n",
       "      <td>3.415321e-01</td>\n",
       "      <td>2345772</td>\n",
       "    </tr>\n",
       "    <tr>\n",
       "      <th>231497</th>\n",
       "      <td>0.000000e+00</td>\n",
       "      <td>2345773</td>\n",
       "    </tr>\n",
       "    <tr>\n",
       "      <th>231498</th>\n",
       "      <td>3.710328e-04</td>\n",
       "      <td>2345774</td>\n",
       "    </tr>\n",
       "    <tr>\n",
       "      <th>231499</th>\n",
       "      <td>9.888127e-01</td>\n",
       "      <td>2345775</td>\n",
       "    </tr>\n",
       "    <tr>\n",
       "      <th>231500</th>\n",
       "      <td>2.010902e-01</td>\n",
       "      <td>2345776</td>\n",
       "    </tr>\n",
       "    <tr>\n",
       "      <th>231501</th>\n",
       "      <td>2.291456e-02</td>\n",
       "      <td>2345777</td>\n",
       "    </tr>\n",
       "    <tr>\n",
       "      <th>231502</th>\n",
       "      <td>1.173565e-01</td>\n",
       "      <td>2345778</td>\n",
       "    </tr>\n",
       "    <tr>\n",
       "      <th>231503</th>\n",
       "      <td>1.414608e-07</td>\n",
       "      <td>2345779</td>\n",
       "    </tr>\n",
       "    <tr>\n",
       "      <th>231504</th>\n",
       "      <td>2.616475e-08</td>\n",
       "      <td>2345780</td>\n",
       "    </tr>\n",
       "    <tr>\n",
       "      <th>231505</th>\n",
       "      <td>3.322066e-01</td>\n",
       "      <td>2345781</td>\n",
       "    </tr>\n",
       "    <tr>\n",
       "      <th>231506</th>\n",
       "      <td>7.309874e-01</td>\n",
       "      <td>2345782</td>\n",
       "    </tr>\n",
       "    <tr>\n",
       "      <th>231507</th>\n",
       "      <td>2.414426e-12</td>\n",
       "      <td>2345783</td>\n",
       "    </tr>\n",
       "    <tr>\n",
       "      <th>231508</th>\n",
       "      <td>8.032892e-01</td>\n",
       "      <td>2345784</td>\n",
       "    </tr>\n",
       "    <tr>\n",
       "      <th>231509</th>\n",
       "      <td>3.155902e-27</td>\n",
       "      <td>2345785</td>\n",
       "    </tr>\n",
       "    <tr>\n",
       "      <th>231510</th>\n",
       "      <td>8.204475e-02</td>\n",
       "      <td>2345786</td>\n",
       "    </tr>\n",
       "    <tr>\n",
       "      <th>231511</th>\n",
       "      <td>1.668973e-27</td>\n",
       "      <td>2345787</td>\n",
       "    </tr>\n",
       "    <tr>\n",
       "      <th>231512</th>\n",
       "      <td>4.830585e-01</td>\n",
       "      <td>2345788</td>\n",
       "    </tr>\n",
       "    <tr>\n",
       "      <th>231513</th>\n",
       "      <td>0.000000e+00</td>\n",
       "      <td>2345789</td>\n",
       "    </tr>\n",
       "    <tr>\n",
       "      <th>231514</th>\n",
       "      <td>5.277086e-26</td>\n",
       "      <td>2345790</td>\n",
       "    </tr>\n",
       "    <tr>\n",
       "      <th>231515</th>\n",
       "      <td>4.720046e-12</td>\n",
       "      <td>2345791</td>\n",
       "    </tr>\n",
       "    <tr>\n",
       "      <th>231516</th>\n",
       "      <td>5.628340e-06</td>\n",
       "      <td>2345792</td>\n",
       "    </tr>\n",
       "    <tr>\n",
       "      <th>231517</th>\n",
       "      <td>6.086553e-26</td>\n",
       "      <td>2345793</td>\n",
       "    </tr>\n",
       "    <tr>\n",
       "      <th>231518</th>\n",
       "      <td>9.847621e-01</td>\n",
       "      <td>2345794</td>\n",
       "    </tr>\n",
       "    <tr>\n",
       "      <th>231519</th>\n",
       "      <td>2.624388e-01</td>\n",
       "      <td>2345795</td>\n",
       "    </tr>\n",
       "  </tbody>\n",
       "</table>\n",
       "<p>2345796 rows × 2 columns</p>\n",
       "</div>"
      ],
      "text/plain": [
       "        is_duplicate  test_id\n",
       "0       1.432350e-01        0\n",
       "1       3.675404e-01        1\n",
       "2       9.247481e-01        2\n",
       "3       4.183708e-01        3\n",
       "4       2.857536e-01        4\n",
       "5       6.877857e-06        5\n",
       "6       6.637211e-01        6\n",
       "7       9.999967e-01        7\n",
       "8       3.748116e-01        8\n",
       "9       2.685608e-03        9\n",
       "10      5.881609e-01       10\n",
       "11      2.375993e-04       11\n",
       "12      0.000000e+00       12\n",
       "13      1.993506e-02       13\n",
       "14      4.884657e-03       14\n",
       "15      9.576338e-04       15\n",
       "16      2.183465e-10       16\n",
       "17      7.503989e-01       17\n",
       "18      9.659845e-01       18\n",
       "19      1.942571e-01       19\n",
       "20      1.153952e-04       20\n",
       "21      2.339058e-01       21\n",
       "22      2.952003e-01       22\n",
       "23      6.936296e-03       23\n",
       "24      5.623494e-08       24\n",
       "25      1.582098e-01       25\n",
       "26      1.169469e-06       26\n",
       "27      1.235856e-02       27\n",
       "28      3.028313e-02       28\n",
       "29      3.747144e-25       29\n",
       "...              ...      ...\n",
       "231490  0.000000e+00  2345766\n",
       "231491  5.964778e-02  2345767\n",
       "231492  9.999996e-01  2345768\n",
       "231493  0.000000e+00  2345769\n",
       "231494  6.164584e-01  2345770\n",
       "231495  2.952003e-01  2345771\n",
       "231496  3.415321e-01  2345772\n",
       "231497  0.000000e+00  2345773\n",
       "231498  3.710328e-04  2345774\n",
       "231499  9.888127e-01  2345775\n",
       "231500  2.010902e-01  2345776\n",
       "231501  2.291456e-02  2345777\n",
       "231502  1.173565e-01  2345778\n",
       "231503  1.414608e-07  2345779\n",
       "231504  2.616475e-08  2345780\n",
       "231505  3.322066e-01  2345781\n",
       "231506  7.309874e-01  2345782\n",
       "231507  2.414426e-12  2345783\n",
       "231508  8.032892e-01  2345784\n",
       "231509  3.155902e-27  2345785\n",
       "231510  8.204475e-02  2345786\n",
       "231511  1.668973e-27  2345787\n",
       "231512  4.830585e-01  2345788\n",
       "231513  0.000000e+00  2345789\n",
       "231514  5.277086e-26  2345790\n",
       "231515  4.720046e-12  2345791\n",
       "231516  5.628340e-06  2345792\n",
       "231517  6.086553e-26  2345793\n",
       "231518  9.847621e-01  2345794\n",
       "231519  2.624388e-01  2345795\n",
       "\n",
       "[2345796 rows x 2 columns]"
      ]
     },
     "execution_count": 103,
     "metadata": {},
     "output_type": "execute_result"
    }
   ],
   "source": [
    " res_pd"
   ]
  }
 ],
 "metadata": {
  "kernelspec": {
   "display_name": "Python 2",
   "language": "python",
   "name": "python2"
  },
  "language_info": {
   "codemirror_mode": {
    "name": "ipython",
    "version": 2
   },
   "file_extension": ".py",
   "mimetype": "text/x-python",
   "name": "python",
   "nbconvert_exporter": "python",
   "pygments_lexer": "ipython2",
   "version": "2.7.13"
  }
 },
 "nbformat": 4,
 "nbformat_minor": 2
}
