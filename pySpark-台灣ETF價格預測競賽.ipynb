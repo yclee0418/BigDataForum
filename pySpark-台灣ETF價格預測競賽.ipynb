{
 "cells": [
  {
   "cell_type": "markdown",
   "metadata": {},
   "source": [
    "Url: https://tbrain.trendmicro.com.tw/Competitions/Details/2"
   ]
  },
  {
   "cell_type": "code",
   "execution_count": 30,
   "metadata": {
    "collapsed": true
   },
   "outputs": [],
   "source": [
    "#import\n",
    "import numpy as np\n",
    "import pandas as pd\n",
    "import matplotlib.pyplot as plt\n",
    "from pyspark.sql import Row\n",
    "from pyspark.sql.functions import col, udf, lag, rank, lit\n",
    "from pyspark.sql.window import Window"
   ]
  },
  {
   "cell_type": "code",
   "execution_count": 31,
   "metadata": {
    "collapsed": true
   },
   "outputs": [],
   "source": [
    "global Path\n",
    "if sc.master[0:5]==\"local\":\n",
    "    Path = \"file:/c:/D Drive/work/bigData/pySpark/TBrain_Round2_DataSet_20180427\"\n",
    "    #Path = \"file:/Users/yungchuanlee/Documents/learn/AI競賽/ETF預測/TBrain_Round2_DataSet_20180427\"\n",
    "    #Path = \"file:/home/hduser/app/bigdata/competition/etf/TBrain_Round2_DataSet_20180427\"\n",
    "else:\n",
    "    Path = \"hdfs://master:9000/user/hduser\""
   ]
  },
  {
   "cell_type": "code",
   "execution_count": 32,
   "metadata": {},
   "outputs": [
    {
     "data": {
      "text/plain": [
       "'local[*]'"
      ]
     },
     "execution_count": 32,
     "metadata": {},
     "output_type": "execute_result"
    }
   ],
   "source": [
    "sc.master"
   ]
  },
  {
   "cell_type": "code",
   "execution_count": 33,
   "metadata": {},
   "outputs": [
    {
     "data": {
      "text/plain": [
       "29066.57"
      ]
     },
     "execution_count": 33,
     "metadata": {},
     "output_type": "execute_result"
    }
   ],
   "source": [
    "float(\"    46.57\")+float(\"     29,020\".replace(\",\",\"\"))"
   ]
  },
  {
   "cell_type": "code",
   "execution_count": 34,
   "metadata": {
    "collapsed": true
   },
   "outputs": [],
   "source": [
    "#define alias of columns\n",
    "col_alias_etf= {\"代碼\":\"etf_id\", \"日期\": \"etf_date\", \"中文簡稱\": \"etf_name\", \"開盤價(元)\":\"etf_open\", \n",
    "            \"最高價(元)\":\"etf_high\", \"最低價(元)\":\"etf_low\", \"收盤價(元)\":\"etf_close\", \"成交張數(張)\":\"etf_count\"}\n",
    "col_alias_stock= {\"代碼\":\"stock_id\", \"日期\": \"stock_date\", \"中文簡稱\": \"stock_name\", \"開盤價(元)\":\"stock_open\", \n",
    "            \"最高價(元)\":\"stock_high\", \"最低價(元)\":\"stock_low\", \"收盤價(元)\":\"stock_close\", \"成交張數(張)\":\"stock_count\"}"
   ]
  },
  {
   "cell_type": "code",
   "execution_count": 35,
   "metadata": {
    "collapsed": true
   },
   "outputs": [],
   "source": [
    "#udf\n",
    "def to_double(str_val):\n",
    "    return float(str_val.replace(\",\",\"\"))\n",
    "to_double=udf(to_double)"
   ]
  },
  {
   "cell_type": "code",
   "execution_count": 36,
   "metadata": {
    "collapsed": true
   },
   "outputs": [],
   "source": [
    "#def function to read data (因檔案格式都相同)\n",
    "def read_data(file_name, col_alias):\n",
    "    str_cols = [\"代碼\",\"日期\", \"中文簡稱\"]\n",
    "    raw_data = spark.read.option(\"encoding\", \"Big5\").csv(Path + \"/\" + file_name, header=True, sep=\",\")\n",
    "    print(\"Total \" + file_name + \" count: \" + str(raw_data.count()))\n",
    "    #rename cols and correct type \n",
    "    num_cols = [col_name for col_name in raw_data.columns if col_name not in str_cols]\n",
    "    final_data=raw_data.select( [col(str_col_name).alias(col_alias[str_col_name]) for str_col_name in str_cols] + \n",
    "                                  [to_double(col(num_col_name)).cast(\"double\").alias(col_alias[num_col_name]) for num_col_name in num_cols] )\n",
    "    final_data.printSchema()\n",
    "    final_data.show(5)\n",
    "    return final_data"
   ]
  },
  {
   "cell_type": "code",
   "execution_count": 37,
   "metadata": {},
   "outputs": [
    {
     "name": "stdout",
     "output_type": "stream",
     "text": [
      "starting import tetfp.csv(台灣18檔ETF股價資料)...\n",
      "Total tetfp.csv count: 6515\n",
      "root\n",
      " |-- etf_id: string (nullable = true)\n",
      " |-- etf_date: string (nullable = true)\n",
      " |-- etf_name: string (nullable = true)\n",
      " |-- etf_open: double (nullable = true)\n",
      " |-- etf_high: double (nullable = true)\n",
      " |-- etf_low: double (nullable = true)\n",
      " |-- etf_close: double (nullable = true)\n",
      " |-- etf_count: double (nullable = true)\n",
      "\n",
      "+-------+--------+----------------+--------+--------+-------+---------+---------+\n",
      "| etf_id|etf_date|        etf_name|etf_open|etf_high|etf_low|etf_close|etf_count|\n",
      "+-------+--------+----------------+--------+--------+-------+---------+---------+\n",
      "|0050   |20130102|元大台灣50          |    54.0|   54.65|   53.9|     54.4|  16487.0|\n",
      "|0050   |20130103|元大台灣50          |    54.9|   55.05|  54.65|    54.85|  29020.0|\n",
      "|0050   |20130104|元大台灣50          |   54.85|   54.85|   54.4|     54.5|   9837.0|\n",
      "|0050   |20130107|元大台灣50          |   54.55|   54.55|   53.9|    54.25|   8910.0|\n",
      "|0050   |20130108|元大台灣50          |    54.0|    54.2|  53.65|     53.9|  12507.0|\n",
      "+-------+--------+----------------+--------+--------+-------+---------+---------+\n",
      "only showing top 5 rows\n",
      "\n"
     ]
    }
   ],
   "source": [
    "print(\"starting import tetfp.csv(台灣18檔ETF股價資料)...\")\n",
    "tetfp_dt=read_data(\"tetfp.csv\", col_alias_etf)"
   ]
  },
  {
   "cell_type": "code",
   "execution_count": 38,
   "metadata": {},
   "outputs": [
    {
     "name": "stdout",
     "output_type": "stream",
     "text": [
      "+-------+--------------------+\n",
      "|summary|            etf_date|\n",
      "+-------+--------------------+\n",
      "|  count|                6515|\n",
      "|   mean|2.0152356018419035E7|\n",
      "| stddev|  15378.548560182882|\n",
      "|    min|            20130102|\n",
      "|    max|            20180427|\n",
      "+-------+--------------------+\n",
      "\n"
     ]
    }
   ],
   "source": [
    "#EDA\n",
    "#range of date\n",
    "tetfp_dt.describe('etf_date').show()"
   ]
  },
  {
   "cell_type": "code",
   "execution_count": 39,
   "metadata": {
    "collapsed": true
   },
   "outputs": [],
   "source": [
    "# print(\"starting import taetfp.csv(台灣18檔ETF調整後股價資料)...\")\n",
    "# taetfp_dt=read_data(\"taetfp.csv\", col_alias_etf)"
   ]
  },
  {
   "cell_type": "code",
   "execution_count": 40,
   "metadata": {
    "collapsed": true,
    "scrolled": true
   },
   "outputs": [],
   "source": [
    "# print(\"starting import tsharep.csv(台灣個股股價資料)...\")\n",
    "# tsharep_dt=read_data(\"tsharep.csv\", col_alias_stock)"
   ]
  },
  {
   "cell_type": "code",
   "execution_count": 41,
   "metadata": {
    "collapsed": true
   },
   "outputs": [],
   "source": [
    "# print(\"starting import tasharep.csv(台灣個股調整後股價資料)...\")\n",
    "# tasharep_dt=read_data(\"tasharep.csv\", col_alias_stock)"
   ]
  },
  {
   "cell_type": "code",
   "execution_count": 58,
   "metadata": {
    "collapsed": true
   },
   "outputs": [],
   "source": [
    "import sys\n",
    "from pyspark.sql.functions import lag, col, avg,collect_list, lit\n",
    "from pyspark.sql.window import Window\n",
    "from pyspark.sql.types import ArrayType, DoubleType, IntegerType\n",
    "#declare previous row windows\n",
    "wsSpec_etf = Window.partitionBy('etf_id').orderBy('etf_date') #time window for normal case\n",
    "wsSpec_etf_close_price_raw = Window.partitionBy('etf_id').orderBy('row_idx').rangeBetween(-sys.maxsize, -1)\n",
    "wsSpec_etf_dif_raw = Window.partitionBy('etf_id').orderBy('row_idx').rangeBetween(-sys.maxsize, 0)\n",
    "def avg_list(p_list):\n",
    "    #計算數字list的平均值\n",
    "    return sum(p_list)/len(p_list)\n",
    "#計算EMA的udf\n",
    "def calculate_ema_native(close_p_list, window_len):\n",
    "    #透過歷史收盤價計算\n",
    "    if len(close_p_list) < window_len:\n",
    "        return None\n",
    "    elif len(close_p_list) == window_len:\n",
    "        #if len of list = win_len then return avg, \n",
    "        return avg_list(close_p_list)\n",
    "    else:\n",
    "        #else EMA[t] =(EMA[t-1]*(win_len-1)+close[t]*2)/(win_len+1)\n",
    "        ema = avg_list(close_p_list[:window_len])\n",
    "        for price in close_p_list[window_len:]:\n",
    "            ema = (ema*(window_len-1)+price*2)/(window_len+1)\n",
    "        return ema\n",
    "calculate_ema=udf(calculate_ema_native, DoubleType())\n",
    "#計算BIAS的udf\n",
    "def calculate_bias(close_p_list):\n",
    "    #計算前日收盤價與N日均線之差比: (close price - MA)/MA   ,Paper 建議用20日MA\n",
    "    #因要預測今日的收盤價，故計算前日收盤價與前20日均線\n",
    "    if len(close_p_list) < 21:\n",
    "        return None\n",
    "    else:\n",
    "        list_len = len(close_p_list)\n",
    "        p_close = close_p_list[-1]\n",
    "        cal_list = close_p_list[list_len-21: list_len-1]\n",
    "        return p_close - avg_list(cal_list)\n",
    "calculate_bias=udf(calculate_bias, DoubleType())\n",
    "\n",
    "def get_min_max_last(p_list):\n",
    "    #找出list中最大最小和最後一個值, 回傳(min, max, last)\n",
    "    return (min(p_list), max(p_list), p_list[-1])\n",
    "def calculate_raw_rsv(p_list):\n",
    "    #RSV = (收盤價-9日低值)/(9日高值-9日低值)\n",
    "    p_min, p_max, p_last = get_min_max_last(p_list)\n",
    "    rsv = (p_last - p_min)/(p_max - p_min)\n",
    "    return rsv\n",
    "def calculate_rsv(p_9_list, k_prev, d_prev):\n",
    "    #計算加權後的RSV，p_9_list=>9日收盤價\n",
    "    rrsv = calculate_raw_rsv(p_9_list)\n",
    "    k_curr = (1/3)*rrsv + (2/3)*k_prev\n",
    "    d_curr = (1/3)*k_curr + (2/3)*d_prev\n",
    "    return [k_curr, d_curr]\n",
    "#計算隨機指標（Stochastic Oscillator，KD），原名%K&%D\n",
    "def calculate_KD(close_p_list):\n",
    "    win_len = 9 #看過去 9 日值\n",
    "    #RSV = (收盤價-9日低值)/(9日高值-9日低值)\n",
    "    #K_curr = 1/3*RSV + 2/3*K_prev\n",
    "    #D_curr = 1/3*K_curr + 2/3*D_prev\n",
    "    if len(close_p_list) < win_len:\n",
    "        return None\n",
    "    elif len(close_p_list) == win_len:\n",
    "        #無前日K, D時，以0.5帶入\n",
    "        return calculate_rsv(close_p_list, 0.5, 0.5)\n",
    "    else:\n",
    "        kds = calculate_rsv(close_p_list[0:9], 0.5, 0.5)\n",
    "        for idx in range(1, (len(close_p_list)+1-9)):\n",
    "            p_9_list = close_p_list[idx: idx+9]\n",
    "            kds = calculate_rsv(p_9_list, kds[0], kds[1])\n",
    "        return kds\n",
    "calculate_KD=udf(calculate_KD, ArrayType(DoubleType()))\n",
    "\n",
    "#計算差離值DIF = 12日EMA - 26日EMA\n",
    "def calculate_DIF_native(close_p_list):\n",
    "    if len(close_p_list) < 26:\n",
    "        return None\n",
    "    else:\n",
    "        ema12 = calculate_ema_native(close_p_list, 12)\n",
    "        ema26 = calculate_ema_native(close_p_list, 26)\n",
    "        return ema12 - ema26\n",
    "calculate_DIF=udf(calculate_DIF_native, DoubleType())\n",
    "\n",
    "#計算MACD=(前一日MACD × (9 - 1) + 今日DIF × 2) ÷ (9 + 1)\n",
    "def calculate_MACD(dif_list, dif_curr):\n",
    "    win_len = 9\n",
    "    if len(dif_list) < win_len:\n",
    "        return None\n",
    "    elif len(dif_list) == win_len:\n",
    "        #if len of list = win_len then return avg, \n",
    "        return avg_list(dif_list)\n",
    "    else:\n",
    "        #MACD=(前一日MACD × (9 - 1) + 今日DIF × 2) ÷ (9 + 1)\n",
    "        macd = avg_list(dif_list[:win_len])\n",
    "        for price in dif_list[win_len:]:\n",
    "            macd = (macd*(win_len-1)+dif_curr*2)/(win_len+1)\n",
    "        return macd\n",
    "calculate_MACD=udf(calculate_MACD, DoubleType())\n",
    "\n",
    "#計算相對強弱指數(RSI)\n",
    "def calculate_RSI(close_p_list):\n",
    "    win_len = 9\n",
    "    if len(close_p_list) < (win_len + 1):\n",
    "        return None\n",
    "    else:\n",
    "        cur_list = close_p_list[1:]\n",
    "        prv_list = close_p_list[0:-1]\n",
    "        p_dif_list = list(map(lambda x,y : x - y, cur_list, prv_list)) #dif list\n",
    "        u_list = []\n",
    "        d_list = []\n",
    "        for dif in p_dif_list:\n",
    "            if dif == 0:\n",
    "                #若兩天價格相同，則U及D皆等於零\n",
    "                u_list.append(0)\n",
    "                d_list.append(0)\n",
    "            elif dif > 0:\n",
    "                #在價格上升的日子, U = diff, D = 0\n",
    "                u_list.append(dif)\n",
    "                d_list.append(0)\n",
    "            else:\n",
    "                #在價格下跌的日子, U = 0, D = abs(diff)\n",
    "                u_list.append(0)\n",
    "                d_list.append(abs(dif))\n",
    "        #RSI = ema(u,9)/(ema(u,9)+ema(d,9))\n",
    "        ema_u = calculate_ema_native(u_list, win_len)\n",
    "        ema_d = calculate_ema_native(d_list, win_len)\n",
    "        return ema_u/(ema_u + ema_d)\n",
    "calculate_RSI=udf(calculate_RSI, DoubleType())\n",
    "\n",
    "#計算威廉指標（Williams %R）\n",
    "def calculate_WR(close_p_list):\n",
    "    win_len = 9\n",
    "    if len(close_p_list) < win_len:\n",
    "        return None\n",
    "    else:\n",
    "        p_list = close_p_list[len(close_p_list) - win_len :]\n",
    "        return 1.0 - calculate_raw_rsv(p_list)\n",
    "calculate_WR=udf(calculate_WR, DoubleType())\n"
   ]
  },
  {
   "cell_type": "code",
   "execution_count": 59,
   "metadata": {
    "scrolled": true
   },
   "outputs": [
    {
     "name": "stdout",
     "output_type": "stream",
     "text": [
      "root\n",
      " |-- etf_id: string (nullable = true)\n",
      " |-- etf_date: string (nullable = true)\n",
      " |-- etf_name: string (nullable = true)\n",
      " |-- etf_open: double (nullable = true)\n",
      " |-- etf_high: double (nullable = true)\n",
      " |-- etf_low: double (nullable = true)\n",
      " |-- etf_close: double (nullable = true)\n",
      " |-- etf_count: double (nullable = true)\n",
      " |-- row_idx: integer (nullable = true)\n",
      " |-- close_price_raw: array (nullable = true)\n",
      " |    |-- element: double (containsNull = true)\n",
      " |-- EMA5: double (nullable = true)\n",
      " |-- EMA10: double (nullable = true)\n",
      " |-- EMA20: double (nullable = true)\n",
      " |-- BIAS: double (nullable = true)\n",
      " |-- KD: array (nullable = true)\n",
      " |    |-- element: double (containsNull = true)\n",
      " |-- K: double (nullable = true)\n",
      " |-- D: double (nullable = true)\n",
      " |-- DIF: double (nullable = true)\n",
      " |-- dif_list: array (nullable = true)\n",
      " |    |-- element: double (containsNull = true)\n",
      " |-- MACD: double (nullable = true)\n",
      " |-- RSI: double (nullable = true)\n",
      " |-- WR: double (nullable = true)\n",
      "\n"
     ]
    }
   ],
   "source": [
    "#calculate ema [5,10,20] #cannot remove row_idx, row_idx for next window usage\n",
    "tetfp_dt2=tetfp_dt.withColumn(\"row_idx\", rank().over(wsSpec_etf)) \\\n",
    "    .withColumn(\"close_price_raw\", collect_list(col('etf_close')).over(wsSpec_etf_close_price_raw)) \\\n",
    "    .withColumn(\"EMA5\", calculate_ema(col(\"close_price_raw\"), lit(5))) \\\n",
    "    .withColumn(\"EMA10\", calculate_ema(col(\"close_price_raw\"), lit(10))) \\\n",
    "    .withColumn(\"EMA20\", calculate_ema(col(\"close_price_raw\"), lit(20))) \\\n",
    "    .withColumn(\"BIAS\", calculate_bias(col(\"close_price_raw\"))) \\\n",
    "    .withColumn(\"KD\", calculate_KD(col(\"close_price_raw\"))) \\\n",
    "    .withColumn(\"K\", col(\"KD\")[0]).withColumn(\"D\", col(\"KD\")[1]) \\\n",
    "    .withColumn(\"DIF\", calculate_DIF(col(\"close_price_raw\"))) \\\n",
    "    .withColumn(\"dif_list\", collect_list(col('DIF')).over(wsSpec_etf_dif_raw)) \\\n",
    "    .withColumn(\"MACD\", calculate_MACD(col(\"dif_list\"), col(\"DIF\"))) \\\n",
    "    .withColumn(\"RSI\", calculate_RSI(col(\"close_price_raw\")))\\\n",
    "    .withColumn(\"WR\", calculate_WR(col(\"close_price_raw\")))\n",
    "\n",
    "tetfp_dt2.cache()\n",
    "tetfp_dt2.printSchema()"
   ]
  },
  {
   "cell_type": "code",
   "execution_count": 44,
   "metadata": {
    "collapsed": true
   },
   "outputs": [],
   "source": [
    "# tetfp_dt2.filter(\"etf_id='0050   '\").select(\"row_idx\", \"etf_close\", \"MACD\", \"RSI\", \"WR\") \\\n",
    "#             .show(45)\n",
    "#          .toPandas().to_csv(Path.replace(\"file:\",\"\") + \"/taetfp_BIAS.csv\",index=False)"
   ]
  },
  {
   "cell_type": "code",
   "execution_count": 45,
   "metadata": {
    "collapsed": true
   },
   "outputs": [],
   "source": [
    "#匯出成pandas\n",
    "# etf_pd_50 = tetfp_dt2.filter(\"etf_id='0050   '\").select(\"row_idx\", \"etf_date\" ,\"etf_close\", \"EMA5\", \"EMA10\", \"EMA20\", \"BIAS\") \\\n",
    "#                 .toPandas()"
   ]
  },
  {
   "cell_type": "code",
   "execution_count": 46,
   "metadata": {
    "collapsed": true
   },
   "outputs": [],
   "source": [
    "#圖形化顯示\n",
    "#aetf_pd_50.set_index('etf_date') #set_index 後配合 loc select 出區段資料來看\n",
    "# etf_pd_50_part = etf_pd_50.loc[1200:]\n",
    "# etf_pd_50_part.etf_close.plot(x='row_idx', y='etf_close', style='b--', label=\"etf_close\")\n",
    "# etf_pd_50_part.EMA5.plot(x='row_idx', y='EMA5', label=\"EMA5\", style='r-')\n",
    "# etf_pd_50_part.EMA10.plot(x='row_idx', y='EMA10', label=\"EMA10\", style='g-')\n",
    "# etf_pd_50_part.EMA20.plot(x='row_idx', y='EMA20', label=\"EMA20\", style='y-')\n",
    "# plt.legend()\n",
    "# plt.show()"
   ]
  },
  {
   "cell_type": "code",
   "execution_count": 47,
   "metadata": {
    "collapsed": true
   },
   "outputs": [],
   "source": [
    "#計算各欄位與收盤價之相關性\n",
    "# corr_cols = ['EMA5','EMA10','EMA20','BIAS','K','D']\n",
    "# for col in corr_cols:\n",
    "#     print('corr between ', col , ' and etf_close: ', str(tetfp_dt2.corr(col, 'etf_close')))"
   ]
  },
  {
   "cell_type": "code",
   "execution_count": 60,
   "metadata": {
    "collapsed": true
   },
   "outputs": [],
   "source": [
    "from pyspark.ml.feature import MinMaxScaler, StandardScaler\n",
    "from pyspark.ml.linalg import Vectors\n",
    "tot_dt = tetfp_dt2.filter(\"MACD is not null\") \\\n",
    "    .select(\"etf_id\", \"etf_date\", \"row_idx\", \"EMA5\", \"EMA10\", \"EMA20\", \"BIAS\", \"K\", \"D\", \"DIF\", \"MACD\", \"RSI\", \"WR\", \"etf_close\") \\\n",
    "    .orderBy(\"etf_id\", \"etf_date\", ascending=True)\n",
    "    \n",
    "from pyspark.ml.linalg import Vectors\n",
    "from pyspark.ml.feature import VectorAssembler\n",
    "#將Feature合併為Vector 並作標準化\n",
    "assembler = VectorAssembler(\n",
    "    inputCols=[\"EMA5\", \"EMA10\", \"EMA20\", \"BIAS\", \"K\", \"D\", \"DIF\", \"MACD\", \"RSI\", \"WR\"],\n",
    "    outputCol=\"features\")\n",
    "tot_dt_1 = assembler.transform(tot_dt)\n",
    "#minmax_scaler = MinMaxScaler(inputCol=\"features\", outputCol=\"stdFeatures\")\n",
    "#scaler_model = minmax_scaler.fit(tot_dt_1)\n",
    "#std_scaler = StandardScaler(inputCol=\"features\", outputCol=\"stdFeatures\")\n",
    "#scaler_model = std_scaler.fit(tot_dt_1)\n",
    "#tot_dt_scale = scaler_model.transform(tot_dt_1)\n",
    "tot_dt_scale=tot_dt_1.withColumn(\"stdFeatures\", col(\"features\")) #測試不作標準化"
   ]
  },
  {
   "cell_type": "code",
   "execution_count": 61,
   "metadata": {},
   "outputs": [
    {
     "name": "stdout",
     "output_type": "stream",
     "text": [
      "train count:  6295 , test count:  50\n",
      "+-------+--------+-------+--------------------+---------+\n",
      "| etf_id|etf_date|row_idx|         stdFeatures|etf_close|\n",
      "+-------+--------+-------+--------------------+---------+\n",
      "|0050   |20130227|     35|[55.4823388864543...|     55.2|\n",
      "|0050   |20130301|     36|[55.3882259243028...|     55.4|\n",
      "|0050   |20130304|     37|[55.3921506162019...|    54.75|\n",
      "|0050   |20130305|     38|[55.1781004108012...|     55.2|\n",
      "|0050   |20130306|     39|[55.1854002738675...|    55.45|\n",
      "|0050   |20130307|     40|[55.2736001825783...|     55.4|\n",
      "|0050   |20130308|     41|[55.3157334550522...|     55.8|\n",
      "|0050   |20130311|     42|[55.4771556367014...|     55.9|\n",
      "|0050   |20130312|     43|[55.6181037578009...|    55.55|\n",
      "|0050   |20130313|     44|[55.5954025052006...|    55.65|\n",
      "+-------+--------+-------+--------------------+---------+\n",
      "only showing top 10 rows\n",
      "\n",
      "+-------+--------+-------+--------------------+---------+\n",
      "| etf_id|etf_date|row_idx|         stdFeatures|etf_close|\n",
      "+-------+--------+-------+--------------------+---------+\n",
      "|0050   |20180416|   1294|[82.4956392327525...|     82.3|\n",
      "|0050   |20180417|   1295|[82.4304261551683...|     81.4|\n",
      "|0050   |20180418|   1296|[82.0869507701122...|     81.6|\n",
      "|0050   |20180419|   1297|[81.9246338467414...|    82.65|\n",
      "|0050   |20180420|   1298|[82.1664225644943...|    80.75|\n",
      "|0050   |20180423|   1299|[81.6942817096628...|    79.95|\n",
      "|0050   |20180424|   1300|[81.1128544731086...|    79.55|\n",
      "|0050   |20180425|   1301|[80.5919029820724...|     79.3|\n",
      "|0050   |20180426|   1302|[80.1612686547149...|    79.05|\n",
      "|0050   |20180427|   1303|[79.7908457698099...|     79.2|\n",
      "+-------+--------+-------+--------------------+---------+\n",
      "only showing top 10 rows\n",
      "\n"
     ]
    }
   ],
   "source": [
    "predict_start_date = \"20180416\"\n",
    "#取出4/16~4/27 (共兩週資料作為測試集)\n",
    "train_dt = tot_dt_scale.filter(\"etf_date < '\" + predict_start_date + \"' and MACD is not null\") \\\n",
    "    .select(\"etf_id\", \"etf_date\", \"row_idx\", \"stdFeatures\", \"etf_close\") \\\n",
    "    .orderBy(\"etf_id\", \"etf_date\", ascending=True)\n",
    "test_dt = tot_dt_scale.filter(\"etf_date >= '\" + predict_start_date + \"'\") \\\n",
    "    .select(\"etf_id\", \"etf_date\", \"row_idx\", \"stdFeatures\", \"etf_close\") \\\n",
    "    .orderBy(\"etf_id\", \"etf_date\", ascending=True)\n",
    "print('train count: ', str(train_dt.count()), ', test count: ', str(test_dt.count()))\n",
    "train_dt.show(10)\n",
    "test_dt.show(10)"
   ]
  },
  {
   "cell_type": "code",
   "execution_count": 70,
   "metadata": {},
   "outputs": [],
   "source": [
    "#test_dt.show(20, False)"
   ]
  },
  {
   "cell_type": "code",
   "execution_count": 62,
   "metadata": {},
   "outputs": [
    {
     "data": {
      "text/plain": [
       "DataFrame[etf_id: string, etf_date: string, row_idx: int, stdFeatures: vector, etf_close: double]"
      ]
     },
     "execution_count": 62,
     "metadata": {},
     "output_type": "execute_result"
    }
   ],
   "source": [
    "train_dt.cache()\n",
    "test_dt.cache()"
   ]
  },
  {
   "cell_type": "code",
   "execution_count": 51,
   "metadata": {},
   "outputs": [
    {
     "data": {
      "text/plain": [
       "['0051   ', '0052   ', '0050   ', '0054   ', '0053   ']"
      ]
     },
     "execution_count": 51,
     "metadata": {},
     "output_type": "execute_result"
    }
   ],
   "source": [
    "#取出etf的distinct id\n",
    "etf_ids = []\n",
    "for row in test_dt.select(\"etf_id\").distinct().collect():\n",
    "    etf_ids.append(row[\"etf_id\"])\n",
    "etf_ids"
   ]
  },
  {
   "cell_type": "code",
   "execution_count": 53,
   "metadata": {},
   "outputs": [
    {
     "name": "stdout",
     "output_type": "stream",
     "text": [
      "+-------+--------+-------+--------------------+---------+------------------+\n",
      "| etf_id|etf_date|row_idx|         stdFeatures|etf_close|        prediction|\n",
      "+-------+--------+-------+--------------------+---------+------------------+\n",
      "|0051   |20180416|   1294|[32.6843289933820...|    33.18| 32.24945607851691|\n",
      "|0051   |20180417|   1295|[32.7662193289213...|     33.0| 32.24945607851691|\n",
      "|0051   |20180418|   1296|[32.9041462192809...|    32.75| 32.24945607851691|\n",
      "|0051   |20180419|   1297|[32.9360974795206...|    33.15| 32.24945607851691|\n",
      "|0051   |20180420|   1298|[32.8740649863470...|    33.02|32.226998487640216|\n",
      "|0051   |20180423|   1299|[32.9660433242313...|     33.0| 32.24945607851691|\n",
      "|0051   |20180424|   1300|[32.9840288828209...|    32.44| 32.24945607851691|\n",
      "|0051   |20180425|   1301|[32.9893525885472...|    32.02| 32.24945607851691|\n",
      "|0051   |20180426|   1302|[32.8062350590315...|    31.71|31.815579727771798|\n",
      "|0051   |20180427|   1303|[32.5441567060210...|    32.11|31.449278786931778|\n",
      "+-------+--------+-------+--------------------+---------+------------------+\n",
      "only showing top 10 rows\n",
      "\n",
      "root\n",
      " |-- etf_id: string (nullable = true)\n",
      " |-- etf_date: string (nullable = true)\n",
      " |-- row_idx: integer (nullable = true)\n",
      " |-- stdFeatures: vector (nullable = true)\n",
      " |-- etf_close: double (nullable = true)\n",
      " |-- prediction: double (nullable = true)\n",
      " |-- prev_close: double (nullable = true)\n",
      " |-- prev_pred_close: double (nullable = true)\n",
      " |-- act_ud: double (nullable = true)\n",
      " |-- pred_ud: double (nullable = true)\n",
      "\n",
      "Root Mean Squared Error (RMSE) on test data = 1.06425\n",
      "accuracy = 0.42 \n"
     ]
    }
   ],
   "source": [
    "#訓練Model及評估(RandomForestRegressor - etf_id wise) \n",
    "#-- accuracy:0.48, (RMSE) on test data = 0.938023 --> using stdScaler\n",
    "#-- accuracy:0.48, (RMSE) on test data = 0.87064 --> no Scaler\n",
    "#-- accuracy:0.56, (RMSE) on test data = 0.92546 --> use minmaxScaler\n",
    "#-- accuracy:0.513812 , (RMSE) on test data = 0.597397 --> use minmaxScaler and no Scaler(full data)\n",
    "from pyspark.ml.regression import RandomForestRegressor\n",
    "\n",
    "rf = RandomForestRegressor(featuresCol=\"stdFeatures\",labelCol=\"etf_close\")\n",
    "#記下對應etf_id的所有model\n",
    "model_map = {}\n",
    "for etfid in etf_ids:\n",
    "    train_data = train_dt.filter(\"etf_id='\" + etfid + \"'\")\n",
    "    rf_model = rf.fit(train_data)\n",
    "    model_map.update({etfid: rf_model})"
   ]
  },
  {
   "cell_type": "code",
   "execution_count": 63,
   "metadata": {},
   "outputs": [
    {
     "name": "stdout",
     "output_type": "stream",
     "text": [
      "+-------+--------+-------+---------+--------------------+--------------------+\n",
      "| etf_id|etf_date|row_idx|etf_close|     close_price_raw|            dif_list|\n",
      "+-------+--------+-------+---------+--------------------+--------------------+\n",
      "|0050   |20180413| 1293.0|     82.5|[54.4, 54.85, 54....|[0.35882671868262...|\n",
      "|0051   |20180413| 1293.0|    32.93|[26.09, 26.12, 26...|[0.23810818793990...|\n",
      "|0052   |20180413| 1293.0|    57.05|[32.72, 32.12, 32...|[0.30196772810150...|\n",
      "|0053   |20180413| 1293.0|    36.46|[23.26, 23.11, 22...|[0.15597485321855...|\n",
      "|0054   |20180413| 1293.0|    24.05|[19.4, 19.37, 19....|[0.09327655672724...|\n",
      "+-------+--------+-------+---------+--------------------+--------------------+\n",
      "\n"
     ]
    }
   ],
   "source": [
    "#find last records of all etf to be the base of next record\n",
    "tetf_dt_prod = tetfp_dt2.filter(\"etf_date < '\" + predict_start_date + \"' and MACD is not null\")\n",
    "tetf_max_idx = tetf_dt_prod.groupBy(\"etf_id\").max(\"row_idx\")\n",
    "tetf_max = tetf_max_idx.select(col(\"etf_id\"), col(\"max(row_idx)\").cast(\"Double\").alias(\"row_idx\")) \\\n",
    "    .join(tetf_dt_prod, [\"etf_id\", \"row_idx\"], \"inner\") \\\n",
    "    .select(\"etf_id\", \"etf_date\", \"row_idx\", \"etf_close\", \"close_price_raw\", \"dif_list\") \\\n",
    "    .orderBy('etf_id')\n",
    "\n",
    "tetf_max.show()"
   ]
  },
  {
   "cell_type": "code",
   "execution_count": 75,
   "metadata": {
    "collapsed": true
   },
   "outputs": [],
   "source": [
    "#建立產生feature之方法\n",
    "def create_feature(orig_dt):\n",
    "    new_dt = orig_dt.withColumn(\"EMA5\", calculate_ema(col(\"close_price_raw\"), lit(5))) \\\n",
    "    .withColumn(\"EMA10\", calculate_ema(col(\"close_price_raw\"), lit(10))) \\\n",
    "    .withColumn(\"EMA20\", calculate_ema(col(\"close_price_raw\"), lit(20))) \\\n",
    "    .withColumn(\"BIAS\", calculate_bias(col(\"close_price_raw\"))) \\\n",
    "    .withColumn(\"KD\", calculate_KD(col(\"close_price_raw\"))) \\\n",
    "    .withColumn(\"K\", col(\"KD\")[0]).withColumn(\"D\", col(\"KD\")[1]) \\\n",
    "    .withColumn(\"MACD\", calculate_MACD(col(\"dif_list\"), col(\"DIF\"))) \\\n",
    "    .withColumn(\"RSI\", calculate_RSI(col(\"close_price_raw\")))\\\n",
    "    .withColumn(\"WR\", calculate_WR(col(\"close_price_raw\")))\n",
    "    return new_dt\n",
    "#計算上或下的值(udf)\n",
    "def judge_up_down_pred(curr_price, close_price_list):\n",
    "    if len(close_price_list) == 0:\n",
    "        return 0.0\n",
    "    else:\n",
    "        prev_price = close_price_list[-1]\n",
    "        if curr_price == prev_price:\n",
    "            return 0.0\n",
    "        elif curr_price > prev_price:\n",
    "            return 1.0\n",
    "        else:\n",
    "            return 2.0\n",
    "judge_up_down_pred=udf(judge_up_down_pred, DoubleType())\n",
    "#建立預測方法\n",
    "def doPredict(test_dt, etf_ids):\n",
    "    predict_res = None\n",
    "    for etfid in etf_ids:\n",
    "        test_data = test_dt.filter(\"etf_id='\" + etfid + \"'\")\n",
    "        predicts = rf_model.transform(test_data)\n",
    "        if predit_res is None:\n",
    "            predict_res = predicts\n",
    "        else:\n",
    "            predict_res = predict_res.unionAll(predicts)\n",
    "    predict_res2 = predict_res.withColumn(\"pred_ud\", judge_up_down_pred(col(\"prediction\"), col(\"close_price_raw\")))\n",
    "    return predict_res2"
   ]
  },
  {
   "cell_type": "code",
   "execution_count": 67,
   "metadata": {},
   "outputs": [
    {
     "name": "stdout",
     "output_type": "stream",
     "text": [
      "+-------+--------+-------------------------------------------------------------------------------------------------------------------------------------------------------------------------------------------------------+\n",
      "|etf_id |etf_date|stdFeatures                                                                                                                                                                                            |\n",
      "+-------+--------+-------------------------------------------------------------------------------------------------------------------------------------------------------------------------------------------------------+\n",
      "|0050   |20180416|[82.49563923275254,82.52734466707139,82.65634271500949,-0.45750000000001023,0.6196912499291656,0.4956054240339315,-0.15941862125276884,-0.1594186212527688,0.4954857100553611,0.3103448275862083]      |\n",
      "|0051   |20180416|[32.76621932892135,32.61926812301739,32.42137407358534,0.5124999999999957,0.9336195439888764,0.8580984530360024,0.24305111436040505,0.24305111436040513,0.7666338113047717,0.0]                        |\n",
      "|0052   |20180416|[56.93788540729644,56.908170392372796,56.93884021566042,-0.015000000000000568,0.6097466138263352,0.5581533955268599,-0.026522558793665496,-0.026522558793665486,0.5437963198756808,0.31578947368421406]|\n",
      "|0053   |20180416|[36.385115491080334,36.41419483689992,36.46330074893714,-0.18249999999999744,0.5359698712432028,0.4482480099050133,-0.03363234712935537,-0.03363234712935535,0.5260079617362623,0.3030303030302981]    |\n",
      "|0054   |20180416|[23.93572812649541,23.93447174551968,23.967302916085558,0.016500000000004178,0.6473905916024644,0.450906084094049,-0.036211799567126945,-0.03621179956712693,0.6139776241940419,0.0]                   |\n",
      "+-------+--------+-------------------------------------------------------------------------------------------------------------------------------------------------------------------------------------------------------+\n",
      "\n",
      "+-------+--------+-------------------------------------------------------------------------------------------------------------------------------------------------------------------------------------------------------+\n",
      "|etf_id |etf_date|stdFeatures                                                                                                                                                                                            |\n",
      "+-------+--------+-------------------------------------------------------------------------------------------------------------------------------------------------------------------------------------------------------+\n",
      "|0050   |20180417|[82.49563923275254,82.52734466707139,82.65634271500949,-0.45750000000001023,0.6196912499291656,0.4956054240339315,-0.15941862125276884,-0.1594186212527688,0.4954857100553611,0.3103448275862083]      |\n",
      "|0051   |20180417|[32.76621932892135,32.61926812301739,32.42137407358534,0.5124999999999957,0.9336195439888764,0.8580984530360024,0.24305111436040505,0.24305111436040513,0.7666338113047717,0.0]                        |\n",
      "|0052   |20180417|[56.93788540729644,56.908170392372796,56.93884021566042,-0.015000000000000568,0.6097466138263352,0.5581533955268599,-0.026522558793665496,-0.026522558793665486,0.5437963198756808,0.31578947368421406]|\n",
      "|0053   |20180417|[36.385115491080334,36.41419483689992,36.46330074893714,-0.18249999999999744,0.5359698712432028,0.4482480099050133,-0.03363234712935537,-0.03363234712935535,0.5260079617362623,0.3030303030302981]    |\n",
      "|0054   |20180417|[23.93572812649541,23.93447174551968,23.967302916085558,0.016500000000004178,0.6473905916024644,0.450906084094049,-0.036211799567126945,-0.03621179956712693,0.6139776241940419,0.0]                   |\n",
      "+-------+--------+-------------------------------------------------------------------------------------------------------------------------------------------------------------------------------------------------------+\n",
      "\n",
      "+-------+--------+-------------------------------------------------------------------------------------------------------------------------------------------------------------------------------------------------------+\n",
      "|etf_id |etf_date|stdFeatures                                                                                                                                                                                            |\n",
      "+-------+--------+-------------------------------------------------------------------------------------------------------------------------------------------------------------------------------------------------------+\n",
      "|0050   |20180418|[82.49563923275254,82.52734466707139,82.65634271500949,-0.45750000000001023,0.6196912499291656,0.4956054240339315,-0.15941862125276884,-0.1594186212527688,0.4954857100553611,0.3103448275862083]      |\n",
      "|0051   |20180418|[32.76621932892135,32.61926812301739,32.42137407358534,0.5124999999999957,0.9336195439888764,0.8580984530360024,0.24305111436040505,0.24305111436040513,0.7666338113047717,0.0]                        |\n",
      "|0052   |20180418|[56.93788540729644,56.908170392372796,56.93884021566042,-0.015000000000000568,0.6097466138263352,0.5581533955268599,-0.026522558793665496,-0.026522558793665486,0.5437963198756808,0.31578947368421406]|\n",
      "|0053   |20180418|[36.385115491080334,36.41419483689992,36.46330074893714,-0.18249999999999744,0.5359698712432028,0.4482480099050133,-0.03363234712935537,-0.03363234712935535,0.5260079617362623,0.3030303030302981]    |\n",
      "|0054   |20180418|[23.93572812649541,23.93447174551968,23.967302916085558,0.016500000000004178,0.6473905916024644,0.450906084094049,-0.036211799567126945,-0.03621179956712693,0.6139776241940419,0.0]                   |\n",
      "+-------+--------+-------------------------------------------------------------------------------------------------------------------------------------------------------------------------------------------------------+\n",
      "\n",
      "+-------+--------+-------------------------------------------------------------------------------------------------------------------------------------------------------------------------------------------------------+\n",
      "|etf_id |etf_date|stdFeatures                                                                                                                                                                                            |\n",
      "+-------+--------+-------------------------------------------------------------------------------------------------------------------------------------------------------------------------------------------------------+\n",
      "|0050   |20180419|[82.49563923275254,82.52734466707139,82.65634271500949,-0.45750000000001023,0.6196912499291656,0.4956054240339315,-0.15941862125276884,-0.1594186212527688,0.4954857100553611,0.3103448275862083]      |\n",
      "|0051   |20180419|[32.76621932892135,32.61926812301739,32.42137407358534,0.5124999999999957,0.9336195439888764,0.8580984530360024,0.24305111436040505,0.24305111436040513,0.7666338113047717,0.0]                        |\n",
      "|0052   |20180419|[56.93788540729644,56.908170392372796,56.93884021566042,-0.015000000000000568,0.6097466138263352,0.5581533955268599,-0.026522558793665496,-0.026522558793665486,0.5437963198756808,0.31578947368421406]|\n",
      "|0053   |20180419|[36.385115491080334,36.41419483689992,36.46330074893714,-0.18249999999999744,0.5359698712432028,0.4482480099050133,-0.03363234712935537,-0.03363234712935535,0.5260079617362623,0.3030303030302981]    |\n",
      "|0054   |20180419|[23.93572812649541,23.93447174551968,23.967302916085558,0.016500000000004178,0.6473905916024644,0.450906084094049,-0.036211799567126945,-0.03621179956712693,0.6139776241940419,0.0]                   |\n",
      "+-------+--------+-------------------------------------------------------------------------------------------------------------------------------------------------------------------------------------------------------+\n",
      "\n",
      "+-------+--------+-------------------------------------------------------------------------------------------------------------------------------------------------------------------------------------------------------+\n",
      "|etf_id |etf_date|stdFeatures                                                                                                                                                                                            |\n",
      "+-------+--------+-------------------------------------------------------------------------------------------------------------------------------------------------------------------------------------------------------+\n",
      "|0050   |20180420|[82.49563923275254,82.52734466707139,82.65634271500949,-0.45750000000001023,0.6196912499291656,0.4956054240339315,-0.15941862125276884,-0.1594186212527688,0.4954857100553611,0.3103448275862083]      |\n",
      "|0051   |20180420|[32.76621932892135,32.61926812301739,32.42137407358534,0.5124999999999957,0.9336195439888764,0.8580984530360024,0.24305111436040505,0.24305111436040513,0.7666338113047717,0.0]                        |\n",
      "|0052   |20180420|[56.93788540729644,56.908170392372796,56.93884021566042,-0.015000000000000568,0.6097466138263352,0.5581533955268599,-0.026522558793665496,-0.026522558793665486,0.5437963198756808,0.31578947368421406]|\n",
      "|0053   |20180420|[36.385115491080334,36.41419483689992,36.46330074893714,-0.18249999999999744,0.5359698712432028,0.4482480099050133,-0.03363234712935537,-0.03363234712935535,0.5260079617362623,0.3030303030302981]    |\n",
      "|0054   |20180420|[23.93572812649541,23.93447174551968,23.967302916085558,0.016500000000004178,0.6473905916024644,0.450906084094049,-0.036211799567126945,-0.03621179956712693,0.6139776241940419,0.0]                   |\n",
      "+-------+--------+-------------------------------------------------------------------------------------------------------------------------------------------------------------------------------------------------------+\n",
      "\n"
     ]
    }
   ],
   "source": [
    "schema = tetfp_dt2.select(\"etf_id\", \"etf_date\", col(\"row_idx\").cast(\"Double\"), \"close_price_raw\", \"DIF\", \"dif_list\").schema\n",
    "next_date_range = [\"20180416\", \"20180417\", \"20180418\",\"20180419\", \"20180420\"]\n",
    "idx_plus = 0.0\n",
    "predict_res_final = None\n",
    "for date in next_date_range:\n",
    "    next_rows = []\n",
    "    idx_plus = idx_plus +1\n",
    "    for row in tetf_max.collect():\n",
    "        close_price_raw = row[\"close_price_raw\"]\n",
    "        close_price_raw.append(row[\"etf_close\"])\n",
    "        dif_list = row[\"dif_list\"]\n",
    "        dif = calculate_DIF_native(close_price_raw)\n",
    "        dif_list.append(dif)\n",
    "        next_row = (row[\"etf_id\"], date, row[\"row_idx\"]+idx_plus, close_price_raw, dif ,dif_list)\n",
    "        next_rows.append(next_row)\n",
    "    orig_dt = spark.createDataFrame(next_rows, schema)\n",
    "    new_dt = create_feature(orig_dt) #加入預測用的feature\n",
    "    feature_dt = assembler.transform(new_dt).withColumn(\"stdFeatures\", col(\"features\")) #作出 FeatureVector\n",
    "    #feature_dt.select(\"etf_id\", \"etf_date\", \"stdFeatures\").show(10, False)\n",
    "    #do predict using existed model\n",
    "    pred_res = doPredict(feature_dt, etf_ids)\n",
    "    #取出所有預測結果作合併，以進行後續成績計算\n",
    "    merged_dt = predit_res.select(\"etf_id\", \"etf_date\", \"prediction\", \"pred_ud\")\n",
    "    if predict_res_final is None:\n",
    "        predict_res_final = merged_dt\n",
    "    else:\n",
    "        predict_res_final = predict_res_final.unionAll(merged_dt)\n",
    "    tetf_max = pred_res.select(\"etf_id\", \"etf_date\", \"row_idx\", col(\"prediction\").alias(\"etf_close\"), \"close_price_raw\")\n",
    "    \n",
    "predict_res_final.show()"
   ]
  },
  {
   "cell_type": "code",
   "execution_count": null,
   "metadata": {
    "collapsed": true
   },
   "outputs": [],
   "source": [
    "#評估Model的RMES\n",
    "from pyspark.ml.evaluation import RegressionEvaluator, MulticlassClassificationEvaluator\n",
    "tetf_dt_eval = tetfp_dt2.filter(\"etf_date >= '\" + predict_start_date + \"'\") \\\n",
    "    .select(\"etf_id\", \"etf_date\", \"etf_close\", \"close_price_raw\")\n",
    "eval_dt = predict_res_final.join(tetf_dt_eval, [\"etf_id\", \"etf_date\"], \"inner\") \\\n",
    "    .withColumn(\"act_ud\", judge_up_down_pred(col(\"etf_close\"), col(\"close_price_raw\")))\n",
    "eval_dt.show(20)\n",
    "\n",
    "evaluator = RegressionEvaluator(\n",
    "    labelCol=\"etf_close\", predictionCol=\"prediction\", metricName=\"rmse\")\n",
    "rmse = evaluator.evaluate(eval_dt)\n",
    "print(\"Root Mean Squared Error (RMSE) on test data = %g\" % rmse)\n",
    "evaluator = MulticlassClassificationEvaluator(\n",
    "    labelCol=\"act_ud\", predictionCol=\"pred_ud\", metricName=\"accuracy\")\n",
    "accuracy = evaluator.evaluate(eval_dt)\n",
    "print(\"accuracy = %g \" % accuracy)"
   ]
  },
  {
   "cell_type": "code",
   "execution_count": 74,
   "metadata": {},
   "outputs": [
    {
     "name": "stdout",
     "output_type": "stream",
     "text": [
      "46.92\n",
      "[46.92, 47.31, 47.0, 46.79, 46.49]\n",
      "[0.39000000000000057, -0.3100000000000023, -0.21000000000000085, -0.29999999999999716, 0.1699999999999946]\n",
      "46.66\n",
      "46.902\n",
      "1   2\n",
      "3   4\n",
      "VectorAssembler_49459e3f7e68da02f84b\n"
     ]
    }
   ],
   "source": [
    "#ll = [46.92, 47.31, 47.0, 46.79, 46.49, 46.66, 47.0, 46.96, 47.0]\n",
    "ll = [46.92, 47.31, 47.0, 46.79, 46.49, 46.66]\n",
    "win_len=5\n",
    "print(ll[0])\n",
    "print(ll[0: -1])\n",
    "print(list(map(lambda x,y : x - y, ll[1:], ll[0: -1])))\n",
    "for x in ll[win_len:]:\n",
    "    print(x)\n",
    "ema = sum(ll[:win_len])/len(ll[:win_len])\n",
    "print(ema)\n",
    "for price in ll[win_len:]:\n",
    "    ema = (ema*(win_len-1)+price*2)/(win_len+1)\n",
    "tup1, tup2 = (1,2)\n",
    "print(tup1, ' ', tup2)\n",
    "tup = (3,4)\n",
    "print(tup[0], ' ', tup[1])\n",
    "list(range(0,2))\n",
    "test_dic = {}\n",
    "test_dic.update({\"0051\": assembler})\n",
    "print(test_dic['0051'])"
   ]
  }
 ],
 "metadata": {
  "kernelspec": {
   "display_name": "Python 3",
   "language": "python",
   "name": "python3"
  },
  "language_info": {
   "codemirror_mode": {
    "name": "ipython",
    "version": 3
   },
   "file_extension": ".py",
   "mimetype": "text/x-python",
   "name": "python",
   "nbconvert_exporter": "python",
   "pygments_lexer": "ipython3",
   "version": "3.6.3"
  }
 },
 "nbformat": 4,
 "nbformat_minor": 2
}
