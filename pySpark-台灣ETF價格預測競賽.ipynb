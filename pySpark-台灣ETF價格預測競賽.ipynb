{
 "cells": [
  {
   "cell_type": "markdown",
   "metadata": {},
   "source": [
    "Url: https://tbrain.trendmicro.com.tw/Competitions/Details/2"
   ]
  },
  {
   "cell_type": "code",
   "execution_count": 301,
   "metadata": {},
   "outputs": [],
   "source": [
    "#import\n",
    "import numpy as np\n",
    "import pandas as pd\n",
    "import matplotlib.pyplot as plt\n",
    "from pyspark.sql import Row\n",
    "from pyspark.sql.functions import col, udf, lag, rank, lit\n",
    "from pyspark.sql.window import Window"
   ]
  },
  {
   "cell_type": "code",
   "execution_count": 302,
   "metadata": {},
   "outputs": [],
   "source": [
    "global Path\n",
    "global DoEval #是否進行模型評估\n",
    "\n",
    "DoEval = True\n",
    "next_date_range = [\"20180514\", \"20180515\", \"20180516\", \"20180517\", \"20180518\"] #設定預測區間\n",
    "ignore_dates = [\"\"]#設定排除日(如端午節)\n",
    "#next_date_range = [\"20180507\", \"20180508\", \"20180509\", \"20180510\", \"20180511\"] #設定預測區間\n",
    "#ignore_dates = [\"\"]#設定排除日(如端午節)\n",
    "#next_date_range = [\"20180430\", \"20180501\", \"20180502\", \"20180503\", \"20180504\"] #設定預測區間\n",
    "#ignore_dates = [\"20180501\"]#設定排除日(如端午節)\n",
    "predict_start_date = next_date_range[0]\n",
    "\n",
    "if sc.master[0:5]==\"local\":\n",
    "    #Path = \"file:/c:/D Drive/work/bigData/pySpark/TBrain_Round2_DataSet_20180511\"\n",
    "    #Path = \"file:/Users/yungchuanlee/Documents/learn/AI競賽/ETF預測/TBrain_Round2_DataSet_20180518\"\n",
    "    Path = \"file:/home/hduser/app/bigdata/competition/etf/TBrain_Round2_DataSet_20180518\"\n",
    "else:\n",
    "    Path = \"hdfs://master:9000/user/hduser\"\n",
    "Path = \"file:/home/hduser/app/bigdata/competition/etf/TBrain_Round2_DataSet_20180518\""
   ]
  },
  {
   "cell_type": "code",
   "execution_count": 303,
   "metadata": {},
   "outputs": [
    {
     "data": {
      "text/plain": [
       "'local[*]'"
      ]
     },
     "execution_count": 303,
     "metadata": {},
     "output_type": "execute_result"
    }
   ],
   "source": [
    "sc.master"
   ]
  },
  {
   "cell_type": "code",
   "execution_count": 304,
   "metadata": {},
   "outputs": [],
   "source": [
    "#define alias of columns\n",
    "col_alias_etf= {\"代碼\":\"etf_id\", \"日期\": \"etf_date\", \"中文簡稱\": \"etf_name\", \"開盤價(元)\":\"etf_open\", \n",
    "            \"最高價(元)\":\"etf_high\", \"最低價(元)\":\"etf_low\", \"收盤價(元)\":\"etf_close\", \"成交張數(張)\":\"etf_count\"}\n",
    "col_alias_stock= {\"代碼\":\"stock_id\", \"日期\": \"stock_date\", \"中文簡稱\": \"stock_name\", \"開盤價(元)\":\"stock_open\", \n",
    "            \"最高價(元)\":\"stock_high\", \"最低價(元)\":\"stock_low\", \"收盤價(元)\":\"stock_close\", \"成交張數(張)\":\"stock_count\"}"
   ]
  },
  {
   "cell_type": "code",
   "execution_count": 305,
   "metadata": {},
   "outputs": [],
   "source": [
    "#udf\n",
    "def to_double(str_val):\n",
    "    return float(str_val.replace(\",\",\"\"))\n",
    "to_double=udf(to_double)"
   ]
  },
  {
   "cell_type": "code",
   "execution_count": 306,
   "metadata": {},
   "outputs": [],
   "source": [
    "#def function to read data (因檔案格式都相同)\n",
    "def read_data(file_name, col_alias):\n",
    "    str_cols = [\"代碼\",\"日期\", \"中文簡稱\"]\n",
    "    raw_data = spark.read.option(\"encoding\", \"Big5\").csv(Path + \"/\" + file_name, header=True, sep=\",\")\n",
    "    print(\"Total \" + file_name + \" count: \" + str(raw_data.count()))\n",
    "    #rename cols and correct type \n",
    "    num_cols = [col_name for col_name in raw_data.columns if col_name not in str_cols]\n",
    "    final_data=raw_data.select( [col(str_col_name).alias(col_alias[str_col_name]) for str_col_name in str_cols] + \n",
    "                                  [to_double(col(num_col_name)).cast(\"double\").alias(col_alias[num_col_name]) for num_col_name in num_cols] )\n",
    "    final_data.printSchema()\n",
    "    final_data.show(5)\n",
    "    return final_data"
   ]
  },
  {
   "cell_type": "code",
   "execution_count": 307,
   "metadata": {},
   "outputs": [
    {
     "name": "stdout",
     "output_type": "stream",
     "text": [
      "starting import tetfp.csv(台灣18檔ETF股價資料)...\n",
      "Total tetfp2.csv count: 19216\n",
      "root\n",
      " |-- etf_id: string (nullable = true)\n",
      " |-- etf_date: string (nullable = true)\n",
      " |-- etf_name: string (nullable = true)\n",
      " |-- etf_open: double (nullable = true)\n",
      " |-- etf_high: double (nullable = true)\n",
      " |-- etf_low: double (nullable = true)\n",
      " |-- etf_close: double (nullable = true)\n",
      " |-- etf_count: double (nullable = true)\n",
      "\n",
      "+-------+--------+----------------+--------+--------+-------+---------+---------+\n",
      "| etf_id|etf_date|        etf_name|etf_open|etf_high|etf_low|etf_close|etf_count|\n",
      "+-------+--------+----------------+--------+--------+-------+---------+---------+\n",
      "|0050   |20130102|元大台灣50          |    54.0|   54.65|   53.9|     54.4|  16487.0|\n",
      "|0050   |20130103|元大台灣50          |    54.9|   55.05|  54.65|    54.85|  29020.0|\n",
      "|0050   |20130104|元大台灣50          |   54.85|   54.85|   54.4|     54.5|   9837.0|\n",
      "|0050   |20130107|元大台灣50          |   54.55|   54.55|   53.9|    54.25|   8910.0|\n",
      "|0050   |20130108|元大台灣50          |    54.0|    54.2|  53.65|     53.9|  12507.0|\n",
      "+-------+--------+----------------+--------+--------+-------+---------+---------+\n",
      "only showing top 5 rows\n",
      "\n"
     ]
    }
   ],
   "source": [
    "print(\"starting import tetfp.csv(台灣18檔ETF股價資料)...\")\n",
    "tetfp_dt=read_data(\"tetfp.csv\", col_alias_etf)"
   ]
  },
  {
   "cell_type": "code",
   "execution_count": 308,
   "metadata": {
    "scrolled": true
   },
   "outputs": [
    {
     "name": "stdout",
     "output_type": "stream",
     "text": [
      "+-------+-------------------+\n",
      "|summary|           etf_date|\n",
      "+-------+-------------------+\n",
      "|  count|              19216|\n",
      "|   mean|2.015352404798085E7|\n",
      "| stddev| 15848.277442252098|\n",
      "|    min|           20130102|\n",
      "|    max|           20180511|\n",
      "+-------+-------------------+\n",
      "\n"
     ]
    }
   ],
   "source": [
    "#EDA\n",
    "#range of date\n",
    "tetfp_dt.describe('etf_date').show()"
   ]
  },
  {
   "cell_type": "code",
   "execution_count": 309,
   "metadata": {},
   "outputs": [],
   "source": [
    "# print(\"starting import taetfp.csv(台灣18檔ETF調整後股價資料)...\")\n",
    "# taetfp_dt=read_data(\"taetfp.csv\", col_alias_etf)"
   ]
  },
  {
   "cell_type": "code",
   "execution_count": 310,
   "metadata": {
    "scrolled": true
   },
   "outputs": [],
   "source": [
    "# print(\"starting import tsharep.csv(台灣個股股價資料)...\")\n",
    "# tsharep_dt=read_data(\"tsharep.csv\", col_alias_stock)"
   ]
  },
  {
   "cell_type": "code",
   "execution_count": 311,
   "metadata": {},
   "outputs": [],
   "source": [
    "# print(\"starting import tasharep.csv(台灣個股調整後股價資料)...\")\n",
    "# tasharep_dt=read_data(\"tasharep.csv\", col_alias_stock)"
   ]
  },
  {
   "cell_type": "code",
   "execution_count": 312,
   "metadata": {},
   "outputs": [],
   "source": [
    "import sys\n",
    "from pyspark.sql.functions import lag, col, avg,collect_list, lit\n",
    "from pyspark.sql.window import Window\n",
    "from pyspark.sql.types import ArrayType, DoubleType, IntegerType\n",
    "#declare previous row windows\n",
    "wsSpec_etf = Window.partitionBy('etf_id').orderBy('etf_date') #time window for normal case\n",
    "wsSpec_etf_close_price_raw = Window.partitionBy('etf_id').orderBy('row_idx').rangeBetween(-sys.maxsize, -1)\n",
    "wsSpec_etf_dif_raw = Window.partitionBy('etf_id').orderBy('row_idx').rangeBetween(-sys.maxsize, 0)\n",
    "def avg_list(p_list):\n",
    "    #計算數字list的平均值\n",
    "    return sum(p_list)/len(p_list)\n",
    "#計算EMA的udf\n",
    "def calculate_ema_native(close_p_list, window_len):\n",
    "    #透過歷史收盤價計算\n",
    "    if len(close_p_list) < window_len:\n",
    "        return None\n",
    "    elif len(close_p_list) == window_len:\n",
    "        #if len of list = win_len then return avg, \n",
    "        return avg_list(close_p_list)\n",
    "    else:\n",
    "        #else EMA[t] =(EMA[t-1]*(win_len-1)+close[t]*2)/(win_len+1)\n",
    "        ema = avg_list(close_p_list[:window_len])\n",
    "        for price in close_p_list[window_len:]:\n",
    "            ema = (ema*(window_len-1)+price*2)/(window_len+1)\n",
    "        return ema\n",
    "calculate_ema=udf(calculate_ema_native, DoubleType())\n",
    "#計算BIAS的udf\n",
    "def calculate_bias(close_p_list):\n",
    "    #計算前日收盤價與N日均線之差比: (close price - MA)/MA   ,Paper 建議用20日MA\n",
    "    #因要預測今日的收盤價，故計算前日收盤價與前20日均線\n",
    "    if len(close_p_list) < 21:\n",
    "        return None\n",
    "    else:\n",
    "        list_len = len(close_p_list)\n",
    "        p_close = close_p_list[-1]\n",
    "        cal_list = close_p_list[list_len-21: list_len-1]\n",
    "        return p_close - avg_list(cal_list)\n",
    "calculate_bias=udf(calculate_bias, DoubleType())\n",
    "\n",
    "def get_min_max_last(p_list):\n",
    "    #找出list中最大最小和最後一個值, 回傳(min, max, last)\n",
    "    return (min(p_list), max(p_list), p_list[-1])\n",
    "def calculate_raw_rsv(p_list):\n",
    "    #RSV = (收盤價-9日低值)/(9日高值-9日低值)\n",
    "    p_min, p_max, p_last = get_min_max_last(p_list)\n",
    "    rsv = (p_last - p_min)/(p_max - p_min)\n",
    "    return rsv\n",
    "def calculate_rsv(p_9_list, k_prev, d_prev):\n",
    "    #計算加權後的RSV，p_9_list=>9日收盤價\n",
    "    rrsv = calculate_raw_rsv(p_9_list)\n",
    "    k_curr = (1/3)*rrsv + (2/3)*k_prev\n",
    "    d_curr = (1/3)*k_curr + (2/3)*d_prev\n",
    "    return [k_curr, d_curr]\n",
    "#計算隨機指標（Stochastic Oscillator，KD），原名%K&%D\n",
    "def calculate_KD(close_p_list):\n",
    "    win_len = 9 #看過去 9 日值\n",
    "    #RSV = (收盤價-9日低值)/(9日高值-9日低值)\n",
    "    #K_curr = 1/3*RSV + 2/3*K_prev\n",
    "    #D_curr = 1/3*K_curr + 2/3*D_prev\n",
    "    if len(close_p_list) < win_len:\n",
    "        return None\n",
    "    elif len(close_p_list) == win_len:\n",
    "        #無前日K, D時，以0.5帶入\n",
    "        return calculate_rsv(close_p_list, 0.5, 0.5)\n",
    "    else:\n",
    "        kds = calculate_rsv(close_p_list[0:9], 0.5, 0.5)\n",
    "        for idx in range(1, (len(close_p_list)+1-9)):\n",
    "            p_9_list = close_p_list[idx: idx+9]\n",
    "            kds = calculate_rsv(p_9_list, kds[0], kds[1])\n",
    "        return kds\n",
    "calculate_KD=udf(calculate_KD, ArrayType(DoubleType()))\n",
    "\n",
    "#計算差離值DIF = 12日EMA - 26日EMA\n",
    "def calculate_DIF_native(close_p_list):\n",
    "    if len(close_p_list) < 26:\n",
    "        return None\n",
    "    else:\n",
    "        ema12 = calculate_ema_native(close_p_list, 12)\n",
    "        ema26 = calculate_ema_native(close_p_list, 26)\n",
    "        return ema12 - ema26\n",
    "calculate_DIF=udf(calculate_DIF_native, DoubleType())\n",
    "\n",
    "#計算MACD=(前一日MACD × (9 - 1) + 今日DIF × 2) ÷ (9 + 1)\n",
    "def calculate_MACD(dif_list, dif_curr):\n",
    "    win_len = 9\n",
    "    if len(dif_list) < win_len:\n",
    "        return None\n",
    "    elif len(dif_list) == win_len:\n",
    "        #if len of list = win_len then return avg, \n",
    "        return avg_list(dif_list)\n",
    "    else:\n",
    "        #MACD=(前一日MACD × (9 - 1) + 今日DIF × 2) ÷ (9 + 1)\n",
    "        macd = avg_list(dif_list[:win_len])\n",
    "        for price in dif_list[win_len:]:\n",
    "            macd = (macd*(win_len-1)+dif_curr*2)/(win_len+1)\n",
    "        return macd\n",
    "calculate_MACD=udf(calculate_MACD, DoubleType())\n",
    "\n",
    "#計算相對強弱指數(RSI)\n",
    "def calculate_RSI(close_p_list):\n",
    "    win_len = 9\n",
    "    if len(close_p_list) < (win_len + 1):\n",
    "        return None\n",
    "    else:\n",
    "        cur_list = close_p_list[1:]\n",
    "        prv_list = close_p_list[0:-1]\n",
    "        p_dif_list = list(map(lambda x,y : x - y, cur_list, prv_list)) #dif list\n",
    "        u_list = []\n",
    "        d_list = []\n",
    "        for dif in p_dif_list:\n",
    "            if dif == 0:\n",
    "                #若兩天價格相同，則U及D皆等於零\n",
    "                u_list.append(0)\n",
    "                d_list.append(0)\n",
    "            elif dif > 0:\n",
    "                #在價格上升的日子, U = diff, D = 0\n",
    "                u_list.append(dif)\n",
    "                d_list.append(0)\n",
    "            else:\n",
    "                #在價格下跌的日子, U = 0, D = abs(diff)\n",
    "                u_list.append(0)\n",
    "                d_list.append(abs(dif))\n",
    "        #RSI = ema(u,9)/(ema(u,9)+ema(d,9))\n",
    "        ema_u = calculate_ema_native(u_list, win_len)\n",
    "        ema_d = calculate_ema_native(d_list, win_len)\n",
    "        return ema_u/(ema_u + ema_d)\n",
    "calculate_RSI=udf(calculate_RSI, DoubleType())\n",
    "\n",
    "#計算威廉指標（Williams %R）\n",
    "def calculate_WR(close_p_list):\n",
    "    win_len = 9\n",
    "    if len(close_p_list) < win_len:\n",
    "        return None\n",
    "    else:\n",
    "        p_list = close_p_list[len(close_p_list) - win_len :]\n",
    "        return 1.0 - calculate_raw_rsv(p_list)\n",
    "calculate_WR=udf(calculate_WR, DoubleType())\n",
    "\n",
    "#calculate profit of n-days\n",
    "def calculate_days_profit_natvie(close_p_list, days):\n",
    "    if len(close_p_list) < days+1:\n",
    "        return 0.0\n",
    "    cal_list = close_p_list[len(close_p_list)-days-1 : ]\n",
    "    #formula: [(1+daily_profit)*]-1\n",
    "    res = 1.0\n",
    "    for idx in range(0, days):\n",
    "        res = res * (1 + (cal_list[idx+1]/cal_list[idx]-1.0))\n",
    "    res = res -1.0\n",
    "    return res\n",
    "calculate_days_profit=udf(calculate_days_profit_natvie, DoubleType())\n",
    "\n",
    "from datetime import datetime\n",
    "def get_weekday_native(date_str):\n",
    "    return datetime.strptime(date_str.strip(), \"%Y%m%d\").weekday()+0.0\n",
    "get_weekday = udf(get_weekday_native , DoubleType())"
   ]
  },
  {
   "cell_type": "code",
   "execution_count": 313,
   "metadata": {
    "scrolled": true
   },
   "outputs": [
    {
     "name": "stdout",
     "output_type": "stream",
     "text": [
      "root\n",
      " |-- etf_id: string (nullable = true)\n",
      " |-- etf_date: string (nullable = true)\n",
      " |-- etf_name: string (nullable = true)\n",
      " |-- etf_open: double (nullable = true)\n",
      " |-- etf_high: double (nullable = true)\n",
      " |-- etf_low: double (nullable = true)\n",
      " |-- etf_close: double (nullable = true)\n",
      " |-- etf_count: double (nullable = true)\n",
      " |-- row_idx: integer (nullable = true)\n",
      " |-- close_price_raw: array (nullable = true)\n",
      " |    |-- element: double (containsNull = true)\n",
      " |-- EMA5: double (nullable = true)\n",
      " |-- EMA10: double (nullable = true)\n",
      " |-- EMA20: double (nullable = true)\n",
      " |-- EMA30: double (nullable = true)\n",
      " |-- BIAS: double (nullable = true)\n",
      " |-- KD: array (nullable = true)\n",
      " |    |-- element: double (containsNull = true)\n",
      " |-- K: double (nullable = true)\n",
      " |-- D: double (nullable = true)\n",
      " |-- DIF: double (nullable = true)\n",
      " |-- dif_list: array (nullable = true)\n",
      " |    |-- element: double (containsNull = true)\n",
      " |-- MACD: double (nullable = true)\n",
      " |-- RSI: double (nullable = true)\n",
      " |-- P_1: double (nullable = true)\n",
      " |-- P_5: double (nullable = true)\n",
      " |-- weekday: double (nullable = true)\n",
      " |-- WR: double (nullable = true)\n",
      "\n"
     ]
    }
   ],
   "source": [
    "#calculate ema [5,10,20] #cannot remove row_idx, row_idx for next window usage\n",
    "tetfp_dt2=tetfp_dt.withColumn(\"row_idx\", rank().over(wsSpec_etf)) \\\n",
    "    .withColumn(\"close_price_raw\", collect_list(col('etf_close')).over(wsSpec_etf_close_price_raw)) \\\n",
    "    .withColumn(\"EMA5\", calculate_ema(col(\"close_price_raw\"), lit(5))) \\\n",
    "    .withColumn(\"EMA10\", calculate_ema(col(\"close_price_raw\"), lit(10))) \\\n",
    "    .withColumn(\"EMA20\", calculate_ema(col(\"close_price_raw\"), lit(20))) \\\n",
    "    .withColumn(\"EMA30\", calculate_ema(col(\"close_price_raw\"), lit(30))) \\\n",
    "    .withColumn(\"BIAS\", calculate_bias(col(\"close_price_raw\"))) \\\n",
    "    .withColumn(\"KD\", calculate_KD(col(\"close_price_raw\"))) \\\n",
    "    .withColumn(\"K\", col(\"KD\")[0]).withColumn(\"D\", col(\"KD\")[1]) \\\n",
    "    .withColumn(\"DIF\", calculate_DIF(col(\"close_price_raw\"))) \\\n",
    "    .withColumn(\"dif_list\", collect_list(col('DIF')).over(wsSpec_etf_dif_raw)) \\\n",
    "    .withColumn(\"MACD\", calculate_MACD(col(\"dif_list\"), col(\"DIF\"))) \\\n",
    "    .withColumn(\"RSI\", calculate_RSI(col(\"close_price_raw\")))\\\n",
    "    .withColumn(\"P_1\", calculate_days_profit(col(\"close_price_raw\"), lit(1))) \\\n",
    "    .withColumn(\"P_5\", calculate_days_profit(col(\"close_price_raw\"), lit(5))) \\\n",
    "    .withColumn(\"weekday\", get_weekday(col(\"etf_date\"))) \\\n",
    "    .withColumn(\"WR\", calculate_WR(col(\"close_price_raw\")))\n",
    "\n",
    "tetfp_dt2.cache()\n",
    "tetfp_dt2.printSchema()"
   ]
  },
  {
   "cell_type": "code",
   "execution_count": 314,
   "metadata": {},
   "outputs": [],
   "source": [
    "#tetfp_dt2.filter(\"etf_id='0050   '\").select(\"row_idx\", \"etf_close\", \"MACD\", \"RSI\", \"WR\", 'weekday') \\\n",
    "#             .show()\n",
    "#          .toPandas().to_csv(Path.replace(\"file:\",\"\") + \"/taetfp_BIAS.csv\",index=False)"
   ]
  },
  {
   "cell_type": "code",
   "execution_count": 315,
   "metadata": {},
   "outputs": [],
   "source": [
    "#匯出成pandas\n",
    "# etf_pd_50 = tetfp_dt2.filter(\"etf_id='0050   '\").select(\"row_idx\", \"etf_date\" ,\"etf_close\", \"EMA5\", \"EMA10\", \"EMA20\", \"BIAS\") \\\n",
    "#                 .toPandas()"
   ]
  },
  {
   "cell_type": "code",
   "execution_count": 316,
   "metadata": {},
   "outputs": [],
   "source": [
    "#圖形化顯示\n",
    "#aetf_pd_50.set_index('etf_date') #set_index 後配合 loc select 出區段資料來看\n",
    "# etf_pd_50_part = etf_pd_50.loc[1200:]\n",
    "# etf_pd_50_part.etf_close.plot(x='row_idx', y='etf_close', style='b--', label=\"etf_close\")\n",
    "# etf_pd_50_part.EMA5.plot(x='row_idx', y='EMA5', label=\"EMA5\", style='r-')\n",
    "# etf_pd_50_part.EMA10.plot(x='row_idx', y='EMA10', label=\"EMA10\", style='g-')\n",
    "# etf_pd_50_part.EMA20.plot(x='row_idx', y='EMA20', label=\"EMA20\", style='y-')\n",
    "# plt.legend()\n",
    "# plt.show()"
   ]
  },
  {
   "cell_type": "code",
   "execution_count": 317,
   "metadata": {},
   "outputs": [],
   "source": [
    "#計算各欄位與收盤價之相關性\n",
    "# corr_cols = ['EMA5','EMA10','EMA20','BIAS','K','D']\n",
    "# for col in corr_cols:\n",
    "#     print('corr between ', col , ' and etf_close: ', str(tetfp_dt2.corr(col, 'etf_close')))"
   ]
  },
  {
   "cell_type": "code",
   "execution_count": null,
   "metadata": {},
   "outputs": [],
   "source": [
    "from pyspark.ml.feature import MinMaxScaler, StandardScaler\n",
    "from pyspark.ml.linalg import Vectors\n",
    "tot_dt = tetfp_dt2.filter(\"MACD is not null and EMA30 is not null\") \\\n",
    "    .select(\"etf_id\", \"etf_date\", \"row_idx\", \"EMA5\", \"EMA10\", \"EMA20\", \"EMA30\", \"BIAS\", \"K\", \"D\", \"DIF\", \"MACD\", \"RSI\", \n",
    "            \"P_1\", \"P_5\", (col(\"WR\")*-1.0).alias(\"WR\"), \"etf_close\") \\\n",
    "    .orderBy(\"etf_id\", \"etf_date\", ascending=True)"
   ]
  },
  {
   "cell_type": "code",
   "execution_count": 1,
   "metadata": {},
   "outputs": [
    {
     "ename": "NameError",
     "evalue": "name 'Path' is not defined",
     "output_type": "error",
     "traceback": [
      "\u001b[0;31m---------------------------------------------------------------------------\u001b[0m",
      "\u001b[0;31mNameError\u001b[0m                                 Traceback (most recent call last)",
      "\u001b[0;32m<ipython-input-1-bc2eb0b57dec>\u001b[0m in \u001b[0;36m<module>\u001b[0;34m()\u001b[0m\n\u001b[1;32m      1\u001b[0m \u001b[0mchaos_file_name\u001b[0m\u001b[0;34m=\u001b[0m\u001b[0;34m\"etf_extraFeatures_0518_L37.csv\"\u001b[0m\u001b[0;34m\u001b[0m\u001b[0m\n\u001b[1;32m      2\u001b[0m \u001b[0;31m#$$$\u001b[0m\u001b[0;34m\u001b[0m\u001b[0;34m\u001b[0m\u001b[0m\n\u001b[0;32m----> 3\u001b[0;31m \u001b[0mchaos_raw_data\u001b[0m \u001b[0;34m=\u001b[0m \u001b[0mspark\u001b[0m\u001b[0;34m.\u001b[0m\u001b[0mread\u001b[0m\u001b[0;34m.\u001b[0m\u001b[0mcsv\u001b[0m\u001b[0;34m(\u001b[0m\u001b[0mPath\u001b[0m \u001b[0;34m+\u001b[0m \u001b[0;34m\"/\"\u001b[0m \u001b[0;34m+\u001b[0m \u001b[0mchaos_file_name\u001b[0m\u001b[0;34m,\u001b[0m \u001b[0mheader\u001b[0m\u001b[0;34m=\u001b[0m\u001b[0;32mTrue\u001b[0m\u001b[0;34m,\u001b[0m \u001b[0msep\u001b[0m\u001b[0;34m=\u001b[0m\u001b[0;34m\",\"\u001b[0m\u001b[0;34m)\u001b[0m     \u001b[0;34m.\u001b[0m\u001b[0mfilter\u001b[0m\u001b[0;34m(\u001b[0m\u001b[0;34m\"etf_date > '20140101'\"\u001b[0m\u001b[0;34m)\u001b[0m\u001b[0;34m\u001b[0m\u001b[0m\n\u001b[0m\u001b[1;32m      4\u001b[0m \u001b[0mprint\u001b[0m\u001b[0;34m(\u001b[0m\u001b[0;34m\"Total \"\u001b[0m \u001b[0;34m+\u001b[0m \u001b[0mchaos_file_name\u001b[0m \u001b[0;34m+\u001b[0m \u001b[0;34m\" count: \"\u001b[0m \u001b[0;34m+\u001b[0m \u001b[0mstr\u001b[0m\u001b[0;34m(\u001b[0m\u001b[0mchaos_raw_data\u001b[0m\u001b[0;34m.\u001b[0m\u001b[0mcount\u001b[0m\u001b[0;34m(\u001b[0m\u001b[0;34m)\u001b[0m\u001b[0;34m)\u001b[0m\u001b[0;34m)\u001b[0m\u001b[0;34m\u001b[0m\u001b[0m\n\u001b[1;32m      5\u001b[0m \u001b[0mchaos_raw_data\u001b[0m\u001b[0;34m.\u001b[0m\u001b[0mprintSchema\u001b[0m\u001b[0;34m(\u001b[0m\u001b[0;34m)\u001b[0m\u001b[0;34m\u001b[0m\u001b[0m\n",
      "\u001b[0;31mNameError\u001b[0m: name 'Path' is not defined"
     ]
    }
   ],
   "source": [
    "chaos_file_name=\"etf_extraFeatures_0518_L37.csv\"\n",
    "#$$$\n",
    "chaos_raw_data = spark.read.csv(Path + \"/\" + chaos_file_name, header=True, sep=\",\") \\\n",
    "    .filter(\"etf_date > '20140101'\")\n",
    "print(\"Total \" + chaos_file_name + \" count: \" + str(chaos_raw_data.count()))\n",
    "chaos_raw_data.printSchema()\n",
    "chaos_raw_data.show(10)"
   ]
  },
  {
   "cell_type": "code",
   "execution_count": null,
   "metadata": {},
   "outputs": [],
   "source": [
    "chaos_dt = chaos_raw_data.filter(\"wr80 != ''\") \\\n",
    "    .select(\"etf_id\", \"etf_date\", col(\"bias80\").cast(\"Double\"), col(\"d80\").cast(\"Double\"), col(\"dif80\").cast(\"Double\"), \n",
    "           col(\"k80\").cast(\"Double\"), col(\"macd80\").cast(\"Double\"), col(\"p1_80\").cast(\"Double\"), \n",
    "            col(\"p5_80\").cast(\"Double\"), col(\"rsi80\").cast(\"Double\"), (col(\"wr80\").cast(\"Double\")*-1.0).alias(\"wr80\"),\n",
    "           col(\"close80\").cast(\"Double\"))\n",
    "chaos_dt.printSchema()\n",
    "chaos_dt.show(10)"
   ]
  },
  {
   "cell_type": "code",
   "execution_count": null,
   "metadata": {},
   "outputs": [],
   "source": [
    "tot_dt2 = tot_dt.join(chaos_dt, \n",
    "                        [trim(tot_dt.etf_id) == chaos_dt.etf_id , trim(tot_dt.etf_date) == chaos_dt.etf_date], \"inner\") \\\n",
    "    .drop(chaos_dt.etf_id).drop(chaos_dt.etf_date)\n",
    "\n",
    "tot_dt2.printSchema()\n",
    "tot_dt2.show(10)"
   ]
  },
  {
   "cell_type": "code",
   "execution_count": null,
   "metadata": {},
   "outputs": [],
   "source": [
    "    \n",
    "from pyspark.ml.linalg import Vectors\n",
    "from pyspark.ml.feature import VectorAssembler\n",
    "#$$$將Feature合併為Vector 並作標準化\n",
    "assembler = VectorAssembler(\n",
    "    inputCols=[\"EMA5\", \"EMA10\", \"EMA20\", \"EMA30\", \"BIAS\", \"K\", \"D\", \"DIF\", \"MACD\", \n",
    "                \"RSI\",\"P_1\", \"P_5\", \"bias80\", \"d80\", \"dif80\", \"k80\", \"macd80\", \n",
    "                \"p1_80\", \"p5_80\", \"rsi80\", \"WR\", \"wr80\"],\n",
    "    outputCol=\"features\")\n",
    "tot_dt_1 = assembler.transform(tot_dt2)\n",
    "#minmax_scaler = MinMaxScaler(inputCol=\"features\", outputCol=\"stdFeatures\")\n",
    "#scaler_model = minmax_scaler.fit(tot_dt_1)\n",
    "#std_scaler = StandardScaler(inputCol=\"features\", outputCol=\"stdFeatures\")\n",
    "#scaler_model = std_scaler.fit(tot_dt_1)\n",
    "#tot_dt_scale = scaler_model.transform(tot_dt_1)\n",
    "tot_dt_scale=tot_dt_1.withColumn(\"stdFeatures\", col(\"features\")) #$$$ 測試不作標準化"
   ]
  },
  {
   "cell_type": "code",
   "execution_count": null,
   "metadata": {},
   "outputs": [],
   "source": [
    "###### 取出4/16~4/27 (共兩週資料作為測試集)\n",
    "train_dt = tot_dt_scale.filter(\"etf_date < '\" + predict_start_date + \"' and MACD is not null and EMA30 is not null\") \\\n",
    "    .select(\"etf_id\", \"etf_date\", \"row_idx\", \"stdFeatures\", \"etf_close\") \\\n",
    "    .orderBy(\"etf_id\", \"etf_date\", ascending=True)\n",
    "test_dt = tot_dt_scale.filter(\"etf_date >= '\" + predict_start_date + \"'\") \\\n",
    "    .select(\"etf_id\", \"etf_date\", \"row_idx\", \"stdFeatures\", \"etf_close\") \\\n",
    "    .orderBy(\"etf_id\", \"etf_date\", ascending=True)\n",
    "print('train count: ', str(train_dt.count()), ', test count: ', str(test_dt.count()))\n",
    "train_dt.show(10)\n",
    "test_dt.show(10)"
   ]
  },
  {
   "cell_type": "code",
   "execution_count": null,
   "metadata": {},
   "outputs": [],
   "source": [
    "#test_dt.show(20, False)"
   ]
  },
  {
   "cell_type": "code",
   "execution_count": null,
   "metadata": {},
   "outputs": [],
   "source": [
    "train_dt.cache()\n",
    "test_dt.cache()"
   ]
  },
  {
   "cell_type": "code",
   "execution_count": null,
   "metadata": {},
   "outputs": [],
   "source": [
    "#取出etf的distinct id\n",
    "etf_ids = []\n",
    "for row in train_dt.select(\"etf_id\").distinct().orderBy(\"etf_id\").collect():\n",
    "    etf_ids.append(row[\"etf_id\"])\n",
    "etf_ids"
   ]
  },
  {
   "cell_type": "code",
   "execution_count": null,
   "metadata": {},
   "outputs": [],
   "source": [
    "#訓練Model及評估(RandomForestRegressor - etf_id wise) \n",
    "#-- accuracy:0.48, (RMSE) on test data = 0.938023 --> using stdScaler\n",
    "#-- accuracy:0.48, (RMSE) on test data = 0.87064 --> no Scaler\n",
    "#-- accuracy:0.56, (RMSE) on test data = 0.92546 --> use minmaxScaler\n",
    "#-- accuracy:0.513812 , (RMSE) on test data = 0.597397 --> use minmaxScaler and no Scaler(full data)\n",
    "from pyspark.ml.regression import RandomForestRegressor\n",
    "#$$$default param of RF: maxDepth=5, maxBins=32, numTrees=20\n",
    "rf = RandomForestRegressor(featuresCol=\"stdFeatures\",labelCol=\"etf_close\", \n",
    "                           maxDepth=12, maxBins=64)\n",
    "#記下對應etf_id的所有model\n",
    "model_map = {}\n",
    "for etfid in etf_ids:\n",
    "    train_data = train_dt.filter(\"etf_id='\" + etfid + \"'\")\n",
    "    rf_model = rf.fit(train_data)\n",
    "    model_map.update({etfid: rf_model})"
   ]
  },
  {
   "cell_type": "code",
   "execution_count": null,
   "metadata": {
    "scrolled": false
   },
   "outputs": [],
   "source": [
    "#find last records of all etf to be the base of next record\n",
    "tetf_dt_prod = tetfp_dt2.filter(\"etf_date < '\" + predict_start_date + \"' and MACD is not null\")\n",
    "tetf_max_idx = tetf_dt_prod.groupBy(\"etf_id\").max(\"row_idx\")\n",
    "tetf_max = tetf_max_idx.select(col(\"etf_id\"), col(\"max(row_idx)\").cast(\"Double\").alias(\"row_idx\")) \\\n",
    "    .join(tetf_dt_prod, [\"etf_id\", \"row_idx\"], \"inner\") \\\n",
    "    .select(\"etf_id\", \"etf_date\", \"row_idx\", \"etf_close\", \"close_price_raw\", \"dif_list\") \\\n",
    "    .orderBy('etf_id')\n",
    "\n",
    "tetf_max.show()"
   ]
  },
  {
   "cell_type": "code",
   "execution_count": null,
   "metadata": {},
   "outputs": [],
   "source": [
    "#建立產生feature之方法\n",
    "def create_feature(etf_id, date, orig_dt, chaos_dt):\n",
    "    new_dt = orig_dt.withColumn(\"EMA5\", calculate_ema(col(\"close_price_raw\"), lit(5))) \\\n",
    "    .withColumn(\"EMA10\", calculate_ema(col(\"close_price_raw\"), lit(10))) \\\n",
    "    .withColumn(\"EMA20\", calculate_ema(col(\"close_price_raw\"), lit(20))) \\\n",
    "    .withColumn(\"EMA30\", calculate_ema(col(\"close_price_raw\"), lit(30))) \\\n",
    "    .withColumn(\"BIAS\", calculate_bias(col(\"close_price_raw\"))) \\\n",
    "    .withColumn(\"KD\", calculate_KD(col(\"close_price_raw\"))) \\\n",
    "    .withColumn(\"K\", col(\"KD\")[0]).withColumn(\"D\", col(\"KD\")[1]) \\\n",
    "    .withColumn(\"MACD\", calculate_MACD(col(\"dif_list\"), col(\"DIF\"))) \\\n",
    "    .withColumn(\"RSI\", calculate_RSI(col(\"close_price_raw\")))\\\n",
    "    .withColumn(\"P_1\", calculate_days_profit(col(\"close_price_raw\"), lit(1))) \\\n",
    "    .withColumn(\"P_5\", calculate_days_profit(col(\"close_price_raw\"), lit(5))) \\\n",
    "    .withColumn(\"weekday\", get_weekday(col(\"etf_date\"))) \\\n",
    "    .withColumn(\"WR\", calculate_WR(col(\"close_price_raw\")))\n",
    "    filter_str = \"etf_id='\"+etf_id+\"' and etf_date='\"+date+\"'\"\n",
    "    #print('filter_str: ', filter_str)\n",
    "    chaos_pd = chaos_dt.filter(filter_str)\n",
    "    new_dt2 = new_dt.join(chaos_pd, \n",
    "                        [trim(new_dt.etf_id) == chaos_pd.etf_id , trim(new_dt.etf_date) == chaos_pd.etf_date], \"inner\") \\\n",
    "    .drop(chaos_pd.etf_id).drop(chaos_pd.etf_date)\n",
    "    return new_dt\n",
    "#計算上或下的值(udf)\n",
    "def judge_up_down_pred(curr_price, close_price_list):\n",
    "    if len(close_price_list) == 0:\n",
    "        return 0.0\n",
    "    else:\n",
    "        prev_price = close_price_list[-1]\n",
    "        if curr_price == prev_price:\n",
    "            return 0.0\n",
    "        elif curr_price > prev_price:\n",
    "            return 1.0\n",
    "        else:\n",
    "            return 2.0\n",
    "judge_up_down_pred=udf(judge_up_down_pred, DoubleType())\n",
    "#建立預測方法\n",
    "def doPredict(test_dt, etf_ids, model_dic):\n",
    "    predict_res = None\n",
    "    for etfid in etf_ids:\n",
    "        test_data = test_dt.filter(\"etf_id='\" + etfid + \"'\")\n",
    "        predicts = model_dic[etfid].transform(test_data)\n",
    "        if predict_res is None:\n",
    "            predict_res = predicts\n",
    "        else:\n",
    "            predict_res = predict_res.unionAll(predicts)\n",
    "    predict_res2 = predict_res.withColumn(\"pred_ud\", judge_up_down_pred(col(\"prediction\"), col(\"close_price_raw\")))\n",
    "    return predict_res2"
   ]
  },
  {
   "cell_type": "code",
   "execution_count": null,
   "metadata": {},
   "outputs": [],
   "source": [
    "schema = tetfp_dt2.select(\"etf_id\", \"etf_date\", col(\"row_idx\").cast(\"Double\"), \"close_price_raw\", \"DIF\", \"dif_list\").schema\n",
    "idx_plus = 0.0\n",
    "predict_res_final = None\n",
    "predict_range = [d for d in next_date_range if d not in ignore_dates]\n",
    "for date in predict_range:\n",
    "    next_rows = []\n",
    "    idx_plus = idx_plus +1\n",
    "    for row in tetf_max.collect():\n",
    "        close_price_raw = row[\"close_price_raw\"]\n",
    "        close_price_raw.append(row[\"etf_close\"])\n",
    "        dif_list = row[\"dif_list\"]\n",
    "        dif = calculate_DIF_native(close_price_raw)\n",
    "        dif_list.append(dif)\n",
    "        next_row = (row[\"etf_id\"], date, row[\"row_idx\"]+idx_plus, close_price_raw, dif ,dif_list)\n",
    "        next_rows.append(next_row)\n",
    "    orig_dt = spark.createDataFrame(next_rows, schema)\n",
    "    new_dt = create_feature(row[\"etf_id\"], date, orig_dt, chaos_dt) #加入預測用的feature\n",
    "    feature_dt_tmp = assembler.transform(new_dt)#作出 FeatureVector\n",
    "    #feature_dt = scaler_model.transform(feature_dt_tmp)\n",
    "    feature_dt = feature_dt_tmp.withColumn(\"stdFeatures\", col(\"features\")) #$$$  no scaler\n",
    "    #feature_dt.select(\"etf_id\", \"etf_date\", \"stdFeatures\").show(10, False)\n",
    "    #do predict using existed model\n",
    "    pred_res = doPredict(feature_dt, etf_ids, model_map)\n",
    "    #取出所有預測結果作合併，以進行後續成績計算\n",
    "    merged_dt = pred_res.select(\"etf_id\", \"etf_date\", \"prediction\", \"pred_ud\")\n",
    "    if predict_res_final is None:\n",
    "        predict_res_final = merged_dt\n",
    "    else:\n",
    "        predict_res_final = predict_res_final.unionAll(merged_dt)\n",
    "    tetf_max = pred_res.select(\"etf_id\", \"etf_date\", \"row_idx\", col(\"prediction\").alias(\"etf_close\"), \"close_price_raw\", \"dif_list\")\n",
    "    \n",
    "predict_res_final.cache()\n",
    "predict_res_final.show(10)\n"
   ]
  },
  {
   "cell_type": "code",
   "execution_count": null,
   "metadata": {},
   "outputs": [],
   "source": [
    "# 評估Model的RMES\n",
    "####### without scaler (depth=12, bin=64) with P_1, P_5, EMA30 MAC #########1\n",
    "#(RMSE) on test data = 0.754048    accuracy = 0.626374 final score: 14.720382982416249\n",
    "\n"
   ]
  },
  {
   "cell_type": "code",
   "execution_count": null,
   "metadata": {
    "scrolled": true
   },
   "outputs": [],
   "source": [
    "from pyspark.ml.evaluation import RegressionEvaluator, MulticlassClassificationEvaluator\n",
    "if DoEval:\n",
    "    tetf_dt_eval = tetfp_dt2.filter(\"etf_date >= '\" + predict_start_date + \"'\") \\\n",
    "        .select(\"etf_id\", \"etf_date\", \"etf_close\", \"close_price_raw\")\n",
    "    eval_dt = predict_res_final.join(tetf_dt_eval, [\"etf_id\", \"etf_date\"], \"inner\") \\\n",
    "        .withColumn(\"act_ud\", judge_up_down_pred(col(\"etf_close\"), col(\"close_price_raw\")))\n",
    "    eval_dt.cache()\n",
    "    #eval_dt.orderBy(\"etf_id\", \"etf_date\", ascending=True).show(10)\n",
    "\n",
    "    evaluator = RegressionEvaluator(\n",
    "        labelCol=\"etf_close\", predictionCol=\"prediction\", metricName=\"rmse\")\n",
    "    rmse = evaluator.evaluate(eval_dt)\n",
    "    print(\"Root Mean Squared Error (RMSE) on test data = %g\" % rmse)\n",
    "    evaluator = MulticlassClassificationEvaluator(\n",
    "        labelCol=\"act_ud\", predictionCol=\"pred_ud\", metricName=\"accuracy\")\n",
    "    accuracy = evaluator.evaluate(eval_dt)\n",
    "    print(\"accuracy = %g \" % accuracy)\n",
    "    \n",
    "    #define method to evaluate by ETF way\n",
    "    final_res = eval_dt.select(\"etf_id\", \"etf_date\", \"prediction\", \"pred_ud\", \"etf_close\", \"act_ud\") \\\n",
    "        .orderBy(\"etf_date\", \"etf_id\").collect()\n",
    "    weights = [0.1, 0.15, 0.2, 0.25, 0.3]\n",
    "    judge_score = 0.0\n",
    "    for row in final_res:\n",
    "        #(up equal*0.5+((act_p - abs(pred_p - act_p))/act_p)*0.5)*weight\n",
    "        act_price = row[\"etf_close\"]\n",
    "        pred_price = row[\"prediction\"]\n",
    "        eidx = next_date_range.index(row[\"etf_date\"])\n",
    "        judge_score = judge_score + \\\n",
    "            ((0.5 if row[\"pred_ud\"] == row[\"act_ud\"] else 0) + \\\n",
    "             ((act_price-abs(pred_price-act_price))/act_price)*0.5)*weights[eidx]\n",
    "    print(\"final score: \", judge_score)\n",
    "#numtree"
   ]
  },
  {
   "cell_type": "code",
   "execution_count": null,
   "metadata": {},
   "outputs": [],
   "source": [
    "final_res = predict_res_final.orderBy(\"etf_id\", \"etf_date\").collect()"
   ]
  },
  {
   "cell_type": "code",
   "execution_count": null,
   "metadata": {
    "scrolled": true
   },
   "outputs": [],
   "source": [
    "#export to pandas\n",
    "etf_ids = []\n",
    "mon_ud = []\n",
    "mon_price = [] \n",
    "tue_ud = []\n",
    "tue_price = []\n",
    "wed_ud = []\n",
    "wed_price = []\n",
    "thu_ud = []\n",
    "thu_price = []\n",
    "fri_ud = []\n",
    "fri_price = []\n",
    "\n",
    "def encode_ud(oper_ud):\n",
    "    if oper_ud == 0.0:\n",
    "        return 0\n",
    "    elif oper_ud == 1.0:\n",
    "        return 1\n",
    "    else:\n",
    "        return -1\n",
    "\n",
    "for row in final_res:\n",
    "    etf_id = row[\"etf_id\"]\n",
    "    if etf_id not in etf_ids:\n",
    "        etf_ids.append(etf_id)\n",
    "    etf_date = row[\"etf_date\"]\n",
    "    eidx = next_date_range.index(row[\"etf_date\"])\n",
    "    if eidx == 0:\n",
    "        mon_ud.append(encode_ud(row[\"pred_ud\"]))\n",
    "        mon_price.append(row[\"prediction\"])\n",
    "    elif eidx == 1:\n",
    "        tue_ud.append(encode_ud(row[\"pred_ud\"]))\n",
    "        tue_price.append(row[\"prediction\"])\n",
    "    elif eidx == 2:\n",
    "        wed_ud.append(encode_ud(row[\"pred_ud\"]))\n",
    "        wed_price.append(row[\"prediction\"])\n",
    "    elif eidx == 3:\n",
    "        thu_ud.append(encode_ud(row[\"pred_ud\"]))\n",
    "        thu_price.append(row[\"prediction\"])\n",
    "    elif eidx == 4:\n",
    "        fri_ud.append(encode_ud(row[\"pred_ud\"]))\n",
    "        fri_price.append(row[\"prediction\"])\n",
    "        \n",
    "if len(mon_ud) == 0:\n",
    "    mon_ud = list(0 for i in range(0,len(etf_ids)))\n",
    "    mon_price = list(0.0 for i in range(0,len(etf_ids)))\n",
    "if len(tue_ud) == 0:\n",
    "    tue_ud = list(0 for i in range(0,len(etf_ids)))\n",
    "    tue_price = list(0.0 for i in range(0,len(etf_ids)))\n",
    "if len(wed_ud) == 0:\n",
    "    wed_ud = list(0 for i in range(0,len(etf_ids)))\n",
    "    wed_price = list(0.0 for i in range(0,len(etf_ids)))\n",
    "if len(thu_ud) == 0:\n",
    "    thu_ud = list(0 for i in range(0,len(etf_ids)))\n",
    "    thu_price = list(0.0 for i in range(0,len(etf_ids)))\n",
    "if len(fri_ud) == 0:\n",
    "    fri_ud = list(0 for i in range(0,len(etf_ids)))\n",
    "    fri_price = list(0.0 for i in range(0,len(etf_ids)))\n",
    "    \n",
    "dic = {\"ETFid\": etf_ids, \n",
    "       \"Mon_ud\": mon_ud, \"Mon_cprice\": mon_price,\n",
    "       \"Tue_ud\": tue_ud, \"Tue_cprice\": tue_price,\n",
    "       \"Wed_ud\": wed_ud, \"Wed_cprice\": wed_price,\n",
    "       \"Thu_ud\": thu_ud, \"Thu_cprice\": thu_price,\n",
    "       \"Fri_ud\": fri_ud, \"Fri_cprice\": fri_price\n",
    "      }\n",
    "final_df = pd.DataFrame(data=dic)[['ETFid','Mon_ud','Mon_cprice','Tue_ud','Tue_cprice',\n",
    "                                  'Wed_ud','Wed_cprice','Thu_ud','Thu_cprice',\n",
    "                                  'Fri_ud','Fri_cprice']]\n",
    "final_df"
   ]
  },
  {
   "cell_type": "code",
   "execution_count": null,
   "metadata": {},
   "outputs": [],
   "source": [
    "len(fri_price)"
   ]
  },
  {
   "cell_type": "code",
   "execution_count": null,
   "metadata": {},
   "outputs": [],
   "source": [
    "final_df.to_csv(Path.replace(\"file:\",\"\") + \"/etf_price_pred.csv\",index=False)"
   ]
  },
  {
   "cell_type": "code",
   "execution_count": null,
   "metadata": {},
   "outputs": [],
   "source": [
    "#ll = [46.92, 47.31, 47.0, 46.79, 46.49, 46.66, 47.0, 46.96, 47.0]\n",
    "print(list(0 for i in range(0,5)))\n",
    "ll = [46.92, 47.31, 47.0, 46.79, 46.49, 46.66]\n",
    "win_len=5\n",
    "print(ll[0])\n",
    "print(ll[0: -1])\n",
    "print(list(map(lambda x,y : x - y, ll[1:], ll[0: -1])))\n",
    "for x in ll[win_len:]:\n",
    "    print(x)\n",
    "ema = sum(ll[:win_len])/len(ll[:win_len])\n",
    "print(ema)\n",
    "for price in ll[win_len:]:\n",
    "    ema = (ema*(win_len-1)+price*2)/(win_len+1)\n",
    "tup1, tup2 = (1,2)\n",
    "print(tup1, ' ', tup2)\n",
    "tup = (3,4)\n",
    "print(tup[0], ' ', tup[1])\n",
    "list(range(0,2))\n",
    "test_dic = {}\n",
    "test_dic.update({\"0051\": assembler})\n",
    "print(test_dic['0051'])\n",
    "print([x for x in next_date_range if x not in ignore_dates])"
   ]
  }
 ],
 "metadata": {
  "kernelspec": {
   "display_name": "Python 3",
   "language": "python",
   "name": "python3"
  },
  "language_info": {
   "codemirror_mode": {
    "name": "ipython",
    "version": 3
   },
   "file_extension": ".py",
   "mimetype": "text/x-python",
   "name": "python",
   "nbconvert_exporter": "python",
   "pygments_lexer": "ipython3",
   "version": "3.6.4"
  }
 },
 "nbformat": 4,
 "nbformat_minor": 2
}
