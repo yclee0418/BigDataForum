{
 "cells": [
  {
   "cell_type": "markdown",
   "metadata": {},
   "source": [
    "Url: https://tbrain.trendmicro.com.tw/Competitions/Details/2"
   ]
  },
  {
   "cell_type": "code",
   "execution_count": 3,
   "metadata": {
    "collapsed": true
   },
   "outputs": [],
   "source": [
    "#import\n",
    "import numpy as np\n",
    "import pandas as pd\n",
    "import matplotlib.pyplot as plt\n",
    "from pyspark.sql import Row\n",
    "from pyspark.sql.functions import col, udf, lag, rank, lit\n",
    "from pyspark.sql.window import Window"
   ]
  },
  {
   "cell_type": "code",
   "execution_count": 1,
   "metadata": {
    "collapsed": true
   },
   "outputs": [],
   "source": [
    "global Path\n",
    "if sc.master[0:5]==\"local\":\n",
    "    Path = \"file:/c:/D Drive/work/bigData/pySpark/TBrain_Round2_DataSet_20180427\"\n",
    "    #Path = \"file:/Users/yungchuanlee/Documents/learn/AI競賽/ETF預測/TBrain_Round2_DataSet_20180331\"\n",
    "else:\n",
    "    Path = \"hdfs://master:9000/user/hduser\""
   ]
  },
  {
   "cell_type": "code",
   "execution_count": 13,
   "metadata": {},
   "outputs": [
    {
     "data": {
      "text/plain": [
       "29066.57"
      ]
     },
     "execution_count": 13,
     "metadata": {},
     "output_type": "execute_result"
    }
   ],
   "source": [
    "float(\"    46.57\")+float(\"     29,020\".replace(\",\",\"\"))"
   ]
  },
  {
   "cell_type": "code",
   "execution_count": 2,
   "metadata": {
    "collapsed": true
   },
   "outputs": [],
   "source": [
    "#define alias of columns\n",
    "col_alias_etf= {\"代碼\":\"etf_id\", \"日期\": \"etf_date\", \"中文簡稱\": \"etf_name\", \"開盤價(元)\":\"etf_open\", \n",
    "            \"最高價(元)\":\"etf_high\", \"最低價(元)\":\"etf_low\", \"收盤價(元)\":\"etf_close\", \"成交張數(張)\":\"etf_count\"}\n",
    "col_alias_stock= {\"代碼\":\"stock_id\", \"日期\": \"stock_date\", \"中文簡稱\": \"stock_name\", \"開盤價(元)\":\"stock_open\", \n",
    "            \"最高價(元)\":\"stock_high\", \"最低價(元)\":\"stock_low\", \"收盤價(元)\":\"stock_close\", \"成交張數(張)\":\"stock_count\"}"
   ]
  },
  {
   "cell_type": "code",
   "execution_count": 4,
   "metadata": {
    "collapsed": true
   },
   "outputs": [],
   "source": [
    "#udf\n",
    "def to_double(str_val):\n",
    "    return float(str_val.replace(\",\",\"\"))\n",
    "to_double=udf(to_double)"
   ]
  },
  {
   "cell_type": "code",
   "execution_count": 5,
   "metadata": {
    "collapsed": true
   },
   "outputs": [],
   "source": [
    "#def function to read data (因檔案格式都相同)\n",
    "def read_data(file_name, col_alias):\n",
    "    str_cols = [\"代碼\",\"日期\", \"中文簡稱\"]\n",
    "    raw_data = spark.read.option(\"encoding\", \"Big5\").csv(Path + \"/\" + file_name, header=True, sep=\",\")\n",
    "    print(\"Total \" + file_name + \" count: \" + str(raw_data.count()))\n",
    "    #rename cols and correct type \n",
    "    num_cols = [col_name for col_name in raw_data.columns if col_name not in str_cols]\n",
    "    final_data=raw_data.select( [col(str_col_name).alias(col_alias[str_col_name]) for str_col_name in str_cols] + \n",
    "                                  [to_double(col(num_col_name)).cast(\"double\").alias(col_alias[num_col_name]) for num_col_name in num_cols] )\n",
    "    final_data.printSchema()\n",
    "    final_data.show(5)\n",
    "    return final_data"
   ]
  },
  {
   "cell_type": "code",
   "execution_count": 6,
   "metadata": {},
   "outputs": [
    {
     "name": "stdout",
     "output_type": "stream",
     "text": [
      "starting import tetfp.csv(台灣18檔ETF股價資料)...\n",
      "Total tetfp.csv count: 19054\n",
      "root\n",
      " |-- etf_id: string (nullable = true)\n",
      " |-- etf_date: string (nullable = true)\n",
      " |-- etf_name: string (nullable = true)\n",
      " |-- etf_open: double (nullable = true)\n",
      " |-- etf_high: double (nullable = true)\n",
      " |-- etf_low: double (nullable = true)\n",
      " |-- etf_close: double (nullable = true)\n",
      " |-- etf_count: double (nullable = true)\n",
      "\n",
      "+-------+--------+----------------+--------+--------+-------+---------+---------+\n",
      "| etf_id|etf_date|        etf_name|etf_open|etf_high|etf_low|etf_close|etf_count|\n",
      "+-------+--------+----------------+--------+--------+-------+---------+---------+\n",
      "|0050   |20130102|元大台灣50          |    54.0|   54.65|   53.9|     54.4|  16487.0|\n",
      "|0050   |20130103|元大台灣50          |    54.9|   55.05|  54.65|    54.85|  29020.0|\n",
      "|0050   |20130104|元大台灣50          |   54.85|   54.85|   54.4|     54.5|   9837.0|\n",
      "|0050   |20130107|元大台灣50          |   54.55|   54.55|   53.9|    54.25|   8910.0|\n",
      "|0050   |20130108|元大台灣50          |    54.0|    54.2|  53.65|     53.9|  12507.0|\n",
      "+-------+--------+----------------+--------+--------+-------+---------+---------+\n",
      "only showing top 5 rows\n",
      "\n"
     ]
    }
   ],
   "source": [
    "print(\"starting import tetfp.csv(台灣18檔ETF股價資料)...\")\n",
    "tetfp_dt=read_data(\"tetfp.csv\", col_alias_etf)"
   ]
  },
  {
   "cell_type": "code",
   "execution_count": 7,
   "metadata": {},
   "outputs": [
    {
     "name": "stdout",
     "output_type": "stream",
     "text": [
      "+-------+--------------------+\n",
      "|summary|            etf_date|\n",
      "+-------+--------------------+\n",
      "|  count|               19054|\n",
      "|   mean|2.0153294704733916E7|\n",
      "| stddev|  15718.272009667517|\n",
      "|    min|            20130102|\n",
      "|    max|            20180427|\n",
      "+-------+--------------------+\n",
      "\n"
     ]
    }
   ],
   "source": [
    "#EDA\n",
    "#range of date\n",
    "tetfp_dt.describe('etf_date').show()"
   ]
  },
  {
   "cell_type": "code",
   "execution_count": 127,
   "metadata": {},
   "outputs": [
    {
     "name": "stdout",
     "output_type": "stream",
     "text": [
      "starting import taetfp.csv(台灣18檔ETF調整後股價資料)...\n",
      "Total taetfp.csv count: 18747\n",
      "root\n",
      " |-- etf_id: string (nullable = true)\n",
      " |-- etf_date: string (nullable = true)\n",
      " |-- etf_name: string (nullable = true)\n",
      " |-- etf_open: double (nullable = true)\n",
      " |-- etf_high: double (nullable = true)\n",
      " |-- etf_low: double (nullable = true)\n",
      " |-- etf_close: double (nullable = true)\n",
      " |-- etf_count: double (nullable = true)\n",
      "\n",
      "+-------+--------+----------------+--------+--------+-------+---------+---------+\n",
      "| etf_id|etf_date|        etf_name|etf_open|etf_high|etf_low|etf_close|etf_count|\n",
      "+-------+--------+----------------+--------+--------+-------+---------+---------+\n",
      "|0050   |20130102|元大台灣50          |   46.57|   47.13|  46.49|    46.92|  16487.0|\n",
      "|0050   |20130103|元大台灣50          |   47.35|   47.48|  47.13|    47.31|  29020.0|\n",
      "|0050   |20130104|元大台灣50          |   47.31|   47.31|  46.92|     47.0|   9837.0|\n",
      "|0050   |20130107|元大台灣50          |   47.05|   47.05|  46.49|    46.79|   8910.0|\n",
      "|0050   |20130108|元大台灣50          |   46.57|   46.75|  46.27|    46.49|  12507.0|\n",
      "+-------+--------+----------------+--------+--------+-------+---------+---------+\n",
      "only showing top 5 rows\n",
      "\n"
     ]
    }
   ],
   "source": [
    "print(\"starting import taetfp.csv(台灣18檔ETF調整後股價資料)...\")\n",
    "taetfp_dt=read_data(\"taetfp.csv\", col_alias_etf)"
   ]
  },
  {
   "cell_type": "code",
   "execution_count": 128,
   "metadata": {},
   "outputs": [
    {
     "name": "stdout",
     "output_type": "stream",
     "text": [
      "starting import tsharep.csv(台灣個股股價資料)...\n",
      "Total tsharep.csv count: 1983973\n",
      "root\n",
      " |-- stock_id: string (nullable = true)\n",
      " |-- stock_date: string (nullable = true)\n",
      " |-- stock_name: string (nullable = true)\n",
      " |-- stock_open: double (nullable = true)\n",
      " |-- stock_high: double (nullable = true)\n",
      " |-- stock_low: double (nullable = true)\n",
      " |-- stock_close: double (nullable = true)\n",
      " |-- stock_count: double (nullable = true)\n",
      "\n",
      "+--------+----------+------------------+----------+----------+---------+-----------+-----------+\n",
      "|stock_id|stock_date|        stock_name|stock_open|stock_high|stock_low|stock_close|stock_count|\n",
      "+--------+----------+------------------+----------+----------+---------+-----------+-----------+\n",
      "| 1101   |  20130102|台泥                |     38.95|      39.1|    38.65|       39.0|     6374.0|\n",
      "| 1101   |  20130103|台泥                |      39.5|      39.5|    38.75|      38.85|     9710.0|\n",
      "| 1101   |  20130104|台泥                |      39.4|     39.45|     38.6|       39.0|     8682.0|\n",
      "| 1101   |  20130107|台泥                |      39.1|      39.1|    38.65|       38.9|     5067.0|\n",
      "| 1101   |  20130108|台泥                |      38.9|      39.1|     38.2|       38.5|     6454.0|\n",
      "+--------+----------+------------------+----------+----------+---------+-----------+-----------+\n",
      "only showing top 5 rows\n",
      "\n"
     ]
    }
   ],
   "source": [
    "print(\"starting import tsharep.csv(台灣個股股價資料)...\")\n",
    "tsharep_dt=read_data(\"tsharep.csv\", col_alias_stock)"
   ]
  },
  {
   "cell_type": "code",
   "execution_count": 129,
   "metadata": {},
   "outputs": [
    {
     "name": "stdout",
     "output_type": "stream",
     "text": [
      "starting import tasharep.csv(台灣個股調整後股價資料)...\n",
      "Total tasharep.csv count: 1983973\n",
      "root\n",
      " |-- stock_id: string (nullable = true)\n",
      " |-- stock_date: string (nullable = true)\n",
      " |-- stock_name: string (nullable = true)\n",
      " |-- stock_open: double (nullable = true)\n",
      " |-- stock_high: double (nullable = true)\n",
      " |-- stock_low: double (nullable = true)\n",
      " |-- stock_close: double (nullable = true)\n",
      " |-- stock_count: double (nullable = true)\n",
      "\n",
      "+--------+----------+------------------+----------+----------+---------+-----------+-----------+\n",
      "|stock_id|stock_date|        stock_name|stock_open|stock_high|stock_low|stock_close|stock_count|\n",
      "+--------+----------+------------------+----------+----------+---------+-----------+-----------+\n",
      "| 1101   |  20130102|台泥                |     30.41|     30.53|    30.18|      30.45|     6374.0|\n",
      "| 1101   |  20130103|台泥                |     30.84|     30.84|    30.25|      30.33|     9710.0|\n",
      "| 1101   |  20130104|台泥                |     30.76|      30.8|    30.14|      30.45|     8682.0|\n",
      "| 1101   |  20130107|台泥                |     30.53|     30.53|    30.18|      30.37|     5067.0|\n",
      "| 1101   |  20130108|台泥                |     30.37|     30.53|    29.82|      30.06|     6454.0|\n",
      "+--------+----------+------------------+----------+----------+---------+-----------+-----------+\n",
      "only showing top 5 rows\n",
      "\n"
     ]
    }
   ],
   "source": [
    "print(\"starting import tasharep.csv(台灣個股調整後股價資料)...\")\n",
    "tasharep_dt=read_data(\"tasharep.csv\", col_alias_stock)"
   ]
  },
  {
   "cell_type": "code",
   "execution_count": 16,
   "metadata": {
    "collapsed": true
   },
   "outputs": [],
   "source": [
    "import sys\n",
    "from pyspark.sql.functions import lag, col, avg,collect_list, lit\n",
    "from pyspark.sql.window import Window\n",
    "#declare previous row windows\n",
    "wsSpec_etf = Window.partitionBy('etf_id').orderBy('etf_date') #time window for normal case\n",
    "wsSpec_etf_close_price_raw = Window.partitionBy('etf_id').orderBy('row_idx').rangeBetween(-sys.maxsize, -1)\n",
    "def avg_list(p_list):\n",
    "    #計算數字list的平均值\n",
    "    return sum(p_list)/len(p_list)\n",
    "#計算EMA的udf\n",
    "def calculate_ema(close_p_list, window_len):\n",
    "    #透過歷史收盤價計算\n",
    "    if len(close_p_list) < window_len:\n",
    "        return None\n",
    "    elif len(close_p_list) == window_len:\n",
    "        #if len of list = win_len then return avg, \n",
    "        return avg_list(close_p_list)\n",
    "    else:\n",
    "        #else EMA[t] =(EMA[t-1]*(win_len-1)+close[t]*2)/(win_len+1)\n",
    "        ema = avg_list(close_p_list[:window_len])\n",
    "        for price in close_p_list[window_len:]:\n",
    "            ema = (ema*(window_len-1)+price*2)/(window_len+1)\n",
    "        return ema\n",
    "calculate_ema=udf(calculate_ema)\n",
    "#計算BIAS的udf\n",
    "def calculate_bias(close_p_list):\n",
    "    #計算前日收盤價與N日均線之差比: (close price - MA)/MA   ,Paper 建議用20日MA\n",
    "    #因要預測今日的收盤價，故計算前日收盤價與前20日均線\n",
    "    if len(close_p_list) < 21:\n",
    "        return None\n",
    "    else:\n",
    "        list_len = len(close_p_list)\n",
    "        p_close = close_p_list[-1]\n",
    "        cal_list = close_p_list[list_len-21: list_len-1]\n",
    "        return p_close - avg_list(cal_list)\n",
    "calculate_bias=udf(calculate_bias)\n",
    "#計算當日收盤價與前一日收盤價差\n",
    "def calculate_close_diff(p_close, close_p_list):\n",
    "    if len(close_p_list) == 0:\n",
    "        return None\n",
    "    else:\n",
    "        return p_close - close_p_list[-1]\n",
    "calculate_close_diff=udf(calculate_close_diff)\n",
    "def get_min_max_last(p_list):\n",
    "    #找出list中最大最小和最後一個值, 回傳(min, max, last)\n",
    "    return (min(p_list), max(p_list), p_list[-1])\n",
    "def calculate_raw_rsv(p_list):\n",
    "    #RSV = (收盤價-9日低值)/(9日高值-9日低值)\n",
    "    p_min, p_max, p_last = get_min_max_last(p_list)\n",
    "    rsv = (p_list - p_min)/(p_max - p_min)\n",
    "    return rsv\n",
    "def calculate_rsv(p_9_list, k_prev, d_prev):\n",
    "    #計算加權後的RSV，p_9_list=>9日收盤價\n",
    "    rrsv = calculate_raw_rsv(p_9_list)\n",
    "    k_curr = (1/3)*rrsv + (2/3)*k_prev\n",
    "    d_curr = (1/3)*k_curr + (2/3)*d_prev\n",
    "    return (k_curr, d_curr)\n",
    "    \n",
    "#計算隨機指標（Stochastic Oscillator，KD），原名%K&%D\n",
    "def calculate_KD(close_p_list):\n",
    "    win_len = 9 #看過去 9 日值\n",
    "    #RSV = (收盤價-9日低值)/(9日高值-9日低值)\n",
    "    #K_curr = 1/3*RSV + 2/3*K_prev\n",
    "    #D_curr = 1/3*K_curr + 2/3*D_prev\n",
    "    if len(close_p_list) < win_len:\n",
    "        return None\n",
    "    elif len(close_p_list) == win_len:\n",
    "        #無前日K, D時，以0.5帶入\n",
    "        return calculate_rsv(close_p_list, 0.5, 0.5)\n",
    "    else:\n",
    "        k_curr, d_curr = \n",
    "        for idx in range(0, (len(close_p_list)+1-9)):\n",
    "            "
   ]
  },
  {
   "cell_type": "code",
   "execution_count": 17,
   "metadata": {
    "scrolled": true
   },
   "outputs": [
    {
     "name": "stdout",
     "output_type": "stream",
     "text": [
      "root\n",
      " |-- etf_id: string (nullable = true)\n",
      " |-- etf_date: string (nullable = true)\n",
      " |-- etf_name: string (nullable = true)\n",
      " |-- etf_open: double (nullable = true)\n",
      " |-- etf_high: double (nullable = true)\n",
      " |-- etf_low: double (nullable = true)\n",
      " |-- etf_close: double (nullable = true)\n",
      " |-- etf_count: double (nullable = true)\n",
      " |-- row_idx: integer (nullable = true)\n",
      " |-- close_price_raw: array (nullable = true)\n",
      " |    |-- element: double (containsNull = true)\n",
      " |-- EMA5: double (nullable = true)\n",
      " |-- EMA10: double (nullable = true)\n",
      " |-- EMA20: double (nullable = true)\n",
      " |-- BIAS: double (nullable = true)\n",
      " |-- close_diff: double (nullable = true)\n",
      "\n",
      "+-------+---------+------------------+------------------+------------------+-------------------+--------------------+\n",
      "|row_idx|etf_close|              EMA5|             EMA10|             EMA20|               BIAS|          close_diff|\n",
      "+-------+---------+------------------+------------------+------------------+-------------------+--------------------+\n",
      "|      1|     54.4|              null|              null|              null|               null|                null|\n",
      "|      2|    54.85|              null|              null|              null|               null| 0.45000000000000284|\n",
      "|      3|     54.5|              null|              null|              null|               null| -0.3500000000000014|\n",
      "|      4|    54.25|              null|              null|              null|               null|               -0.25|\n",
      "|      5|     53.9|              null|              null|              null|               null| -0.3500000000000014|\n",
      "|      6|     54.1|54.379999999999995|              null|              null|               null| 0.20000000000000284|\n",
      "|      7|     54.5| 54.28666666666666|              null|              null|               null|  0.3999999999999986|\n",
      "|      8|    54.45| 54.35777777777778|              null|              null|               null|-0.04999999999999716|\n",
      "|      9|     54.5| 54.38851851851852|              null|              null|               null| 0.04999999999999716|\n",
      "|     10|     54.0|54.425679012345675|              null|              null|               null|                -0.5|\n",
      "|     11|     53.7| 54.28378600823046|54.345000000000006|              null|               null|-0.29999999999999716|\n",
      "|     12|     53.3| 54.08919067215364|54.227727272727286|              null|               null| -0.4000000000000057|\n",
      "|     13|    53.95| 53.82612711476909|54.059049586776865|              null|               null|  0.6500000000000057|\n",
      "|     14|     53.9| 53.86741807651273| 54.03922238918107|              null|               null|-0.05000000000000426|\n",
      "|     15|    54.05| 53.87827871767515| 54.01390922751179|              null|               null| 0.14999999999999858|\n",
      "|     16|     54.0|53.935519145116764| 54.02047118614601|              null|               null|-0.04999999999999716|\n",
      "|     17|     53.7| 53.95701276341117| 54.01674915230128|              null|               null|-0.29999999999999716|\n",
      "|     18|     53.5| 53.87134184227411| 53.95915839733741|              null|               null|-0.20000000000000284|\n",
      "|     19|    53.75| 53.74756122818275| 53.87567505236697|              null|               null|                0.25|\n",
      "|     20|     54.5| 53.74837415212183| 53.85282504284571|              null|               null|                0.75|\n",
      "|     21|     54.6| 53.99891610141456|53.970493216873756| 54.09000000000001|               null| 0.10000000000000142|\n",
      "|     22|     54.6| 54.19927740094304| 54.08494899562399|54.138571428571446| 0.5099999999999909|                 0.0|\n",
      "|     23|     54.8| 54.33285160062869| 54.17859463278327| 54.18251700680274|                0.5| 0.19999999999999574|\n",
      "|     24|     55.2| 54.48856773375246|54.291577426822684| 54.24132491091676| 0.7125000000000057|  0.4000000000000057|\n",
      "|     25|     55.0| 54.72571182250164|54.456745167400385|54.332627300353266| 1.0975000000000037|-0.20000000000000284|\n",
      "|     26|     55.4|54.817141215001094| 54.55551877332759|54.396186605081525| 0.8500000000000014|  0.3999999999999986|\n",
      "|     27|     55.6| 55.01142747666739|54.709060814540756|54.491787880788046| 1.1950000000000003| 0.20000000000000284|\n",
      "|     28|    55.65| 55.20761831777826| 54.87104975735153| 54.59733189214157| 1.3299999999999983| 0.04999999999999716|\n",
      "|     29|     56.1| 55.35507887851884|  55.0126770741967| 54.69758599765189| 1.3249999999999957| 0.45000000000000284|\n",
      "|     30|     55.7| 55.60338591901256| 55.21037215161548|54.831149235970756| 1.7149999999999963| -0.3999999999999986|\n",
      "|     31|     55.5| 55.63559061267504|55.299395396776305| 54.91389692778307| 1.2350000000000065|-0.20000000000000284|\n",
      "|     32|     55.8| 55.59039374178335|55.335868960998795| 54.96971626799421| 0.9500000000000028| 0.29999999999999716|\n",
      "|     33|     55.7|55.660262494522236| 55.42025642263538|55.048790909137615| 1.1599999999999966|-0.09999999999999432|\n",
      "|     34|     55.1| 55.67350832968149| 55.47111889124713|55.110810822553084| 0.9350000000000023| -0.6000000000000014|\n",
      "|     35|     55.2| 55.48233888645433|  55.4036427292022|55.109781220405175|0.24749999999999517| 0.10000000000000142|\n",
      "+-------+---------+------------------+------------------+------------------+-------------------+--------------------+\n",
      "only showing top 35 rows\n",
      "\n"
     ]
    }
   ],
   "source": [
    "#calculate ema [5,10,20] #cannot remove row_idx, row_idx for next window usage\n",
    "tetfp_dt2=tetfp_dt.withColumn(\"row_idx\", rank().over(wsSpec_etf)) \\\n",
    "    .withColumn(\"close_price_raw\", collect_list(col('etf_close')).over(wsSpec_etf_close_price_raw)) \\\n",
    "    .withColumn(\"EMA5\", calculate_ema(col(\"close_price_raw\"), lit(5)).cast(\"double\")) \\\n",
    "    .withColumn(\"EMA10\", calculate_ema(col(\"close_price_raw\"), lit(10)).cast(\"double\")) \\\n",
    "    .withColumn(\"EMA20\", calculate_ema(col(\"close_price_raw\"), lit(20)).cast(\"double\")) \\\n",
    "    .withColumn(\"BIAS\", calculate_bias(col(\"close_price_raw\")).cast(\"double\")) \\\n",
    "    .withColumn(\"close_diff\", calculate_close_diff(col(\"etf_close\"),col(\"close_price_raw\")).cast(\"double\"))\n",
    "    \n",
    "tetfp_dt2.printSchema()\n",
    "tetfp_dt2.filter(\"etf_id='0050   '\").select(\"row_idx\" ,\"etf_close\", \"EMA5\", \"EMA10\", \"EMA20\", \"BIAS\", \"close_diff\") \\\n",
    "            .show(35)\n",
    "#          .toPandas().to_csv(Path.replace(\"file:\",\"\") + \"/taetfp_BIAS.csv\",index=False)\n"
   ]
  },
  {
   "cell_type": "code",
   "execution_count": 18,
   "metadata": {
    "collapsed": true
   },
   "outputs": [],
   "source": [
    "#匯出成pandas\n",
    "etf_pd_50 = tetfp_dt2.filter(\"etf_id='0050   '\").select(\"row_idx\", \"etf_date\" ,\"etf_close\", \"EMA5\", \"EMA10\", \"EMA20\", \"BIAS\") \\\n",
    "                .toPandas()"
   ]
  },
  {
   "cell_type": "code",
   "execution_count": 19,
   "metadata": {},
   "outputs": [
    {
     "data": {
      "image/png": "[encoded data removed]",
      "text/plain": [
       "<matplotlib.figure.Figure at 0x202fd0c1080>"
      ]
     },
     "metadata": {},
     "output_type": "display_data"
    }
   ],
   "source": [
    "#圖形化顯示\n",
    "#aetf_pd_50.set_index('etf_date') #set_index 後配合 loc select 出區段資料來看\n",
    "etf_pd_50_part = etf_pd_50.loc[1200:]\n",
    "etf_pd_50_part.etf_close.plot(x='row_idx', y='etf_close', style='b--', label=\"etf_close\")\n",
    "etf_pd_50_part.EMA5.plot(x='row_idx', y='EMA5', label=\"EMA5\", style='r-')\n",
    "etf_pd_50_part.EMA10.plot(x='row_idx', y='EMA10', label=\"EMA10\", style='g-')\n",
    "etf_pd_50_part.EMA20.plot(x='row_idx', y='EMA20', label=\"EMA20\", style='y-')\n",
    "plt.legend()\n",
    "plt.show()"
   ]
  },
  {
   "cell_type": "code",
   "execution_count": 20,
   "metadata": {},
   "outputs": [
    {
     "name": "stdout",
     "output_type": "stream",
     "text": [
      "corr between  EMA5  and etf_close:  0.9903396716685617\n",
      "corr between  EMA10  and etf_close:  0.9811876234371903\n",
      "corr between  EMA20  and etf_close:  0.9640948902379288\n",
      "corr between  BIAS  and etf_close:  0.10899567830506812\n",
      "corr between BIAS and etf_close_diff:  -0.04429838763677454\n"
     ]
    }
   ],
   "source": [
    "#計算各欄位與收盤價之相關性\n",
    "corr_cols = ['EMA5','EMA10','EMA20','BIAS']\n",
    "for col in corr_cols:\n",
    "    print('corr between ', col , ' and etf_close: ', str(tetfp_dt2.corr(col, 'etf_close')))\n",
    "print('corr between BIAS and etf_close_diff: ', str(tetfp_dt2.corr('BIAS', 'close_diff')))"
   ]
  },
  {
   "cell_type": "code",
   "execution_count": 26,
   "metadata": {},
   "outputs": [
    {
     "name": "stdout",
     "output_type": "stream",
     "text": [
      "[46.92, 47.31, 47.0, 46.79, 46.49]\n",
      "46.66\n",
      "46.902\n",
      "1   2\n",
      "3   4\n"
     ]
    },
    {
     "data": {
      "text/plain": [
       "[0, 1]"
      ]
     },
     "execution_count": 26,
     "metadata": {},
     "output_type": "execute_result"
    }
   ],
   "source": [
    "#ll = [46.92, 47.31, 47.0, 46.79, 46.49, 46.66, 47.0, 46.96, 47.0]\n",
    "ll = [46.92, 47.31, 47.0, 46.79, 46.49, 46.66]\n",
    "win_len=5\n",
    "print(ll[: win_len])\n",
    "for x in ll[win_len:]:\n",
    "    print(x)\n",
    "ema = sum(ll[:win_len])/len(ll[:win_len])\n",
    "print(ema)\n",
    "for price in ll[win_len:]:\n",
    "    ema = (ema*(win_len-1)+price*2)/(win_len+1)\n",
    "tup1, tup2 = (1,2)\n",
    "print(tup1, ' ', tup2)\n",
    "tup = (3,4)\n",
    "print(tup[0], ' ', tup[1])\n",
    "list(range(0,2))"
   ]
  }
 ],
 "metadata": {
  "kernelspec": {
   "display_name": "Python 3",
   "language": "python",
   "name": "python3"
  },
  "language_info": {
   "codemirror_mode": {
    "name": "ipython",
    "version": 3
   },
   "file_extension": ".py",
   "mimetype": "text/x-python",
   "name": "python",
   "nbconvert_exporter": "python",
   "pygments_lexer": "ipython3",
   "version": "3.6.3"
  }
 },
 "nbformat": 4,
 "nbformat_minor": 2
}
