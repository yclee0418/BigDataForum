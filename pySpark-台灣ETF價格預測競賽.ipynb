{
 "cells": [
  {
   "cell_type": "markdown",
   "metadata": {},
   "source": [
    "Url: https://tbrain.trendmicro.com.tw/Competitions/Details/2"
   ]
  },
  {
   "cell_type": "code",
   "execution_count": 2,
   "metadata": {
    "collapsed": true
   },
   "outputs": [],
   "source": [
    "#import\n",
    "import numpy as np\n",
    "import pandas as pd\n",
    "import matplotlib.pyplot as plt\n",
    "from pyspark.sql import Row\n",
    "from pyspark.sql.functions import col, udf, lag, rank, lit\n",
    "from pyspark.sql.window import Window"
   ]
  },
  {
   "cell_type": "code",
   "execution_count": 1,
   "metadata": {
    "collapsed": true
   },
   "outputs": [],
   "source": [
    "global Path\n",
    "if sc.master[0:5]==\"local\":\n",
    "    Path = \"file:/c:/D Drive/work/bigData/pySpark/TBrain_Round2_DataSet_20180427\"\n",
    "    #Path = \"file:/Users/yungchuanlee/Documents/learn/AI競賽/ETF預測/TBrain_Round2_DataSet_20180427\"\n",
    "    #Path = \"file:/home/hduser/app/bigdata/competition/etf/TBrain_Round2_DataSet_20180427\"\n",
    "else:\n",
    "    Path = \"hdfs://master:9000/user/hduser\""
   ]
  },
  {
   "cell_type": "code",
   "execution_count": 3,
   "metadata": {},
   "outputs": [
    {
     "data": {
      "text/plain": [
       "'local[*]'"
      ]
     },
     "execution_count": 3,
     "metadata": {},
     "output_type": "execute_result"
    }
   ],
   "source": [
    "sc.master"
   ]
  },
  {
   "cell_type": "code",
   "execution_count": null,
   "metadata": {
    "collapsed": true
   },
   "outputs": [],
   "source": [
    "float(\"    46.57\")+float(\"     29,020\".replace(\",\",\"\"))"
   ]
  },
  {
   "cell_type": "code",
   "execution_count": 4,
   "metadata": {
    "collapsed": true
   },
   "outputs": [],
   "source": [
    "#define alias of columns\n",
    "col_alias_etf= {\"代碼\":\"etf_id\", \"日期\": \"etf_date\", \"中文簡稱\": \"etf_name\", \"開盤價(元)\":\"etf_open\", \n",
    "            \"最高價(元)\":\"etf_high\", \"最低價(元)\":\"etf_low\", \"收盤價(元)\":\"etf_close\", \"成交張數(張)\":\"etf_count\"}\n",
    "col_alias_stock= {\"代碼\":\"stock_id\", \"日期\": \"stock_date\", \"中文簡稱\": \"stock_name\", \"開盤價(元)\":\"stock_open\", \n",
    "            \"最高價(元)\":\"stock_high\", \"最低價(元)\":\"stock_low\", \"收盤價(元)\":\"stock_close\", \"成交張數(張)\":\"stock_count\"}"
   ]
  },
  {
   "cell_type": "code",
   "execution_count": 5,
   "metadata": {
    "collapsed": true
   },
   "outputs": [],
   "source": [
    "#udf\n",
    "def to_double(str_val):\n",
    "    return float(str_val.replace(\",\",\"\"))\n",
    "to_double=udf(to_double)"
   ]
  },
  {
   "cell_type": "code",
   "execution_count": 6,
   "metadata": {
    "collapsed": true
   },
   "outputs": [],
   "source": [
    "#def function to read data (因檔案格式都相同)\n",
    "def read_data(file_name, col_alias):\n",
    "    str_cols = [\"代碼\",\"日期\", \"中文簡稱\"]\n",
    "    raw_data = spark.read.option(\"encoding\", \"Big5\").csv(Path + \"/\" + file_name, header=True, sep=\",\")\n",
    "    print(\"Total \" + file_name + \" count: \" + str(raw_data.count()))\n",
    "    #rename cols and correct type \n",
    "    num_cols = [col_name for col_name in raw_data.columns if col_name not in str_cols]\n",
    "    final_data=raw_data.select( [col(str_col_name).alias(col_alias[str_col_name]) for str_col_name in str_cols] + \n",
    "                                  [to_double(col(num_col_name)).cast(\"double\").alias(col_alias[num_col_name]) for num_col_name in num_cols] )\n",
    "    final_data.printSchema()\n",
    "    final_data.show(5)\n",
    "    return final_data"
   ]
  },
  {
   "cell_type": "code",
   "execution_count": 7,
   "metadata": {},
   "outputs": [
    {
     "name": "stdout",
     "output_type": "stream",
     "text": [
      "starting import tetfp.csv(台灣18檔ETF股價資料)...\n",
      "Total tetfp.csv count: 6515\n",
      "root\n",
      " |-- etf_id: string (nullable = true)\n",
      " |-- etf_date: string (nullable = true)\n",
      " |-- etf_name: string (nullable = true)\n",
      " |-- etf_open: double (nullable = true)\n",
      " |-- etf_high: double (nullable = true)\n",
      " |-- etf_low: double (nullable = true)\n",
      " |-- etf_close: double (nullable = true)\n",
      " |-- etf_count: double (nullable = true)\n",
      "\n",
      "+-------+--------+----------------+--------+--------+-------+---------+---------+\n",
      "| etf_id|etf_date|        etf_name|etf_open|etf_high|etf_low|etf_close|etf_count|\n",
      "+-------+--------+----------------+--------+--------+-------+---------+---------+\n",
      "|0050   |20130102|元大台灣50          |    54.0|   54.65|   53.9|     54.4|  16487.0|\n",
      "|0050   |20130103|元大台灣50          |    54.9|   55.05|  54.65|    54.85|  29020.0|\n",
      "|0050   |20130104|元大台灣50          |   54.85|   54.85|   54.4|     54.5|   9837.0|\n",
      "|0050   |20130107|元大台灣50          |   54.55|   54.55|   53.9|    54.25|   8910.0|\n",
      "|0050   |20130108|元大台灣50          |    54.0|    54.2|  53.65|     53.9|  12507.0|\n",
      "+-------+--------+----------------+--------+--------+-------+---------+---------+\n",
      "only showing top 5 rows\n",
      "\n"
     ]
    }
   ],
   "source": [
    "print(\"starting import tetfp.csv(台灣18檔ETF股價資料)...\")\n",
    "tetfp_dt=read_data(\"tetfp.csv\", col_alias_etf)"
   ]
  },
  {
   "cell_type": "code",
   "execution_count": null,
   "metadata": {
    "collapsed": true
   },
   "outputs": [],
   "source": [
    "#EDA\n",
    "#range of date\n",
    "tetfp_dt.describe('etf_date').show()"
   ]
  },
  {
   "cell_type": "code",
   "execution_count": null,
   "metadata": {
    "collapsed": true
   },
   "outputs": [],
   "source": [
    "# print(\"starting import taetfp.csv(台灣18檔ETF調整後股價資料)...\")\n",
    "# taetfp_dt=read_data(\"taetfp.csv\", col_alias_etf)"
   ]
  },
  {
   "cell_type": "code",
   "execution_count": null,
   "metadata": {
    "collapsed": true,
    "scrolled": true
   },
   "outputs": [],
   "source": [
    "# print(\"starting import tsharep.csv(台灣個股股價資料)...\")\n",
    "# tsharep_dt=read_data(\"tsharep.csv\", col_alias_stock)"
   ]
  },
  {
   "cell_type": "code",
   "execution_count": null,
   "metadata": {
    "collapsed": true
   },
   "outputs": [],
   "source": [
    "# print(\"starting import tasharep.csv(台灣個股調整後股價資料)...\")\n",
    "# tasharep_dt=read_data(\"tasharep.csv\", col_alias_stock)"
   ]
  },
  {
   "cell_type": "code",
   "execution_count": 8,
   "metadata": {
    "collapsed": true
   },
   "outputs": [],
   "source": [
    "import sys\n",
    "from pyspark.sql.functions import lag, col, avg,collect_list, lit\n",
    "from pyspark.sql.window import Window\n",
    "from pyspark.sql.types import ArrayType, DoubleType, IntegerType\n",
    "#declare previous row windows\n",
    "wsSpec_etf = Window.partitionBy('etf_id').orderBy('etf_date') #time window for normal case\n",
    "wsSpec_etf_close_price_raw = Window.partitionBy('etf_id').orderBy('row_idx').rangeBetween(-sys.maxsize, -1)\n",
    "wsSpec_etf_dif_raw = Window.partitionBy('etf_id').orderBy('row_idx').rangeBetween(-sys.maxsize, 0)\n",
    "def avg_list(p_list):\n",
    "    #計算數字list的平均值\n",
    "    return sum(p_list)/len(p_list)\n",
    "#計算EMA的udf\n",
    "def calculate_ema_native(close_p_list, window_len):\n",
    "    #透過歷史收盤價計算\n",
    "    if len(close_p_list) < window_len:\n",
    "        return None\n",
    "    elif len(close_p_list) == window_len:\n",
    "        #if len of list = win_len then return avg, \n",
    "        return avg_list(close_p_list)\n",
    "    else:\n",
    "        #else EMA[t] =(EMA[t-1]*(win_len-1)+close[t]*2)/(win_len+1)\n",
    "        ema = avg_list(close_p_list[:window_len])\n",
    "        for price in close_p_list[window_len:]:\n",
    "            ema = (ema*(window_len-1)+price*2)/(window_len+1)\n",
    "        return ema\n",
    "calculate_ema=udf(calculate_ema_native, DoubleType())\n",
    "#計算BIAS的udf\n",
    "def calculate_bias(close_p_list):\n",
    "    #計算前日收盤價與N日均線之差比: (close price - MA)/MA   ,Paper 建議用20日MA\n",
    "    #因要預測今日的收盤價，故計算前日收盤價與前20日均線\n",
    "    if len(close_p_list) < 21:\n",
    "        return None\n",
    "    else:\n",
    "        list_len = len(close_p_list)\n",
    "        p_close = close_p_list[-1]\n",
    "        cal_list = close_p_list[list_len-21: list_len-1]\n",
    "        return p_close - avg_list(cal_list)\n",
    "calculate_bias=udf(calculate_bias, DoubleType())\n",
    "\n",
    "def get_min_max_last(p_list):\n",
    "    #找出list中最大最小和最後一個值, 回傳(min, max, last)\n",
    "    return (min(p_list), max(p_list), p_list[-1])\n",
    "def calculate_raw_rsv(p_list):\n",
    "    #RSV = (收盤價-9日低值)/(9日高值-9日低值)\n",
    "    p_min, p_max, p_last = get_min_max_last(p_list)\n",
    "    rsv = (p_last - p_min)/(p_max - p_min)\n",
    "    return rsv\n",
    "def calculate_rsv(p_9_list, k_prev, d_prev):\n",
    "    #計算加權後的RSV，p_9_list=>9日收盤價\n",
    "    rrsv = calculate_raw_rsv(p_9_list)\n",
    "    k_curr = (1/3)*rrsv + (2/3)*k_prev\n",
    "    d_curr = (1/3)*k_curr + (2/3)*d_prev\n",
    "    return [k_curr, d_curr]\n",
    "#計算隨機指標（Stochastic Oscillator，KD），原名%K&%D\n",
    "def calculate_KD(close_p_list):\n",
    "    win_len = 9 #看過去 9 日值\n",
    "    #RSV = (收盤價-9日低值)/(9日高值-9日低值)\n",
    "    #K_curr = 1/3*RSV + 2/3*K_prev\n",
    "    #D_curr = 1/3*K_curr + 2/3*D_prev\n",
    "    if len(close_p_list) < win_len:\n",
    "        return None\n",
    "    elif len(close_p_list) == win_len:\n",
    "        #無前日K, D時，以0.5帶入\n",
    "        return calculate_rsv(close_p_list, 0.5, 0.5)\n",
    "    else:\n",
    "        kds = calculate_rsv(close_p_list[0:9], 0.5, 0.5)\n",
    "        for idx in range(1, (len(close_p_list)+1-9)):\n",
    "            p_9_list = close_p_list[idx: idx+9]\n",
    "            kds = calculate_rsv(p_9_list, kds[0], kds[1])\n",
    "        return kds\n",
    "calculate_KD=udf(calculate_KD, ArrayType(DoubleType()))\n",
    "\n",
    "#計算差離值DIF = 12日EMA - 26日EMA\n",
    "def calculate_DIF(close_p_list):\n",
    "    if len(close_p_list) < 26:\n",
    "        return None\n",
    "    else:\n",
    "        ema12 = calculate_ema_native(close_p_list, 12)\n",
    "        ema26 = calculate_ema_native(close_p_list, 26)\n",
    "        return ema12 - ema26\n",
    "calculate_DIF=udf(calculate_DIF, DoubleType())\n",
    "\n",
    "#計算MACD=(前一日MACD × (9 - 1) + 今日DIF × 2) ÷ (9 + 1)\n",
    "def calculate_MACD(dif_list, dif_curr):\n",
    "    win_len = 9\n",
    "    if len(dif_list) < win_len:\n",
    "        return None\n",
    "    elif len(dif_list) == win_len:\n",
    "        #if len of list = win_len then return avg, \n",
    "        return avg_list(dif_list)\n",
    "    else:\n",
    "        #MACD=(前一日MACD × (9 - 1) + 今日DIF × 2) ÷ (9 + 1)\n",
    "        macd = avg_list(dif_list[:win_len])\n",
    "        for price in dif_list[win_len:]:\n",
    "            macd = (macd*(win_len-1)+dif_curr*2)/(win_len+1)\n",
    "        return macd\n",
    "calculate_MACD=udf(calculate_MACD, DoubleType())\n",
    "\n",
    "#計算相對強弱指數(RSI)\n",
    "def calculate_RSI(close_p_list):\n",
    "    win_len = 9\n",
    "    if len(close_p_list) < (win_len + 1):\n",
    "        return None\n",
    "    else:\n",
    "        cur_list = close_p_list[1:]\n",
    "        prv_list = close_p_list[0:-1]\n",
    "        p_dif_list = list(map(lambda x,y : x - y, cur_list, prv_list)) #dif list\n",
    "        u_list = []\n",
    "        d_list = []\n",
    "        for dif in p_dif_list:\n",
    "            if dif == 0:\n",
    "                #若兩天價格相同，則U及D皆等於零\n",
    "                u_list.append(0)\n",
    "                d_list.append(0)\n",
    "            elif dif > 0:\n",
    "                #在價格上升的日子, U = diff, D = 0\n",
    "                u_list.append(dif)\n",
    "                d_list.append(0)\n",
    "            else:\n",
    "                #在價格下跌的日子, U = 0, D = abs(diff)\n",
    "                u_list.append(0)\n",
    "                d_list.append(abs(dif))\n",
    "        #RSI = ema(u,9)/(ema(u,9)+ema(d,9))\n",
    "        ema_u = calculate_ema_native(u_list, win_len)\n",
    "        ema_d = calculate_ema_native(d_list, win_len)\n",
    "        return ema_u/(ema_u + ema_d)\n",
    "calculate_RSI=udf(calculate_RSI, DoubleType())\n",
    "\n",
    "#計算威廉指標（Williams %R）\n",
    "def calculate_WR(close_p_list):\n",
    "    win_len = 9\n",
    "    if len(close_p_list) < win_len:\n",
    "        return None\n",
    "    else:\n",
    "        p_list = close_p_list[len(close_p_list) - win_len :]\n",
    "        return 1.0 - calculate_raw_rsv(p_list)\n",
    "calculate_WR=udf(calculate_WR, DoubleType())\n"
   ]
  },
  {
   "cell_type": "code",
   "execution_count": 9,
   "metadata": {
    "scrolled": true
   },
   "outputs": [
    {
     "name": "stdout",
     "output_type": "stream",
     "text": [
      "root\n",
      " |-- etf_id: string (nullable = true)\n",
      " |-- etf_date: string (nullable = true)\n",
      " |-- etf_name: string (nullable = true)\n",
      " |-- etf_open: double (nullable = true)\n",
      " |-- etf_high: double (nullable = true)\n",
      " |-- etf_low: double (nullable = true)\n",
      " |-- etf_close: double (nullable = true)\n",
      " |-- etf_count: double (nullable = true)\n",
      " |-- row_idx: integer (nullable = true)\n",
      " |-- close_price_raw: array (nullable = true)\n",
      " |    |-- element: double (containsNull = true)\n",
      " |-- EMA5: double (nullable = true)\n",
      " |-- EMA10: double (nullable = true)\n",
      " |-- EMA20: double (nullable = true)\n",
      " |-- BIAS: double (nullable = true)\n",
      " |-- KD: array (nullable = true)\n",
      " |    |-- element: double (containsNull = true)\n",
      " |-- K: double (nullable = true)\n",
      " |-- D: double (nullable = true)\n",
      " |-- DIF: double (nullable = true)\n",
      " |-- dif_list: array (nullable = true)\n",
      " |    |-- element: double (containsNull = true)\n",
      " |-- MACD: double (nullable = true)\n",
      " |-- RSI: double (nullable = true)\n",
      " |-- WR: double (nullable = true)\n",
      "\n"
     ]
    }
   ],
   "source": [
    "#calculate ema [5,10,20] #cannot remove row_idx, row_idx for next window usage\n",
    "tetfp_dt2=tetfp_dt.withColumn(\"row_idx\", rank().over(wsSpec_etf)) \\\n",
    "    .withColumn(\"close_price_raw\", collect_list(col('etf_close')).over(wsSpec_etf_close_price_raw)) \\\n",
    "    .withColumn(\"EMA5\", calculate_ema(col(\"close_price_raw\"), lit(5))) \\\n",
    "    .withColumn(\"EMA10\", calculate_ema(col(\"close_price_raw\"), lit(10))) \\\n",
    "    .withColumn(\"EMA20\", calculate_ema(col(\"close_price_raw\"), lit(20))) \\\n",
    "    .withColumn(\"BIAS\", calculate_bias(col(\"close_price_raw\"))) \\\n",
    "    .withColumn(\"KD\", calculate_KD(col(\"close_price_raw\"))) \\\n",
    "    .withColumn(\"K\", col(\"KD\")[0]).withColumn(\"D\", col(\"KD\")[1]) \\\n",
    "    .withColumn(\"DIF\", calculate_DIF(col(\"close_price_raw\"))) \\\n",
    "    .withColumn(\"dif_list\", collect_list(col('DIF')).over(wsSpec_etf_dif_raw)) \\\n",
    "    .withColumn(\"MACD\", calculate_MACD(col(\"dif_list\"), col(\"DIF\"))) \\\n",
    "    .withColumn(\"RSI\", calculate_RSI(col(\"close_price_raw\")))\\\n",
    "    .withColumn(\"WR\", calculate_WR(col(\"close_price_raw\")))\n",
    "\n",
    "tetfp_dt2.cache()\n",
    "tetfp_dt2.printSchema()"
   ]
  },
  {
   "cell_type": "code",
   "execution_count": null,
   "metadata": {
    "collapsed": true
   },
   "outputs": [],
   "source": [
    "tetfp_dt2.filter(\"etf_id='0050   '\").select(\"row_idx\", \"etf_close\", \"MACD\", \"RSI\", \"WR\") \\\n",
    "            .show(45)\n",
    "#          .toPandas().to_csv(Path.replace(\"file:\",\"\") + \"/taetfp_BIAS.csv\",index=False)"
   ]
  },
  {
   "cell_type": "code",
   "execution_count": null,
   "metadata": {
    "collapsed": true
   },
   "outputs": [],
   "source": [
    "#匯出成pandas\n",
    "etf_pd_50 = tetfp_dt2.filter(\"etf_id='0050   '\").select(\"row_idx\", \"etf_date\" ,\"etf_close\", \"EMA5\", \"EMA10\", \"EMA20\", \"BIAS\") \\\n",
    "                .toPandas()"
   ]
  },
  {
   "cell_type": "code",
   "execution_count": null,
   "metadata": {
    "collapsed": true
   },
   "outputs": [],
   "source": [
    "#圖形化顯示\n",
    "#aetf_pd_50.set_index('etf_date') #set_index 後配合 loc select 出區段資料來看\n",
    "etf_pd_50_part = etf_pd_50.loc[1200:]\n",
    "etf_pd_50_part.etf_close.plot(x='row_idx', y='etf_close', style='b--', label=\"etf_close\")\n",
    "etf_pd_50_part.EMA5.plot(x='row_idx', y='EMA5', label=\"EMA5\", style='r-')\n",
    "etf_pd_50_part.EMA10.plot(x='row_idx', y='EMA10', label=\"EMA10\", style='g-')\n",
    "etf_pd_50_part.EMA20.plot(x='row_idx', y='EMA20', label=\"EMA20\", style='y-')\n",
    "plt.legend()\n",
    "plt.show()"
   ]
  },
  {
   "cell_type": "code",
   "execution_count": null,
   "metadata": {
    "collapsed": true
   },
   "outputs": [],
   "source": [
    "#計算各欄位與收盤價之相關性\n",
    "corr_cols = ['EMA5','EMA10','EMA20','BIAS','K','D']\n",
    "for col in corr_cols:\n",
    "    print('corr between ', col , ' and etf_close: ', str(tetfp_dt2.corr(col, 'etf_close')))"
   ]
  },
  {
   "cell_type": "code",
   "execution_count": null,
   "metadata": {
    "collapsed": true
   },
   "outputs": [],
   "source": [
    "from pyspark.ml.feature import MinMaxScaler, StandardScaler\n",
    "from pyspark.ml.linalg import Vectors\n",
    "\n",
    "dataFrame = spark.createDataFrame([\n",
    "    (0, Vectors.dense([1.0, 0.1, -1.0]),),\n",
    "    (1, Vectors.dense([2.0, 1.1, 1.0]),),\n",
    "    (2, Vectors.dense([3.0, 10.1, 3.0]),)\n",
    "], [\"id\", \"features\"])\n",
    "\n",
    "scaler = StandardScaler(inputCol=\"features\", outputCol=\"scaledFeatures\")\n",
    "\n",
    "# Compute summary statistics and generate MinMaxScalerModel\n",
    "scalerModel = scaler.fit(dataFrame)\n",
    "\n",
    "# rescale each feature to range [min, max].\n",
    "scaledData = scalerModel.transform(dataFrame)\n",
    "#print(\"Features scaled to range: [%f, %f]\" % (scaler.getMin(), scaler.getMax()))\n",
    "scaledData.select(\"features\", \"scaledFeatures\").show()"
   ]
  },
  {
   "cell_type": "code",
   "execution_count": 31,
   "metadata": {
    "collapsed": true
   },
   "outputs": [],
   "source": [
    "from pyspark.ml.feature import MinMaxScaler, StandardScaler\n",
    "from pyspark.ml.linalg import Vectors\n",
    "tot_dt = tetfp_dt2.filter(\"MACD is not null\") \\\n",
    "    .select(\"etf_id\", \"etf_date\", \"EMA5\", \"EMA10\", \"EMA20\", \"BIAS\", \"K\", \"D\", \"DIF\", \"MACD\", \"RSI\", \"WR\", \"etf_close\") \\\n",
    "    .orderBy(\"etf_id\", \"etf_date\", ascending=True)\n",
    "    \n",
    "from pyspark.ml.linalg import Vectors\n",
    "from pyspark.ml.feature import VectorAssembler\n",
    "#將Feature合併為Vector 並作標準化\n",
    "assembler = VectorAssembler(\n",
    "    inputCols=[\"EMA5\", \"EMA10\", \"EMA20\", \"BIAS\", \"K\", \"D\", \"DIF\", \"MACD\", \"RSI\", \"WR\"],\n",
    "    outputCol=\"features\")\n",
    "tot_dt_1 = assembler.transform(tot_dt)\n",
    "minmax_scaler = MinMaxScaler(inputCol=\"features\", outputCol=\"stdFeatures\")\n",
    "scaler_model = minmax_scaler.fit(tot_dt_1)\n",
    "#std_scaler = StandardScaler(inputCol=\"features\", outputCol=\"stdFeatures\")\n",
    "#scaler_model = std_scaler.fit(tot_dt_1)\n",
    "tot_dt_scale = scaler_model.transform(tot_dt_1)\n",
    "#tot_dt_scale=tot_dt_1.withColumn(\"stdFeatures\", col(\"features\")) #測試不作標準化"
   ]
  },
  {
   "cell_type": "code",
   "execution_count": 32,
   "metadata": {},
   "outputs": [
    {
     "name": "stdout",
     "output_type": "stream",
     "text": [
      "train count:  6295 , test count:  50\n",
      "+-------+--------+--------------------+---------+\n",
      "| etf_id|etf_date|         stdFeatures|etf_close|\n",
      "+-------+--------+--------------------+---------+\n",
      "|0050   |20130227|[0.53620109816940...|     55.2|\n",
      "|0050   |20130301|[0.53483073093963...|     55.4|\n",
      "|0050   |20130304|[0.53488787789412...|    54.75|\n",
      "|0050   |20130305|[0.53177111926385...|     55.2|\n",
      "|0050   |20130306|[0.53187741166926...|    55.45|\n",
      "|0050   |20130307|[0.53316167965746...|     55.4|\n",
      "|0050   |20130308|[0.53377517703935...|     55.8|\n",
      "|0050   |20130311|[0.53612562550928...|     55.9|\n",
      "|0050   |20130312|[0.53817795370974...|    55.55|\n",
      "|0050   |20130313|[0.53784740357162...|    55.65|\n",
      "+-------+--------+--------------------+---------+\n",
      "only showing top 10 rows\n",
      "\n",
      "+-------+--------+--------------------+---------+\n",
      "| etf_id|etf_date|         stdFeatures|etf_close|\n",
      "+-------+--------+--------------------+---------+\n",
      "|0050   |20180416|[0.92953843147841...|     82.3|\n",
      "|0050   |20180417|[0.92858887190201...|     81.4|\n",
      "|0050   |20180418|[0.92358756919989...|     81.6|\n",
      "|0050   |20180419|[0.92122409250614...|    82.65|\n",
      "|0050   |20180420|[0.92474474819226...|    80.75|\n",
      "|0050   |20180423|[0.91786996346012...|    79.95|\n",
      "|0050   |20180424|[0.90940387320799...|    79.55|\n",
      "|0050   |20180425|[0.90181836282456...|     79.3|\n",
      "|0050   |20180426|[0.89554794951769...|    79.05|\n",
      "|0050   |20180427|[0.89015426759518...|     79.2|\n",
      "+-------+--------+--------------------+---------+\n",
      "only showing top 10 rows\n",
      "\n"
     ]
    }
   ],
   "source": [
    "#取出4/16~4/27 (共兩週資料作為測試集)\n",
    "train_dt = tot_dt_scale.filter(\"etf_date < '20180416' and MACD is not null\") \\\n",
    "    .select(\"etf_id\", \"etf_date\", \"stdFeatures\", \"etf_close\") \\\n",
    "    .orderBy(\"etf_id\", \"etf_date\", ascending=True)\n",
    "test_dt = tot_dt_scale.filter(\"etf_date >= '20180416'\") \\\n",
    "    .select(\"etf_id\", \"etf_date\", \"stdFeatures\", \"etf_close\") \\\n",
    "    .orderBy(\"etf_id\", \"etf_date\", ascending=True)\n",
    "print('train count: ', str(train_dt.count()), ', test count: ', str(test_dt.count()))\n",
    "train_dt.show(10)\n",
    "test_dt.show(10)"
   ]
  },
  {
   "cell_type": "code",
   "execution_count": 33,
   "metadata": {},
   "outputs": [
    {
     "data": {
      "text/plain": [
       "DataFrame[etf_id: string, etf_date: string, stdFeatures: vector, etf_close: double]"
      ]
     },
     "execution_count": 33,
     "metadata": {},
     "output_type": "execute_result"
    }
   ],
   "source": [
    "train_dt.cache()\n",
    "test_dt.cache()"
   ]
  },
  {
   "cell_type": "code",
   "execution_count": 34,
   "metadata": {},
   "outputs": [
    {
     "data": {
      "text/plain": [
       "['0051   ', '0052   ', '0050   ', '0054   ', '0053   ']"
      ]
     },
     "execution_count": 34,
     "metadata": {},
     "output_type": "execute_result"
    }
   ],
   "source": [
    "#取出etf的distinct id\n",
    "etf_ids = []\n",
    "for row in test_dt.select(\"etf_id\").distinct().collect():\n",
    "    etf_ids.append(row[\"etf_id\"])\n",
    "etf_ids"
   ]
  },
  {
   "cell_type": "code",
   "execution_count": 35,
   "metadata": {
    "collapsed": true
   },
   "outputs": [],
   "source": [
    "from pyspark.ml.evaluation import MulticlassClassificationEvaluator\n",
    "#計算上或下的值\n",
    "def judge_up_down_native(curr_price, prev_price):\n",
    "    if prev_price is None:\n",
    "        return 0.0\n",
    "    elif curr_price == prev_price:\n",
    "        return 0.0\n",
    "    elif curr_price > prev_price:\n",
    "        return 1.0\n",
    "    else:\n",
    "        return 2.0\n",
    "judge_up_down=udf(judge_up_down_native, DoubleType())"
   ]
  },
  {
   "cell_type": "code",
   "execution_count": 36,
   "metadata": {},
   "outputs": [
    {
     "name": "stdout",
     "output_type": "stream",
     "text": [
      "+-------+--------+--------------------+---------+------------------+\n",
      "| etf_id|etf_date|         stdFeatures|etf_close|        prediction|\n",
      "+-------+--------+--------------------+---------+------------------+\n",
      "|0051   |20180416|[0.20543448411836...|    33.18|32.272727166623966|\n",
      "|0051   |20180417|[0.20744282055079...|     33.0|32.272727166623966|\n",
      "|0051   |20180418|[0.20790805890884...|    32.75| 32.25016204057355|\n",
      "|0051   |20180419|[0.20700481142961...|    33.15| 32.25016204057355|\n",
      "|0051   |20180420|[0.20834409665881...|    33.02| 32.25016204057355|\n",
      "|0051   |20180423|[0.20860598215828...|     33.0| 32.25016204057355|\n",
      "|0051   |20180424|[0.20868349998050...|    32.44|   32.238099221696|\n",
      "|0051   |20180425|[0.20601714822716...|    32.02|32.195556933138775|\n",
      "|0051   |20180426|[0.20220105766549...|    31.71|31.638017112483357|\n",
      "|0051   |20180427|[0.19815237337414...|    32.11|31.419513277104578|\n",
      "+-------+--------+--------------------+---------+------------------+\n",
      "only showing top 10 rows\n",
      "\n",
      "root\n",
      " |-- etf_id: string (nullable = true)\n",
      " |-- etf_date: string (nullable = true)\n",
      " |-- stdFeatures: vector (nullable = true)\n",
      " |-- etf_close: double (nullable = true)\n",
      " |-- prediction: double (nullable = true)\n",
      " |-- prev_close: double (nullable = true)\n",
      " |-- prev_pred_close: double (nullable = true)\n",
      " |-- act_ud: double (nullable = true)\n",
      " |-- pred_ud: double (nullable = true)\n",
      "\n",
      "+-------+--------+---------+----------+------------------+------+-------+\n",
      "| etf_id|etf_date|etf_close|prev_close|        prediction|act_ud|pred_ud|\n",
      "+-------+--------+---------+----------+------------------+------+-------+\n",
      "|0051   |20180416|    33.18|      null|32.272727166623966|   0.0|    0.0|\n",
      "|0051   |20180417|     33.0|     33.18|32.272727166623966|   2.0|    0.0|\n",
      "|0051   |20180418|    32.75|      33.0| 32.25016204057355|   2.0|    2.0|\n",
      "|0051   |20180419|    33.15|     32.75| 32.25016204057355|   1.0|    0.0|\n",
      "|0051   |20180420|    33.02|     33.15| 32.25016204057355|   2.0|    0.0|\n",
      "|0051   |20180423|     33.0|     33.02| 32.25016204057355|   2.0|    0.0|\n",
      "|0051   |20180424|    32.44|      33.0|   32.238099221696|   2.0|    2.0|\n",
      "|0051   |20180425|    32.02|     32.44|32.195556933138775|   2.0|    2.0|\n",
      "|0051   |20180426|    31.71|     32.02|31.638017112483357|   2.0|    2.0|\n",
      "|0051   |20180427|    32.11|     31.71|31.419513277104578|   1.0|    2.0|\n",
      "+-------+--------+---------+----------+------------------+------+-------+\n",
      "only showing top 10 rows\n",
      "\n",
      "Root Mean Squared Error (RMSE) on test data = 0.92546\n",
      "accuracy = 0.56 \n"
     ]
    }
   ],
   "source": [
    "#訓練Model及評估(RandomForestRegressor - etf_id wise) \n",
    "#-- accuracy:0.48, (RMSE) on test data = 0.938023 --> using stdScaler\n",
    "#-- accuracy:0.48, (RMSE) on test data = 0.87064 --> no Scaler\n",
    "#-- accuracy:0.56, (RMSE) on test data = 0.92546 --> use minmaxScaler\n",
    "from pyspark.ml.regression import RandomForestRegressor\n",
    "from pyspark.ml.evaluation import RegressionEvaluator\n",
    "rf = RandomForestRegressor(featuresCol=\"stdFeatures\",labelCol=\"etf_close\")\n",
    "predit_res = None\n",
    "for etfid in etf_ids:\n",
    "    train_data = train_dt.filter(\"etf_id='\" + etfid + \"'\")\n",
    "    test_data = test_dt.filter(\"etf_id='\" + etfid + \"'\")\n",
    "    rf_model = rf.fit(train_data)\n",
    "    predicts = rf_model.transform(test_data)\n",
    "    if predit_res is None:\n",
    "        predit_res = predicts\n",
    "    else:\n",
    "        predit_res = predit_res.unionAll(predicts)\n",
    "predit_res.show(10)\n",
    "\n",
    "predit_res_2 = predit_res.withColumn(\"prev_close\", lag(\"etf_close\").over(wsSpec_etf)) \\\n",
    "    .withColumn(\"prev_pred_close\", lag(\"prediction\").over(wsSpec_etf)) \\\n",
    "    .withColumn(\"act_ud\", judge_up_down(col(\"etf_close\"), col(\"prev_close\"))) \\\n",
    "    .withColumn(\"pred_ud\", judge_up_down(col(\"prediction\"), col(\"prev_pred_close\")))\n",
    "predit_res_2.printSchema()\n",
    "predit_res_2.select(\"etf_id\", \"etf_date\", \"etf_close\", \"prev_close\", \"prediction\", \"act_ud\", \"pred_ud\").show(10)\n",
    "\n",
    "#評估RMES\n",
    "evaluator = RegressionEvaluator(\n",
    "    labelCol=\"etf_close\", predictionCol=\"prediction\", metricName=\"rmse\")\n",
    "rmse = evaluator.evaluate(predit_res)\n",
    "print(\"Root Mean Squared Error (RMSE) on test data = %g\" % rmse)\n",
    "evaluator = MulticlassClassificationEvaluator(\n",
    "    labelCol=\"act_ud\", predictionCol=\"pred_ud\", metricName=\"accuracy\")\n",
    "accuracy = evaluator.evaluate(predit_res_2)\n",
    "print(\"accuracy = %g \" % accuracy)"
   ]
  },
  {
   "cell_type": "code",
   "execution_count": 37,
   "metadata": {
    "scrolled": true
   },
   "outputs": [
    {
     "name": "stdout",
     "output_type": "stream",
     "text": [
      "+-------+--------+--------------------+---------+-----------------+\n",
      "| etf_id|etf_date|         stdFeatures|etf_close|       prediction|\n",
      "+-------+--------+--------------------+---------+-----------------+\n",
      "|0050   |20180416|[0.92953843147841...|     82.3|81.67026714395982|\n",
      "|0050   |20180417|[0.92858887190201...|     81.4|81.67026714395982|\n",
      "|0050   |20180418|[0.92358756919989...|     81.6|81.20613989283751|\n",
      "|0050   |20180419|[0.92122409250614...|    82.65|80.98208310393163|\n",
      "|0050   |20180420|[0.92474474819226...|    80.75|81.72454673727862|\n",
      "|0050   |20180423|[0.91786996346012...|    79.95|80.98208310393163|\n",
      "|0050   |20180424|[0.90940387320799...|    79.55|80.89436908878012|\n",
      "|0050   |20180425|[0.90181836282456...|     79.3|80.71621871284026|\n",
      "|0050   |20180426|[0.89554794951769...|    79.05|80.62107093356967|\n",
      "|0050   |20180427|[0.89015426759518...|     79.2|80.33656302169359|\n",
      "+-------+--------+--------------------+---------+-----------------+\n",
      "only showing top 10 rows\n",
      "\n",
      "root\n",
      " |-- etf_id: string (nullable = true)\n",
      " |-- etf_date: string (nullable = true)\n",
      " |-- stdFeatures: vector (nullable = true)\n",
      " |-- etf_close: double (nullable = true)\n",
      " |-- prediction: double (nullable = true)\n",
      " |-- prev_close: double (nullable = true)\n",
      " |-- prev_pred_close: double (nullable = true)\n",
      " |-- act_ud: double (nullable = true)\n",
      " |-- pred_ud: double (nullable = true)\n",
      "\n",
      "+-------+--------+---------+----------+-----------------+------+-------+\n",
      "| etf_id|etf_date|etf_close|prev_close|       prediction|act_ud|pred_ud|\n",
      "+-------+--------+---------+----------+-----------------+------+-------+\n",
      "|0051   |20180416|    33.18|      null|33.70006671378054|   0.0|    0.0|\n",
      "|0051   |20180417|     33.0|     33.18|33.70006671378054|   2.0|    0.0|\n",
      "|0051   |20180418|    32.75|      33.0|33.70006671378054|   2.0|    0.0|\n",
      "|0051   |20180419|    33.15|     32.75|33.66109966744713|   1.0|    2.0|\n",
      "|0051   |20180420|    33.02|     33.15|33.70006671378054|   2.0|    1.0|\n",
      "|0051   |20180423|     33.0|     33.02|33.70006671378054|   2.0|    0.0|\n",
      "|0051   |20180424|    32.44|      33.0|33.66109966744713|   2.0|    2.0|\n",
      "|0051   |20180425|    32.02|     32.44|33.60955527809957|   2.0|    2.0|\n",
      "|0051   |20180426|    31.71|     32.02|33.60955527809957|   2.0|    0.0|\n",
      "|0051   |20180427|    32.11|     31.71|32.33243298898402|   1.0|    2.0|\n",
      "+-------+--------+---------+----------+-----------------+------+-------+\n",
      "only showing top 10 rows\n",
      "\n",
      "Root Mean Squared Error (RMSE) on test data = 1.03473\n",
      "accuracy = 0.46 \n"
     ]
    }
   ],
   "source": [
    "#訓練Model及評估(RandomForestRegressor - one model for all)\n",
    "#accuracy = 0.42  (RMSE) on test data = 1.11267 --> using stdScaler\n",
    "#accuracy = 0.5  (RMSE) on test data = 1.07105 --> no Scaler\n",
    "#accuracy = 0.46 (RMSE) on test data = 1.03473 --> use minmaxScaler\n",
    "from pyspark.ml.regression import RandomForestRegressor\n",
    "from pyspark.ml.evaluation import RegressionEvaluator\n",
    "rf = RandomForestRegressor(featuresCol=\"stdFeatures\",labelCol=\"etf_close\")\n",
    "train_data = train_dt\n",
    "test_data = test_dt\n",
    "rf_model = rf.fit(train_data)\n",
    "predit_res = rf_model.transform(test_data)\n",
    "predit_res.show(10)\n",
    "\n",
    "predit_res_2 = predit_res.withColumn(\"prev_close\", lag(\"etf_close\").over(wsSpec_etf)) \\\n",
    "    .withColumn(\"prev_pred_close\", lag(\"prediction\").over(wsSpec_etf)) \\\n",
    "    .withColumn(\"act_ud\", judge_up_down(col(\"etf_close\"), col(\"prev_close\"))) \\\n",
    "    .withColumn(\"pred_ud\", judge_up_down(col(\"prediction\"), col(\"prev_pred_close\")))\n",
    "predit_res_2.printSchema()\n",
    "predit_res_2.select(\"etf_id\", \"etf_date\", \"etf_close\", \"prev_close\", \"prediction\", \"act_ud\", \"pred_ud\").show(10)\n",
    "\n",
    "#評估RMES\n",
    "evaluator = RegressionEvaluator(\n",
    "    labelCol=\"etf_close\", predictionCol=\"prediction\", metricName=\"rmse\")\n",
    "rmse = evaluator.evaluate(predit_res)\n",
    "print(\"Root Mean Squared Error (RMSE) on test data = %g\" % rmse)\n",
    "evaluator = MulticlassClassificationEvaluator(\n",
    "    labelCol=\"act_ud\", predictionCol=\"pred_ud\", metricName=\"accuracy\")\n",
    "accuracy = evaluator.evaluate(predit_res_2)\n",
    "print(\"accuracy = %g \" % accuracy)"
   ]
  },
  {
   "cell_type": "code",
   "execution_count": null,
   "metadata": {},
   "outputs": [],
   "source": [
    "\n"
   ]
  },
  {
   "cell_type": "code",
   "execution_count": 38,
   "metadata": {},
   "outputs": [
    {
     "name": "stdout",
     "output_type": "stream",
     "text": [
      "[47.31, 47.0, 46.79, 46.49, 46.66]\n",
      "[46.92, 47.31, 47.0, 46.79, 46.49]\n",
      "[0.39000000000000057, -0.3100000000000023, -0.21000000000000085, -0.29999999999999716, 0.1699999999999946]\n",
      "46.66\n",
      "46.902\n",
      "1   2\n",
      "3   4\n"
     ]
    },
    {
     "data": {
      "text/plain": [
       "[0, 1]"
      ]
     },
     "execution_count": 38,
     "metadata": {},
     "output_type": "execute_result"
    }
   ],
   "source": [
    "#ll = [46.92, 47.31, 47.0, 46.79, 46.49, 46.66, 47.0, 46.96, 47.0]\n",
    "ll = [46.92, 47.31, 47.0, 46.79, 46.49, 46.66]\n",
    "win_len=5\n",
    "print(ll[1:])\n",
    "print(ll[0: -1])\n",
    "print(list(map(lambda x,y : x - y, ll[1:], ll[0: -1])))\n",
    "for x in ll[win_len:]:\n",
    "    print(x)\n",
    "ema = sum(ll[:win_len])/len(ll[:win_len])\n",
    "print(ema)\n",
    "for price in ll[win_len:]:\n",
    "    ema = (ema*(win_len-1)+price*2)/(win_len+1)\n",
    "tup1, tup2 = (1,2)\n",
    "print(tup1, ' ', tup2)\n",
    "tup = (3,4)\n",
    "print(tup[0], ' ', tup[1])\n",
    "list(range(0,2))"
   ]
  }
 ],
 "metadata": {
  "kernelspec": {
   "display_name": "Python 3",
   "language": "python",
   "name": "python3"
  },
  "language_info": {
   "codemirror_mode": {
    "name": "ipython",
    "version": 3
   },
   "file_extension": ".py",
   "mimetype": "text/x-python",
   "name": "python",
   "nbconvert_exporter": "python",
   "pygments_lexer": "ipython3",
   "version": "3.6.3"
  }
 },
 "nbformat": 4,
 "nbformat_minor": 2
}
