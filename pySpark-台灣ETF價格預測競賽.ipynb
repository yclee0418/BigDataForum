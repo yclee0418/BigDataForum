{
 "cells": [
  {
   "cell_type": "markdown",
   "metadata": {},
   "source": [
    "Url: https://tbrain.trendmicro.com.tw/Competitions/Details/2"
   ]
  },
  {
   "cell_type": "code",
   "execution_count": 111,
   "metadata": {},
   "outputs": [],
   "source": [
    "#import\n",
    "import numpy as np\n",
    "import pandas as pd\n",
    "import matplotlib.pyplot as plt\n",
    "from pyspark.sql import Row\n",
    "from pyspark.sql.functions import col, udf, lag, rank, lit\n",
    "from pyspark.sql.window import Window"
   ]
  },
  {
   "cell_type": "code",
   "execution_count": 6,
   "metadata": {},
   "outputs": [],
   "source": [
    "global Path\n",
    "if sc.master[0:5]==\"local\":\n",
    "    Path = \"file:/Users/yungchuanlee/Documents/learn/AI競賽/ETF預測/TBrain_Round2_DataSet_20180331\"\n",
    "else:\n",
    "    Path = \"hdfs://master:9000/user/hduser\""
   ]
  },
  {
   "cell_type": "code",
   "execution_count": 13,
   "metadata": {},
   "outputs": [
    {
     "data": {
      "text/plain": [
       "29066.57"
      ]
     },
     "execution_count": 13,
     "metadata": {},
     "output_type": "execute_result"
    }
   ],
   "source": [
    "float(\"    46.57\")+float(\"     29,020\".replace(\",\",\"\"))"
   ]
  },
  {
   "cell_type": "code",
   "execution_count": 122,
   "metadata": {},
   "outputs": [],
   "source": [
    "#define alias of columns\n",
    "col_alias_etf= {\"代碼\":\"etf_id\", \"日期\": \"etf_date\", \"中文簡稱\": \"etf_name\", \"開盤價(元)\":\"etf_open\", \n",
    "            \"最高價(元)\":\"etf_high\", \"最低價(元)\":\"etf_low\", \"收盤價(元)\":\"etf_close\", \"成交張數(張)\":\"etf_count\"}\n",
    "col_alias_stock= {\"代碼\":\"stock_id\", \"日期\": \"stock_date\", \"中文簡稱\": \"stock_name\", \"開盤價(元)\":\"stock_open\", \n",
    "            \"最高價(元)\":\"stock_high\", \"最低價(元)\":\"stock_low\", \"收盤價(元)\":\"stock_close\", \"成交張數(張)\":\"stock_count\"}"
   ]
  },
  {
   "cell_type": "code",
   "execution_count": 123,
   "metadata": {},
   "outputs": [],
   "source": [
    "#udf\n",
    "def to_double(str_val):\n",
    "    return float(str_val.replace(\",\",\"\"))\n",
    "to_double=udf(to_double)"
   ]
  },
  {
   "cell_type": "code",
   "execution_count": 124,
   "metadata": {},
   "outputs": [],
   "source": [
    "#def function to read data (因檔案格式都相同)\n",
    "def read_data(file_name, col_alias):\n",
    "    str_cols = [\"代碼\",\"日期\", \"中文簡稱\"]\n",
    "    raw_data = spark.read.option(\"encoding\", \"Big5\").csv(Path + \"/\" + file_name, header=True, sep=\",\")\n",
    "    print(\"Total \" + file_name + \" count: \" + str(raw_data.count()))\n",
    "    #rename cols and correct type \n",
    "    num_cols = [col_name for col_name in raw_data.columns if col_name not in str_cols]\n",
    "    final_data=raw_data.select( [col(str_col_name).alias(col_alias[str_col_name]) for str_col_name in str_cols] + \n",
    "                                  [to_double(col(num_col_name)).cast(\"double\").alias(col_alias[num_col_name]) for num_col_name in num_cols] )\n",
    "    final_data.printSchema()\n",
    "    final_data.show(5)\n",
    "    return final_data"
   ]
  },
  {
   "cell_type": "code",
   "execution_count": 125,
   "metadata": {},
   "outputs": [
    {
     "name": "stdout",
     "output_type": "stream",
     "text": [
      "starting import tetfp.csv(台灣18檔ETF股價資料)...\n",
      "Total tetfp.csv count: 18747\n",
      "root\n",
      " |-- etf_id: string (nullable = true)\n",
      " |-- etf_date: string (nullable = true)\n",
      " |-- etf_name: string (nullable = true)\n",
      " |-- etf_open: double (nullable = true)\n",
      " |-- etf_high: double (nullable = true)\n",
      " |-- etf_low: double (nullable = true)\n",
      " |-- etf_close: double (nullable = true)\n",
      " |-- etf_count: double (nullable = true)\n",
      "\n",
      "+-------+--------+----------------+--------+--------+-------+---------+---------+\n",
      "| etf_id|etf_date|        etf_name|etf_open|etf_high|etf_low|etf_close|etf_count|\n",
      "+-------+--------+----------------+--------+--------+-------+---------+---------+\n",
      "|0050   |20130102|元大台灣50          |    54.0|   54.65|   53.9|     54.4|  16487.0|\n",
      "|0050   |20130103|元大台灣50          |    54.9|   55.05|  54.65|    54.85|  29020.0|\n",
      "|0050   |20130104|元大台灣50          |   54.85|   54.85|   54.4|     54.5|   9837.0|\n",
      "|0050   |20130107|元大台灣50          |   54.55|   54.55|   53.9|    54.25|   8910.0|\n",
      "|0050   |20130108|元大台灣50          |    54.0|    54.2|  53.65|     53.9|  12507.0|\n",
      "+-------+--------+----------------+--------+--------+-------+---------+---------+\n",
      "only showing top 5 rows\n",
      "\n"
     ]
    }
   ],
   "source": [
    "print(\"starting import tetfp.csv(台灣18檔ETF股價資料)...\")\n",
    "tetfp_dt=read_data(\"tetfp.csv\", col_alias_etf)"
   ]
  },
  {
   "cell_type": "code",
   "execution_count": 126,
   "metadata": {},
   "outputs": [
    {
     "name": "stdout",
     "output_type": "stream",
     "text": [
      "+-------+--------------------+\n",
      "|summary|            etf_date|\n",
      "+-------+--------------------+\n",
      "|  count|               18747|\n",
      "|   mean|2.0152850564677015E7|\n",
      "| stddev|  15455.308200189556|\n",
      "|    min|            20130102|\n",
      "|    max|            20180331|\n",
      "+-------+--------------------+\n",
      "\n"
     ]
    }
   ],
   "source": [
    "#EDA\n",
    "#range of date\n",
    "tetfp_dt.describe('etf_date').show()"
   ]
  },
  {
   "cell_type": "code",
   "execution_count": 127,
   "metadata": {},
   "outputs": [
    {
     "name": "stdout",
     "output_type": "stream",
     "text": [
      "starting import taetfp.csv(台灣18檔ETF調整後股價資料)...\n",
      "Total taetfp.csv count: 18747\n",
      "root\n",
      " |-- etf_id: string (nullable = true)\n",
      " |-- etf_date: string (nullable = true)\n",
      " |-- etf_name: string (nullable = true)\n",
      " |-- etf_open: double (nullable = true)\n",
      " |-- etf_high: double (nullable = true)\n",
      " |-- etf_low: double (nullable = true)\n",
      " |-- etf_close: double (nullable = true)\n",
      " |-- etf_count: double (nullable = true)\n",
      "\n",
      "+-------+--------+----------------+--------+--------+-------+---------+---------+\n",
      "| etf_id|etf_date|        etf_name|etf_open|etf_high|etf_low|etf_close|etf_count|\n",
      "+-------+--------+----------------+--------+--------+-------+---------+---------+\n",
      "|0050   |20130102|元大台灣50          |   46.57|   47.13|  46.49|    46.92|  16487.0|\n",
      "|0050   |20130103|元大台灣50          |   47.35|   47.48|  47.13|    47.31|  29020.0|\n",
      "|0050   |20130104|元大台灣50          |   47.31|   47.31|  46.92|     47.0|   9837.0|\n",
      "|0050   |20130107|元大台灣50          |   47.05|   47.05|  46.49|    46.79|   8910.0|\n",
      "|0050   |20130108|元大台灣50          |   46.57|   46.75|  46.27|    46.49|  12507.0|\n",
      "+-------+--------+----------------+--------+--------+-------+---------+---------+\n",
      "only showing top 5 rows\n",
      "\n"
     ]
    }
   ],
   "source": [
    "print(\"starting import taetfp.csv(台灣18檔ETF調整後股價資料)...\")\n",
    "taetfp_dt=read_data(\"taetfp.csv\", col_alias_etf)"
   ]
  },
  {
   "cell_type": "code",
   "execution_count": 128,
   "metadata": {},
   "outputs": [
    {
     "name": "stdout",
     "output_type": "stream",
     "text": [
      "starting import tsharep.csv(台灣個股股價資料)...\n",
      "Total tsharep.csv count: 1983973\n",
      "root\n",
      " |-- stock_id: string (nullable = true)\n",
      " |-- stock_date: string (nullable = true)\n",
      " |-- stock_name: string (nullable = true)\n",
      " |-- stock_open: double (nullable = true)\n",
      " |-- stock_high: double (nullable = true)\n",
      " |-- stock_low: double (nullable = true)\n",
      " |-- stock_close: double (nullable = true)\n",
      " |-- stock_count: double (nullable = true)\n",
      "\n",
      "+--------+----------+------------------+----------+----------+---------+-----------+-----------+\n",
      "|stock_id|stock_date|        stock_name|stock_open|stock_high|stock_low|stock_close|stock_count|\n",
      "+--------+----------+------------------+----------+----------+---------+-----------+-----------+\n",
      "| 1101   |  20130102|台泥                |     38.95|      39.1|    38.65|       39.0|     6374.0|\n",
      "| 1101   |  20130103|台泥                |      39.5|      39.5|    38.75|      38.85|     9710.0|\n",
      "| 1101   |  20130104|台泥                |      39.4|     39.45|     38.6|       39.0|     8682.0|\n",
      "| 1101   |  20130107|台泥                |      39.1|      39.1|    38.65|       38.9|     5067.0|\n",
      "| 1101   |  20130108|台泥                |      38.9|      39.1|     38.2|       38.5|     6454.0|\n",
      "+--------+----------+------------------+----------+----------+---------+-----------+-----------+\n",
      "only showing top 5 rows\n",
      "\n"
     ]
    }
   ],
   "source": [
    "print(\"starting import tsharep.csv(台灣個股股價資料)...\")\n",
    "tsharep_dt=read_data(\"tsharep.csv\", col_alias_stock)"
   ]
  },
  {
   "cell_type": "code",
   "execution_count": 129,
   "metadata": {},
   "outputs": [
    {
     "name": "stdout",
     "output_type": "stream",
     "text": [
      "starting import tasharep.csv(台灣個股調整後股價資料)...\n",
      "Total tasharep.csv count: 1983973\n",
      "root\n",
      " |-- stock_id: string (nullable = true)\n",
      " |-- stock_date: string (nullable = true)\n",
      " |-- stock_name: string (nullable = true)\n",
      " |-- stock_open: double (nullable = true)\n",
      " |-- stock_high: double (nullable = true)\n",
      " |-- stock_low: double (nullable = true)\n",
      " |-- stock_close: double (nullable = true)\n",
      " |-- stock_count: double (nullable = true)\n",
      "\n",
      "+--------+----------+------------------+----------+----------+---------+-----------+-----------+\n",
      "|stock_id|stock_date|        stock_name|stock_open|stock_high|stock_low|stock_close|stock_count|\n",
      "+--------+----------+------------------+----------+----------+---------+-----------+-----------+\n",
      "| 1101   |  20130102|台泥                |     30.41|     30.53|    30.18|      30.45|     6374.0|\n",
      "| 1101   |  20130103|台泥                |     30.84|     30.84|    30.25|      30.33|     9710.0|\n",
      "| 1101   |  20130104|台泥                |     30.76|      30.8|    30.14|      30.45|     8682.0|\n",
      "| 1101   |  20130107|台泥                |     30.53|     30.53|    30.18|      30.37|     5067.0|\n",
      "| 1101   |  20130108|台泥                |     30.37|     30.53|    29.82|      30.06|     6454.0|\n",
      "+--------+----------+------------------+----------+----------+---------+-----------+-----------+\n",
      "only showing top 5 rows\n",
      "\n"
     ]
    }
   ],
   "source": [
    "print(\"starting import tasharep.csv(台灣個股調整後股價資料)...\")\n",
    "tasharep_dt=read_data(\"tasharep.csv\", col_alias_stock)"
   ]
  },
  {
   "cell_type": "code",
   "execution_count": 289,
   "metadata": {},
   "outputs": [],
   "source": [
    "import sys\n",
    "from pyspark.sql.functions import lag, col, avg,collect_list, lit\n",
    "from pyspark.sql.window import Window\n",
    "#declare previous row windows\n",
    "wsSpec_etf = Window.partitionBy('etf_id').orderBy('etf_date') #time window for normal case\n",
    "wsSpec_etf_close_price_raw = Window.partitionBy('etf_id').orderBy('row_idx').rangeBetween(-sys.maxsize, -1)\n",
    "def avg_list(p_list):\n",
    "    #計算數字list的平均值\n",
    "    return sum(p_list)/len(p_list)\n",
    "#計算EMA的udf\n",
    "def calculate_ema(close_p_list, window_len):\n",
    "    #透過歷史收盤價計算\n",
    "    if len(close_p_list) < window_len:\n",
    "        return None\n",
    "    elif len(close_p_list) == window_len:\n",
    "        #if len of list = win_len then return avg, \n",
    "        return avg_list(close_p_list)\n",
    "    else:\n",
    "        #else EMA[t] =(EMA[t-1]*(win_len-1)+close[t]*2)/(win_len+1)\n",
    "        ema = avg_list(close_p_list[:window_len])\n",
    "        for price in close_p_list[window_len:]:\n",
    "            ema = (ema*(window_len-1)+price*2)/(window_len+1)\n",
    "        return ema\n",
    "calculate_ema=udf(calculate_ema)\n",
    "#計算BIAS的udf\n",
    "def calculate_bias(p_close, close_p_list):\n",
    "    #計算當日收盤價與N日均線之差比: (close price - MA)/MA   ,Paper 建議用20日MA\n",
    "    if len(close_p_list) < 20:\n",
    "        return None\n",
    "    else:\n",
    "        list_len = len(close_p_list)\n",
    "        cal_list = close_p_list[list_len-20: list_len]\n",
    "        return p_close - avg_list(cal_list)\n",
    "calculate_bias=udf(calculate_bias)\n",
    "#計算當日收盤價與前一日收盤價差\n",
    "def calculate_close_diff(p_close, close_p_list):\n",
    "    if len(close_p_list) == 0:\n",
    "        return None\n",
    "    else:\n",
    "        return p_close - close_p_list[-1]\n",
    "calculate_close_diff=udf(calculate_close_diff)"
   ]
  },
  {
   "cell_type": "code",
   "execution_count": 290,
   "metadata": {},
   "outputs": [
    {
     "name": "stdout",
     "output_type": "stream",
     "text": [
      "root\n",
      " |-- etf_id: string (nullable = true)\n",
      " |-- etf_date: string (nullable = true)\n",
      " |-- etf_name: string (nullable = true)\n",
      " |-- etf_open: double (nullable = true)\n",
      " |-- etf_high: double (nullable = true)\n",
      " |-- etf_low: double (nullable = true)\n",
      " |-- etf_close: double (nullable = true)\n",
      " |-- etf_count: double (nullable = true)\n",
      " |-- row_idx: integer (nullable = true)\n",
      " |-- close_price_raw: array (nullable = true)\n",
      " |    |-- element: double (containsNull = true)\n",
      " |-- EMA5: double (nullable = true)\n",
      " |-- EMA10: double (nullable = true)\n",
      " |-- EMA20: double (nullable = true)\n",
      " |-- BIAS: double (nullable = true)\n",
      " |-- close_diff: double (nullable = true)\n",
      "\n",
      "+-------+---------+------------------+------------------+------------------+-------------------+--------------------+\n",
      "|row_idx|etf_close|              EMA5|             EMA10|             EMA20|               BIAS|          close_diff|\n",
      "+-------+---------+------------------+------------------+------------------+-------------------+--------------------+\n",
      "|      1|    46.92|              null|              null|              null|               null|                null|\n",
      "|      2|    47.31|              null|              null|              null|               null| 0.39000000000000057|\n",
      "|      3|     47.0|              null|              null|              null|               null| -0.3100000000000023|\n",
      "|      4|    46.79|              null|              null|              null|               null|-0.21000000000000085|\n",
      "|      5|    46.49|              null|              null|              null|               null|-0.29999999999999716|\n",
      "|      6|    46.66|            46.902|              null|              null|               null|  0.1699999999999946|\n",
      "|      7|     47.0|46.821333333333335|              null|              null|               null|  0.3400000000000034|\n",
      "|      8|    46.96|  46.8808888888889|              null|              null|               null|-0.03999999999999915|\n",
      "|      9|     47.0| 46.90725925925926|              null|              null|               null| 0.03999999999999915|\n",
      "|     10|    46.57| 46.93817283950617|              null|              null|               null| -0.4299999999999997|\n",
      "|     11|    46.31|46.815448559670784|             46.87|              null|               null|  -0.259999999999998|\n",
      "|     12|    45.97| 46.64696570644719| 46.76818181818182|              null|               null| -0.3400000000000034|\n",
      "|     13|    46.53| 46.42131047096479| 46.62305785123967|              null|               null|  0.5600000000000023|\n",
      "|     14|    46.49| 46.45754031397653| 46.60613824192337|              null|               null|-0.03999999999999915|\n",
      "|     15|    46.62| 46.46836020931769|  46.5850221979373|              null|               null| 0.12999999999999545|\n",
      "|     16|    46.57| 46.51890680621179|46.591381798312334|              null|               null|-0.04999999999999716|\n",
      "|     17|    46.31| 46.53593787080786| 46.58749419861919|              null|               null|  -0.259999999999998|\n",
      "|     18|    46.14|46.460625247205236|46.537040707961154|              null|               null| -0.1700000000000017|\n",
      "|     19|    46.36| 46.35375016480349| 46.46485148833185|              null|               null| 0.21999999999999886|\n",
      "|     20|     47.0| 46.35583344320233|46.445787581362424|              null|               null|  0.6400000000000006|\n",
      "|     21|    47.09| 46.57055562880155| 46.54655347566017|             46.65|0.44000000000000483| 0.09000000000000341|\n",
      "|     22|    47.09| 46.74370375253437| 46.64536193463105| 46.69190476190476| 0.4315000000000069|                 0.0|\n",
      "|     23|    47.26| 46.85913583502292| 46.72620521924359| 46.72981859410431| 0.6124999999999972|  0.1699999999999946|\n",
      "|     24|    47.61| 46.99275722334861| 46.82325881574475|46.780312061332474| 0.9495000000000005|  0.3500000000000014|\n",
      "|     25|    47.44| 47.19850481556574| 46.96630266742752| 46.85932996025319| 0.7384999999999948| -0.1700000000000017|\n",
      "|     26|    47.78| 47.27900321037716| 47.05242945516796|46.914631868800505| 1.0309999999999988|  0.3400000000000034|\n",
      "|     27|    47.95| 47.44600214025144|47.184715008773786|  46.9970478812957|  1.144999999999996|  0.1700000000000017|\n",
      "|     28|     48.0|47.614001426834285| 47.32385773445128|47.087805225934204| 1.1474999999999937| 0.04999999999999716|\n",
      "|     29|    48.38|47.742667617889516|47.446792691823774| 47.17468091870238| 1.4754999999999967| 0.38000000000000256|\n",
      "|     30|    48.04| 47.95511174525968| 47.61646674785582|47.289473212159294| 1.0664999999999907| -0.3400000000000034|\n",
      "|     31|    47.87| 47.98340783017312| 47.69347279370022| 47.36095195385841| 0.8230000000000004| -0.1700000000000017|\n",
      "|     32|    48.13| 47.94560522011542|47.725568649391086| 47.40943272015761| 1.0050000000000026|  0.2600000000000051|\n",
      "|     33|    48.04|48.007070146743615|47.799101622229074|47.478058175380696| 0.8070000000000022|-0.09000000000000341|\n",
      "|     34|    47.52| 48.01804676449574|47.842901327278334| 47.53157644439206|0.21150000000000801|  -0.519999999999996|\n",
      "|     35|    47.61| 47.85203117633049|47.784191995045916|47.530473925878525|               0.25|  0.0899999999999963|\n",
      "+-------+---------+------------------+------------------+------------------+-------------------+--------------------+\n",
      "only showing top 35 rows\n",
      "\n"
     ]
    }
   ],
   "source": [
    "#calculate ema [5,10,20] #cannot remove row_idx, row_idx for next window usage\n",
    "taetfp_dt2=taetfp_dt.withColumn(\"row_idx\", rank().over(wsSpec_etf)) \\\n",
    "    .withColumn(\"close_price_raw\", collect_list(col('etf_close')).over(wsSpec_etf_close_price_raw)) \\\n",
    "    .withColumn(\"EMA5\", calculate_ema(col(\"close_price_raw\"), lit(5)).cast(\"double\")) \\\n",
    "    .withColumn(\"EMA10\", calculate_ema(col(\"close_price_raw\"), lit(10)).cast(\"double\")) \\\n",
    "    .withColumn(\"EMA20\", calculate_ema(col(\"close_price_raw\"), lit(20)).cast(\"double\")) \\\n",
    "    .withColumn(\"BIAS\", calculate_bias(col(\"etf_close\"),col(\"close_price_raw\")).cast(\"double\")) \\\n",
    "    .withColumn(\"close_diff\", calculate_close_diff(col(\"etf_close\"),col(\"close_price_raw\")).cast(\"double\"))\n",
    "    \n",
    "taetfp_dt2.printSchema()\n",
    "taetfp_dt2.filter(\"etf_id='0050   '\").select(\"row_idx\" ,\"etf_close\", \"EMA5\", \"EMA10\", \"EMA20\", \"BIAS\", \"close_diff\") \\\n",
    "            .show(35)\n",
    "#          .toPandas().to_csv(Path.replace(\"file:\",\"\") + \"/taetfp_BIAS.csv\",index=False)\n"
   ]
  },
  {
   "cell_type": "code",
   "execution_count": 271,
   "metadata": {},
   "outputs": [],
   "source": [
    "#匯出成pandas\n",
    "aetf_pd_50 = taetfp_dt2.filter(\"etf_id='0050   '\").select(\"row_idx\", \"etf_date\" ,\"etf_close\", \"EMA5\", \"EMA10\", \"EMA20\", \"BIAS\") \\\n",
    "                .toPandas()"
   ]
  },
  {
   "cell_type": "code",
   "execution_count": 283,
   "metadata": {},
   "outputs": [
    {
     "data": {
      "text/plain": [
       "<matplotlib.legend.Legend at 0x110b3beb8>"
      ]
     },
     "execution_count": 283,
     "metadata": {},
     "output_type": "execute_result"
    },
    {
     "data": {
      "image/png": "[encoded data removed]",
      "text/plain": [
       "<matplotlib.figure.Figure at 0x11da07f98>"
      ]
     },
     "metadata": {},
     "output_type": "display_data"
    }
   ],
   "source": [
    "#圖形化顯示\n",
    "#aetf_pd_50.set_index('etf_date') #set_index 後配合 loc select 出區段資料來看\n",
    "aetf_pd_50_part = aetf_pd_50.loc[1200:]\n",
    "aetf_pd_50_part.etf_close.plot(x='row_idx', y='etf_close', style='b--', label=\"etf_close\")\n",
    "aetf_pd_50_part.EMA5.plot(x='row_idx', y='EMA5', label=\"EMA5\", style='r-')\n",
    "aetf_pd_50_part.EMA10.plot(x='row_idx', y='EMA10', label=\"EMA10\", style='g-')\n",
    "aetf_pd_50_part.EMA20.plot(x='row_idx', y='EMA20', label=\"EMA20\", style='y-')\n",
    "plt.legend(loc='best')"
   ]
  },
  {
   "cell_type": "code",
   "execution_count": 291,
   "metadata": {},
   "outputs": [
    {
     "name": "stdout",
     "output_type": "stream",
     "text": [
      "corr between  EMA5  and etf_close:  0.9912709068701004\n",
      "corr between  EMA10  and etf_close:  0.9829968303505964\n",
      "corr between  EMA20  and etf_close:  0.9675174500051418\n",
      "corr between  BIAS  and etf_close:  0.14611134909723297\n",
      "corr between BIAS and etf_close_diff:  0.36608811964765053\n"
     ]
    }
   ],
   "source": [
    "#計算各欄位與收盤價之相關性\n",
    "corr_cols = ['EMA5','EMA10','EMA20','BIAS']\n",
    "for col in corr_cols:\n",
    "    print('corr between ', col , ' and etf_close: ', str(taetfp_dt2.corr(col, 'etf_close')))\n",
    "print('corr between BIAS and etf_close_diff: ', str(taetfp_dt2.corr('BIAS', 'close_diff')))"
   ]
  },
  {
   "cell_type": "code",
   "execution_count": 185,
   "metadata": {},
   "outputs": [
    {
     "name": "stdout",
     "output_type": "stream",
     "text": [
      "[46.92, 47.31, 47.0, 46.79, 46.49]\n",
      "46.66\n",
      "46.902\n",
      "46.821333333333335\n"
     ]
    }
   ],
   "source": [
    "#ll = [46.92, 47.31, 47.0, 46.79, 46.49, 46.66, 47.0, 46.96, 47.0]\n",
    "ll = [46.92, 47.31, 47.0, 46.79, 46.49, 46.66]\n",
    "win_len=5\n",
    "print(ll[: win_len])\n",
    "for x in ll[win_len:]:\n",
    "    print(x)\n",
    "ema = sum(ll[:win_len])/len(ll[:win_len])\n",
    "print(ema)\n",
    "for price in close_p_list[win_len:]:\n",
    "    ema = (ema*(window_len-1)+price*2)/(window_len+1)"
   ]
  }
 ],
 "metadata": {
  "kernelspec": {
   "display_name": "Python 3",
   "language": "python",
   "name": "python3"
  },
  "language_info": {
   "codemirror_mode": {
    "name": "ipython",
    "version": 3
   },
   "file_extension": ".py",
   "mimetype": "text/x-python",
   "name": "python",
   "nbconvert_exporter": "python",
   "pygments_lexer": "ipython3",
   "version": "3.6.4"
  }
 },
 "nbformat": 4,
 "nbformat_minor": 2
}
