{
 "cells": [
  {
   "cell_type": "markdown",
   "metadata": {},
   "source": [
    "Url: https://tbrain.trendmicro.com.tw/Competitions/Details/2"
   ]
  },
  {
   "cell_type": "code",
   "execution_count": 26,
   "metadata": {},
   "outputs": [],
   "source": [
    "#import\n",
    "import numpy as np\n",
    "import pandas as pd\n",
    "import matplotlib.pyplot as plt\n",
    "from pyspark.sql import Row\n",
    "from pyspark.sql.functions import col, udf, lag, rank, lit\n",
    "from pyspark.sql.window import Window"
   ]
  },
  {
   "cell_type": "code",
   "execution_count": 27,
   "metadata": {},
   "outputs": [],
   "source": [
    "global Path\n",
    "global DoEval #是否進行模型評估\n",
    "\n",
    "DoEval = False\n",
    "next_date_range = [\"20180430\", \"20180501\", \"20180502\", \"20180503\", \"20180504\"] #設定預測區間\n",
    "ignore_dates = [\"20180501\"]#設定排除日(如端午節)\n",
    "predict_start_date = next_date_range[0]\n",
    "\n",
    "if sc.master[0:5]==\"local\":\n",
    "    #Path = \"file:/c:/D Drive/work/bigData/pySpark/TBrain_Round2_DataSet_20180504\"\n",
    "    #Path = \"file:/Users/yungchuanlee/Documents/learn/AI競賽/ETF預測/TBrain_Round2_DataSet_20180504\"\n",
    "    Path = \"file:/home/hduser/app/bigdata/competition/etf/TBrain_Round2_DataSet_20180504\"\n",
    "else:\n",
    "    Path = \"hdfs://master:9000/user/hduser\""
   ]
  },
  {
   "cell_type": "code",
   "execution_count": 28,
   "metadata": {},
   "outputs": [
    {
     "data": {
      "text/plain": [
       "'local[*]'"
      ]
     },
     "execution_count": 28,
     "metadata": {},
     "output_type": "execute_result"
    }
   ],
   "source": [
    "sc.master"
   ]
  },
  {
   "cell_type": "code",
   "execution_count": 29,
   "metadata": {},
   "outputs": [],
   "source": [
    "#define alias of columns\n",
    "col_alias_etf= {\"代碼\":\"etf_id\", \"日期\": \"etf_date\", \"中文簡稱\": \"etf_name\", \"開盤價(元)\":\"etf_open\", \n",
    "            \"最高價(元)\":\"etf_high\", \"最低價(元)\":\"etf_low\", \"收盤價(元)\":\"etf_close\", \"成交張數(張)\":\"etf_count\"}\n",
    "col_alias_stock= {\"代碼\":\"stock_id\", \"日期\": \"stock_date\", \"中文簡稱\": \"stock_name\", \"開盤價(元)\":\"stock_open\", \n",
    "            \"最高價(元)\":\"stock_high\", \"最低價(元)\":\"stock_low\", \"收盤價(元)\":\"stock_close\", \"成交張數(張)\":\"stock_count\"}"
   ]
  },
  {
   "cell_type": "code",
   "execution_count": 30,
   "metadata": {},
   "outputs": [],
   "source": [
    "#udf\n",
    "def to_double(str_val):\n",
    "    return float(str_val.replace(\",\",\"\"))\n",
    "to_double=udf(to_double)"
   ]
  },
  {
   "cell_type": "code",
   "execution_count": 31,
   "metadata": {},
   "outputs": [],
   "source": [
    "#def function to read data (因檔案格式都相同)\n",
    "def read_data(file_name, col_alias):\n",
    "    str_cols = [\"代碼\",\"日期\", \"中文簡稱\"]\n",
    "    raw_data = spark.read.option(\"encoding\", \"Big5\").csv(Path + \"/\" + file_name, header=True, sep=\",\")\n",
    "    print(\"Total \" + file_name + \" count: \" + str(raw_data.count()))\n",
    "    #rename cols and correct type \n",
    "    num_cols = [col_name for col_name in raw_data.columns if col_name not in str_cols]\n",
    "    final_data=raw_data.select( [col(str_col_name).alias(col_alias[str_col_name]) for str_col_name in str_cols] + \n",
    "                                  [to_double(col(num_col_name)).cast(\"double\").alias(col_alias[num_col_name]) for num_col_name in num_cols] )\n",
    "    final_data.printSchema()\n",
    "    final_data.show(5)\n",
    "    return final_data"
   ]
  },
  {
   "cell_type": "code",
   "execution_count": 32,
   "metadata": {},
   "outputs": [
    {
     "name": "stdout",
     "output_type": "stream",
     "text": [
      "starting import tetfp.csv(台灣18檔ETF股價資料)...\n",
      "Total tetfp.csv count: 19126\n",
      "root\n",
      " |-- etf_id: string (nullable = true)\n",
      " |-- etf_date: string (nullable = true)\n",
      " |-- etf_name: string (nullable = true)\n",
      " |-- etf_open: double (nullable = true)\n",
      " |-- etf_high: double (nullable = true)\n",
      " |-- etf_low: double (nullable = true)\n",
      " |-- etf_close: double (nullable = true)\n",
      " |-- etf_count: double (nullable = true)\n",
      "\n",
      "+-------+--------+----------------+--------+--------+-------+---------+---------+\n",
      "| etf_id|etf_date|        etf_name|etf_open|etf_high|etf_low|etf_close|etf_count|\n",
      "+-------+--------+----------------+--------+--------+-------+---------+---------+\n",
      "|0050   |20130102|元大台灣50          |    54.0|   54.65|   53.9|     54.4|  16487.0|\n",
      "|0050   |20130103|元大台灣50          |    54.9|   55.05|  54.65|    54.85|  29020.0|\n",
      "|0050   |20130104|元大台灣50          |   54.85|   54.85|   54.4|     54.5|   9837.0|\n",
      "|0050   |20130107|元大台灣50          |   54.55|   54.55|   53.9|    54.25|   8910.0|\n",
      "|0050   |20130108|元大台灣50          |    54.0|    54.2|  53.65|     53.9|  12507.0|\n",
      "+-------+--------+----------------+--------+--------+-------+---------+---------+\n",
      "only showing top 5 rows\n",
      "\n"
     ]
    }
   ],
   "source": [
    "print(\"starting import tetfp.csv(台灣18檔ETF股價資料)...\")\n",
    "tetfp_dt=read_data(\"tetfp.csv\", col_alias_etf)"
   ]
  },
  {
   "cell_type": "code",
   "execution_count": 33,
   "metadata": {},
   "outputs": [
    {
     "name": "stdout",
     "output_type": "stream",
     "text": [
      "+-------+-------------------+\n",
      "|summary|           etf_date|\n",
      "+-------+-------------------+\n",
      "|  count|              19126|\n",
      "|   mean|2.015339706190526E7|\n",
      "| stddev| 15776.777847910937|\n",
      "|    min|           20130102|\n",
      "|    max|           20180504|\n",
      "+-------+-------------------+\n",
      "\n"
     ]
    }
   ],
   "source": [
    "#EDA\n",
    "#range of date\n",
    "tetfp_dt.describe('etf_date').show()"
   ]
  },
  {
   "cell_type": "code",
   "execution_count": 34,
   "metadata": {},
   "outputs": [],
   "source": [
    "# print(\"starting import taetfp.csv(台灣18檔ETF調整後股價資料)...\")\n",
    "# taetfp_dt=read_data(\"taetfp.csv\", col_alias_etf)"
   ]
  },
  {
   "cell_type": "code",
   "execution_count": 35,
   "metadata": {
    "scrolled": true
   },
   "outputs": [],
   "source": [
    "# print(\"starting import tsharep.csv(台灣個股股價資料)...\")\n",
    "# tsharep_dt=read_data(\"tsharep.csv\", col_alias_stock)"
   ]
  },
  {
   "cell_type": "code",
   "execution_count": 36,
   "metadata": {},
   "outputs": [],
   "source": [
    "# print(\"starting import tasharep.csv(台灣個股調整後股價資料)...\")\n",
    "# tasharep_dt=read_data(\"tasharep.csv\", col_alias_stock)"
   ]
  },
  {
   "cell_type": "code",
   "execution_count": 37,
   "metadata": {},
   "outputs": [],
   "source": [
    "import sys\n",
    "from pyspark.sql.functions import lag, col, avg,collect_list, lit\n",
    "from pyspark.sql.window import Window\n",
    "from pyspark.sql.types import ArrayType, DoubleType, IntegerType\n",
    "#declare previous row windows\n",
    "wsSpec_etf = Window.partitionBy('etf_id').orderBy('etf_date') #time window for normal case\n",
    "wsSpec_etf_close_price_raw = Window.partitionBy('etf_id').orderBy('row_idx').rangeBetween(-sys.maxsize, -1)\n",
    "wsSpec_etf_dif_raw = Window.partitionBy('etf_id').orderBy('row_idx').rangeBetween(-sys.maxsize, 0)\n",
    "def avg_list(p_list):\n",
    "    #計算數字list的平均值\n",
    "    return sum(p_list)/len(p_list)\n",
    "#計算EMA的udf\n",
    "def calculate_ema_native(close_p_list, window_len):\n",
    "    #透過歷史收盤價計算\n",
    "    if len(close_p_list) < window_len:\n",
    "        return None\n",
    "    elif len(close_p_list) == window_len:\n",
    "        #if len of list = win_len then return avg, \n",
    "        return avg_list(close_p_list)\n",
    "    else:\n",
    "        #else EMA[t] =(EMA[t-1]*(win_len-1)+close[t]*2)/(win_len+1)\n",
    "        ema = avg_list(close_p_list[:window_len])\n",
    "        for price in close_p_list[window_len:]:\n",
    "            ema = (ema*(window_len-1)+price*2)/(window_len+1)\n",
    "        return ema\n",
    "calculate_ema=udf(calculate_ema_native, DoubleType())\n",
    "#計算BIAS的udf\n",
    "def calculate_bias(close_p_list):\n",
    "    #計算前日收盤價與N日均線之差比: (close price - MA)/MA   ,Paper 建議用20日MA\n",
    "    #因要預測今日的收盤價，故計算前日收盤價與前20日均線\n",
    "    if len(close_p_list) < 21:\n",
    "        return None\n",
    "    else:\n",
    "        list_len = len(close_p_list)\n",
    "        p_close = close_p_list[-1]\n",
    "        cal_list = close_p_list[list_len-21: list_len-1]\n",
    "        return p_close - avg_list(cal_list)\n",
    "calculate_bias=udf(calculate_bias, DoubleType())\n",
    "\n",
    "def get_min_max_last(p_list):\n",
    "    #找出list中最大最小和最後一個值, 回傳(min, max, last)\n",
    "    return (min(p_list), max(p_list), p_list[-1])\n",
    "def calculate_raw_rsv(p_list):\n",
    "    #RSV = (收盤價-9日低值)/(9日高值-9日低值)\n",
    "    p_min, p_max, p_last = get_min_max_last(p_list)\n",
    "    rsv = (p_last - p_min)/(p_max - p_min)\n",
    "    return rsv\n",
    "def calculate_rsv(p_9_list, k_prev, d_prev):\n",
    "    #計算加權後的RSV，p_9_list=>9日收盤價\n",
    "    rrsv = calculate_raw_rsv(p_9_list)\n",
    "    k_curr = (1/3)*rrsv + (2/3)*k_prev\n",
    "    d_curr = (1/3)*k_curr + (2/3)*d_prev\n",
    "    return [k_curr, d_curr]\n",
    "#計算隨機指標（Stochastic Oscillator，KD），原名%K&%D\n",
    "def calculate_KD(close_p_list):\n",
    "    win_len = 9 #看過去 9 日值\n",
    "    #RSV = (收盤價-9日低值)/(9日高值-9日低值)\n",
    "    #K_curr = 1/3*RSV + 2/3*K_prev\n",
    "    #D_curr = 1/3*K_curr + 2/3*D_prev\n",
    "    if len(close_p_list) < win_len:\n",
    "        return None\n",
    "    elif len(close_p_list) == win_len:\n",
    "        #無前日K, D時，以0.5帶入\n",
    "        return calculate_rsv(close_p_list, 0.5, 0.5)\n",
    "    else:\n",
    "        kds = calculate_rsv(close_p_list[0:9], 0.5, 0.5)\n",
    "        for idx in range(1, (len(close_p_list)+1-9)):\n",
    "            p_9_list = close_p_list[idx: idx+9]\n",
    "            kds = calculate_rsv(p_9_list, kds[0], kds[1])\n",
    "        return kds\n",
    "calculate_KD=udf(calculate_KD, ArrayType(DoubleType()))\n",
    "\n",
    "#計算差離值DIF = 12日EMA - 26日EMA\n",
    "def calculate_DIF_native(close_p_list):\n",
    "    if len(close_p_list) < 26:\n",
    "        return None\n",
    "    else:\n",
    "        ema12 = calculate_ema_native(close_p_list, 12)\n",
    "        ema26 = calculate_ema_native(close_p_list, 26)\n",
    "        return ema12 - ema26\n",
    "calculate_DIF=udf(calculate_DIF_native, DoubleType())\n",
    "\n",
    "#計算MACD=(前一日MACD × (9 - 1) + 今日DIF × 2) ÷ (9 + 1)\n",
    "def calculate_MACD(dif_list, dif_curr):\n",
    "    win_len = 9\n",
    "    if len(dif_list) < win_len:\n",
    "        return None\n",
    "    elif len(dif_list) == win_len:\n",
    "        #if len of list = win_len then return avg, \n",
    "        return avg_list(dif_list)\n",
    "    else:\n",
    "        #MACD=(前一日MACD × (9 - 1) + 今日DIF × 2) ÷ (9 + 1)\n",
    "        macd = avg_list(dif_list[:win_len])\n",
    "        for price in dif_list[win_len:]:\n",
    "            macd = (macd*(win_len-1)+dif_curr*2)/(win_len+1)\n",
    "        return macd\n",
    "calculate_MACD=udf(calculate_MACD, DoubleType())\n",
    "\n",
    "#計算相對強弱指數(RSI)\n",
    "def calculate_RSI(close_p_list):\n",
    "    win_len = 9\n",
    "    if len(close_p_list) < (win_len + 1):\n",
    "        return None\n",
    "    else:\n",
    "        cur_list = close_p_list[1:]\n",
    "        prv_list = close_p_list[0:-1]\n",
    "        p_dif_list = list(map(lambda x,y : x - y, cur_list, prv_list)) #dif list\n",
    "        u_list = []\n",
    "        d_list = []\n",
    "        for dif in p_dif_list:\n",
    "            if dif == 0:\n",
    "                #若兩天價格相同，則U及D皆等於零\n",
    "                u_list.append(0)\n",
    "                d_list.append(0)\n",
    "            elif dif > 0:\n",
    "                #在價格上升的日子, U = diff, D = 0\n",
    "                u_list.append(dif)\n",
    "                d_list.append(0)\n",
    "            else:\n",
    "                #在價格下跌的日子, U = 0, D = abs(diff)\n",
    "                u_list.append(0)\n",
    "                d_list.append(abs(dif))\n",
    "        #RSI = ema(u,9)/(ema(u,9)+ema(d,9))\n",
    "        ema_u = calculate_ema_native(u_list, win_len)\n",
    "        ema_d = calculate_ema_native(d_list, win_len)\n",
    "        return ema_u/(ema_u + ema_d)\n",
    "calculate_RSI=udf(calculate_RSI, DoubleType())\n",
    "\n",
    "#計算威廉指標（Williams %R）\n",
    "def calculate_WR(close_p_list):\n",
    "    win_len = 9\n",
    "    if len(close_p_list) < win_len:\n",
    "        return None\n",
    "    else:\n",
    "        p_list = close_p_list[len(close_p_list) - win_len :]\n",
    "        return 1.0 - calculate_raw_rsv(p_list)\n",
    "calculate_WR=udf(calculate_WR, DoubleType())\n"
   ]
  },
  {
   "cell_type": "code",
   "execution_count": 38,
   "metadata": {
    "scrolled": false
   },
   "outputs": [
    {
     "name": "stdout",
     "output_type": "stream",
     "text": [
      "root\n",
      " |-- etf_id: string (nullable = true)\n",
      " |-- etf_date: string (nullable = true)\n",
      " |-- etf_name: string (nullable = true)\n",
      " |-- etf_open: double (nullable = true)\n",
      " |-- etf_high: double (nullable = true)\n",
      " |-- etf_low: double (nullable = true)\n",
      " |-- etf_close: double (nullable = true)\n",
      " |-- etf_count: double (nullable = true)\n",
      " |-- row_idx: integer (nullable = true)\n",
      " |-- close_price_raw: array (nullable = true)\n",
      " |    |-- element: double (containsNull = true)\n",
      " |-- EMA5: double (nullable = true)\n",
      " |-- EMA10: double (nullable = true)\n",
      " |-- EMA20: double (nullable = true)\n",
      " |-- BIAS: double (nullable = true)\n",
      " |-- KD: array (nullable = true)\n",
      " |    |-- element: double (containsNull = true)\n",
      " |-- K: double (nullable = true)\n",
      " |-- D: double (nullable = true)\n",
      " |-- DIF: double (nullable = true)\n",
      " |-- dif_list: array (nullable = true)\n",
      " |    |-- element: double (containsNull = true)\n",
      " |-- MACD: double (nullable = true)\n",
      " |-- RSI: double (nullable = true)\n",
      " |-- WR: double (nullable = true)\n",
      "\n"
     ]
    }
   ],
   "source": [
    "#calculate ema [5,10,20] #cannot remove row_idx, row_idx for next window usage\n",
    "tetfp_dt2=tetfp_dt.withColumn(\"row_idx\", rank().over(wsSpec_etf)) \\\n",
    "    .withColumn(\"close_price_raw\", collect_list(col('etf_close')).over(wsSpec_etf_close_price_raw)) \\\n",
    "    .withColumn(\"EMA5\", calculate_ema(col(\"close_price_raw\"), lit(5))) \\\n",
    "    .withColumn(\"EMA10\", calculate_ema(col(\"close_price_raw\"), lit(10))) \\\n",
    "    .withColumn(\"EMA20\", calculate_ema(col(\"close_price_raw\"), lit(20))) \\\n",
    "    .withColumn(\"BIAS\", calculate_bias(col(\"close_price_raw\"))) \\\n",
    "    .withColumn(\"KD\", calculate_KD(col(\"close_price_raw\"))) \\\n",
    "    .withColumn(\"K\", col(\"KD\")[0]).withColumn(\"D\", col(\"KD\")[1]) \\\n",
    "    .withColumn(\"DIF\", calculate_DIF(col(\"close_price_raw\"))) \\\n",
    "    .withColumn(\"dif_list\", collect_list(col('DIF')).over(wsSpec_etf_dif_raw)) \\\n",
    "    .withColumn(\"MACD\", calculate_MACD(col(\"dif_list\"), col(\"DIF\"))) \\\n",
    "    .withColumn(\"RSI\", calculate_RSI(col(\"close_price_raw\")))\\\n",
    "    .withColumn(\"WR\", calculate_WR(col(\"close_price_raw\")))\n",
    "\n",
    "tetfp_dt2.cache()\n",
    "tetfp_dt2.printSchema()"
   ]
  },
  {
   "cell_type": "code",
   "execution_count": 134,
   "metadata": {},
   "outputs": [],
   "source": [
    "from pyspark.ml.feature import MinMaxScaler, StandardScaler\n",
    "from pyspark.ml.linalg import Vectors\n",
    "tot_dt = tetfp_dt2.filter(\"MACD is not null\") \\\n",
    "    .select(\"etf_id\", \"etf_date\", \"row_idx\", \"EMA5\", \"EMA10\", \"EMA20\", \"BIAS\", \"K\", \"D\", \"DIF\", \"MACD\", \"RSI\", \"WR\", \"etf_close\") \\\n",
    "    .orderBy(\"etf_id\", \"etf_date\", ascending=True)\n",
    "    \n",
    "from pyspark.ml.linalg import Vectors\n",
    "from pyspark.ml.feature import VectorAssembler\n",
    "#將Feature合併為Vector 並作標準化\n",
    "featureCols = [\"EMA5\", \"EMA10\", \"EMA20\", \"BIAS\", \"K\", \"D\", \"DIF\", \"MACD\", \"RSI\", \"WR\"]\n",
    "assembler = VectorAssembler(\n",
    "    inputCols=featureCols,\n",
    "    outputCol=\"features\")\n",
    "tot_dt_1 = assembler.transform(tot_dt)\n",
    "minmax_scaler = MinMaxScaler(inputCol=\"features\", outputCol=\"stdFeatures\")\n",
    "scaler_model = minmax_scaler.fit(tot_dt_1)\n",
    "#std_scaler = StandardScaler(inputCol=\"features\", outputCol=\"stdFeatures\")\n",
    "#scaler_model = std_scaler.fit(tot_dt_1)\n",
    "tot_dt_scale = scaler_model.transform(tot_dt_1)\n",
    "#tot_dt_scale=tot_dt_1.withColumn(\"stdFeatures\", col(\"features\")) #測試不作標準化"
   ]
  },
  {
   "cell_type": "code",
   "execution_count": 149,
   "metadata": {},
   "outputs": [
    {
     "data": {
      "text/plain": [
       "5"
      ]
     },
     "execution_count": 149,
     "metadata": {},
     "output_type": "execute_result"
    }
   ],
   "source": [
    "from pyspark.mllib.linalg import DenseVector\n",
    "\n",
    "a = DenseVector([1.0,2.0,3.0,4.0,5.0])\n",
    "\n",
    "len(a)"
   ]
  },
  {
   "cell_type": "code",
   "execution_count": 159,
   "metadata": {},
   "outputs": [
    {
     "name": "stdout",
     "output_type": "stream",
     "text": [
      "root\n",
      " |-- etf_id: string (nullable = true)\n",
      " |-- etf_date: string (nullable = true)\n",
      " |-- stdFeatures: vector (nullable = true)\n",
      " |-- stdFeatureList: string (nullable = true)\n",
      "\n"
     ]
    },
    {
     "ename": "Py4JJavaError",
     "evalue": "An error occurred while calling o2112.showString.\n: org.apache.spark.SparkException: Job aborted due to stage failure: Task 0 in stage 495.0 failed 1 times, most recent failure: Lost task 0.0 in stage 495.0 (TID 25440, localhost, executor driver): net.razorvine.pickle.PickleException: expected zero arguments for construction of ClassDict (for pyspark.ml.linalg.DenseVector)\n\tat net.razorvine.pickle.objects.ClassDictConstructor.construct(ClassDictConstructor.java:23)\n\tat net.razorvine.pickle.Unpickler.load_reduce(Unpickler.java:707)\n\tat net.razorvine.pickle.Unpickler.dispatch(Unpickler.java:175)\n\tat net.razorvine.pickle.Unpickler.load(Unpickler.java:99)\n\tat net.razorvine.pickle.Unpickler.loads(Unpickler.java:112)\n\tat org.apache.spark.sql.execution.python.BatchEvalPythonExec$$anonfun$evaluate$1.apply(BatchEvalPythonExec.scala:86)\n\tat org.apache.spark.sql.execution.python.BatchEvalPythonExec$$anonfun$evaluate$1.apply(BatchEvalPythonExec.scala:85)\n\tat scala.collection.Iterator$$anon$12.nextCur(Iterator.scala:434)\n\tat scala.collection.Iterator$$anon$12.hasNext(Iterator.scala:440)\n\tat scala.collection.Iterator$$anon$11.hasNext(Iterator.scala:408)\n\tat scala.collection.Iterator$$anon$11.hasNext(Iterator.scala:408)\n\tat org.apache.spark.sql.catalyst.expressions.GeneratedClass$GeneratedIteratorForCodegenStage3.processNext(Unknown Source)\n\tat org.apache.spark.sql.execution.BufferedRowIterator.hasNext(BufferedRowIterator.java:43)\n\tat org.apache.spark.sql.execution.WholeStageCodegenExec$$anonfun$10$$anon$1.hasNext(WholeStageCodegenExec.scala:614)\n\tat org.apache.spark.sql.execution.SparkPlan$$anonfun$2.apply(SparkPlan.scala:253)\n\tat org.apache.spark.sql.execution.SparkPlan$$anonfun$2.apply(SparkPlan.scala:247)\n\tat org.apache.spark.rdd.RDD$$anonfun$mapPartitionsInternal$1$$anonfun$apply$25.apply(RDD.scala:830)\n\tat org.apache.spark.rdd.RDD$$anonfun$mapPartitionsInternal$1$$anonfun$apply$25.apply(RDD.scala:830)\n\tat org.apache.spark.rdd.MapPartitionsRDD.compute(MapPartitionsRDD.scala:38)\n\tat org.apache.spark.rdd.RDD.computeOrReadCheckpoint(RDD.scala:324)\n\tat org.apache.spark.rdd.RDD.iterator(RDD.scala:288)\n\tat org.apache.spark.rdd.MapPartitionsRDD.compute(MapPartitionsRDD.scala:38)\n\tat org.apache.spark.rdd.RDD.computeOrReadCheckpoint(RDD.scala:324)\n\tat org.apache.spark.rdd.RDD.iterator(RDD.scala:288)\n\tat org.apache.spark.scheduler.ResultTask.runTask(ResultTask.scala:87)\n\tat org.apache.spark.scheduler.Task.run(Task.scala:109)\n\tat org.apache.spark.executor.Executor$TaskRunner.run(Executor.scala:345)\n\tat java.util.concurrent.ThreadPoolExecutor.runWorker(ThreadPoolExecutor.java:1149)\n\tat java.util.concurrent.ThreadPoolExecutor$Worker.run(ThreadPoolExecutor.java:624)\n\tat java.lang.Thread.run(Thread.java:748)\n\nDriver stacktrace:\n\tat org.apache.spark.scheduler.DAGScheduler.org$apache$spark$scheduler$DAGScheduler$$failJobAndIndependentStages(DAGScheduler.scala:1599)\n\tat org.apache.spark.scheduler.DAGScheduler$$anonfun$abortStage$1.apply(DAGScheduler.scala:1587)\n\tat org.apache.spark.scheduler.DAGScheduler$$anonfun$abortStage$1.apply(DAGScheduler.scala:1586)\n\tat scala.collection.mutable.ResizableArray$class.foreach(ResizableArray.scala:59)\n\tat scala.collection.mutable.ArrayBuffer.foreach(ArrayBuffer.scala:48)\n\tat org.apache.spark.scheduler.DAGScheduler.abortStage(DAGScheduler.scala:1586)\n\tat org.apache.spark.scheduler.DAGScheduler$$anonfun$handleTaskSetFailed$1.apply(DAGScheduler.scala:831)\n\tat org.apache.spark.scheduler.DAGScheduler$$anonfun$handleTaskSetFailed$1.apply(DAGScheduler.scala:831)\n\tat scala.Option.foreach(Option.scala:257)\n\tat org.apache.spark.scheduler.DAGScheduler.handleTaskSetFailed(DAGScheduler.scala:831)\n\tat org.apache.spark.scheduler.DAGSchedulerEventProcessLoop.doOnReceive(DAGScheduler.scala:1820)\n\tat org.apache.spark.scheduler.DAGSchedulerEventProcessLoop.onReceive(DAGScheduler.scala:1769)\n\tat org.apache.spark.scheduler.DAGSchedulerEventProcessLoop.onReceive(DAGScheduler.scala:1758)\n\tat org.apache.spark.util.EventLoop$$anon$1.run(EventLoop.scala:48)\n\tat org.apache.spark.scheduler.DAGScheduler.runJob(DAGScheduler.scala:642)\n\tat org.apache.spark.SparkContext.runJob(SparkContext.scala:2027)\n\tat org.apache.spark.SparkContext.runJob(SparkContext.scala:2048)\n\tat org.apache.spark.SparkContext.runJob(SparkContext.scala:2067)\n\tat org.apache.spark.sql.execution.SparkPlan.executeTake(SparkPlan.scala:363)\n\tat org.apache.spark.sql.execution.CollectLimitExec.executeCollect(limit.scala:38)\n\tat org.apache.spark.sql.Dataset.org$apache$spark$sql$Dataset$$collectFromPlan(Dataset.scala:3272)\n\tat org.apache.spark.sql.Dataset$$anonfun$head$1.apply(Dataset.scala:2484)\n\tat org.apache.spark.sql.Dataset$$anonfun$head$1.apply(Dataset.scala:2484)\n\tat org.apache.spark.sql.Dataset$$anonfun$52.apply(Dataset.scala:3253)\n\tat org.apache.spark.sql.execution.SQLExecution$.withNewExecutionId(SQLExecution.scala:77)\n\tat org.apache.spark.sql.Dataset.withAction(Dataset.scala:3252)\n\tat org.apache.spark.sql.Dataset.head(Dataset.scala:2484)\n\tat org.apache.spark.sql.Dataset.take(Dataset.scala:2698)\n\tat org.apache.spark.sql.Dataset.showString(Dataset.scala:254)\n\tat sun.reflect.GeneratedMethodAccessor292.invoke(Unknown Source)\n\tat sun.reflect.DelegatingMethodAccessorImpl.invoke(DelegatingMethodAccessorImpl.java:43)\n\tat java.lang.reflect.Method.invoke(Method.java:498)\n\tat py4j.reflection.MethodInvoker.invoke(MethodInvoker.java:244)\n\tat py4j.reflection.ReflectionEngine.invoke(ReflectionEngine.java:357)\n\tat py4j.Gateway.invoke(Gateway.java:282)\n\tat py4j.commands.AbstractCommand.invokeMethod(AbstractCommand.java:132)\n\tat py4j.commands.CallCommand.execute(CallCommand.java:79)\n\tat py4j.GatewayConnection.run(GatewayConnection.java:214)\n\tat java.lang.Thread.run(Thread.java:748)\nCaused by: net.razorvine.pickle.PickleException: expected zero arguments for construction of ClassDict (for pyspark.ml.linalg.DenseVector)\n\tat net.razorvine.pickle.objects.ClassDictConstructor.construct(ClassDictConstructor.java:23)\n\tat net.razorvine.pickle.Unpickler.load_reduce(Unpickler.java:707)\n\tat net.razorvine.pickle.Unpickler.dispatch(Unpickler.java:175)\n\tat net.razorvine.pickle.Unpickler.load(Unpickler.java:99)\n\tat net.razorvine.pickle.Unpickler.loads(Unpickler.java:112)\n\tat org.apache.spark.sql.execution.python.BatchEvalPythonExec$$anonfun$evaluate$1.apply(BatchEvalPythonExec.scala:86)\n\tat org.apache.spark.sql.execution.python.BatchEvalPythonExec$$anonfun$evaluate$1.apply(BatchEvalPythonExec.scala:85)\n\tat scala.collection.Iterator$$anon$12.nextCur(Iterator.scala:434)\n\tat scala.collection.Iterator$$anon$12.hasNext(Iterator.scala:440)\n\tat scala.collection.Iterator$$anon$11.hasNext(Iterator.scala:408)\n\tat scala.collection.Iterator$$anon$11.hasNext(Iterator.scala:408)\n\tat org.apache.spark.sql.catalyst.expressions.GeneratedClass$GeneratedIteratorForCodegenStage3.processNext(Unknown Source)\n\tat org.apache.spark.sql.execution.BufferedRowIterator.hasNext(BufferedRowIterator.java:43)\n\tat org.apache.spark.sql.execution.WholeStageCodegenExec$$anonfun$10$$anon$1.hasNext(WholeStageCodegenExec.scala:614)\n\tat org.apache.spark.sql.execution.SparkPlan$$anonfun$2.apply(SparkPlan.scala:253)\n\tat org.apache.spark.sql.execution.SparkPlan$$anonfun$2.apply(SparkPlan.scala:247)\n\tat org.apache.spark.rdd.RDD$$anonfun$mapPartitionsInternal$1$$anonfun$apply$25.apply(RDD.scala:830)\n\tat org.apache.spark.rdd.RDD$$anonfun$mapPartitionsInternal$1$$anonfun$apply$25.apply(RDD.scala:830)\n\tat org.apache.spark.rdd.MapPartitionsRDD.compute(MapPartitionsRDD.scala:38)\n\tat org.apache.spark.rdd.RDD.computeOrReadCheckpoint(RDD.scala:324)\n\tat org.apache.spark.rdd.RDD.iterator(RDD.scala:288)\n\tat org.apache.spark.rdd.MapPartitionsRDD.compute(MapPartitionsRDD.scala:38)\n\tat org.apache.spark.rdd.RDD.computeOrReadCheckpoint(RDD.scala:324)\n\tat org.apache.spark.rdd.RDD.iterator(RDD.scala:288)\n\tat org.apache.spark.scheduler.ResultTask.runTask(ResultTask.scala:87)\n\tat org.apache.spark.scheduler.Task.run(Task.scala:109)\n\tat org.apache.spark.executor.Executor$TaskRunner.run(Executor.scala:345)\n\tat java.util.concurrent.ThreadPoolExecutor.runWorker(ThreadPoolExecutor.java:1149)\n\tat java.util.concurrent.ThreadPoolExecutor$Worker.run(ThreadPoolExecutor.java:624)\n\t... 1 more\n",
     "output_type": "error",
     "traceback": [
      "\u001b[0;31m---------------------------------------------------------------------------\u001b[0m",
      "\u001b[0;31mPy4JJavaError\u001b[0m                             Traceback (most recent call last)",
      "\u001b[0;32m<ipython-input-159-c249ee7f3cab>\u001b[0m in \u001b[0;36m<module>\u001b[0;34m()\u001b[0m\n\u001b[1;32m     13\u001b[0m \u001b[0;31m#tot_dt_scale2=tot_dt_scale2.drop(\"stdFeatures\",\"stdFeatureList\")\u001b[0m\u001b[0;34m\u001b[0m\u001b[0;34m\u001b[0m\u001b[0m\n\u001b[1;32m     14\u001b[0m \u001b[0mtot_dt_scale2\u001b[0m\u001b[0;34m.\u001b[0m\u001b[0mprintSchema\u001b[0m\u001b[0;34m(\u001b[0m\u001b[0;34m)\u001b[0m\u001b[0;34m\u001b[0m\u001b[0m\n\u001b[0;32m---> 15\u001b[0;31m \u001b[0mtot_dt_scale2\u001b[0m\u001b[0;34m.\u001b[0m\u001b[0mshow\u001b[0m\u001b[0;34m(\u001b[0m\u001b[0;36m10\u001b[0m\u001b[0;34m,\u001b[0m\u001b[0;32mFalse\u001b[0m\u001b[0;34m)\u001b[0m\u001b[0;34m\u001b[0m\u001b[0m\n\u001b[0m",
      "\u001b[0;32m~/app/bigdata/spark/python/pyspark/sql/dataframe.py\u001b[0m in \u001b[0;36mshow\u001b[0;34m(self, n, truncate, vertical)\u001b[0m\n\u001b[1;32m    350\u001b[0m             \u001b[0mprint\u001b[0m\u001b[0;34m(\u001b[0m\u001b[0mself\u001b[0m\u001b[0;34m.\u001b[0m\u001b[0m_jdf\u001b[0m\u001b[0;34m.\u001b[0m\u001b[0mshowString\u001b[0m\u001b[0;34m(\u001b[0m\u001b[0mn\u001b[0m\u001b[0;34m,\u001b[0m \u001b[0;36m20\u001b[0m\u001b[0;34m,\u001b[0m \u001b[0mvertical\u001b[0m\u001b[0;34m)\u001b[0m\u001b[0;34m)\u001b[0m\u001b[0;34m\u001b[0m\u001b[0m\n\u001b[1;32m    351\u001b[0m         \u001b[0;32melse\u001b[0m\u001b[0;34m:\u001b[0m\u001b[0;34m\u001b[0m\u001b[0m\n\u001b[0;32m--> 352\u001b[0;31m             \u001b[0mprint\u001b[0m\u001b[0;34m(\u001b[0m\u001b[0mself\u001b[0m\u001b[0;34m.\u001b[0m\u001b[0m_jdf\u001b[0m\u001b[0;34m.\u001b[0m\u001b[0mshowString\u001b[0m\u001b[0;34m(\u001b[0m\u001b[0mn\u001b[0m\u001b[0;34m,\u001b[0m \u001b[0mint\u001b[0m\u001b[0;34m(\u001b[0m\u001b[0mtruncate\u001b[0m\u001b[0;34m)\u001b[0m\u001b[0;34m,\u001b[0m \u001b[0mvertical\u001b[0m\u001b[0;34m)\u001b[0m\u001b[0;34m)\u001b[0m\u001b[0;34m\u001b[0m\u001b[0m\n\u001b[0m\u001b[1;32m    353\u001b[0m \u001b[0;34m\u001b[0m\u001b[0m\n\u001b[1;32m    354\u001b[0m     \u001b[0;32mdef\u001b[0m \u001b[0m__repr__\u001b[0m\u001b[0;34m(\u001b[0m\u001b[0mself\u001b[0m\u001b[0;34m)\u001b[0m\u001b[0;34m:\u001b[0m\u001b[0;34m\u001b[0m\u001b[0m\n",
      "\u001b[0;32m~/app/bigdata/spark/python/lib/py4j-0.10.6-src.zip/py4j/java_gateway.py\u001b[0m in \u001b[0;36m__call__\u001b[0;34m(self, *args)\u001b[0m\n\u001b[1;32m   1158\u001b[0m         \u001b[0manswer\u001b[0m \u001b[0;34m=\u001b[0m \u001b[0mself\u001b[0m\u001b[0;34m.\u001b[0m\u001b[0mgateway_client\u001b[0m\u001b[0;34m.\u001b[0m\u001b[0msend_command\u001b[0m\u001b[0;34m(\u001b[0m\u001b[0mcommand\u001b[0m\u001b[0;34m)\u001b[0m\u001b[0;34m\u001b[0m\u001b[0m\n\u001b[1;32m   1159\u001b[0m         return_value = get_return_value(\n\u001b[0;32m-> 1160\u001b[0;31m             answer, self.gateway_client, self.target_id, self.name)\n\u001b[0m\u001b[1;32m   1161\u001b[0m \u001b[0;34m\u001b[0m\u001b[0m\n\u001b[1;32m   1162\u001b[0m         \u001b[0;32mfor\u001b[0m \u001b[0mtemp_arg\u001b[0m \u001b[0;32min\u001b[0m \u001b[0mtemp_args\u001b[0m\u001b[0;34m:\u001b[0m\u001b[0;34m\u001b[0m\u001b[0m\n",
      "\u001b[0;32m~/app/bigdata/spark/python/pyspark/sql/utils.py\u001b[0m in \u001b[0;36mdeco\u001b[0;34m(*a, **kw)\u001b[0m\n\u001b[1;32m     61\u001b[0m     \u001b[0;32mdef\u001b[0m \u001b[0mdeco\u001b[0m\u001b[0;34m(\u001b[0m\u001b[0;34m*\u001b[0m\u001b[0ma\u001b[0m\u001b[0;34m,\u001b[0m \u001b[0;34m**\u001b[0m\u001b[0mkw\u001b[0m\u001b[0;34m)\u001b[0m\u001b[0;34m:\u001b[0m\u001b[0;34m\u001b[0m\u001b[0m\n\u001b[1;32m     62\u001b[0m         \u001b[0;32mtry\u001b[0m\u001b[0;34m:\u001b[0m\u001b[0;34m\u001b[0m\u001b[0m\n\u001b[0;32m---> 63\u001b[0;31m             \u001b[0;32mreturn\u001b[0m \u001b[0mf\u001b[0m\u001b[0;34m(\u001b[0m\u001b[0;34m*\u001b[0m\u001b[0ma\u001b[0m\u001b[0;34m,\u001b[0m \u001b[0;34m**\u001b[0m\u001b[0mkw\u001b[0m\u001b[0;34m)\u001b[0m\u001b[0;34m\u001b[0m\u001b[0m\n\u001b[0m\u001b[1;32m     64\u001b[0m         \u001b[0;32mexcept\u001b[0m \u001b[0mpy4j\u001b[0m\u001b[0;34m.\u001b[0m\u001b[0mprotocol\u001b[0m\u001b[0;34m.\u001b[0m\u001b[0mPy4JJavaError\u001b[0m \u001b[0;32mas\u001b[0m \u001b[0me\u001b[0m\u001b[0;34m:\u001b[0m\u001b[0;34m\u001b[0m\u001b[0m\n\u001b[1;32m     65\u001b[0m             \u001b[0ms\u001b[0m \u001b[0;34m=\u001b[0m \u001b[0me\u001b[0m\u001b[0;34m.\u001b[0m\u001b[0mjava_exception\u001b[0m\u001b[0;34m.\u001b[0m\u001b[0mtoString\u001b[0m\u001b[0;34m(\u001b[0m\u001b[0;34m)\u001b[0m\u001b[0;34m\u001b[0m\u001b[0m\n",
      "\u001b[0;32m~/app/bigdata/spark/python/lib/py4j-0.10.6-src.zip/py4j/protocol.py\u001b[0m in \u001b[0;36mget_return_value\u001b[0;34m(answer, gateway_client, target_id, name)\u001b[0m\n\u001b[1;32m    318\u001b[0m                 raise Py4JJavaError(\n\u001b[1;32m    319\u001b[0m                     \u001b[0;34m\"An error occurred while calling {0}{1}{2}.\\n\"\u001b[0m\u001b[0;34m.\u001b[0m\u001b[0;34m\u001b[0m\u001b[0m\n\u001b[0;32m--> 320\u001b[0;31m                     format(target_id, \".\", name), value)\n\u001b[0m\u001b[1;32m    321\u001b[0m             \u001b[0;32melse\u001b[0m\u001b[0;34m:\u001b[0m\u001b[0;34m\u001b[0m\u001b[0m\n\u001b[1;32m    322\u001b[0m                 raise Py4JError(\n",
      "\u001b[0;31mPy4JJavaError\u001b[0m: An error occurred while calling o2112.showString.\n: org.apache.spark.SparkException: Job aborted due to stage failure: Task 0 in stage 495.0 failed 1 times, most recent failure: Lost task 0.0 in stage 495.0 (TID 25440, localhost, executor driver): net.razorvine.pickle.PickleException: expected zero arguments for construction of ClassDict (for pyspark.ml.linalg.DenseVector)\n\tat net.razorvine.pickle.objects.ClassDictConstructor.construct(ClassDictConstructor.java:23)\n\tat net.razorvine.pickle.Unpickler.load_reduce(Unpickler.java:707)\n\tat net.razorvine.pickle.Unpickler.dispatch(Unpickler.java:175)\n\tat net.razorvine.pickle.Unpickler.load(Unpickler.java:99)\n\tat net.razorvine.pickle.Unpickler.loads(Unpickler.java:112)\n\tat org.apache.spark.sql.execution.python.BatchEvalPythonExec$$anonfun$evaluate$1.apply(BatchEvalPythonExec.scala:86)\n\tat org.apache.spark.sql.execution.python.BatchEvalPythonExec$$anonfun$evaluate$1.apply(BatchEvalPythonExec.scala:85)\n\tat scala.collection.Iterator$$anon$12.nextCur(Iterator.scala:434)\n\tat scala.collection.Iterator$$anon$12.hasNext(Iterator.scala:440)\n\tat scala.collection.Iterator$$anon$11.hasNext(Iterator.scala:408)\n\tat scala.collection.Iterator$$anon$11.hasNext(Iterator.scala:408)\n\tat org.apache.spark.sql.catalyst.expressions.GeneratedClass$GeneratedIteratorForCodegenStage3.processNext(Unknown Source)\n\tat org.apache.spark.sql.execution.BufferedRowIterator.hasNext(BufferedRowIterator.java:43)\n\tat org.apache.spark.sql.execution.WholeStageCodegenExec$$anonfun$10$$anon$1.hasNext(WholeStageCodegenExec.scala:614)\n\tat org.apache.spark.sql.execution.SparkPlan$$anonfun$2.apply(SparkPlan.scala:253)\n\tat org.apache.spark.sql.execution.SparkPlan$$anonfun$2.apply(SparkPlan.scala:247)\n\tat org.apache.spark.rdd.RDD$$anonfun$mapPartitionsInternal$1$$anonfun$apply$25.apply(RDD.scala:830)\n\tat org.apache.spark.rdd.RDD$$anonfun$mapPartitionsInternal$1$$anonfun$apply$25.apply(RDD.scala:830)\n\tat org.apache.spark.rdd.MapPartitionsRDD.compute(MapPartitionsRDD.scala:38)\n\tat org.apache.spark.rdd.RDD.computeOrReadCheckpoint(RDD.scala:324)\n\tat org.apache.spark.rdd.RDD.iterator(RDD.scala:288)\n\tat org.apache.spark.rdd.MapPartitionsRDD.compute(MapPartitionsRDD.scala:38)\n\tat org.apache.spark.rdd.RDD.computeOrReadCheckpoint(RDD.scala:324)\n\tat org.apache.spark.rdd.RDD.iterator(RDD.scala:288)\n\tat org.apache.spark.scheduler.ResultTask.runTask(ResultTask.scala:87)\n\tat org.apache.spark.scheduler.Task.run(Task.scala:109)\n\tat org.apache.spark.executor.Executor$TaskRunner.run(Executor.scala:345)\n\tat java.util.concurrent.ThreadPoolExecutor.runWorker(ThreadPoolExecutor.java:1149)\n\tat java.util.concurrent.ThreadPoolExecutor$Worker.run(ThreadPoolExecutor.java:624)\n\tat java.lang.Thread.run(Thread.java:748)\n\nDriver stacktrace:\n\tat org.apache.spark.scheduler.DAGScheduler.org$apache$spark$scheduler$DAGScheduler$$failJobAndIndependentStages(DAGScheduler.scala:1599)\n\tat org.apache.spark.scheduler.DAGScheduler$$anonfun$abortStage$1.apply(DAGScheduler.scala:1587)\n\tat org.apache.spark.scheduler.DAGScheduler$$anonfun$abortStage$1.apply(DAGScheduler.scala:1586)\n\tat scala.collection.mutable.ResizableArray$class.foreach(ResizableArray.scala:59)\n\tat scala.collection.mutable.ArrayBuffer.foreach(ArrayBuffer.scala:48)\n\tat org.apache.spark.scheduler.DAGScheduler.abortStage(DAGScheduler.scala:1586)\n\tat org.apache.spark.scheduler.DAGScheduler$$anonfun$handleTaskSetFailed$1.apply(DAGScheduler.scala:831)\n\tat org.apache.spark.scheduler.DAGScheduler$$anonfun$handleTaskSetFailed$1.apply(DAGScheduler.scala:831)\n\tat scala.Option.foreach(Option.scala:257)\n\tat org.apache.spark.scheduler.DAGScheduler.handleTaskSetFailed(DAGScheduler.scala:831)\n\tat org.apache.spark.scheduler.DAGSchedulerEventProcessLoop.doOnReceive(DAGScheduler.scala:1820)\n\tat org.apache.spark.scheduler.DAGSchedulerEventProcessLoop.onReceive(DAGScheduler.scala:1769)\n\tat org.apache.spark.scheduler.DAGSchedulerEventProcessLoop.onReceive(DAGScheduler.scala:1758)\n\tat org.apache.spark.util.EventLoop$$anon$1.run(EventLoop.scala:48)\n\tat org.apache.spark.scheduler.DAGScheduler.runJob(DAGScheduler.scala:642)\n\tat org.apache.spark.SparkContext.runJob(SparkContext.scala:2027)\n\tat org.apache.spark.SparkContext.runJob(SparkContext.scala:2048)\n\tat org.apache.spark.SparkContext.runJob(SparkContext.scala:2067)\n\tat org.apache.spark.sql.execution.SparkPlan.executeTake(SparkPlan.scala:363)\n\tat org.apache.spark.sql.execution.CollectLimitExec.executeCollect(limit.scala:38)\n\tat org.apache.spark.sql.Dataset.org$apache$spark$sql$Dataset$$collectFromPlan(Dataset.scala:3272)\n\tat org.apache.spark.sql.Dataset$$anonfun$head$1.apply(Dataset.scala:2484)\n\tat org.apache.spark.sql.Dataset$$anonfun$head$1.apply(Dataset.scala:2484)\n\tat org.apache.spark.sql.Dataset$$anonfun$52.apply(Dataset.scala:3253)\n\tat org.apache.spark.sql.execution.SQLExecution$.withNewExecutionId(SQLExecution.scala:77)\n\tat org.apache.spark.sql.Dataset.withAction(Dataset.scala:3252)\n\tat org.apache.spark.sql.Dataset.head(Dataset.scala:2484)\n\tat org.apache.spark.sql.Dataset.take(Dataset.scala:2698)\n\tat org.apache.spark.sql.Dataset.showString(Dataset.scala:254)\n\tat sun.reflect.GeneratedMethodAccessor292.invoke(Unknown Source)\n\tat sun.reflect.DelegatingMethodAccessorImpl.invoke(DelegatingMethodAccessorImpl.java:43)\n\tat java.lang.reflect.Method.invoke(Method.java:498)\n\tat py4j.reflection.MethodInvoker.invoke(MethodInvoker.java:244)\n\tat py4j.reflection.ReflectionEngine.invoke(ReflectionEngine.java:357)\n\tat py4j.Gateway.invoke(Gateway.java:282)\n\tat py4j.commands.AbstractCommand.invokeMethod(AbstractCommand.java:132)\n\tat py4j.commands.CallCommand.execute(CallCommand.java:79)\n\tat py4j.GatewayConnection.run(GatewayConnection.java:214)\n\tat java.lang.Thread.run(Thread.java:748)\nCaused by: net.razorvine.pickle.PickleException: expected zero arguments for construction of ClassDict (for pyspark.ml.linalg.DenseVector)\n\tat net.razorvine.pickle.objects.ClassDictConstructor.construct(ClassDictConstructor.java:23)\n\tat net.razorvine.pickle.Unpickler.load_reduce(Unpickler.java:707)\n\tat net.razorvine.pickle.Unpickler.dispatch(Unpickler.java:175)\n\tat net.razorvine.pickle.Unpickler.load(Unpickler.java:99)\n\tat net.razorvine.pickle.Unpickler.loads(Unpickler.java:112)\n\tat org.apache.spark.sql.execution.python.BatchEvalPythonExec$$anonfun$evaluate$1.apply(BatchEvalPythonExec.scala:86)\n\tat org.apache.spark.sql.execution.python.BatchEvalPythonExec$$anonfun$evaluate$1.apply(BatchEvalPythonExec.scala:85)\n\tat scala.collection.Iterator$$anon$12.nextCur(Iterator.scala:434)\n\tat scala.collection.Iterator$$anon$12.hasNext(Iterator.scala:440)\n\tat scala.collection.Iterator$$anon$11.hasNext(Iterator.scala:408)\n\tat scala.collection.Iterator$$anon$11.hasNext(Iterator.scala:408)\n\tat org.apache.spark.sql.catalyst.expressions.GeneratedClass$GeneratedIteratorForCodegenStage3.processNext(Unknown Source)\n\tat org.apache.spark.sql.execution.BufferedRowIterator.hasNext(BufferedRowIterator.java:43)\n\tat org.apache.spark.sql.execution.WholeStageCodegenExec$$anonfun$10$$anon$1.hasNext(WholeStageCodegenExec.scala:614)\n\tat org.apache.spark.sql.execution.SparkPlan$$anonfun$2.apply(SparkPlan.scala:253)\n\tat org.apache.spark.sql.execution.SparkPlan$$anonfun$2.apply(SparkPlan.scala:247)\n\tat org.apache.spark.rdd.RDD$$anonfun$mapPartitionsInternal$1$$anonfun$apply$25.apply(RDD.scala:830)\n\tat org.apache.spark.rdd.RDD$$anonfun$mapPartitionsInternal$1$$anonfun$apply$25.apply(RDD.scala:830)\n\tat org.apache.spark.rdd.MapPartitionsRDD.compute(MapPartitionsRDD.scala:38)\n\tat org.apache.spark.rdd.RDD.computeOrReadCheckpoint(RDD.scala:324)\n\tat org.apache.spark.rdd.RDD.iterator(RDD.scala:288)\n\tat org.apache.spark.rdd.MapPartitionsRDD.compute(MapPartitionsRDD.scala:38)\n\tat org.apache.spark.rdd.RDD.computeOrReadCheckpoint(RDD.scala:324)\n\tat org.apache.spark.rdd.RDD.iterator(RDD.scala:288)\n\tat org.apache.spark.scheduler.ResultTask.runTask(ResultTask.scala:87)\n\tat org.apache.spark.scheduler.Task.run(Task.scala:109)\n\tat org.apache.spark.executor.Executor$TaskRunner.run(Executor.scala:345)\n\tat java.util.concurrent.ThreadPoolExecutor.runWorker(ThreadPoolExecutor.java:1149)\n\tat java.util.concurrent.ThreadPoolExecutor$Worker.run(ThreadPoolExecutor.java:624)\n\t... 1 more\n"
     ]
    }
   ],
   "source": [
    "def my_to_list(vec):\n",
    "    return vec\n",
    "    #mylist = []\n",
    "    #for idx in range(0, len(vec)):\n",
    "    #    mylist.append(vec[idx])\n",
    "    #return mylist\n",
    "#my_to_list=udf(my_to_list, ArrayType(DoubleType()))\n",
    "my_to_list=udf(my_to_list)\n",
    "\n",
    "tot_dt_scale2 = tot_dt_scale.select([\"etf_id\", \"etf_date\", \"stdFeatures\"]).withColumn(\"stdFeatureList\", my_to_list(col(\"stdFeatures\")))\n",
    "#for cidx in range(0, len(featureCols)):\n",
    "#    tot_dt_scale2 = tot_dt_scale2.withColumn(featureCols[cidx], col(\"stdFeatureList\")[cidx])\n",
    "#tot_dt_scale2=tot_dt_scale2.drop(\"stdFeatures\",\"stdFeatureList\")\n",
    "tot_dt_scale2.printSchema()\n",
    "tot_dt_scale2.show(10,False)"
   ]
  },
  {
   "cell_type": "code",
   "execution_count": 40,
   "metadata": {},
   "outputs": [
    {
     "name": "stdout",
     "output_type": "stream",
     "text": [
      "train count:  18442 , test count:  72\n",
      "+-------+--------+-------+--------------------+---------+\n",
      "| etf_id|etf_date|row_idx|         stdFeatures|etf_close|\n",
      "+-------+--------+-------+--------------------+---------+\n",
      "|0050   |20130227|     35|[0.58940415111937...|     55.2|\n",
      "|0050   |20130301|     36|[0.58819098072642...|     55.4|\n",
      "|0050   |20130304|     37|[0.58824157226986...|    54.75|\n",
      "|0050   |20130305|     38|[0.58548234159790...|     55.2|\n",
      "|0050   |20130306|     39|[0.58557644104544...|    55.45|\n",
      "|0050   |20130307|     40|[0.58671338876723...|     55.4|\n",
      "|0050   |20130308|     41|[0.58725651096374...|     55.8|\n",
      "|0050   |20130311|     42|[0.58933733603890...|     55.9|\n",
      "|0050   |20130312|     43|[0.59115423865838...|    55.55|\n",
      "|0050   |20130313|     44|[0.59086160641190...|    55.65|\n",
      "+-------+--------+-------+--------------------+---------+\n",
      "only showing top 10 rows\n",
      "\n",
      "+-------+--------+-------+--------------------+---------+\n",
      "| etf_id|etf_date|row_idx|         stdFeatures|etf_close|\n",
      "+-------+--------+-------+--------------------+---------+\n",
      "|0050   |20180430|   1304|[0.90021605184846...|     80.0|\n",
      "|0050   |20180502|   1305|[0.90196101841704...|     79.4|\n",
      "|0050   |20180503|   1306|[0.90054621404652...|    78.55|\n",
      "|0050   |20180504|   1307|[0.89595068095983...|    78.95|\n",
      "|0051   |20180430|   1304|[0.28946273294369...|    32.02|\n",
      "|0051   |20180502|   1305|[0.28862884302858...|     31.9|\n",
      "|0051   |20180503|   1306|[0.28755729333526...|    31.87|\n",
      "|0051   |20180504|   1307|[0.28671402110224...|     31.8|\n",
      "|0052   |20180430|   1304|[0.56934757231585...|     53.6|\n",
      "|0052   |20180502|   1305|[0.56794495374744...|     53.5|\n",
      "+-------+--------+-------+--------------------+---------+\n",
      "only showing top 10 rows\n",
      "\n"
     ]
    }
   ],
   "source": [
    "###### 取出4/16~4/27 (共兩週資料作為測試集)\n",
    "train_dt = tot_dt_scale.filter(\"etf_date < '\" + predict_start_date + \"' and MACD is not null\") \\\n",
    "    .select(\"etf_id\", \"etf_date\", \"row_idx\", \"stdFeatures\", \"etf_close\") \\\n",
    "    .orderBy(\"etf_id\", \"etf_date\", ascending=True)\n",
    "test_dt = tot_dt_scale.filter(\"etf_date >= '\" + predict_start_date + \"'\") \\\n",
    "    .select(\"etf_id\", \"etf_date\", \"row_idx\", \"stdFeatures\", \"etf_close\") \\\n",
    "    .orderBy(\"etf_id\", \"etf_date\", ascending=True)\n",
    "print('train count: ', str(train_dt.count()), ', test count: ', str(test_dt.count()))\n",
    "train_dt.show(10)\n",
    "test_dt.show(10)"
   ]
  },
  {
   "cell_type": "code",
   "execution_count": 41,
   "metadata": {},
   "outputs": [],
   "source": [
    "#test_dt.show(20, False)"
   ]
  },
  {
   "cell_type": "code",
   "execution_count": 42,
   "metadata": {},
   "outputs": [
    {
     "data": {
      "text/plain": [
       "DataFrame[etf_id: string, etf_date: string, row_idx: int, stdFeatures: vector, etf_close: double]"
      ]
     },
     "execution_count": 42,
     "metadata": {},
     "output_type": "execute_result"
    }
   ],
   "source": [
    "train_dt.cache()\n",
    "test_dt.cache()"
   ]
  },
  {
   "cell_type": "code",
   "execution_count": 43,
   "metadata": {
    "collapsed": true
   },
   "outputs": [
    {
     "data": {
      "text/plain": [
       "['00701  ',\n",
       " '0051   ',\n",
       " '0057   ',\n",
       " '006203 ',\n",
       " '0052   ',\n",
       " '0050   ',\n",
       " '0055   ',\n",
       " '0054   ',\n",
       " '0059   ',\n",
       " '00690  ',\n",
       " '00713  ',\n",
       " '006204 ',\n",
       " '006208 ',\n",
       " '0053   ',\n",
       " '006201 ',\n",
       " '0056   ',\n",
       " '00692  ',\n",
       " '0058   ']"
      ]
     },
     "execution_count": 43,
     "metadata": {},
     "output_type": "execute_result"
    }
   ],
   "source": [
    "#取出etf的distinct id\n",
    "etf_ids = []\n",
    "for row in train_dt.select(\"etf_id\").distinct().collect():\n",
    "    etf_ids.append(row[\"etf_id\"])\n",
    "etf_ids"
   ]
  },
  {
   "cell_type": "code",
   "execution_count": 44,
   "metadata": {
    "collapsed": true
   },
   "outputs": [
    {
     "name": "stdout",
     "output_type": "stream",
     "text": [
      "00701   : feature length:  136\n",
      "0051    : feature length:  1269\n",
      "0057    : feature length:  1269\n",
      "006203  : feature length:  1269\n",
      "0052    : feature length:  1269\n",
      "0050    : feature length:  1269\n",
      "0055    : feature length:  1269\n",
      "0054    : feature length:  1269\n",
      "0059    : feature length:  1269\n",
      "00690   : feature length:  231\n",
      "00713   : feature length:  107\n",
      "006204  : feature length:  1269\n",
      "006208  : feature length:  1269\n",
      "0053    : feature length:  1269\n",
      "006201  : feature length:  1269\n",
      "0056    : feature length:  1270\n",
      "00692   : feature length:  201\n",
      "0058    : feature length:  1269\n"
     ]
    }
   ],
   "source": [
    "#prepare pandas for xgb\n",
    "train_pd_map = {}\n",
    "for etfid in etf_ids:\n",
    "    train_data = train_dt.filter(\"etf_id='\" + etfid + \"'\")\n",
    "    train_pd = train_data.toPandas()\n",
    "    print(etfid, ': feature length: ', len(train_pd))\n",
    "    train_pd_map.update({etfid: train_pd})"
   ]
  },
  {
   "cell_type": "code",
   "execution_count": 131,
   "metadata": {
    "scrolled": true
   },
   "outputs": [
    {
     "name": "stdout",
     "output_type": "stream",
     "text": [
      "features:  231 (231, 1)\n",
      "labels:  231 (231,)\n"
     ]
    },
    {
     "data": {
      "text/plain": [
       "float"
      ]
     },
     "execution_count": 131,
     "metadata": {},
     "output_type": "execute_result"
    }
   ],
   "source": [
    "pd = train_pd_map['00690  ']\n",
    "print('features: ', len(pd[[\"stdFeatures\"]].values), pd[[\"stdFeatures\"]].values.shape)\n",
    "print('labels: ', len(pd[\"etf_close\"].values), pd.etf_close.values.shape)\n",
    "ll = pd[[\"etf_id\",\"etf_close\"]].values\n",
    "ll\n",
    "type(ll[0][1])"
   ]
  },
  {
   "cell_type": "code",
   "execution_count": 132,
   "metadata": {},
   "outputs": [
    {
     "data": {
      "text/plain": [
       "numpy.float64"
      ]
     },
     "execution_count": 132,
     "metadata": {},
     "output_type": "execute_result"
    }
   ],
   "source": [
    "ll = []\n",
    "for x in pd[\"stdFeatures\"]:\n",
    "    ll.append(x.values)\n",
    "ll\n",
    "type(ll[0][0])\n",
    "#type(pd[\"stdFeatures\"].values)\n",
    "#pd[\"stdFeatures\"][0].values\n",
    "#pd[\"stdFeatures\"].values"
   ]
  },
  {
   "cell_type": "code",
   "execution_count": 78,
   "metadata": {},
   "outputs": [
    {
     "ename": "ValueError",
     "evalue": "setting an array element with a sequence.",
     "output_type": "error",
     "traceback": [
      "\u001b[0;31m---------------------------------------------------------------------------\u001b[0m",
      "\u001b[0;31mValueError\u001b[0m                                Traceback (most recent call last)",
      "\u001b[0;32m<ipython-input-78-22be018c3cf5>\u001b[0m in \u001b[0;36m<module>\u001b[0;34m()\u001b[0m\n\u001b[1;32m      8\u001b[0m     \u001b[0mtrain_x\u001b[0m \u001b[0;34m=\u001b[0m \u001b[0mtrain_pd_map\u001b[0m\u001b[0;34m[\u001b[0m\u001b[0metfid\u001b[0m\u001b[0;34m]\u001b[0m\u001b[0;34m[\u001b[0m\u001b[0;34m[\u001b[0m\u001b[0;34m\"stdFeatures\"\u001b[0m\u001b[0;34m]\u001b[0m\u001b[0;34m]\u001b[0m\u001b[0;34m.\u001b[0m\u001b[0mvalues\u001b[0m\u001b[0;34m\u001b[0m\u001b[0m\n\u001b[1;32m      9\u001b[0m     \u001b[0mtrain_y\u001b[0m \u001b[0;34m=\u001b[0m \u001b[0mtrain_pd_map\u001b[0m\u001b[0;34m[\u001b[0m\u001b[0metfid\u001b[0m\u001b[0;34m]\u001b[0m\u001b[0;34m[\u001b[0m\u001b[0;34m\"etf_close\"\u001b[0m\u001b[0;34m]\u001b[0m\u001b[0;34m\u001b[0m\u001b[0m\n\u001b[0;32m---> 10\u001b[0;31m     \u001b[0mrf_model\u001b[0m\u001b[0;34m.\u001b[0m\u001b[0mfit\u001b[0m\u001b[0;34m(\u001b[0m\u001b[0mtrain_x\u001b[0m\u001b[0;34m,\u001b[0m \u001b[0mtrain_y\u001b[0m\u001b[0;34m)\u001b[0m\u001b[0;34m\u001b[0m\u001b[0m\n\u001b[0m\u001b[1;32m     11\u001b[0m     \u001b[0mmodel_map\u001b[0m\u001b[0;34m.\u001b[0m\u001b[0mupdate\u001b[0m\u001b[0;34m(\u001b[0m\u001b[0;34m{\u001b[0m\u001b[0metfid\u001b[0m\u001b[0;34m:\u001b[0m \u001b[0mrf_model\u001b[0m\u001b[0;34m}\u001b[0m\u001b[0;34m)\u001b[0m\u001b[0;34m\u001b[0m\u001b[0m\n",
      "\u001b[0;32m~/anaconda3/lib/python3.6/site-packages/xgboost/sklearn.py\u001b[0m in \u001b[0;36mfit\u001b[0;34m(self, X, y, sample_weight, eval_set, eval_metric, early_stopping_rounds, verbose, xgb_model)\u001b[0m\n\u001b[1;32m    261\u001b[0m                                    missing=self.missing, nthread=self.n_jobs)\n\u001b[1;32m    262\u001b[0m         \u001b[0;32melse\u001b[0m\u001b[0;34m:\u001b[0m\u001b[0;34m\u001b[0m\u001b[0m\n\u001b[0;32m--> 263\u001b[0;31m             \u001b[0mtrainDmatrix\u001b[0m \u001b[0;34m=\u001b[0m \u001b[0mDMatrix\u001b[0m\u001b[0;34m(\u001b[0m\u001b[0mX\u001b[0m\u001b[0;34m,\u001b[0m \u001b[0mlabel\u001b[0m\u001b[0;34m=\u001b[0m\u001b[0my\u001b[0m\u001b[0;34m,\u001b[0m \u001b[0mmissing\u001b[0m\u001b[0;34m=\u001b[0m\u001b[0mself\u001b[0m\u001b[0;34m.\u001b[0m\u001b[0mmissing\u001b[0m\u001b[0;34m,\u001b[0m \u001b[0mnthread\u001b[0m\u001b[0;34m=\u001b[0m\u001b[0mself\u001b[0m\u001b[0;34m.\u001b[0m\u001b[0mn_jobs\u001b[0m\u001b[0;34m)\u001b[0m\u001b[0;34m\u001b[0m\u001b[0m\n\u001b[0m\u001b[1;32m    264\u001b[0m \u001b[0;34m\u001b[0m\u001b[0m\n\u001b[1;32m    265\u001b[0m         \u001b[0mevals_result\u001b[0m \u001b[0;34m=\u001b[0m \u001b[0;34m{\u001b[0m\u001b[0;34m}\u001b[0m\u001b[0;34m\u001b[0m\u001b[0m\n",
      "\u001b[0;32m~/anaconda3/lib/python3.6/site-packages/xgboost/core.py\u001b[0m in \u001b[0;36m__init__\u001b[0;34m(self, data, label, missing, weight, silent, feature_names, feature_types, nthread)\u001b[0m\n\u001b[1;32m    276\u001b[0m             \u001b[0mself\u001b[0m\u001b[0;34m.\u001b[0m\u001b[0m_init_from_csc\u001b[0m\u001b[0;34m(\u001b[0m\u001b[0mdata\u001b[0m\u001b[0;34m)\u001b[0m\u001b[0;34m\u001b[0m\u001b[0m\n\u001b[1;32m    277\u001b[0m         \u001b[0;32melif\u001b[0m \u001b[0misinstance\u001b[0m\u001b[0;34m(\u001b[0m\u001b[0mdata\u001b[0m\u001b[0;34m,\u001b[0m \u001b[0mnp\u001b[0m\u001b[0;34m.\u001b[0m\u001b[0mndarray\u001b[0m\u001b[0;34m)\u001b[0m\u001b[0;34m:\u001b[0m\u001b[0;34m\u001b[0m\u001b[0m\n\u001b[0;32m--> 278\u001b[0;31m             \u001b[0mself\u001b[0m\u001b[0;34m.\u001b[0m\u001b[0m_init_from_npy2d\u001b[0m\u001b[0;34m(\u001b[0m\u001b[0mdata\u001b[0m\u001b[0;34m,\u001b[0m \u001b[0mmissing\u001b[0m\u001b[0;34m,\u001b[0m \u001b[0mnthread\u001b[0m\u001b[0;34m)\u001b[0m\u001b[0;34m\u001b[0m\u001b[0m\n\u001b[0m\u001b[1;32m    279\u001b[0m         \u001b[0;32melse\u001b[0m\u001b[0;34m:\u001b[0m\u001b[0;34m\u001b[0m\u001b[0m\n\u001b[1;32m    280\u001b[0m             \u001b[0;32mtry\u001b[0m\u001b[0;34m:\u001b[0m\u001b[0;34m\u001b[0m\u001b[0m\n",
      "\u001b[0;32m~/anaconda3/lib/python3.6/site-packages/xgboost/core.py\u001b[0m in \u001b[0;36m_init_from_npy2d\u001b[0;34m(self, mat, missing, nthread)\u001b[0m\n\u001b[1;32m    344\u001b[0m         \u001b[0;31m# we try to avoid data copies if possible (reshape returns a view when possible\u001b[0m\u001b[0;34m\u001b[0m\u001b[0;34m\u001b[0m\u001b[0m\n\u001b[1;32m    345\u001b[0m         \u001b[0;31m# and we explicitly tell np.array to try and avoid copying)\u001b[0m\u001b[0;34m\u001b[0m\u001b[0;34m\u001b[0m\u001b[0m\n\u001b[0;32m--> 346\u001b[0;31m         \u001b[0mdata\u001b[0m \u001b[0;34m=\u001b[0m \u001b[0mnp\u001b[0m\u001b[0;34m.\u001b[0m\u001b[0marray\u001b[0m\u001b[0;34m(\u001b[0m\u001b[0mmat\u001b[0m\u001b[0;34m.\u001b[0m\u001b[0mreshape\u001b[0m\u001b[0;34m(\u001b[0m\u001b[0mmat\u001b[0m\u001b[0;34m.\u001b[0m\u001b[0msize\u001b[0m\u001b[0;34m)\u001b[0m\u001b[0;34m,\u001b[0m \u001b[0mcopy\u001b[0m\u001b[0;34m=\u001b[0m\u001b[0;32mFalse\u001b[0m\u001b[0;34m,\u001b[0m \u001b[0mdtype\u001b[0m\u001b[0;34m=\u001b[0m\u001b[0mnp\u001b[0m\u001b[0;34m.\u001b[0m\u001b[0mfloat32\u001b[0m\u001b[0;34m)\u001b[0m\u001b[0;34m\u001b[0m\u001b[0m\n\u001b[0m\u001b[1;32m    347\u001b[0m         \u001b[0mself\u001b[0m\u001b[0;34m.\u001b[0m\u001b[0mhandle\u001b[0m \u001b[0;34m=\u001b[0m \u001b[0mctypes\u001b[0m\u001b[0;34m.\u001b[0m\u001b[0mc_void_p\u001b[0m\u001b[0;34m(\u001b[0m\u001b[0;34m)\u001b[0m\u001b[0;34m\u001b[0m\u001b[0m\n\u001b[1;32m    348\u001b[0m         \u001b[0mmissing\u001b[0m \u001b[0;34m=\u001b[0m \u001b[0mmissing\u001b[0m \u001b[0;32mif\u001b[0m \u001b[0mmissing\u001b[0m \u001b[0;32mis\u001b[0m \u001b[0;32mnot\u001b[0m \u001b[0;32mNone\u001b[0m \u001b[0;32melse\u001b[0m \u001b[0mnp\u001b[0m\u001b[0;34m.\u001b[0m\u001b[0mnan\u001b[0m\u001b[0;34m\u001b[0m\u001b[0m\n",
      "\u001b[0;31mValueError\u001b[0m: setting an array element with a sequence."
     ]
    }
   ],
   "source": [
    "#訓練Model及評估(XGBRegressor - etf_id wise) \n",
    "import xgboost as xgb\n",
    "\n",
    "model_map = {}\n",
    "for etfid in etf_ids:\n",
    "    rf_model = xgb.XGBRegressor(n_estimators=100, learning_rate=0.08, gamma=0, subsample=0.75, \n",
    "                                 colsample_bytree=1, max_depth=10, seed=8240, n_jobs=4)\n",
    "    train_x = train_pd_map[etfid][[\"stdFeatures\"]].values\n",
    "    train_y = train_pd_map[etfid][\"etf_close\"]\n",
    "    rf_model.fit(train_x, train_y)\n",
    "    model_map.update({etfid: rf_model})"
   ]
  },
  {
   "cell_type": "code",
   "execution_count": 47,
   "metadata": {
    "collapsed": true
   },
   "outputs": [
    {
     "name": "stdout",
     "output_type": "stream",
     "text": [
      "+-------+--------+-------+---------+--------------------+--------------------+\n",
      "| etf_id|etf_date|row_idx|etf_close|     close_price_raw|            dif_list|\n",
      "+-------+--------+-------+---------+--------------------+--------------------+\n",
      "|0050   |20180427| 1303.0|     79.2|[54.4, 54.85, 54....|[0.35882671868262...|\n",
      "|0051   |20180427| 1303.0|    32.11|[26.09, 26.12, 26...|[0.23810818793990...|\n",
      "|0052   |20180427| 1303.0|     53.2|[32.72, 32.12, 32...|[0.30196772810150...|\n",
      "|0053   |20180427| 1303.0|     34.2|[23.26, 23.11, 22...|[0.15597485321855...|\n",
      "|0054   |20180427| 1303.0|    23.09|[19.4, 19.37, 19....|[0.09327655672724...|\n",
      "|0055   |20180427| 1303.0|    17.04|[11.47, 11.49, 11...|[0.31374969126963...|\n",
      "|0056   |20180427| 1304.0|    25.15|[22.95, 23.06, 22...|[0.31828091002715...|\n",
      "|0057   |20180427| 1303.0|    48.74|[31.94, 31.93, 31...|[0.20109705259728...|\n",
      "|0058   |20180427| 1303.0|    45.06|[32.12, 31.96, 32...|[-0.1346882469799...|\n",
      "|0059   |20180427| 1303.0|    41.97|[24.65, 24.67, 24...|[0.65108836931329...|\n",
      "|006201 |20180427| 1303.0|    13.26|[10.24, 10.28, 10...|[0.10256677527479...|\n",
      "|006203 |20180427| 1303.0|    36.82|[26.11, 26.5, 26....|[0.23702653878804...|\n",
      "|006204 |20180427| 1303.0|     52.1|[38.82, 39.06, 38...|[0.30591619908080...|\n",
      "|006208 |20180427| 1303.0|     46.0|[31.02, 31.28, 31...|[0.22969191539465...|\n",
      "|00690  |20180427|  265.0|    21.54|[19.91, 19.95, 19...|[0.12719407487044...|\n",
      "|00692  |20180427|  235.0|    20.84|[19.82, 19.81, 19...|[0.21096625135049...|\n",
      "|00701  |20180427|  170.0|    20.86|[20.09, 20.1, 20....|[-0.0364782011969...|\n",
      "|00713  |20180427|  141.0|    30.12|[29.88, 29.84, 29...|[0.10443575803092...|\n",
      "+-------+--------+-------+---------+--------------------+--------------------+\n",
      "\n"
     ]
    }
   ],
   "source": [
    "#find last records of all etf to be the base of next record\n",
    "tetf_dt_prod = tetfp_dt2.filter(\"etf_date < '\" + predict_start_date + \"' and MACD is not null\")\n",
    "tetf_max_idx = tetf_dt_prod.groupBy(\"etf_id\").max(\"row_idx\")\n",
    "tetf_max = tetf_max_idx.select(col(\"etf_id\"), col(\"max(row_idx)\").cast(\"Double\").alias(\"row_idx\")) \\\n",
    "    .join(tetf_dt_prod, [\"etf_id\", \"row_idx\"], \"inner\") \\\n",
    "    .select(\"etf_id\", \"etf_date\", \"row_idx\", \"etf_close\", \"close_price_raw\", \"dif_list\") \\\n",
    "    .orderBy('etf_id')\n",
    "\n",
    "tetf_max.show()"
   ]
  },
  {
   "cell_type": "code",
   "execution_count": 48,
   "metadata": {},
   "outputs": [],
   "source": [
    "#建立產生feature之方法\n",
    "def create_feature(orig_dt):\n",
    "    new_dt = orig_dt.withColumn(\"EMA5\", calculate_ema(col(\"close_price_raw\"), lit(5))) \\\n",
    "    .withColumn(\"EMA10\", calculate_ema(col(\"close_price_raw\"), lit(10))) \\\n",
    "    .withColumn(\"EMA20\", calculate_ema(col(\"close_price_raw\"), lit(20))) \\\n",
    "    .withColumn(\"BIAS\", calculate_bias(col(\"close_price_raw\"))) \\\n",
    "    .withColumn(\"KD\", calculate_KD(col(\"close_price_raw\"))) \\\n",
    "    .withColumn(\"K\", col(\"KD\")[0]).withColumn(\"D\", col(\"KD\")[1]) \\\n",
    "    .withColumn(\"MACD\", calculate_MACD(col(\"dif_list\"), col(\"DIF\"))) \\\n",
    "    .withColumn(\"RSI\", calculate_RSI(col(\"close_price_raw\")))\\\n",
    "    .withColumn(\"WR\", calculate_WR(col(\"close_price_raw\")))\n",
    "    return new_dt\n",
    "#計算上或下的值(udf)\n",
    "def judge_up_down_pred(curr_price, close_price_list):\n",
    "    if len(close_price_list) == 0:\n",
    "        return 0.0\n",
    "    else:\n",
    "        prev_price = close_price_list[-1]\n",
    "        if curr_price == prev_price:\n",
    "            return 0.0\n",
    "        elif curr_price > prev_price:\n",
    "            return 1.0\n",
    "        else:\n",
    "            return 2.0\n",
    "judge_up_down_pred=udf(judge_up_down_pred, DoubleType())\n",
    "#建立預測方法\n",
    "def doPredict(test_dt, etf_ids, model_dic):\n",
    "    predict_res = None\n",
    "    for etfid in etf_ids:\n",
    "        test_data = test_dt.filter(\"etf_id='\" + etfid + \"'\")\n",
    "        predicts = model_dic[etfid].transform(test_data)\n",
    "        if predict_res is None:\n",
    "            predict_res = predicts\n",
    "        else:\n",
    "            predict_res = predict_res.unionAll(predicts)\n",
    "    predict_res2 = predict_res.withColumn(\"pred_ud\", judge_up_down_pred(col(\"prediction\"), col(\"close_price_raw\")))\n",
    "    return predict_res2"
   ]
  },
  {
   "cell_type": "code",
   "execution_count": 49,
   "metadata": {},
   "outputs": [
    {
     "ename": "NameError",
     "evalue": "name 'model_map' is not defined",
     "output_type": "error",
     "traceback": [
      "\u001b[0;31m---------------------------------------------------------------------------\u001b[0m",
      "\u001b[0;31mNameError\u001b[0m                                 Traceback (most recent call last)",
      "\u001b[0;32m<ipython-input-49-f1b206d686cd>\u001b[0m in \u001b[0;36m<module>\u001b[0;34m()\u001b[0m\n\u001b[1;32m     19\u001b[0m     \u001b[0;31m#feature_dt.select(\"etf_id\", \"etf_date\", \"stdFeatures\").show(10, False)\u001b[0m\u001b[0;34m\u001b[0m\u001b[0;34m\u001b[0m\u001b[0m\n\u001b[1;32m     20\u001b[0m     \u001b[0;31m#do predict using existed model\u001b[0m\u001b[0;34m\u001b[0m\u001b[0;34m\u001b[0m\u001b[0m\n\u001b[0;32m---> 21\u001b[0;31m     \u001b[0mpred_res\u001b[0m \u001b[0;34m=\u001b[0m \u001b[0mdoPredict\u001b[0m\u001b[0;34m(\u001b[0m\u001b[0mfeature_dt\u001b[0m\u001b[0;34m,\u001b[0m \u001b[0metf_ids\u001b[0m\u001b[0;34m,\u001b[0m \u001b[0mmodel_map\u001b[0m\u001b[0;34m)\u001b[0m\u001b[0;34m\u001b[0m\u001b[0m\n\u001b[0m\u001b[1;32m     22\u001b[0m     \u001b[0;31m#取出所有預測結果作合併，以進行後續成績計算\u001b[0m\u001b[0;34m\u001b[0m\u001b[0;34m\u001b[0m\u001b[0m\n\u001b[1;32m     23\u001b[0m     \u001b[0mmerged_dt\u001b[0m \u001b[0;34m=\u001b[0m \u001b[0mpred_res\u001b[0m\u001b[0;34m.\u001b[0m\u001b[0mselect\u001b[0m\u001b[0;34m(\u001b[0m\u001b[0;34m\"etf_id\"\u001b[0m\u001b[0;34m,\u001b[0m \u001b[0;34m\"etf_date\"\u001b[0m\u001b[0;34m,\u001b[0m \u001b[0;34m\"prediction\"\u001b[0m\u001b[0;34m,\u001b[0m \u001b[0;34m\"pred_ud\"\u001b[0m\u001b[0;34m)\u001b[0m\u001b[0;34m\u001b[0m\u001b[0m\n",
      "\u001b[0;31mNameError\u001b[0m: name 'model_map' is not defined"
     ]
    }
   ],
   "source": [
    "schema = tetfp_dt2.select(\"etf_id\", \"etf_date\", col(\"row_idx\").cast(\"Double\"), \"close_price_raw\", \"DIF\", \"dif_list\").schema\n",
    "idx_plus = 0.0\n",
    "predict_res_final = None\n",
    "predict_range = [d for d in next_date_range if d not in ignore_dates]\n",
    "for date in predict_range:\n",
    "    next_rows = []\n",
    "    idx_plus = idx_plus +1\n",
    "    for row in tetf_max.collect():\n",
    "        close_price_raw = row[\"close_price_raw\"]\n",
    "        close_price_raw.append(row[\"etf_close\"])\n",
    "        dif_list = row[\"dif_list\"]\n",
    "        dif = calculate_DIF_native(close_price_raw)\n",
    "        dif_list.append(dif)\n",
    "        next_row = (row[\"etf_id\"], date, row[\"row_idx\"]+idx_plus, close_price_raw, dif ,dif_list)\n",
    "        next_rows.append(next_row)\n",
    "    orig_dt = spark.createDataFrame(next_rows, schema)\n",
    "    new_dt = create_feature(orig_dt) #加入預測用的feature\n",
    "    feature_dt = assembler.transform(new_dt).withColumn(\"stdFeatures\", col(\"features\")) #作出 FeatureVector\n",
    "    #feature_dt.select(\"etf_id\", \"etf_date\", \"stdFeatures\").show(10, False)\n",
    "    #do predict using existed model\n",
    "    pred_res = doPredict(feature_dt, etf_ids, model_map)\n",
    "    #取出所有預測結果作合併，以進行後續成績計算\n",
    "    merged_dt = pred_res.select(\"etf_id\", \"etf_date\", \"prediction\", \"pred_ud\")\n",
    "    if predict_res_final is None:\n",
    "        predict_res_final = merged_dt\n",
    "    else:\n",
    "        predict_res_final = predict_res_final.unionAll(merged_dt)\n",
    "    tetf_max = pred_res.select(\"etf_id\", \"etf_date\", \"row_idx\", col(\"prediction\").alias(\"etf_close\"), \"close_price_raw\", \"dif_list\")\n",
    "    \n",
    "predict_res_final.cache()\n",
    "predict_res_final.show(10)\n"
   ]
  },
  {
   "cell_type": "code",
   "execution_count": null,
   "metadata": {},
   "outputs": [],
   "source": [
    "# 評估Model的RMES\n",
    "####### with min-max scaler (depth=10, bin=32) #########\n",
    "#(RMSE) on test data = 1.63371   accuracy = 0.555556 final score:  11.370977902160591\n",
    "####### with min-max scaler (depth=12,10, bin=48) #########\n",
    "#(RMSE) on test data = 1.61946   accuracy = 0.527778 final score:  11.125999693476427\n",
    "####### with min-max scaler (depth=10, bin=30) #########\n",
    "#(RMSE) on test data = 1.63371   accuracy = 0.48 final score:  10.00"
   ]
  },
  {
   "cell_type": "code",
   "execution_count": null,
   "metadata": {
    "scrolled": true
   },
   "outputs": [],
   "source": [
    "from pyspark.ml.evaluation import RegressionEvaluator, MulticlassClassificationEvaluator\n",
    "if DoEval:\n",
    "    tetf_dt_eval = tetfp_dt2.filter(\"etf_date >= '\" + predict_start_date + \"'\") \\\n",
    "        .select(\"etf_id\", \"etf_date\", \"etf_close\", \"close_price_raw\")\n",
    "    eval_dt = predict_res_final.join(tetf_dt_eval, [\"etf_id\", \"etf_date\"], \"inner\") \\\n",
    "        .withColumn(\"act_ud\", judge_up_down_pred(col(\"etf_close\"), col(\"close_price_raw\")))\n",
    "    eval_dt.cache()\n",
    "    #eval_dt.orderBy(\"etf_id\", \"etf_date\", ascending=True).show(10)\n",
    "\n",
    "    evaluator = RegressionEvaluator(\n",
    "        labelCol=\"etf_close\", predictionCol=\"prediction\", metricName=\"rmse\")\n",
    "    rmse = evaluator.evaluate(eval_dt)\n",
    "    print(\"Root Mean Squared Error (RMSE) on test data = %g\" % rmse)\n",
    "    evaluator = MulticlassClassificationEvaluator(\n",
    "        labelCol=\"act_ud\", predictionCol=\"pred_ud\", metricName=\"accuracy\")\n",
    "    accuracy = evaluator.evaluate(eval_dt)\n",
    "    print(\"accuracy = %g \" % accuracy)\n",
    "    \n",
    "    #define method to evaluate by ETF way\n",
    "    final_res = eval_dt.select(\"etf_id\", \"etf_date\", \"prediction\", \"pred_ud\", \"etf_close\", \"act_ud\") \\\n",
    "        .orderBy(\"etf_date\", \"etf_id\").collect()\n",
    "    weights = [0.1, 0.15, 0.2, 0.25, 0.3]\n",
    "    judge_score = 0.0\n",
    "    for row in final_res:\n",
    "        #(up equal*0.5+((act_p - abs(pred_p - act_p))/act_p)*0.5)*weight\n",
    "        act_price = row[\"etf_close\"]\n",
    "        pred_price = row[\"prediction\"]\n",
    "        eidx = next_date_range.index(row[\"etf_date\"])\n",
    "        judge_score = judge_score + \\\n",
    "            ((0.5 if row[\"pred_ud\"] == row[\"act_ud\"] else 0) + \\\n",
    "             ((act_price-abs(pred_price-act_price))/act_price)*0.5)*weights[eidx]\n",
    "    print(\"final score: \", judge_score)\n",
    "#numtree"
   ]
  },
  {
   "cell_type": "code",
   "execution_count": null,
   "metadata": {},
   "outputs": [],
   "source": [
    "final_res = predict_res_final.orderBy(\"etf_id\", \"etf_date\").collect()"
   ]
  },
  {
   "cell_type": "code",
   "execution_count": null,
   "metadata": {},
   "outputs": [],
   "source": [
    "#export to pandas\n",
    "etf_ids = []\n",
    "mon_ud = []\n",
    "mon_price = [] \n",
    "tue_ud = []\n",
    "tue_price = []\n",
    "wed_ud = []\n",
    "wed_price = []\n",
    "thu_ud = []\n",
    "thu_price = []\n",
    "fri_ud = []\n",
    "fri_price = []\n",
    "\n",
    "def encode_ud(oper_ud):\n",
    "    if oper_ud == 0.0:\n",
    "        return 0\n",
    "    elif oper_ud == 1.0:\n",
    "        return 1\n",
    "    else:\n",
    "        return -1\n",
    "\n",
    "for row in final_res:\n",
    "    etf_id = row[\"etf_id\"]\n",
    "    if etf_id not in etf_ids:\n",
    "        etf_ids.append(etf_id)\n",
    "    etf_date = row[\"etf_date\"]\n",
    "    eidx = next_date_range.index(row[\"etf_date\"])\n",
    "    if eidx == 0:\n",
    "        mon_ud.append(encode_ud(row[\"pred_ud\"]))\n",
    "        mon_price.append(row[\"prediction\"])\n",
    "    elif eidx == 1:\n",
    "        tue_ud.append(encode_ud(row[\"pred_ud\"]))\n",
    "        tue_price.append(row[\"prediction\"])\n",
    "    elif eidx == 2:\n",
    "        wed_ud.append(encode_ud(row[\"pred_ud\"]))\n",
    "        wed_price.append(row[\"prediction\"])\n",
    "    elif eidx == 3:\n",
    "        thu_ud.append(encode_ud(row[\"pred_ud\"]))\n",
    "        thu_price.append(row[\"prediction\"])\n",
    "    elif eidx == 4:\n",
    "        fri_ud.append(encode_ud(row[\"pred_ud\"]))\n",
    "        fri_price.append(row[\"prediction\"])\n",
    "        \n",
    "if len(mon_ud) == 0:\n",
    "    mon_ud = list(0 for i in range(0,len(etf_ids)))\n",
    "    mon_price = list(0.0 for i in range(0,len(etf_ids)))\n",
    "if len(tue_ud) == 0:\n",
    "    tue_ud = list(0 for i in range(0,len(etf_ids)))\n",
    "    tue_price = list(0.0 for i in range(0,len(etf_ids)))\n",
    "if len(wed_ud) == 0:\n",
    "    wed_ud = list(0 for i in range(0,len(etf_ids)))\n",
    "    wed_price = list(0.0 for i in range(0,len(etf_ids)))\n",
    "if len(thu_ud) == 0:\n",
    "    thu_ud = list(0 for i in range(0,len(etf_ids)))\n",
    "    thu_price = list(0.0 for i in range(0,len(etf_ids)))\n",
    "if len(fri_ud) == 0:\n",
    "    fri_ud = list(0 for i in range(0,len(etf_ids)))\n",
    "    fri_price = list(0.0 for i in range(0,len(etf_ids)))\n",
    "    \n",
    "dic = {\"ETFid\": etf_ids, \n",
    "       \"Mon_ud\": mon_ud, \"Mon_cprice\": mon_price,\n",
    "       \"Tue_ud\": tue_ud, \"Tue_cprice\": tue_price,\n",
    "       \"Wed_ud\": wed_ud, \"Wed_cprice\": wed_price,\n",
    "       \"Thu_ud\": thu_ud, \"Thu_cprice\": thu_price,\n",
    "       \"Fri_ud\": fri_ud, \"Fri_cprice\": fri_price\n",
    "      }\n",
    "final_df = pd.DataFrame(data=dic)[['ETFid','Mon_ud','Mon_cprice','Tue_ud','Tue_cprice',\n",
    "                                  'Wed_ud','Wed_cprice','Thu_ud','Thu_cprice',\n",
    "                                  'Fri_ud','Fri_cprice']]\n",
    "final_df"
   ]
  },
  {
   "cell_type": "code",
   "execution_count": null,
   "metadata": {},
   "outputs": [],
   "source": [
    "final_df.to_csv(Path.replace(\"file:\",\"\") + \"/etf_price_pred.csv\",index=False)"
   ]
  },
  {
   "cell_type": "code",
   "execution_count": null,
   "metadata": {},
   "outputs": [],
   "source": [
    "#ll = [46.92, 47.31, 47.0, 46.79, 46.49, 46.66, 47.0, 46.96, 47.0]\n",
    "print(list(0 for i in range(0,5)))\n",
    "ll = [46.92, 47.31, 47.0, 46.79, 46.49, 46.66]\n",
    "win_len=5\n",
    "print(ll[0])\n",
    "print(ll[0: -1])\n",
    "print(list(map(lambda x,y : x - y, ll[1:], ll[0: -1])))\n",
    "for x in ll[win_len:]:\n",
    "    print(x)\n",
    "ema = sum(ll[:win_len])/len(ll[:win_len])\n",
    "print(ema)\n",
    "for price in ll[win_len:]:\n",
    "    ema = (ema*(win_len-1)+price*2)/(win_len+1)\n",
    "tup1, tup2 = (1,2)\n",
    "print(tup1, ' ', tup2)\n",
    "tup = (3,4)\n",
    "print(tup[0], ' ', tup[1])\n",
    "list(range(0,2))\n",
    "test_dic = {}\n",
    "test_dic.update({\"0051\": assembler})\n",
    "print(test_dic['0051'])\n",
    "print([x for x in next_date_range if x not in ignore_dates])"
   ]
  }
 ],
 "metadata": {
  "kernelspec": {
   "display_name": "Python 3",
   "language": "python",
   "name": "python3"
  },
  "language_info": {
   "codemirror_mode": {
    "name": "ipython",
    "version": 3
   },
   "file_extension": ".py",
   "mimetype": "text/x-python",
   "name": "python",
   "nbconvert_exporter": "python",
   "pygments_lexer": "ipython3",
   "version": "3.6.4"
  }
 },
 "nbformat": 4,
 "nbformat_minor": 2
}
