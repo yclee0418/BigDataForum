{
 "cells": [
  {
   "cell_type": "markdown",
   "metadata": {},
   "source": [
    "Url: https://tbrain.trendmicro.com.tw/Competitions/Details/2"
   ]
  },
  {
   "cell_type": "code",
   "execution_count": 1,
   "metadata": {
    "collapsed": true
   },
   "outputs": [],
   "source": [
    "#import\n",
    "import numpy as np\n",
    "import pandas as pd\n",
    "import matplotlib.pyplot as plt\n",
    "from pyspark.sql import Row\n",
    "from pyspark.sql.functions import col, udf, lag, rank, lit\n",
    "from pyspark.sql.window import Window"
   ]
  },
  {
   "cell_type": "code",
   "execution_count": 2,
   "metadata": {
    "collapsed": true
   },
   "outputs": [],
   "source": [
    "global Path\n",
    "if sc.master[0:5]==\"local\":\n",
    "    Path = \"file:/c:/D Drive/work/bigData/pySpark/TBrain_Round2_DataSet_20180427\"\n",
    "    #Path = \"file:/Users/yungchuanlee/Documents/learn/AI競賽/ETF預測/TBrain_Round2_DataSet_20180427\"\n",
    "    #Path = \"file:/home/hduser/app/bigdata/competition/etf/TBrain_Round2_DataSet_20180427\"\n",
    "else:\n",
    "    Path = \"hdfs://master:9000/user/hduser\""
   ]
  },
  {
   "cell_type": "code",
   "execution_count": 3,
   "metadata": {},
   "outputs": [
    {
     "data": {
      "text/plain": [
       "'local[*]'"
      ]
     },
     "execution_count": 3,
     "metadata": {},
     "output_type": "execute_result"
    }
   ],
   "source": [
    "sc.master"
   ]
  },
  {
   "cell_type": "code",
   "execution_count": 4,
   "metadata": {
    "collapsed": true
   },
   "outputs": [],
   "source": [
    "#define alias of columns\n",
    "col_alias_etf= {\"代碼\":\"etf_id\", \"日期\": \"etf_date\", \"中文簡稱\": \"etf_name\", \"開盤價(元)\":\"etf_open\", \n",
    "            \"最高價(元)\":\"etf_high\", \"最低價(元)\":\"etf_low\", \"收盤價(元)\":\"etf_close\", \"成交張數(張)\":\"etf_count\"}\n",
    "col_alias_stock= {\"代碼\":\"stock_id\", \"日期\": \"stock_date\", \"中文簡稱\": \"stock_name\", \"開盤價(元)\":\"stock_open\", \n",
    "            \"最高價(元)\":\"stock_high\", \"最低價(元)\":\"stock_low\", \"收盤價(元)\":\"stock_close\", \"成交張數(張)\":\"stock_count\"}"
   ]
  },
  {
   "cell_type": "code",
   "execution_count": 5,
   "metadata": {
    "collapsed": true
   },
   "outputs": [],
   "source": [
    "#udf\n",
    "def to_double(str_val):\n",
    "    return float(str_val.replace(\",\",\"\"))\n",
    "to_double=udf(to_double)"
   ]
  },
  {
   "cell_type": "code",
   "execution_count": 6,
   "metadata": {
    "collapsed": true
   },
   "outputs": [],
   "source": [
    "#def function to read data (因檔案格式都相同)\n",
    "def read_data(file_name, col_alias):\n",
    "    str_cols = [\"代碼\",\"日期\", \"中文簡稱\"]\n",
    "    raw_data = spark.read.option(\"encoding\", \"Big5\").csv(Path + \"/\" + file_name, header=True, sep=\",\")\n",
    "    print(\"Total \" + file_name + \" count: \" + str(raw_data.count()))\n",
    "    #rename cols and correct type \n",
    "    num_cols = [col_name for col_name in raw_data.columns if col_name not in str_cols]\n",
    "    final_data=raw_data.select( [col(str_col_name).alias(col_alias[str_col_name]) for str_col_name in str_cols] + \n",
    "                                  [to_double(col(num_col_name)).cast(\"double\").alias(col_alias[num_col_name]) for num_col_name in num_cols] )\n",
    "    final_data.printSchema()\n",
    "    final_data.show(5)\n",
    "    return final_data"
   ]
  },
  {
   "cell_type": "code",
   "execution_count": 7,
   "metadata": {},
   "outputs": [
    {
     "name": "stdout",
     "output_type": "stream",
     "text": [
      "starting import tetfp.csv(台灣18檔ETF股價資料)...\n",
      "Total tetfp.csv count: 6515\n",
      "root\n",
      " |-- etf_id: string (nullable = true)\n",
      " |-- etf_date: string (nullable = true)\n",
      " |-- etf_name: string (nullable = true)\n",
      " |-- etf_open: double (nullable = true)\n",
      " |-- etf_high: double (nullable = true)\n",
      " |-- etf_low: double (nullable = true)\n",
      " |-- etf_close: double (nullable = true)\n",
      " |-- etf_count: double (nullable = true)\n",
      "\n",
      "+-------+--------+----------------+--------+--------+-------+---------+---------+\n",
      "| etf_id|etf_date|        etf_name|etf_open|etf_high|etf_low|etf_close|etf_count|\n",
      "+-------+--------+----------------+--------+--------+-------+---------+---------+\n",
      "|0050   |20130102|元大台灣50          |    54.0|   54.65|   53.9|     54.4|  16487.0|\n",
      "|0050   |20130103|元大台灣50          |    54.9|   55.05|  54.65|    54.85|  29020.0|\n",
      "|0050   |20130104|元大台灣50          |   54.85|   54.85|   54.4|     54.5|   9837.0|\n",
      "|0050   |20130107|元大台灣50          |   54.55|   54.55|   53.9|    54.25|   8910.0|\n",
      "|0050   |20130108|元大台灣50          |    54.0|    54.2|  53.65|     53.9|  12507.0|\n",
      "+-------+--------+----------------+--------+--------+-------+---------+---------+\n",
      "only showing top 5 rows\n",
      "\n"
     ]
    }
   ],
   "source": [
    "print(\"starting import tetfp.csv(台灣18檔ETF股價資料)...\")\n",
    "tetfp_dt=read_data(\"tetfp.csv\", col_alias_etf)"
   ]
  },
  {
   "cell_type": "code",
   "execution_count": 8,
   "metadata": {},
   "outputs": [
    {
     "name": "stdout",
     "output_type": "stream",
     "text": [
      "+-------+--------------------+\n",
      "|summary|            etf_date|\n",
      "+-------+--------------------+\n",
      "|  count|                6515|\n",
      "|   mean|2.0152356018419035E7|\n",
      "| stddev|  15378.548560182882|\n",
      "|    min|            20130102|\n",
      "|    max|            20180427|\n",
      "+-------+--------------------+\n",
      "\n"
     ]
    }
   ],
   "source": [
    "#EDA\n",
    "#range of date\n",
    "tetfp_dt.describe('etf_date').show()"
   ]
  },
  {
   "cell_type": "code",
   "execution_count": 27,
   "metadata": {
    "collapsed": true
   },
   "outputs": [],
   "source": [
    "import sys\n",
    "from pyspark.sql.functions import lag, col, avg,collect_list, lit\n",
    "from pyspark.sql.window import Window\n",
    "from pyspark.sql.types import ArrayType, DoubleType, IntegerType\n",
    "#declare previous row windows\n",
    "wsSpec_etf = Window.partitionBy('etf_id').orderBy('etf_date') #time window for normal case\n",
    "wsSpec_etf_close_price_raw = Window.partitionBy('etf_id').orderBy('row_idx').rangeBetween(-sys.maxsize, -1)\n",
    "wsSpec_etf_dif_raw = Window.partitionBy('etf_id').orderBy('row_idx').rangeBetween(-sys.maxsize, 0)\n",
    "def avg_list(p_list):\n",
    "    #計算數字list的平均值\n",
    "    return sum(p_list)/len(p_list)\n",
    "#計算EMA的udf\n",
    "def calculate_ema_native(close_p_list, window_len):\n",
    "    #透過歷史收盤價計算\n",
    "    if len(close_p_list) < window_len:\n",
    "        return None\n",
    "    elif len(close_p_list) == window_len:\n",
    "        #if len of list = win_len then return avg, \n",
    "        return avg_list(close_p_list)\n",
    "    else:\n",
    "        #else EMA[t] =(EMA[t-1]*(win_len-1)+close[t]*2)/(win_len+1)\n",
    "        ema = avg_list(close_p_list[:window_len])\n",
    "        for price in close_p_list[window_len:]:\n",
    "            ema = (ema*(window_len-1)+price*2)/(window_len+1)\n",
    "        return ema\n",
    "calculate_ema=udf(calculate_ema_native, DoubleType())\n",
    "#計算BIAS的udf\n",
    "def calculate_bias(close_p_list):\n",
    "    #計算前日收盤價與N日均線之差比: (close price - MA)/MA   ,Paper 建議用20日MA\n",
    "    #因要預測今日的收盤價，故計算前日收盤價與前20日均線\n",
    "    if len(close_p_list) < 21:\n",
    "        return None\n",
    "    else:\n",
    "        list_len = len(close_p_list)\n",
    "        p_close = close_p_list[-1]\n",
    "        cal_list = close_p_list[list_len-21: list_len-1]\n",
    "        return p_close - avg_list(cal_list)\n",
    "calculate_bias=udf(calculate_bias, DoubleType())\n",
    "\n",
    "def get_min_max_last(p_list):\n",
    "    #找出list中最大最小和最後一個值, 回傳(min, max, last)\n",
    "    return (min(p_list), max(p_list), p_list[-1])\n",
    "def calculate_raw_rsv(p_list):\n",
    "    #RSV = (收盤價-9日低值)/(9日高值-9日低值)\n",
    "    p_min, p_max, p_last = get_min_max_last(p_list)\n",
    "    rsv = (p_last - p_min)/(p_max - p_min)\n",
    "    return rsv\n",
    "def calculate_rsv(p_9_list, k_prev, d_prev):\n",
    "    #計算加權後的RSV，p_9_list=>9日收盤價\n",
    "    rrsv = calculate_raw_rsv(p_9_list)\n",
    "    k_curr = (1/3)*rrsv + (2/3)*k_prev\n",
    "    d_curr = (1/3)*k_curr + (2/3)*d_prev\n",
    "    return [k_curr, d_curr]\n",
    "#計算隨機指標（Stochastic Oscillator，KD），原名%K&%D\n",
    "def calculate_KD(close_p_list):\n",
    "    win_len = 9 #看過去 9 日值\n",
    "    #RSV = (收盤價-9日低值)/(9日高值-9日低值)\n",
    "    #K_curr = 1/3*RSV + 2/3*K_prev\n",
    "    #D_curr = 1/3*K_curr + 2/3*D_prev\n",
    "    if len(close_p_list) < win_len:\n",
    "        return None\n",
    "    elif len(close_p_list) == win_len:\n",
    "        #無前日K, D時，以0.5帶入\n",
    "        return calculate_rsv(close_p_list, 0.5, 0.5)\n",
    "    else:\n",
    "        kds = calculate_rsv(close_p_list[0:9], 0.5, 0.5)\n",
    "        for idx in range(1, (len(close_p_list)+1-9)):\n",
    "            p_9_list = close_p_list[idx: idx+9]\n",
    "            kds = calculate_rsv(p_9_list, kds[0], kds[1])\n",
    "        return kds\n",
    "calculate_KD=udf(calculate_KD, ArrayType(DoubleType()))\n",
    "\n",
    "#計算差離值DIF = 12日EMA - 26日EMA\n",
    "def calculate_DIF(close_p_list):\n",
    "    if len(close_p_list) < 26:\n",
    "        return None\n",
    "    else:\n",
    "        ema12 = calculate_ema_native(close_p_list, 12)\n",
    "        ema26 = calculate_ema_native(close_p_list, 26)\n",
    "        return ema12 - ema26\n",
    "calculate_DIF=udf(calculate_DIF, DoubleType())\n",
    "\n",
    "#計算MACD=(前一日MACD × (9 - 1) + 今日DIF × 2) ÷ (9 + 1)\n",
    "def calculate_MACD(dif_list, dif_curr):\n",
    "    win_len = 9\n",
    "    if len(dif_list) < win_len:\n",
    "        return None\n",
    "    elif len(dif_list) == win_len:\n",
    "        #if len of list = win_len then return avg, \n",
    "        return avg_list(dif_list)\n",
    "    else:\n",
    "        #MACD=(前一日MACD × (9 - 1) + 今日DIF × 2) ÷ (9 + 1)\n",
    "        macd = avg_list(dif_list[:win_len])\n",
    "        for price in dif_list[win_len:]:\n",
    "            macd = (macd*(win_len-1)+dif_curr*2)/(win_len+1)\n",
    "        return macd\n",
    "calculate_MACD=udf(calculate_MACD, DoubleType())\n",
    "\n",
    "#計算相對強弱指數(RSI)\n",
    "def calculate_RSI(close_p_list):\n",
    "    win_len = 9\n",
    "    if len(close_p_list) < (win_len + 1):\n",
    "        return None\n",
    "    else:\n",
    "        cur_list = close_p_list[1:]\n",
    "        prv_list = close_p_list[0:-1]\n",
    "        p_dif_list = list(map(lambda x,y : x - y, cur_list, prv_list)) #dif list\n",
    "        u_list = []\n",
    "        d_list = []\n",
    "        for dif in p_dif_list:\n",
    "            if dif == 0:\n",
    "                #若兩天價格相同，則U及D皆等於零\n",
    "                u_list.append(0)\n",
    "                d_list.append(0)\n",
    "            elif dif > 0:\n",
    "                #在價格上升的日子, U = diff, D = 0\n",
    "                u_list.append(dif)\n",
    "                d_list.append(0)\n",
    "            else:\n",
    "                #在價格下跌的日子, U = 0, D = abs(diff)\n",
    "                u_list.append(0)\n",
    "                d_list.append(abs(dif))\n",
    "        #RSI = ema(u,9)/(ema(u,9)+ema(d,9))\n",
    "        ema_u = calculate_ema_native(u_list, win_len)\n",
    "        ema_d = calculate_ema_native(d_list, win_len)\n",
    "        return ema_u/(ema_u + ema_d)\n",
    "calculate_RSI=udf(calculate_RSI, DoubleType())\n",
    "\n",
    "#計算威廉指標（Williams %R）\n",
    "def calculate_WR(close_p_list):\n",
    "    win_len = 9\n",
    "    if len(close_p_list) < win_len:\n",
    "        return None\n",
    "    else:\n",
    "        p_list = close_p_list[len(close_p_list) - win_len :]\n",
    "        return 1.0 - calculate_raw_rsv(p_list)\n",
    "calculate_WR=udf(calculate_WR, DoubleType())\n",
    "\n",
    "#計算上或下的值\n",
    "def judge_up_down_native(curr_price, close_p_list):\n",
    "    prev_price = 0.0\n",
    "    if len(close_p_list) < 1:\n",
    "        prev_price = curr_price\n",
    "    else:\n",
    "        prev_price = close_p_list[-1]\n",
    "    if curr_price == prev_price:\n",
    "        return 0.0\n",
    "    elif curr_price > prev_price:\n",
    "        return 1.0\n",
    "    else:\n",
    "        return 2.0\n",
    "judge_up_down=udf(judge_up_down_native, DoubleType())\n",
    "\n",
    "#calculate diff between close_price and last_price\n",
    "def calculate_price_diff(curr_price, close_p_list):\n",
    "    if len(close_p_list) < 1:\n",
    "        return None\n",
    "    return curr_price - close_p_list[-1]\n",
    "calculate_price_diff=udf(calculate_price_diff, DoubleType())"
   ]
  },
  {
   "cell_type": "code",
   "execution_count": 28,
   "metadata": {
    "scrolled": true
   },
   "outputs": [
    {
     "name": "stdout",
     "output_type": "stream",
     "text": [
      "root\n",
      " |-- etf_id: string (nullable = true)\n",
      " |-- etf_date: string (nullable = true)\n",
      " |-- etf_name: string (nullable = true)\n",
      " |-- etf_open: double (nullable = true)\n",
      " |-- etf_high: double (nullable = true)\n",
      " |-- etf_low: double (nullable = true)\n",
      " |-- etf_close: double (nullable = true)\n",
      " |-- etf_count: double (nullable = true)\n",
      " |-- row_idx: integer (nullable = true)\n",
      " |-- close_price_raw: array (nullable = true)\n",
      " |    |-- element: double (containsNull = true)\n",
      " |-- EMA5: double (nullable = true)\n",
      " |-- EMA10: double (nullable = true)\n",
      " |-- EMA20: double (nullable = true)\n",
      " |-- BIAS: double (nullable = true)\n",
      " |-- KD: array (nullable = true)\n",
      " |    |-- element: double (containsNull = true)\n",
      " |-- K: double (nullable = true)\n",
      " |-- D: double (nullable = true)\n",
      " |-- DIF: double (nullable = true)\n",
      " |-- dif_list: array (nullable = true)\n",
      " |    |-- element: double (containsNull = true)\n",
      " |-- MACD: double (nullable = true)\n",
      " |-- RSI: double (nullable = true)\n",
      " |-- WR: double (nullable = true)\n",
      " |-- price_dif: double (nullable = true)\n",
      " |-- up_down: double (nullable = true)\n",
      "\n"
     ]
    }
   ],
   "source": [
    "#calculate ema [5,10,20] #cannot remove row_idx, row_idx for next window usage\n",
    "tetfp_dt2=tetfp_dt.withColumn(\"row_idx\", rank().over(wsSpec_etf)) \\\n",
    "    .withColumn(\"close_price_raw\", collect_list(col('etf_close')).over(wsSpec_etf_close_price_raw)) \\\n",
    "    .withColumn(\"EMA5\", calculate_ema(col(\"close_price_raw\"), lit(5))) \\\n",
    "    .withColumn(\"EMA10\", calculate_ema(col(\"close_price_raw\"), lit(10))) \\\n",
    "    .withColumn(\"EMA20\", calculate_ema(col(\"close_price_raw\"), lit(20))) \\\n",
    "    .withColumn(\"BIAS\", calculate_bias(col(\"close_price_raw\"))) \\\n",
    "    .withColumn(\"KD\", calculate_KD(col(\"close_price_raw\"))) \\\n",
    "    .withColumn(\"K\", col(\"KD\")[0]).withColumn(\"D\", col(\"KD\")[1]) \\\n",
    "    .withColumn(\"DIF\", calculate_DIF(col(\"close_price_raw\"))) \\\n",
    "    .withColumn(\"dif_list\", collect_list(col('DIF')).over(wsSpec_etf_dif_raw)) \\\n",
    "    .withColumn(\"MACD\", calculate_MACD(col(\"dif_list\"), col(\"DIF\"))) \\\n",
    "    .withColumn(\"RSI\", calculate_RSI(col(\"close_price_raw\")))\\\n",
    "    .withColumn(\"WR\", calculate_WR(col(\"close_price_raw\"))) \\\n",
    "    .withColumn(\"price_dif\", calculate_price_diff(col(\"etf_close\"), col(\"close_price_raw\"))) \\\n",
    "    .withColumn(\"up_down\", judge_up_down(col(\"etf_close\"), col(\"close_price_raw\")))\n",
    "\n",
    "tetfp_dt2.cache()\n",
    "tetfp_dt2.printSchema()"
   ]
  },
  {
   "cell_type": "code",
   "execution_count": 29,
   "metadata": {},
   "outputs": [
    {
     "name": "stdout",
     "output_type": "stream",
     "text": [
      "+-------+--------+------------------+------------------+------------------+--------------------+-------------------+-------------------+--------------------+--------------------+-------------------+-------------------+---------+--------------------+-------+\n",
      "| etf_id|etf_date|              EMA5|             EMA10|             EMA20|                BIAS|                  K|                  D|                 DIF|                MACD|                RSI|                 WR|etf_close|           price_dif|up_down|\n",
      "+-------+--------+------------------+------------------+------------------+--------------------+-------------------+-------------------+--------------------+--------------------+-------------------+-------------------+---------+--------------------+-------+\n",
      "|0050   |20130227| 55.48233888645433|  55.4036427292022|55.109781220405175| 0.24749999999999517|   0.48004877445193| 0.6936407134791391|  0.4425475841886879| 0.46653575041343565| 0.3681396149827187|                1.0|     55.2| 0.10000000000000142|    1.0|\n",
      "|0050   |20130301| 55.38822592430288| 55.36661677843816|  55.1183734851285|  0.2875000000000014| 0.3533658496346205| 0.5802157588642995|  0.3984773861923685|  0.4529240775692222| 0.4145816405213534| 0.8999999999999986|     55.4| 0.19999999999999574|    1.0|\n",
      "|0050   |20130304| 55.39215061620192|55.372686455085756|  55.1451950579734|  0.4299999999999926|  0.335577233089746|  0.498669583606115| 0.37536281640957725|  0.4337134941720466| 0.5054548701704957| 0.7000000000000028|    54.75| -0.6499999999999986|    2.0|\n",
      "|0050   |20130305| 55.17810041080128| 55.25947073597925| 55.10755743340451|-0.29000000000000625|  0.223718155393164| 0.4070191075351313| 0.30112361995400505|  0.3858146307492335| 0.3099784157349077|                1.0|     55.2| 0.45000000000000284|    1.0|\n",
      "|0050   |20130306|55.185400273867515| 55.24865787489211|55.116361487365985|  0.1074999999999946|0.29200257978592015|0.36868026495206085|  0.2754248350391961|  0.3537038659764846| 0.4830034317767772| 0.5714285714285676|    55.45|                0.25|    1.0|\n",
      "|0050   |20130307| 55.27360018257834| 55.28526553400263| 55.14813658380732| 0.27249999999999375|0.41689060874617045| 0.3847503795500974| 0.27209473477785195|    0.33580916678132| 0.5596784174139555| 0.3333333333333288|     55.4|-0.05000000000000426|    2.0|\n",
      "|0050   |20130308|55.315733455052225| 55.30612634600215|55.172123575825665| 0.13749999999999574| 0.4842762788466534|  0.417925679315616| 0.26239628317962627|   0.315910219678166| 0.5396690409000767| 0.3809523809523806|     55.8|  0.3999999999999986|    1.0|\n",
      "|0050   |20130311| 55.47715563670149|55.395921555819946|55.231921330508925|  0.4924999999999926| 0.6561841858977688|0.49734518150966694| 0.28371634209066343| 0.32205635087095524| 0.6609019011329568|                0.0|     55.9| 0.10000000000000142|    1.0|\n",
      "|0050   |20130312| 55.61810375780099|  55.4875721820345| 55.29554787046045|  0.5324999999999918| 0.7707894572651792|  0.588493273428171|  0.3051640652592269|  0.3322377414403884| 0.6866875377960469|                0.0|    55.55| -0.3500000000000014|    2.0|\n",
      "|0050   |20130313| 55.59540250520066| 55.49892269439186| 55.31978140660707|  0.1174999999999784| 0.7457436961478001| 0.6409100810013807| 0.29056995588693013|  0.3141876850339925| 0.5152669889802322| 0.3043478260869581|    55.65| 0.10000000000000142|    1.0|\n",
      "|0050   |20130314| 55.61360167013377|55.526391295411514| 55.35123079645401|  0.1799999999999926| 0.7580320293159246|  0.679950730439562| 0.28380169406091227| 0.30342261395840003| 0.5549457947948392| 0.2173913043478264|     55.6|-0.04999999999999716|    2.0|\n",
      "|0050   |20130315|55.609067780089184|55.539774696245786|55.374923101553634|  0.1074999999999946|   0.75173149780482|  0.703877652894648|  0.2712761134956665| 0.28804878859147953| 0.5279362362781516|0.26086956521738913|     55.2| -0.3999999999999986|    2.0|\n",
      "|0050   |20130318| 55.47271185339279| 55.47799747874655| 55.35826375854853| -0.3224999999999909| 0.5011543318698799| 0.6363032125530586| 0.22646232685912793| 0.24296004690400003|0.35510460609377553|                1.0|     54.5| -0.7000000000000028|    2.0|\n",
      "|0050   |20130319| 55.14847456892852|55.300179755338085| 55.27652435297248| -1.0125000000000028|0.33410288791325327| 0.5355697710064568| 0.13293058716544692| 0.15127072496931065|0.20692214811950188|                1.0|     54.6| 0.10000000000000142|    1.0|\n",
      "|0050   |20130320| 54.96564971261901| 55.17287434527662|  55.2120934622132| -0.8574999999999946|0.24654478241835967| 0.4392281081437577| 0.06611306362008662| 0.08372383962627042|  0.261921198831316| 0.9285714285714275|    54.25| -0.3500000000000014|    2.0|\n",
      "|0050   |20130321|54.727099808412675| 55.00507900977178| 55.12046551343099|  -1.154999999999994|0.16436318827890645|0.34760646818880725|-0.01491050113619...|0.002028882919096...| 0.2009520781861906|                1.0|     54.3| 0.04999999999999716|    1.0|\n",
      "|0050   |20130322| 54.58473320560845| 54.87688282617691| 55.04232594072327| -1.0124999999999886|0.11967646895361383|0.27162980177707613|-0.07423197778415869|-0.05901071941412946|0.23284077462732347| 0.9696969696969714|    54.15|-0.14999999999999858|    2.0|\n",
      "|0050   |20130325|  54.4398221370723| 54.74472231232656| 54.95734251779725|  -1.092499999999994|0.07978431263574255| 0.2076813053966316| -0.1318287816788981|-0.11835481026008435|0.20253075670921902|                1.0|    54.55|  0.3999999999999986|    1.0|\n",
      "|0050   |20130326| 54.47654809138154| 54.70931825553991| 54.91854799229275|              -0.625|0.14207843064605027|0.18581368047977115|-0.14354332852885676|-0.13255312087849258| 0.4438522823275405| 0.7333333333333343|    54.55|                 0.0|    0.0|\n",
      "|0050   |20130327| 54.50103206092103|  54.6803512999872| 54.88344818350296|             -0.5625|0.18667297675253874|0.18610011257069367|-0.15108557089245522| -0.1421847096044895|0.44385228232754054| 0.7241379310344842|     54.7| 0.15000000000000568|    1.0|\n",
      "+-------+--------+------------------+------------------+------------------+--------------------+-------------------+-------------------+--------------------+--------------------+-------------------+-------------------+---------+--------------------+-------+\n",
      "only showing top 20 rows\n",
      "\n"
     ]
    }
   ],
   "source": [
    "tot_dt = tetfp_dt2.filter(\"MACD is not null\") \\\n",
    "    .select(\"etf_id\", \"etf_date\", \"EMA5\", \"EMA10\", \"EMA20\", \"BIAS\", \"K\", \"D\", \"DIF\", \"MACD\", \"RSI\", \"WR\", \"etf_close\",\"price_dif\",\"up_down\") \\\n",
    "    .orderBy(\"etf_id\", \"etf_date\", ascending=True)\n",
    "tot_dt.show(20)"
   ]
  },
  {
   "cell_type": "code",
   "execution_count": 30,
   "metadata": {
    "collapsed": true
   },
   "outputs": [],
   "source": [
    "from pyspark.ml.feature import MinMaxScaler, StandardScaler\n",
    "from pyspark.ml.linalg import Vectors\n",
    "from pyspark.ml.feature import VectorAssembler\n",
    "#將Feature合併為Vector 並作標準化\n",
    "assembler = VectorAssembler(\n",
    "    inputCols=[\"EMA5\", \"EMA10\", \"EMA20\", \"BIAS\", \"K\", \"D\", \"DIF\", \"MACD\", \"RSI\", \"WR\"],\n",
    "    outputCol=\"features\")\n",
    "tot_dt_1 = assembler.transform(tot_dt)\n",
    "#minmax_scaler = MinMaxScaler(inputCol=\"features\", outputCol=\"stdFeatures\")\n",
    "#scaler_model = minmax_scaler.fit(tot_dt_1)\n",
    "std_scaler = StandardScaler(inputCol=\"features\", outputCol=\"stdFeatures\")\n",
    "scaler_model = std_scaler.fit(tot_dt_1)\n",
    "tot_dt_scale = scaler_model.transform(tot_dt_1)\n"
   ]
  },
  {
   "cell_type": "code",
   "execution_count": 31,
   "metadata": {},
   "outputs": [
    {
     "name": "stdout",
     "output_type": "stream",
     "text": [
      "train count:  6295 , test count:  50\n",
      "+-------+--------+--------------------+--------------------+-------+\n",
      "| etf_id|etf_date|         stdFeatures|           price_dif|up_down|\n",
      "+-------+--------+--------------------+--------------------+-------+\n",
      "|0050   |20130227|[3.256641619336,3...| 0.10000000000000142|    1.0|\n",
      "|0050   |20130301|[3.25111747966177...| 0.19999999999999574|    1.0|\n",
      "|0050   |20130304|[3.25134784693247...| -0.6499999999999986|    2.0|\n",
      "|0050   |20130305|[3.23878376218901...| 0.45000000000000284|    1.0|\n",
      "|0050   |20130306|[3.23921224156378...|                0.25|    1.0|\n",
      "|0050   |20130307|[3.24438930329719...|-0.05000000000000426|    2.0|\n",
      "|0050   |20130308|[3.24686239602275...|  0.3999999999999986|    1.0|\n",
      "|0050   |20130311|[3.25633737861350...| 0.10000000000000142|    1.0|\n",
      "|0050   |20130312|[3.26461059720076...| -0.3500000000000014|    2.0|\n",
      "|0050   |20130313|[3.26327810391527...| 0.10000000000000142|    1.0|\n",
      "+-------+--------+--------------------+--------------------+-------+\n",
      "only showing top 10 rows\n",
      "\n",
      "+-------+--------+--------------------+--------------------+-------+\n",
      "| etf_id|etf_date|         stdFeatures|           price_dif|up_down|\n",
      "+-------+--------+--------------------+--------------------+-------+\n",
      "|0050   |20180416|[4.84223876518480...|-0.20000000000000284|    2.0|\n",
      "|0050   |20180417|[4.83841095931274...| -0.8999999999999915|    2.0|\n",
      "|0050   |20180418|[4.81825001699052...| 0.19999999999998863|    1.0|\n",
      "|0050   |20180419|[4.80872251582923...|  1.0500000000000114|    1.0|\n",
      "|0050   |20180420|[4.82291476541935...| -1.9000000000000057|    2.0|\n",
      "|0050   |20180423|[4.79520155813766...| -0.7999999999999972|    2.0|\n",
      "|0050   |20180424|[4.76107357840247...| -0.4000000000000057|    2.0|\n",
      "|0050   |20180425|[4.73049533780530...|               -0.25|    2.0|\n",
      "|0050   |20180426|[4.70521843525695...|               -0.25|    2.0|\n",
      "|0050   |20180427|[4.68347575807449...| 0.15000000000000568|    1.0|\n",
      "+-------+--------+--------------------+--------------------+-------+\n",
      "only showing top 10 rows\n",
      "\n"
     ]
    },
    {
     "data": {
      "text/plain": [
       "DataFrame[etf_id: string, etf_date: string, stdFeatures: vector, price_dif: double, up_down: double]"
      ]
     },
     "execution_count": 31,
     "metadata": {},
     "output_type": "execute_result"
    }
   ],
   "source": [
    "#取出4/16~4/27 (共兩週資料作為測試集)\n",
    "train_dt = tot_dt_scale.filter(\"etf_date < '20180416' and MACD is not null\") \\\n",
    "    .select(\"etf_id\", \"etf_date\", \"stdFeatures\", \"price_dif\",\"up_down\") \\\n",
    "    .orderBy(\"etf_id\", \"etf_date\", ascending=True)\n",
    "test_dt = tot_dt_scale.filter(\"etf_date >= '20180416'\") \\\n",
    "    .select(\"etf_id\", \"etf_date\", \"stdFeatures\", \"price_dif\",\"up_down\") \\\n",
    "    .orderBy(\"etf_id\", \"etf_date\", ascending=True)\n",
    "print('train count: ', str(train_dt.count()), ', test count: ', str(test_dt.count()))\n",
    "train_dt.show(10)\n",
    "test_dt.show(10)\n",
    "train_dt.cache()\n",
    "test_dt.cache()"
   ]
  },
  {
   "cell_type": "code",
   "execution_count": 17,
   "metadata": {},
   "outputs": [
    {
     "data": {
      "text/plain": [
       "['0051   ', '0052   ', '0050   ', '0054   ', '0053   ']"
      ]
     },
     "execution_count": 17,
     "metadata": {},
     "output_type": "execute_result"
    }
   ],
   "source": [
    "#取出etf的distinct id\n",
    "etf_ids = []\n",
    "for row in test_dt.select(\"etf_id\").distinct().collect():\n",
    "    etf_ids.append(row[\"etf_id\"])\n",
    "etf_ids"
   ]
  },
  {
   "cell_type": "code",
   "execution_count": 18,
   "metadata": {},
   "outputs": [
    {
     "name": "stdout",
     "output_type": "stream",
     "text": [
      "+-------+--------+-------+------------+--------------------+-------------------+\n",
      "| etf_id|etf_date|up_down|up_down_pred|           price_dif|     price_dif_pred|\n",
      "+-------+--------+-------+------------+--------------------+-------------------+\n",
      "|0051   |20180416|    1.0|         1.0|                0.25| 0.1696036418869628|\n",
      "|0051   |20180417|    2.0|         2.0| 0.17999999999999972|0.17181694570802525|\n",
      "|0051   |20180418|    2.0|         1.0|                0.25|0.18179509929343066|\n",
      "|0051   |20180419|    1.0|         1.0|  0.3999999999999986| 0.2123318169994039|\n",
      "|0051   |20180420|    2.0|         1.0| 0.12999999999999545|0.18746735447703192|\n",
      "|0051   |20180423|    2.0|         1.0|0.020000000000003126|  0.166848623705315|\n",
      "|0051   |20180424|    2.0|         1.0|  0.5600000000000023| 0.1872001698780043|\n",
      "|0051   |20180425|    2.0|         1.0|  0.4199999999999946|0.18760086273909177|\n",
      "|0051   |20180426|    2.0|         1.0|  0.3100000000000023| 0.7313826358743557|\n",
      "|0051   |20180427|    1.0|         2.0|  0.3999999999999986| 0.7345885108846851|\n",
      "+-------+--------+-------+------------+--------------------+-------------------+\n",
      "only showing top 10 rows\n",
      "\n",
      "Test Error = 0.74 \n",
      "Root Mean Squared Error (RMSE) on test data = 0.414285\n"
     ]
    }
   ],
   "source": [
    "#訓練Model及評估(RandomForestRegressor)\n",
    "from pyspark.ml.regression import RandomForestRegressor\n",
    "from pyspark.ml.classification import RandomForestClassifier\n",
    "from pyspark.ml.evaluation import RegressionEvaluator\n",
    "from pyspark.ml.evaluation import MulticlassClassificationEvaluator\n",
    "rf_c = RandomForestClassifier(featuresCol=\"stdFeatures\",labelCol=\"up_down\")\n",
    "rf_r = RandomForestRegressor(featuresCol=\"stdFeatures\",labelCol=\"price_dif\")\n",
    "predit_res = None\n",
    "for etfid in etf_ids:\n",
    "    train_data = train_dt.filter(\"etf_id='\" + etfid + \"'\")\n",
    "    test_data = test_dt.filter(\"etf_id='\" + etfid + \"'\")\n",
    "    #訓練判斷上升或下降\n",
    "    rf_model_c = rf_c.fit(train_data)\n",
    "    pred_c = rf_model_c.transform(test_data)\n",
    "    #訓練判斷差額\n",
    "    rf_model_r = rf_r.fit(train_data)\n",
    "    pred_r = rf_model_r.transform(test_data)\n",
    "    #合併結果輸出\n",
    "    predicts = pred_c.join(pred_r, [\"etf_id\", \"etf_date\"]) \\\n",
    "        .select(pred_c.etf_id, pred_c.etf_date, pred_c.up_down, pred_c.prediction.alias(\"up_down_pred\"), \n",
    "                pred_r.price_dif, pred_r.prediction.alias(\"price_dif_pred\"))\n",
    "    if predit_res is None:\n",
    "        predit_res = predicts\n",
    "    else:\n",
    "        predit_res = predit_res.unionAll(predicts)\n",
    "predit_res.show(10)\n",
    "#評估差價預測的RMES\n",
    "evaluator = RegressionEvaluator(\n",
    "    labelCol=\"price_dif\", predictionCol=\"price_dif_pred\", metricName=\"rmse\")\n",
    "rmse = evaluator.evaluate(predit_res)\n",
    "print(\"Root Mean Squared Error (RMSE) on test data = %g\" % rmse)\n",
    "#評估漲跌預測的Accuracy\n",
    "evaluator = MulticlassClassificationEvaluator(\n",
    "    labelCol=\"up_down\", predictionCol=\"up_down_pred\", metricName=\"accuracy\")\n",
    "accuracy = evaluator.evaluate(predit_res)\n",
    "print(\"accuracy = %g \" % accuracy)\n",
    "\n"
   ]
  },
  {
   "cell_type": "code",
   "execution_count": 26,
   "metadata": {},
   "outputs": [
    {
     "name": "stdout",
     "output_type": "stream",
     "text": [
      "+-------+--------+-------+------------+-------------------+-------------------+\n",
      "| etf_id|etf_date|up_down|up_down_pred|          price_dif|     price_dif_pred|\n",
      "+-------+--------+-------+------------+-------------------+-------------------+\n",
      "|0050   |20180416|    2.0|         1.0|0.20000000000000284|0.44624315880840426|\n",
      "|0050   |20180417|    2.0|         1.0| 0.8999999999999915| 0.4529185078290195|\n",
      "|0050   |20180418|    1.0|         1.0|0.19999999999998863|0.49852523062419296|\n",
      "|0050   |20180419|    1.0|         1.0| 1.0500000000000114|0.49197118941790424|\n",
      "|0050   |20180420|    2.0|         1.0| 1.9000000000000057|0.43374005416860156|\n",
      "|0050   |20180423|    2.0|         1.0| 0.7999999999999972| 0.5037779058673211|\n",
      "|0050   |20180424|    2.0|         1.0| 0.4000000000000057| 0.5538833105968822|\n",
      "|0050   |20180425|    2.0|         1.0|               0.25|  0.583693679283252|\n",
      "|0050   |20180426|    2.0|         1.0|               0.25| 0.5900041727944381|\n",
      "|0050   |20180427|    1.0|         1.0|0.15000000000000568| 0.5755934585087237|\n",
      "+-------+--------+-------+------------+-------------------+-------------------+\n",
      "only showing top 10 rows\n",
      "\n",
      "Test Error = 0.74 \n",
      "Root Mean Squared Error (RMSE) on test data = 0.415976\n"
     ]
    }
   ],
   "source": [
    "#訓練Model及評估(RandomForestRegressor in one time, predict updown and price diff) => no different with etf_id wise\n",
    "# --- accuacy: 0.26, (RMSE) on test data = 0.415976\n",
    "rf_c = RandomForestClassifier(featuresCol=\"stdFeatures\",labelCol=\"up_down\")\n",
    "rf_r = RandomForestRegressor(featuresCol=\"stdFeatures\",labelCol=\"price_dif\")\n",
    "\n",
    "train_data = train_dt\n",
    "test_data = test_dt\n",
    "#訓練判斷上升或下降\n",
    "rf_model_c = rf_c.fit(train_data)\n",
    "pred_c = rf_model_c.transform(test_data)\n",
    "#訓練判斷差額\n",
    "rf_model_r = rf_r.fit(train_data)\n",
    "pred_r = rf_model_r.transform(test_data)\n",
    "    #合併結果輸出\n",
    "predit_res = pred_c.join(pred_r, [\"etf_id\", \"etf_date\"]) \\\n",
    "        .select(pred_c.etf_id, pred_c.etf_date, pred_c.up_down, pred_c.prediction.alias(\"up_down_pred\"), \n",
    "                pred_r.price_dif, pred_r.prediction.alias(\"price_dif_pred\"))\n",
    "predit_res.show(10)\n",
    "\n",
    "#評估差價預測的RMES\n",
    "evaluator = RegressionEvaluator(\n",
    "    labelCol=\"price_dif\", predictionCol=\"price_dif_pred\", metricName=\"rmse\")\n",
    "rmse = evaluator.evaluate(predit_res)\n",
    "print(\"Root Mean Squared Error (RMSE) on test data = %g\" % rmse)\n",
    "#評估漲跌預測的Accuracy\n",
    "evaluator = MulticlassClassificationEvaluator(\n",
    "    labelCol=\"up_down\", predictionCol=\"up_down_pred\", metricName=\"accuracy\")\n",
    "accuracy = evaluator.evaluate(predit_res)\n",
    "print(\"accuracy = %g \" % accuracy)\n",
    "\n"
   ]
  },
  {
   "cell_type": "code",
   "execution_count": 32,
   "metadata": {},
   "outputs": [
    {
     "name": "stdout",
     "output_type": "stream",
     "text": [
      "+-------+--------+-------+--------------------+--------------------+------------+\n",
      "| etf_id|etf_date|up_down|           price_dif|      price_dif_pred|up_down_pred|\n",
      "+-------+--------+-------+--------------------+--------------------+------------+\n",
      "|0050   |20180416|    2.0|-0.20000000000000284|0.026065509555671402|         1.0|\n",
      "|0050   |20180417|    2.0| -0.8999999999999915|0.011225144871080348|         1.0|\n",
      "|0050   |20180418|    1.0| 0.19999999999998863|0.053681656447893536|         1.0|\n",
      "|0050   |20180419|    1.0|  1.0500000000000114| 0.03676159650133974|         1.0|\n",
      "|0050   |20180420|    2.0| -1.9000000000000057| 0.06250014055236705|         1.0|\n",
      "|0050   |20180423|    2.0| -0.7999999999999972| 0.03219234658751645|         1.0|\n",
      "|0050   |20180424|    2.0| -0.4000000000000057| 0.05030372616741262|         1.0|\n",
      "|0050   |20180425|    2.0|               -0.25|0.025122773786460245|         1.0|\n",
      "|0050   |20180426|    2.0|               -0.25|  0.1449347225491161|         1.0|\n",
      "|0050   |20180427|    1.0| 0.15000000000000568| 0.16217604939026053|         1.0|\n",
      "+-------+--------+-------+--------------------+--------------------+------------+\n",
      "only showing top 10 rows\n",
      "\n",
      "Root Mean Squared Error (RMSE) on test data = 0.600504\n",
      "accuracy = 0.26 \n"
     ]
    }
   ],
   "source": [
    "#計算上或下的值\n",
    "def judge_up_down_eval(price_diff):\n",
    "    if price_diff == 0:\n",
    "        return 0.0\n",
    "    elif price_diff > 0:\n",
    "        return 1.0\n",
    "    else:\n",
    "        return 2.0\n",
    "judge_up_down_eval=udf(judge_up_down_eval, DoubleType())\n",
    "\n",
    "#訓練Model及評估(RandomForestRegressor in one time, just predict price diff) => no different with etf_id wise\n",
    "rf_r = RandomForestRegressor(featuresCol=\"stdFeatures\",labelCol=\"price_dif\")\n",
    "\n",
    "train_data = train_dt\n",
    "test_data = test_dt\n",
    "\n",
    "#訓練判斷差額\n",
    "rf_model_r = rf_r.fit(train_data)\n",
    "pred_r = rf_model_r.transform(test_data)\n",
    "#合併結果輸出\n",
    "predit_res = pred_r \\\n",
    "    .select(pred_r.etf_id, pred_r.etf_date, pred_r.up_down, pred_r.price_dif, pred_r.prediction.alias(\"price_dif_pred\")) \\\n",
    "    .withColumn(\"up_down_pred\", judge_up_down_eval(col(\"price_dif_pred\")))\n",
    "predit_res.show(10)\n",
    "\n",
    "#評估差價預測的RMES\n",
    "evaluator = RegressionEvaluator(\n",
    "    labelCol=\"price_dif\", predictionCol=\"price_dif_pred\", metricName=\"rmse\")\n",
    "rmse = evaluator.evaluate(predit_res)\n",
    "print(\"Root Mean Squared Error (RMSE) on test data = %g\" % rmse)\n",
    "#評估漲跌預測的Accuracy\n",
    "evaluator = MulticlassClassificationEvaluator(\n",
    "    labelCol=\"up_down\", predictionCol=\"up_down_pred\", metricName=\"accuracy\")\n",
    "accuracy = evaluator.evaluate(predit_res)\n",
    "print(\"accuracy = %g \" % accuracy)\n",
    "\n"
   ]
  },
  {
   "cell_type": "code",
   "execution_count": 47,
   "metadata": {},
   "outputs": [
    {
     "name": "stdout",
     "output_type": "stream",
     "text": [
      "root\n",
      " |-- etf_id: string (nullable = true)\n",
      " |-- row_idx: double (nullable = true)\n",
      "\n",
      "+-------+\n",
      "| etf_id|\n",
      "+-------+\n",
      "|0051   |\n",
      "|0052   |\n",
      "|0050   |\n",
      "|0054   |\n",
      "|0053   |\n",
      "+-------+\n",
      "\n"
     ]
    }
   ],
   "source": [
    "tetf_max_idx = tetfp_dt2.groupBy(\"etf_id\").max(\"row_idx\")\n",
    "tetf_max_idx.select(col(\"etf_id\"), col(\"max(row_idx)\").cast(\"Double\").alias(\"row_idx\")).printSchema()\n",
    "tetf_max = tetf_max_idx.select(col(\"etf_id\"), col(\"max(row_idx)\").cast(\"Double\").alias(\"row_idx\")) \\\n",
    "    .join(tetfp_dt2, [\"etf_id\", \"row_idx\"], \"inner\") \\\n",
    "    .select(tetfp_dt2.etf_id, tetfp_dt2.etf_date, tetfp_dt2.etf_close, tetfp_dt2.row_idx, tetfp_dt2.close_price_raw)\n",
    "tetf_max.show(10)\n",
    "#ridx_dic = {}\n",
    "#for row in ridx_dic_raw:\n",
    "#    ridx_dic.update({row[\"etf_id\"], row[\"row_idx\"]})\n"
   ]
  }
 ],
 "metadata": {
  "kernelspec": {
   "display_name": "Python 3",
   "language": "python",
   "name": "python3"
  },
  "language_info": {
   "codemirror_mode": {
    "name": "ipython",
    "version": 3
   },
   "file_extension": ".py",
   "mimetype": "text/x-python",
   "name": "python",
   "nbconvert_exporter": "python",
   "pygments_lexer": "ipython3",
   "version": "3.6.3"
  }
 },
 "nbformat": 4,
 "nbformat_minor": 2
}
